{
 "metadata": {
  "language_info": {
   "codemirror_mode": {
    "name": "ipython",
    "version": 3
   },
   "file_extension": ".py",
   "mimetype": "text/x-python",
   "name": "python",
   "nbconvert_exporter": "python",
   "pygments_lexer": "ipython3",
   "version": "3.7.4"
  },
  "orig_nbformat": 2,
  "kernelspec": {
   "name": "python374jvsc74a57bd054fd10a125f012059efbf68d746a102a68808834a5fa4f754a07e57618326eaa",
   "display_name": "Python 3.7.4 64-bit"
  },
  "metadata": {
   "interpreter": {
    "hash": "54fd10a125f012059efbf68d746a102a68808834a5fa4f754a07e57618326eaa"
   }
  }
 },
 "nbformat": 4,
 "nbformat_minor": 2,
 "cells": [
  {
   "source": [
    "# SQL en Python\n",
    "<img src=\".\\img\\image-4.png\" alt=\"EDA Path\"\n",
    "    title=\"A typical EDA path\" width=\"600\" height=\"300\" />\n",
    "## Conectamos con la base de datos\n",
    "\n",
    "### Documentación de la librería SQLite3 que vamos a utilizar:\n",
    "https://docs.python.org/3/library/sqlite3.html\n"
   ],
   "cell_type": "markdown",
   "metadata": {}
  },
  {
   "cell_type": "code",
   "execution_count": 10,
   "metadata": {},
   "outputs": [],
   "source": [
    "# Importamos librerias\n",
    "import pandas as pd\n",
    "import sqlite3"
   ]
  },
  {
   "cell_type": "code",
   "execution_count": 2,
   "metadata": {},
   "outputs": [],
   "source": [
    "# Conectamos con la base de datos chinook.db\n",
    "path = \"chinook.db\"\n",
    "connection = sqlite3.connect(path)\n",
    "\n",
    "# Obtenemos un cursor que utilizaremos para hacer las queries\n",
    "curs = connection.cursor()"
   ]
  },
  {
   "cell_type": "code",
   "execution_count": 3,
   "metadata": {},
   "outputs": [],
   "source": [
    "# Creamos una Query sencilla\n",
    "query = \"\"\"\n",
    "SELECT *\n",
    "FROM genres\n",
    "\"\"\""
   ]
  },
  {
   "cell_type": "code",
   "execution_count": 4,
   "metadata": {},
   "outputs": [
    {
     "output_type": "execute_result",
     "data": {
      "text/plain": [
       "<sqlite3.Cursor at 0x177d29eab20>"
      ]
     },
     "metadata": {},
     "execution_count": 4
    }
   ],
   "source": [
    "# Con esta función leemos los datos y lo pasamos a un DataFrame de Pandas\n",
    "my_query = curs.execute(query)\n",
    "my_query"
   ]
  },
  {
   "cell_type": "code",
   "execution_count": 5,
   "metadata": {},
   "outputs": [
    {
     "output_type": "execute_result",
     "data": {
      "text/plain": [
       "[(1, 'Rock'),\n",
       " (2, 'Jazz'),\n",
       " (3, 'Metal'),\n",
       " (4, 'Alternative & Punk'),\n",
       " (5, 'Rock And Roll'),\n",
       " (6, 'Blues'),\n",
       " (7, 'Latin'),\n",
       " (8, 'Reggae'),\n",
       " (9, 'Pop'),\n",
       " (10, 'Soundtrack'),\n",
       " (11, 'Bossa Nova'),\n",
       " (12, 'Easy Listening'),\n",
       " (13, 'Heavy Metal'),\n",
       " (14, 'R&B/Soul'),\n",
       " (15, 'Electronica/Dance'),\n",
       " (16, 'World'),\n",
       " (17, 'Hip Hop/Rap'),\n",
       " (18, 'Science Fiction'),\n",
       " (19, 'TV Shows'),\n",
       " (20, 'Sci Fi & Fantasy'),\n",
       " (21, 'Drama'),\n",
       " (22, 'Comedy'),\n",
       " (23, 'Alternative'),\n",
       " (24, 'Classical'),\n",
       " (25, 'Opera')]"
      ]
     },
     "metadata": {},
     "execution_count": 5
    }
   ],
   "source": [
    "my_query.fetchall()"
   ]
  },
  {
   "cell_type": "code",
   "execution_count": 11,
   "metadata": {},
   "outputs": [
    {
     "output_type": "execute_result",
     "data": {
      "text/plain": [
       "    GenreId                Name\n",
       "0         1                Rock\n",
       "1         2                Jazz\n",
       "2         3               Metal\n",
       "3         4  Alternative & Punk\n",
       "4         5       Rock And Roll\n",
       "5         6               Blues\n",
       "6         7               Latin\n",
       "7         8              Reggae\n",
       "8         9                 Pop\n",
       "9        10          Soundtrack\n",
       "10       11          Bossa Nova\n",
       "11       12      Easy Listening\n",
       "12       13         Heavy Metal\n",
       "13       14            R&B/Soul\n",
       "14       15   Electronica/Dance\n",
       "15       16               World\n",
       "16       17         Hip Hop/Rap\n",
       "17       18     Science Fiction\n",
       "18       19            TV Shows\n",
       "19       20    Sci Fi & Fantasy\n",
       "20       21               Drama\n",
       "21       22              Comedy\n",
       "22       23         Alternative\n",
       "23       24           Classical\n",
       "24       25               Opera"
      ],
      "text/html": "<div>\n<style scoped>\n    .dataframe tbody tr th:only-of-type {\n        vertical-align: middle;\n    }\n\n    .dataframe tbody tr th {\n        vertical-align: top;\n    }\n\n    .dataframe thead th {\n        text-align: right;\n    }\n</style>\n<table border=\"1\" class=\"dataframe\">\n  <thead>\n    <tr style=\"text-align: right;\">\n      <th></th>\n      <th>GenreId</th>\n      <th>Name</th>\n    </tr>\n  </thead>\n  <tbody>\n    <tr>\n      <th>0</th>\n      <td>1</td>\n      <td>Rock</td>\n    </tr>\n    <tr>\n      <th>1</th>\n      <td>2</td>\n      <td>Jazz</td>\n    </tr>\n    <tr>\n      <th>2</th>\n      <td>3</td>\n      <td>Metal</td>\n    </tr>\n    <tr>\n      <th>3</th>\n      <td>4</td>\n      <td>Alternative &amp; Punk</td>\n    </tr>\n    <tr>\n      <th>4</th>\n      <td>5</td>\n      <td>Rock And Roll</td>\n    </tr>\n    <tr>\n      <th>5</th>\n      <td>6</td>\n      <td>Blues</td>\n    </tr>\n    <tr>\n      <th>6</th>\n      <td>7</td>\n      <td>Latin</td>\n    </tr>\n    <tr>\n      <th>7</th>\n      <td>8</td>\n      <td>Reggae</td>\n    </tr>\n    <tr>\n      <th>8</th>\n      <td>9</td>\n      <td>Pop</td>\n    </tr>\n    <tr>\n      <th>9</th>\n      <td>10</td>\n      <td>Soundtrack</td>\n    </tr>\n    <tr>\n      <th>10</th>\n      <td>11</td>\n      <td>Bossa Nova</td>\n    </tr>\n    <tr>\n      <th>11</th>\n      <td>12</td>\n      <td>Easy Listening</td>\n    </tr>\n    <tr>\n      <th>12</th>\n      <td>13</td>\n      <td>Heavy Metal</td>\n    </tr>\n    <tr>\n      <th>13</th>\n      <td>14</td>\n      <td>R&amp;B/Soul</td>\n    </tr>\n    <tr>\n      <th>14</th>\n      <td>15</td>\n      <td>Electronica/Dance</td>\n    </tr>\n    <tr>\n      <th>15</th>\n      <td>16</td>\n      <td>World</td>\n    </tr>\n    <tr>\n      <th>16</th>\n      <td>17</td>\n      <td>Hip Hop/Rap</td>\n    </tr>\n    <tr>\n      <th>17</th>\n      <td>18</td>\n      <td>Science Fiction</td>\n    </tr>\n    <tr>\n      <th>18</th>\n      <td>19</td>\n      <td>TV Shows</td>\n    </tr>\n    <tr>\n      <th>19</th>\n      <td>20</td>\n      <td>Sci Fi &amp; Fantasy</td>\n    </tr>\n    <tr>\n      <th>20</th>\n      <td>21</td>\n      <td>Drama</td>\n    </tr>\n    <tr>\n      <th>21</th>\n      <td>22</td>\n      <td>Comedy</td>\n    </tr>\n    <tr>\n      <th>22</th>\n      <td>23</td>\n      <td>Alternative</td>\n    </tr>\n    <tr>\n      <th>23</th>\n      <td>24</td>\n      <td>Classical</td>\n    </tr>\n    <tr>\n      <th>24</th>\n      <td>25</td>\n      <td>Opera</td>\n    </tr>\n  </tbody>\n</table>\n</div>"
     },
     "metadata": {},
     "execution_count": 11
    }
   ],
   "source": [
    "# Tambien podemos obtener el mismo resultado directamente con pandas\n",
    "def sql_query(query):\n",
    "        curs.execute(query)\n",
    "        datos_query = curs.fetchall()\n",
    "        col_names = [description[0] for description in curs.description]\n",
    "        return pd.DataFrame(datos_query, columns=col_names)\n",
    "sql_query(query)"
   ]
  },
  {
   "cell_type": "code",
   "execution_count": 12,
   "metadata": {},
   "outputs": [
    {
     "output_type": "execute_result",
     "data": {
      "text/plain": [
       "    GenreId                Name\n",
       "0         1                Rock\n",
       "1         2                Jazz\n",
       "2         3               Metal\n",
       "3         4  Alternative & Punk\n",
       "4         5       Rock And Roll\n",
       "5         6               Blues\n",
       "6         7               Latin\n",
       "7         8              Reggae\n",
       "8         9                 Pop\n",
       "9        10          Soundtrack\n",
       "10       11          Bossa Nova\n",
       "11       12      Easy Listening\n",
       "12       13         Heavy Metal\n",
       "13       14            R&B/Soul\n",
       "14       15   Electronica/Dance\n",
       "15       16               World\n",
       "16       17         Hip Hop/Rap\n",
       "17       18     Science Fiction\n",
       "18       19            TV Shows\n",
       "19       20    Sci Fi & Fantasy\n",
       "20       21               Drama\n",
       "21       22              Comedy\n",
       "22       23         Alternative\n",
       "23       24           Classical\n",
       "24       25               Opera"
      ],
      "text/html": "<div>\n<style scoped>\n    .dataframe tbody tr th:only-of-type {\n        vertical-align: middle;\n    }\n\n    .dataframe tbody tr th {\n        vertical-align: top;\n    }\n\n    .dataframe thead th {\n        text-align: right;\n    }\n</style>\n<table border=\"1\" class=\"dataframe\">\n  <thead>\n    <tr style=\"text-align: right;\">\n      <th></th>\n      <th>GenreId</th>\n      <th>Name</th>\n    </tr>\n  </thead>\n  <tbody>\n    <tr>\n      <th>0</th>\n      <td>1</td>\n      <td>Rock</td>\n    </tr>\n    <tr>\n      <th>1</th>\n      <td>2</td>\n      <td>Jazz</td>\n    </tr>\n    <tr>\n      <th>2</th>\n      <td>3</td>\n      <td>Metal</td>\n    </tr>\n    <tr>\n      <th>3</th>\n      <td>4</td>\n      <td>Alternative &amp; Punk</td>\n    </tr>\n    <tr>\n      <th>4</th>\n      <td>5</td>\n      <td>Rock And Roll</td>\n    </tr>\n    <tr>\n      <th>5</th>\n      <td>6</td>\n      <td>Blues</td>\n    </tr>\n    <tr>\n      <th>6</th>\n      <td>7</td>\n      <td>Latin</td>\n    </tr>\n    <tr>\n      <th>7</th>\n      <td>8</td>\n      <td>Reggae</td>\n    </tr>\n    <tr>\n      <th>8</th>\n      <td>9</td>\n      <td>Pop</td>\n    </tr>\n    <tr>\n      <th>9</th>\n      <td>10</td>\n      <td>Soundtrack</td>\n    </tr>\n    <tr>\n      <th>10</th>\n      <td>11</td>\n      <td>Bossa Nova</td>\n    </tr>\n    <tr>\n      <th>11</th>\n      <td>12</td>\n      <td>Easy Listening</td>\n    </tr>\n    <tr>\n      <th>12</th>\n      <td>13</td>\n      <td>Heavy Metal</td>\n    </tr>\n    <tr>\n      <th>13</th>\n      <td>14</td>\n      <td>R&amp;B/Soul</td>\n    </tr>\n    <tr>\n      <th>14</th>\n      <td>15</td>\n      <td>Electronica/Dance</td>\n    </tr>\n    <tr>\n      <th>15</th>\n      <td>16</td>\n      <td>World</td>\n    </tr>\n    <tr>\n      <th>16</th>\n      <td>17</td>\n      <td>Hip Hop/Rap</td>\n    </tr>\n    <tr>\n      <th>17</th>\n      <td>18</td>\n      <td>Science Fiction</td>\n    </tr>\n    <tr>\n      <th>18</th>\n      <td>19</td>\n      <td>TV Shows</td>\n    </tr>\n    <tr>\n      <th>19</th>\n      <td>20</td>\n      <td>Sci Fi &amp; Fantasy</td>\n    </tr>\n    <tr>\n      <th>20</th>\n      <td>21</td>\n      <td>Drama</td>\n    </tr>\n    <tr>\n      <th>21</th>\n      <td>22</td>\n      <td>Comedy</td>\n    </tr>\n    <tr>\n      <th>22</th>\n      <td>23</td>\n      <td>Alternative</td>\n    </tr>\n    <tr>\n      <th>23</th>\n      <td>24</td>\n      <td>Classical</td>\n    </tr>\n    <tr>\n      <th>24</th>\n      <td>25</td>\n      <td>Opera</td>\n    </tr>\n  </tbody>\n</table>\n</div>"
     },
     "metadata": {},
     "execution_count": 12
    }
   ],
   "source": [
    "pd.read_sql_query(query,connection)"
   ]
  },
  {
   "source": [
    "## Ya podemos comenzar con la práctica de chinook:\n",
    "Antes de empezar a atacar una base de datos, tendremos que saber qué hay dentro, y para ello lo mejor es ver cómo es su **modelo de datos**\n",
    "\n",
    "![imagen](./img/chinook_data_model.png)"
   ],
   "cell_type": "markdown",
   "metadata": {}
  },
  {
   "source": [
    "### 1.\tFacturas de Clientes de Brasil, Nombre del cliente, Id de factura, fecha de la factura y el país de la factura"
   ],
   "cell_type": "markdown",
   "metadata": {}
  },
  {
   "cell_type": "code",
   "execution_count": 16,
   "metadata": {},
   "outputs": [
    {
     "output_type": "execute_result",
     "data": {
      "text/plain": [
       "     CustomerId FirstName    LastName  \\\n",
       "0             1      Luís   Gonçalves   \n",
       "1             1      Luís   Gonçalves   \n",
       "2             1      Luís   Gonçalves   \n",
       "3             1      Luís   Gonçalves   \n",
       "4             1      Luís   Gonçalves   \n",
       "..          ...       ...         ...   \n",
       "407          59      Puja  Srivastava   \n",
       "408          59      Puja  Srivastava   \n",
       "409          59      Puja  Srivastava   \n",
       "410          59      Puja  Srivastava   \n",
       "411          59      Puja  Srivastava   \n",
       "\n",
       "                                              Company  \\\n",
       "0    Embraer - Empresa Brasileira de Aeronáutica S.A.   \n",
       "1    Embraer - Empresa Brasileira de Aeronáutica S.A.   \n",
       "2    Embraer - Empresa Brasileira de Aeronáutica S.A.   \n",
       "3    Embraer - Empresa Brasileira de Aeronáutica S.A.   \n",
       "4    Embraer - Empresa Brasileira de Aeronáutica S.A.   \n",
       "..                                                ...   \n",
       "407                                              None   \n",
       "408                                              None   \n",
       "409                                              None   \n",
       "410                                              None   \n",
       "411                                              None   \n",
       "\n",
       "                             Address                 City State Country  \\\n",
       "0    Av. Brigadeiro Faria Lima, 2170  São José dos Campos    SP  Brazil   \n",
       "1    Av. Brigadeiro Faria Lima, 2170  São José dos Campos    SP  Brazil   \n",
       "2    Av. Brigadeiro Faria Lima, 2170  São José dos Campos    SP  Brazil   \n",
       "3    Av. Brigadeiro Faria Lima, 2170  São José dos Campos    SP  Brazil   \n",
       "4    Av. Brigadeiro Faria Lima, 2170  São José dos Campos    SP  Brazil   \n",
       "..                               ...                  ...   ...     ...   \n",
       "407                3,Raj Bhavan Road            Bangalore  None   India   \n",
       "408                3,Raj Bhavan Road            Bangalore  None   India   \n",
       "409                3,Raj Bhavan Road            Bangalore  None   India   \n",
       "410                3,Raj Bhavan Road            Bangalore  None   India   \n",
       "411                3,Raj Bhavan Road            Bangalore  None   India   \n",
       "\n",
       "    PostalCode               Phone  ... SupportRepId InvoiceId  CustomerId  \\\n",
       "0    12227-000  +55 (12) 3923-5555  ...            3        98           1   \n",
       "1    12227-000  +55 (12) 3923-5555  ...            3       121           1   \n",
       "2    12227-000  +55 (12) 3923-5555  ...            3       143           1   \n",
       "3    12227-000  +55 (12) 3923-5555  ...            3       195           1   \n",
       "4    12227-000  +55 (12) 3923-5555  ...            3       316           1   \n",
       "..         ...                 ...  ...          ...       ...         ...   \n",
       "407     560001    +91 080 22289999  ...            3        45          59   \n",
       "408     560001    +91 080 22289999  ...            3        97          59   \n",
       "409     560001    +91 080 22289999  ...            3       218          59   \n",
       "410     560001    +91 080 22289999  ...            3       229          59   \n",
       "411     560001    +91 080 22289999  ...            3       284          59   \n",
       "\n",
       "             InvoiceDate                   BillingAddress  \\\n",
       "0    2010-03-11 00:00:00  Av. Brigadeiro Faria Lima, 2170   \n",
       "1    2010-06-13 00:00:00  Av. Brigadeiro Faria Lima, 2170   \n",
       "2    2010-09-15 00:00:00  Av. Brigadeiro Faria Lima, 2170   \n",
       "3    2011-05-06 00:00:00  Av. Brigadeiro Faria Lima, 2170   \n",
       "4    2012-10-27 00:00:00  Av. Brigadeiro Faria Lima, 2170   \n",
       "..                   ...                              ...   \n",
       "407  2009-07-08 00:00:00                3,Raj Bhavan Road   \n",
       "408  2010-02-26 00:00:00                3,Raj Bhavan Road   \n",
       "409  2011-08-20 00:00:00                3,Raj Bhavan Road   \n",
       "410  2011-09-30 00:00:00                3,Raj Bhavan Road   \n",
       "411  2012-05-30 00:00:00                3,Raj Bhavan Road   \n",
       "\n",
       "             BillingCity BillingState BillingCountry BillingPostalCode  Total  \n",
       "0    São José dos Campos           SP         Brazil         12227-000   3.98  \n",
       "1    São José dos Campos           SP         Brazil         12227-000   3.96  \n",
       "2    São José dos Campos           SP         Brazil         12227-000   5.94  \n",
       "3    São José dos Campos           SP         Brazil         12227-000   0.99  \n",
       "4    São José dos Campos           SP         Brazil         12227-000   1.98  \n",
       "..                   ...          ...            ...               ...    ...  \n",
       "407            Bangalore         None          India            560001   5.94  \n",
       "408            Bangalore         None          India            560001   1.99  \n",
       "409            Bangalore         None          India            560001   1.98  \n",
       "410            Bangalore         None          India            560001  13.86  \n",
       "411            Bangalore         None          India            560001   8.91  \n",
       "\n",
       "[412 rows x 22 columns]"
      ],
      "text/html": "<div>\n<style scoped>\n    .dataframe tbody tr th:only-of-type {\n        vertical-align: middle;\n    }\n\n    .dataframe tbody tr th {\n        vertical-align: top;\n    }\n\n    .dataframe thead th {\n        text-align: right;\n    }\n</style>\n<table border=\"1\" class=\"dataframe\">\n  <thead>\n    <tr style=\"text-align: right;\">\n      <th></th>\n      <th>CustomerId</th>\n      <th>FirstName</th>\n      <th>LastName</th>\n      <th>Company</th>\n      <th>Address</th>\n      <th>City</th>\n      <th>State</th>\n      <th>Country</th>\n      <th>PostalCode</th>\n      <th>Phone</th>\n      <th>...</th>\n      <th>SupportRepId</th>\n      <th>InvoiceId</th>\n      <th>CustomerId</th>\n      <th>InvoiceDate</th>\n      <th>BillingAddress</th>\n      <th>BillingCity</th>\n      <th>BillingState</th>\n      <th>BillingCountry</th>\n      <th>BillingPostalCode</th>\n      <th>Total</th>\n    </tr>\n  </thead>\n  <tbody>\n    <tr>\n      <th>0</th>\n      <td>1</td>\n      <td>Luís</td>\n      <td>Gonçalves</td>\n      <td>Embraer - Empresa Brasileira de Aeronáutica S.A.</td>\n      <td>Av. Brigadeiro Faria Lima, 2170</td>\n      <td>São José dos Campos</td>\n      <td>SP</td>\n      <td>Brazil</td>\n      <td>12227-000</td>\n      <td>+55 (12) 3923-5555</td>\n      <td>...</td>\n      <td>3</td>\n      <td>98</td>\n      <td>1</td>\n      <td>2010-03-11 00:00:00</td>\n      <td>Av. Brigadeiro Faria Lima, 2170</td>\n      <td>São José dos Campos</td>\n      <td>SP</td>\n      <td>Brazil</td>\n      <td>12227-000</td>\n      <td>3.98</td>\n    </tr>\n    <tr>\n      <th>1</th>\n      <td>1</td>\n      <td>Luís</td>\n      <td>Gonçalves</td>\n      <td>Embraer - Empresa Brasileira de Aeronáutica S.A.</td>\n      <td>Av. Brigadeiro Faria Lima, 2170</td>\n      <td>São José dos Campos</td>\n      <td>SP</td>\n      <td>Brazil</td>\n      <td>12227-000</td>\n      <td>+55 (12) 3923-5555</td>\n      <td>...</td>\n      <td>3</td>\n      <td>121</td>\n      <td>1</td>\n      <td>2010-06-13 00:00:00</td>\n      <td>Av. Brigadeiro Faria Lima, 2170</td>\n      <td>São José dos Campos</td>\n      <td>SP</td>\n      <td>Brazil</td>\n      <td>12227-000</td>\n      <td>3.96</td>\n    </tr>\n    <tr>\n      <th>2</th>\n      <td>1</td>\n      <td>Luís</td>\n      <td>Gonçalves</td>\n      <td>Embraer - Empresa Brasileira de Aeronáutica S.A.</td>\n      <td>Av. Brigadeiro Faria Lima, 2170</td>\n      <td>São José dos Campos</td>\n      <td>SP</td>\n      <td>Brazil</td>\n      <td>12227-000</td>\n      <td>+55 (12) 3923-5555</td>\n      <td>...</td>\n      <td>3</td>\n      <td>143</td>\n      <td>1</td>\n      <td>2010-09-15 00:00:00</td>\n      <td>Av. Brigadeiro Faria Lima, 2170</td>\n      <td>São José dos Campos</td>\n      <td>SP</td>\n      <td>Brazil</td>\n      <td>12227-000</td>\n      <td>5.94</td>\n    </tr>\n    <tr>\n      <th>3</th>\n      <td>1</td>\n      <td>Luís</td>\n      <td>Gonçalves</td>\n      <td>Embraer - Empresa Brasileira de Aeronáutica S.A.</td>\n      <td>Av. Brigadeiro Faria Lima, 2170</td>\n      <td>São José dos Campos</td>\n      <td>SP</td>\n      <td>Brazil</td>\n      <td>12227-000</td>\n      <td>+55 (12) 3923-5555</td>\n      <td>...</td>\n      <td>3</td>\n      <td>195</td>\n      <td>1</td>\n      <td>2011-05-06 00:00:00</td>\n      <td>Av. Brigadeiro Faria Lima, 2170</td>\n      <td>São José dos Campos</td>\n      <td>SP</td>\n      <td>Brazil</td>\n      <td>12227-000</td>\n      <td>0.99</td>\n    </tr>\n    <tr>\n      <th>4</th>\n      <td>1</td>\n      <td>Luís</td>\n      <td>Gonçalves</td>\n      <td>Embraer - Empresa Brasileira de Aeronáutica S.A.</td>\n      <td>Av. Brigadeiro Faria Lima, 2170</td>\n      <td>São José dos Campos</td>\n      <td>SP</td>\n      <td>Brazil</td>\n      <td>12227-000</td>\n      <td>+55 (12) 3923-5555</td>\n      <td>...</td>\n      <td>3</td>\n      <td>316</td>\n      <td>1</td>\n      <td>2012-10-27 00:00:00</td>\n      <td>Av. Brigadeiro Faria Lima, 2170</td>\n      <td>São José dos Campos</td>\n      <td>SP</td>\n      <td>Brazil</td>\n      <td>12227-000</td>\n      <td>1.98</td>\n    </tr>\n    <tr>\n      <th>...</th>\n      <td>...</td>\n      <td>...</td>\n      <td>...</td>\n      <td>...</td>\n      <td>...</td>\n      <td>...</td>\n      <td>...</td>\n      <td>...</td>\n      <td>...</td>\n      <td>...</td>\n      <td>...</td>\n      <td>...</td>\n      <td>...</td>\n      <td>...</td>\n      <td>...</td>\n      <td>...</td>\n      <td>...</td>\n      <td>...</td>\n      <td>...</td>\n      <td>...</td>\n      <td>...</td>\n    </tr>\n    <tr>\n      <th>407</th>\n      <td>59</td>\n      <td>Puja</td>\n      <td>Srivastava</td>\n      <td>None</td>\n      <td>3,Raj Bhavan Road</td>\n      <td>Bangalore</td>\n      <td>None</td>\n      <td>India</td>\n      <td>560001</td>\n      <td>+91 080 22289999</td>\n      <td>...</td>\n      <td>3</td>\n      <td>45</td>\n      <td>59</td>\n      <td>2009-07-08 00:00:00</td>\n      <td>3,Raj Bhavan Road</td>\n      <td>Bangalore</td>\n      <td>None</td>\n      <td>India</td>\n      <td>560001</td>\n      <td>5.94</td>\n    </tr>\n    <tr>\n      <th>408</th>\n      <td>59</td>\n      <td>Puja</td>\n      <td>Srivastava</td>\n      <td>None</td>\n      <td>3,Raj Bhavan Road</td>\n      <td>Bangalore</td>\n      <td>None</td>\n      <td>India</td>\n      <td>560001</td>\n      <td>+91 080 22289999</td>\n      <td>...</td>\n      <td>3</td>\n      <td>97</td>\n      <td>59</td>\n      <td>2010-02-26 00:00:00</td>\n      <td>3,Raj Bhavan Road</td>\n      <td>Bangalore</td>\n      <td>None</td>\n      <td>India</td>\n      <td>560001</td>\n      <td>1.99</td>\n    </tr>\n    <tr>\n      <th>409</th>\n      <td>59</td>\n      <td>Puja</td>\n      <td>Srivastava</td>\n      <td>None</td>\n      <td>3,Raj Bhavan Road</td>\n      <td>Bangalore</td>\n      <td>None</td>\n      <td>India</td>\n      <td>560001</td>\n      <td>+91 080 22289999</td>\n      <td>...</td>\n      <td>3</td>\n      <td>218</td>\n      <td>59</td>\n      <td>2011-08-20 00:00:00</td>\n      <td>3,Raj Bhavan Road</td>\n      <td>Bangalore</td>\n      <td>None</td>\n      <td>India</td>\n      <td>560001</td>\n      <td>1.98</td>\n    </tr>\n    <tr>\n      <th>410</th>\n      <td>59</td>\n      <td>Puja</td>\n      <td>Srivastava</td>\n      <td>None</td>\n      <td>3,Raj Bhavan Road</td>\n      <td>Bangalore</td>\n      <td>None</td>\n      <td>India</td>\n      <td>560001</td>\n      <td>+91 080 22289999</td>\n      <td>...</td>\n      <td>3</td>\n      <td>229</td>\n      <td>59</td>\n      <td>2011-09-30 00:00:00</td>\n      <td>3,Raj Bhavan Road</td>\n      <td>Bangalore</td>\n      <td>None</td>\n      <td>India</td>\n      <td>560001</td>\n      <td>13.86</td>\n    </tr>\n    <tr>\n      <th>411</th>\n      <td>59</td>\n      <td>Puja</td>\n      <td>Srivastava</td>\n      <td>None</td>\n      <td>3,Raj Bhavan Road</td>\n      <td>Bangalore</td>\n      <td>None</td>\n      <td>India</td>\n      <td>560001</td>\n      <td>+91 080 22289999</td>\n      <td>...</td>\n      <td>3</td>\n      <td>284</td>\n      <td>59</td>\n      <td>2012-05-30 00:00:00</td>\n      <td>3,Raj Bhavan Road</td>\n      <td>Bangalore</td>\n      <td>None</td>\n      <td>India</td>\n      <td>560001</td>\n      <td>8.91</td>\n    </tr>\n  </tbody>\n</table>\n<p>412 rows × 22 columns</p>\n</div>"
     },
     "metadata": {},
     "execution_count": 16
    }
   ],
   "source": [
    "query = \"\"\"\n",
    "SELECT*\n",
    "FROM customers, invoices\n",
    "WHERE customers.CustomerId = invoices.CustomerId\n",
    "\"\"\"\n",
    "pd.read_sql_query(query, connection)"
   ]
  },
  {
   "source": [
    "### 2.\tFacturas de Clientes de Brasil"
   ],
   "cell_type": "markdown",
   "metadata": {}
  },
  {
   "cell_type": "code",
   "execution_count": 17,
   "metadata": {},
   "outputs": [
    {
     "output_type": "execute_result",
     "data": {
      "text/plain": [
       "               Name  InvoiceId\n",
       "0    Luís Gonçalves         98\n",
       "1    Luís Gonçalves        121\n",
       "2    Luís Gonçalves        143\n",
       "3    Luís Gonçalves        195\n",
       "4    Luís Gonçalves        316\n",
       "5    Luís Gonçalves        327\n",
       "6    Luís Gonçalves        382\n",
       "7   Eduardo Martins         25\n",
       "8   Eduardo Martins        154\n",
       "9   Eduardo Martins        177\n",
       "10  Eduardo Martins        199\n",
       "11  Eduardo Martins        251\n",
       "12  Eduardo Martins        372\n",
       "13  Eduardo Martins        383\n",
       "14  Alexandre Rocha         57\n",
       "15  Alexandre Rocha         68\n",
       "16  Alexandre Rocha        123\n",
       "17  Alexandre Rocha        252\n",
       "18  Alexandre Rocha        275\n",
       "19  Alexandre Rocha        297\n",
       "20  Alexandre Rocha        349\n",
       "21  Roberto Almeida         34\n",
       "22  Roberto Almeida        155\n",
       "23  Roberto Almeida        166\n",
       "24  Roberto Almeida        221\n",
       "25  Roberto Almeida        350\n",
       "26  Roberto Almeida        373\n",
       "27  Roberto Almeida        395\n",
       "28   Fernanda Ramos         35\n",
       "29   Fernanda Ramos         58\n",
       "30   Fernanda Ramos         80\n",
       "31   Fernanda Ramos        132\n",
       "32   Fernanda Ramos        253\n",
       "33   Fernanda Ramos        264\n",
       "34   Fernanda Ramos        319"
      ],
      "text/html": "<div>\n<style scoped>\n    .dataframe tbody tr th:only-of-type {\n        vertical-align: middle;\n    }\n\n    .dataframe tbody tr th {\n        vertical-align: top;\n    }\n\n    .dataframe thead th {\n        text-align: right;\n    }\n</style>\n<table border=\"1\" class=\"dataframe\">\n  <thead>\n    <tr style=\"text-align: right;\">\n      <th></th>\n      <th>Name</th>\n      <th>InvoiceId</th>\n    </tr>\n  </thead>\n  <tbody>\n    <tr>\n      <th>0</th>\n      <td>Luís Gonçalves</td>\n      <td>98</td>\n    </tr>\n    <tr>\n      <th>1</th>\n      <td>Luís Gonçalves</td>\n      <td>121</td>\n    </tr>\n    <tr>\n      <th>2</th>\n      <td>Luís Gonçalves</td>\n      <td>143</td>\n    </tr>\n    <tr>\n      <th>3</th>\n      <td>Luís Gonçalves</td>\n      <td>195</td>\n    </tr>\n    <tr>\n      <th>4</th>\n      <td>Luís Gonçalves</td>\n      <td>316</td>\n    </tr>\n    <tr>\n      <th>5</th>\n      <td>Luís Gonçalves</td>\n      <td>327</td>\n    </tr>\n    <tr>\n      <th>6</th>\n      <td>Luís Gonçalves</td>\n      <td>382</td>\n    </tr>\n    <tr>\n      <th>7</th>\n      <td>Eduardo Martins</td>\n      <td>25</td>\n    </tr>\n    <tr>\n      <th>8</th>\n      <td>Eduardo Martins</td>\n      <td>154</td>\n    </tr>\n    <tr>\n      <th>9</th>\n      <td>Eduardo Martins</td>\n      <td>177</td>\n    </tr>\n    <tr>\n      <th>10</th>\n      <td>Eduardo Martins</td>\n      <td>199</td>\n    </tr>\n    <tr>\n      <th>11</th>\n      <td>Eduardo Martins</td>\n      <td>251</td>\n    </tr>\n    <tr>\n      <th>12</th>\n      <td>Eduardo Martins</td>\n      <td>372</td>\n    </tr>\n    <tr>\n      <th>13</th>\n      <td>Eduardo Martins</td>\n      <td>383</td>\n    </tr>\n    <tr>\n      <th>14</th>\n      <td>Alexandre Rocha</td>\n      <td>57</td>\n    </tr>\n    <tr>\n      <th>15</th>\n      <td>Alexandre Rocha</td>\n      <td>68</td>\n    </tr>\n    <tr>\n      <th>16</th>\n      <td>Alexandre Rocha</td>\n      <td>123</td>\n    </tr>\n    <tr>\n      <th>17</th>\n      <td>Alexandre Rocha</td>\n      <td>252</td>\n    </tr>\n    <tr>\n      <th>18</th>\n      <td>Alexandre Rocha</td>\n      <td>275</td>\n    </tr>\n    <tr>\n      <th>19</th>\n      <td>Alexandre Rocha</td>\n      <td>297</td>\n    </tr>\n    <tr>\n      <th>20</th>\n      <td>Alexandre Rocha</td>\n      <td>349</td>\n    </tr>\n    <tr>\n      <th>21</th>\n      <td>Roberto Almeida</td>\n      <td>34</td>\n    </tr>\n    <tr>\n      <th>22</th>\n      <td>Roberto Almeida</td>\n      <td>155</td>\n    </tr>\n    <tr>\n      <th>23</th>\n      <td>Roberto Almeida</td>\n      <td>166</td>\n    </tr>\n    <tr>\n      <th>24</th>\n      <td>Roberto Almeida</td>\n      <td>221</td>\n    </tr>\n    <tr>\n      <th>25</th>\n      <td>Roberto Almeida</td>\n      <td>350</td>\n    </tr>\n    <tr>\n      <th>26</th>\n      <td>Roberto Almeida</td>\n      <td>373</td>\n    </tr>\n    <tr>\n      <th>27</th>\n      <td>Roberto Almeida</td>\n      <td>395</td>\n    </tr>\n    <tr>\n      <th>28</th>\n      <td>Fernanda Ramos</td>\n      <td>35</td>\n    </tr>\n    <tr>\n      <th>29</th>\n      <td>Fernanda Ramos</td>\n      <td>58</td>\n    </tr>\n    <tr>\n      <th>30</th>\n      <td>Fernanda Ramos</td>\n      <td>80</td>\n    </tr>\n    <tr>\n      <th>31</th>\n      <td>Fernanda Ramos</td>\n      <td>132</td>\n    </tr>\n    <tr>\n      <th>32</th>\n      <td>Fernanda Ramos</td>\n      <td>253</td>\n    </tr>\n    <tr>\n      <th>33</th>\n      <td>Fernanda Ramos</td>\n      <td>264</td>\n    </tr>\n    <tr>\n      <th>34</th>\n      <td>Fernanda Ramos</td>\n      <td>319</td>\n    </tr>\n  </tbody>\n</table>\n</div>"
     },
     "metadata": {},
     "execution_count": 17
    }
   ],
   "source": [
    "\n",
    "query = \"\"\"\n",
    "SELECT c.Firstname||\" \"||c.LastName as \"Name\", i.InvoiceID\n",
    "FROM customers c\n",
    "JOIN invoices_items i ON c.CustomerId = i.CustomerID\n",
    "WHERE c.Country =\"Brazil\"\n",
    "\"\"\"\n",
    "pd.read_sql_query(query, connection)"
   ]
  },
  {
   "source": [
    "### 3.\tMuestra cada factura asociada a cada agente de ventas con su nombre completo."
   ],
   "cell_type": "markdown",
   "metadata": {}
  },
  {
   "cell_type": "code",
   "execution_count": 25,
   "metadata": {},
   "outputs": [
    {
     "output_type": "execute_result",
     "data": {
      "text/plain": [
       "     InvoiceId  CustomerId          InvoiceDate  \\\n",
       "0           98           1  2010-03-11 00:00:00   \n",
       "1          121           1  2010-06-13 00:00:00   \n",
       "2          143           1  2010-09-15 00:00:00   \n",
       "3          195           1  2011-05-06 00:00:00   \n",
       "4          316           1  2012-10-27 00:00:00   \n",
       "..         ...         ...                  ...   \n",
       "407         88          57  2010-01-13 00:00:00   \n",
       "408        217          57  2011-08-20 00:00:00   \n",
       "409        240          57  2011-11-22 00:00:00   \n",
       "410        262          57  2012-02-24 00:00:00   \n",
       "411        314          57  2012-10-14 00:00:00   \n",
       "\n",
       "                      BillingAddress          BillingCity BillingState  \\\n",
       "0    Av. Brigadeiro Faria Lima, 2170  São José dos Campos           SP   \n",
       "1    Av. Brigadeiro Faria Lima, 2170  São José dos Campos           SP   \n",
       "2    Av. Brigadeiro Faria Lima, 2170  São José dos Campos           SP   \n",
       "3    Av. Brigadeiro Faria Lima, 2170  São José dos Campos           SP   \n",
       "4    Av. Brigadeiro Faria Lima, 2170  São José dos Campos           SP   \n",
       "..                               ...                  ...          ...   \n",
       "407                  Calle Lira, 198             Santiago         None   \n",
       "408                  Calle Lira, 198             Santiago         None   \n",
       "409                  Calle Lira, 198             Santiago         None   \n",
       "410                  Calle Lira, 198             Santiago         None   \n",
       "411                  Calle Lira, 198             Santiago         None   \n",
       "\n",
       "    BillingCountry BillingPostalCode  Total      Full Name  \n",
       "0           Brazil         12227-000   3.98   Jane Peacock  \n",
       "1           Brazil         12227-000   3.96   Jane Peacock  \n",
       "2           Brazil         12227-000   5.94   Jane Peacock  \n",
       "3           Brazil         12227-000   0.99   Jane Peacock  \n",
       "4           Brazil         12227-000   1.98   Jane Peacock  \n",
       "..             ...               ...    ...            ...  \n",
       "407          Chile              None  17.91  Steve Johnson  \n",
       "408          Chile              None   1.98  Steve Johnson  \n",
       "409          Chile              None   3.96  Steve Johnson  \n",
       "410          Chile              None   5.94  Steve Johnson  \n",
       "411          Chile              None   0.99  Steve Johnson  \n",
       "\n",
       "[412 rows x 10 columns]"
      ],
      "text/html": "<div>\n<style scoped>\n    .dataframe tbody tr th:only-of-type {\n        vertical-align: middle;\n    }\n\n    .dataframe tbody tr th {\n        vertical-align: top;\n    }\n\n    .dataframe thead th {\n        text-align: right;\n    }\n</style>\n<table border=\"1\" class=\"dataframe\">\n  <thead>\n    <tr style=\"text-align: right;\">\n      <th></th>\n      <th>InvoiceId</th>\n      <th>CustomerId</th>\n      <th>InvoiceDate</th>\n      <th>BillingAddress</th>\n      <th>BillingCity</th>\n      <th>BillingState</th>\n      <th>BillingCountry</th>\n      <th>BillingPostalCode</th>\n      <th>Total</th>\n      <th>Full Name</th>\n    </tr>\n  </thead>\n  <tbody>\n    <tr>\n      <th>0</th>\n      <td>98</td>\n      <td>1</td>\n      <td>2010-03-11 00:00:00</td>\n      <td>Av. Brigadeiro Faria Lima, 2170</td>\n      <td>São José dos Campos</td>\n      <td>SP</td>\n      <td>Brazil</td>\n      <td>12227-000</td>\n      <td>3.98</td>\n      <td>Jane Peacock</td>\n    </tr>\n    <tr>\n      <th>1</th>\n      <td>121</td>\n      <td>1</td>\n      <td>2010-06-13 00:00:00</td>\n      <td>Av. Brigadeiro Faria Lima, 2170</td>\n      <td>São José dos Campos</td>\n      <td>SP</td>\n      <td>Brazil</td>\n      <td>12227-000</td>\n      <td>3.96</td>\n      <td>Jane Peacock</td>\n    </tr>\n    <tr>\n      <th>2</th>\n      <td>143</td>\n      <td>1</td>\n      <td>2010-09-15 00:00:00</td>\n      <td>Av. Brigadeiro Faria Lima, 2170</td>\n      <td>São José dos Campos</td>\n      <td>SP</td>\n      <td>Brazil</td>\n      <td>12227-000</td>\n      <td>5.94</td>\n      <td>Jane Peacock</td>\n    </tr>\n    <tr>\n      <th>3</th>\n      <td>195</td>\n      <td>1</td>\n      <td>2011-05-06 00:00:00</td>\n      <td>Av. Brigadeiro Faria Lima, 2170</td>\n      <td>São José dos Campos</td>\n      <td>SP</td>\n      <td>Brazil</td>\n      <td>12227-000</td>\n      <td>0.99</td>\n      <td>Jane Peacock</td>\n    </tr>\n    <tr>\n      <th>4</th>\n      <td>316</td>\n      <td>1</td>\n      <td>2012-10-27 00:00:00</td>\n      <td>Av. Brigadeiro Faria Lima, 2170</td>\n      <td>São José dos Campos</td>\n      <td>SP</td>\n      <td>Brazil</td>\n      <td>12227-000</td>\n      <td>1.98</td>\n      <td>Jane Peacock</td>\n    </tr>\n    <tr>\n      <th>...</th>\n      <td>...</td>\n      <td>...</td>\n      <td>...</td>\n      <td>...</td>\n      <td>...</td>\n      <td>...</td>\n      <td>...</td>\n      <td>...</td>\n      <td>...</td>\n      <td>...</td>\n    </tr>\n    <tr>\n      <th>407</th>\n      <td>88</td>\n      <td>57</td>\n      <td>2010-01-13 00:00:00</td>\n      <td>Calle Lira, 198</td>\n      <td>Santiago</td>\n      <td>None</td>\n      <td>Chile</td>\n      <td>None</td>\n      <td>17.91</td>\n      <td>Steve Johnson</td>\n    </tr>\n    <tr>\n      <th>408</th>\n      <td>217</td>\n      <td>57</td>\n      <td>2011-08-20 00:00:00</td>\n      <td>Calle Lira, 198</td>\n      <td>Santiago</td>\n      <td>None</td>\n      <td>Chile</td>\n      <td>None</td>\n      <td>1.98</td>\n      <td>Steve Johnson</td>\n    </tr>\n    <tr>\n      <th>409</th>\n      <td>240</td>\n      <td>57</td>\n      <td>2011-11-22 00:00:00</td>\n      <td>Calle Lira, 198</td>\n      <td>Santiago</td>\n      <td>None</td>\n      <td>Chile</td>\n      <td>None</td>\n      <td>3.96</td>\n      <td>Steve Johnson</td>\n    </tr>\n    <tr>\n      <th>410</th>\n      <td>262</td>\n      <td>57</td>\n      <td>2012-02-24 00:00:00</td>\n      <td>Calle Lira, 198</td>\n      <td>Santiago</td>\n      <td>None</td>\n      <td>Chile</td>\n      <td>None</td>\n      <td>5.94</td>\n      <td>Steve Johnson</td>\n    </tr>\n    <tr>\n      <th>411</th>\n      <td>314</td>\n      <td>57</td>\n      <td>2012-10-14 00:00:00</td>\n      <td>Calle Lira, 198</td>\n      <td>Santiago</td>\n      <td>None</td>\n      <td>Chile</td>\n      <td>None</td>\n      <td>0.99</td>\n      <td>Steve Johnson</td>\n    </tr>\n  </tbody>\n</table>\n<p>412 rows × 10 columns</p>\n</div>"
     },
     "metadata": {},
     "execution_count": 25
    }
   ],
   "source": [
    "query=\"\"\"\n",
    "SELECT i.*, e.Firstname||\" \"|| e.LastName as \"Full Name\"\n",
    "FROM employees e\n",
    "JOIN customers c ON e.EmployeeID = c.SupportRepID\n",
    "JOIN invoices i ON i.CustomerID = c.CustomerID\n",
    "\"\"\"\n",
    "pd.read_sql_query(query, connection)"
   ]
  },
  {
   "source": [
    "### 4.\tPara cada factura muestra el nombre del cliente, el país, el nombre del agente y el total"
   ],
   "cell_type": "markdown",
   "metadata": {}
  },
  {
   "cell_type": "code",
   "execution_count": 39,
   "metadata": {},
   "outputs": [
    {
     "output_type": "execute_result",
     "data": {
      "text/plain": [
       "     InvoiceId        Full_Name Country   Full_Name_A  Total\n",
       "0           98   Luís Gonçalves  Brazil  Jane Peacock   3.98\n",
       "1          121   Luís Gonçalves  Brazil  Jane Peacock   3.96\n",
       "2          143   Luís Gonçalves  Brazil  Jane Peacock   5.94\n",
       "3          195   Luís Gonçalves  Brazil  Jane Peacock   0.99\n",
       "4          316   Luís Gonçalves  Brazil  Jane Peacock   1.98\n",
       "..         ...              ...     ...           ...    ...\n",
       "407         45  Puja Srivastava   India  Jane Peacock   5.94\n",
       "408         97  Puja Srivastava   India  Jane Peacock   1.99\n",
       "409        218  Puja Srivastava   India  Jane Peacock   1.98\n",
       "410        229  Puja Srivastava   India  Jane Peacock  13.86\n",
       "411        284  Puja Srivastava   India  Jane Peacock   8.91\n",
       "\n",
       "[412 rows x 5 columns]"
      ],
      "text/html": "<div>\n<style scoped>\n    .dataframe tbody tr th:only-of-type {\n        vertical-align: middle;\n    }\n\n    .dataframe tbody tr th {\n        vertical-align: top;\n    }\n\n    .dataframe thead th {\n        text-align: right;\n    }\n</style>\n<table border=\"1\" class=\"dataframe\">\n  <thead>\n    <tr style=\"text-align: right;\">\n      <th></th>\n      <th>InvoiceId</th>\n      <th>Full_Name</th>\n      <th>Country</th>\n      <th>Full_Name_A</th>\n      <th>Total</th>\n    </tr>\n  </thead>\n  <tbody>\n    <tr>\n      <th>0</th>\n      <td>98</td>\n      <td>Luís Gonçalves</td>\n      <td>Brazil</td>\n      <td>Jane Peacock</td>\n      <td>3.98</td>\n    </tr>\n    <tr>\n      <th>1</th>\n      <td>121</td>\n      <td>Luís Gonçalves</td>\n      <td>Brazil</td>\n      <td>Jane Peacock</td>\n      <td>3.96</td>\n    </tr>\n    <tr>\n      <th>2</th>\n      <td>143</td>\n      <td>Luís Gonçalves</td>\n      <td>Brazil</td>\n      <td>Jane Peacock</td>\n      <td>5.94</td>\n    </tr>\n    <tr>\n      <th>3</th>\n      <td>195</td>\n      <td>Luís Gonçalves</td>\n      <td>Brazil</td>\n      <td>Jane Peacock</td>\n      <td>0.99</td>\n    </tr>\n    <tr>\n      <th>4</th>\n      <td>316</td>\n      <td>Luís Gonçalves</td>\n      <td>Brazil</td>\n      <td>Jane Peacock</td>\n      <td>1.98</td>\n    </tr>\n    <tr>\n      <th>...</th>\n      <td>...</td>\n      <td>...</td>\n      <td>...</td>\n      <td>...</td>\n      <td>...</td>\n    </tr>\n    <tr>\n      <th>407</th>\n      <td>45</td>\n      <td>Puja Srivastava</td>\n      <td>India</td>\n      <td>Jane Peacock</td>\n      <td>5.94</td>\n    </tr>\n    <tr>\n      <th>408</th>\n      <td>97</td>\n      <td>Puja Srivastava</td>\n      <td>India</td>\n      <td>Jane Peacock</td>\n      <td>1.99</td>\n    </tr>\n    <tr>\n      <th>409</th>\n      <td>218</td>\n      <td>Puja Srivastava</td>\n      <td>India</td>\n      <td>Jane Peacock</td>\n      <td>1.98</td>\n    </tr>\n    <tr>\n      <th>410</th>\n      <td>229</td>\n      <td>Puja Srivastava</td>\n      <td>India</td>\n      <td>Jane Peacock</td>\n      <td>13.86</td>\n    </tr>\n    <tr>\n      <th>411</th>\n      <td>284</td>\n      <td>Puja Srivastava</td>\n      <td>India</td>\n      <td>Jane Peacock</td>\n      <td>8.91</td>\n    </tr>\n  </tbody>\n</table>\n<p>412 rows × 5 columns</p>\n</div>"
     },
     "metadata": {},
     "execution_count": 39
    }
   ],
   "source": [
    "query=\"\"\"\n",
    "SELECT i.invoiceId, c.Firstname||\" \"|| c.LastName as \"Full_Name\", c.Country, e.Firstname||\" \"|| e.LastName as \"Full_Name_A\", i.Total\n",
    "FROM employees e\n",
    "JOIN customers c ON e.EmployeeID = c.SupportRepID\n",
    "JOIN invoices i ON i.CustomerID = c.CustomerID\n",
    "\n",
    "\"\"\"\n",
    "pd.read_sql_query(query, connection)"
   ]
  },
  {
   "source": [
    "### 5.\tMuestra cada artículo de la factura con el nombre de la canción."
   ],
   "cell_type": "markdown",
   "metadata": {}
  },
  {
   "cell_type": "code",
   "execution_count": 33,
   "metadata": {},
   "outputs": [
    {
     "output_type": "execute_result",
     "data": {
      "text/plain": [
       "      InvoiceId  CustomerId          InvoiceDate           BillingAddress  \\\n",
       "0             1           2  2009-01-01 00:00:00  Theodor-Heuss-Straße 34   \n",
       "1             1           2  2009-01-01 00:00:00  Theodor-Heuss-Straße 34   \n",
       "2             2           4  2009-01-02 00:00:00         Ullevålsveien 14   \n",
       "3             2           4  2009-01-02 00:00:00         Ullevålsveien 14   \n",
       "4             2           4  2009-01-02 00:00:00         Ullevålsveien 14   \n",
       "...         ...         ...                  ...                      ...   \n",
       "2235        411          44  2013-12-14 00:00:00          Porthaninkatu 9   \n",
       "2236        411          44  2013-12-14 00:00:00          Porthaninkatu 9   \n",
       "2237        411          44  2013-12-14 00:00:00          Porthaninkatu 9   \n",
       "2238        411          44  2013-12-14 00:00:00          Porthaninkatu 9   \n",
       "2239        412          58  2013-12-22 00:00:00      12,Community Centre   \n",
       "\n",
       "     BillingCity BillingState BillingCountry BillingPostalCode  Total  \\\n",
       "0      Stuttgart         None        Germany             70174   1.98   \n",
       "1      Stuttgart         None        Germany             70174   1.98   \n",
       "2           Oslo         None         Norway              0171   3.96   \n",
       "3           Oslo         None         Norway              0171   3.96   \n",
       "4           Oslo         None         Norway              0171   3.96   \n",
       "...          ...          ...            ...               ...    ...   \n",
       "2235    Helsinki         None        Finland             00530  13.86   \n",
       "2236    Helsinki         None        Finland             00530  13.86   \n",
       "2237    Helsinki         None        Finland             00530  13.86   \n",
       "2238    Helsinki         None        Finland             00530  13.86   \n",
       "2239       Delhi         None          India            110017   1.99   \n",
       "\n",
       "                                         Nombre_cancion  \n",
       "0                                     Balls to the Wall  \n",
       "1                                     Restless and Wild  \n",
       "2                                 Put The Finger On You  \n",
       "3                                      Inject The Venom  \n",
       "4                                            Evil Walks  \n",
       "...                                                 ...  \n",
       "2235                                   Looking For Love  \n",
       "2236                                    Sweet Lady Luck  \n",
       "2237  Feirinha da Pavuna/Luz do Repente/Bagaço da La...  \n",
       "2238                                   Samba pras moças  \n",
       "2239                                           Hot Girl  \n",
       "\n",
       "[2240 rows x 10 columns]"
      ],
      "text/html": "<div>\n<style scoped>\n    .dataframe tbody tr th:only-of-type {\n        vertical-align: middle;\n    }\n\n    .dataframe tbody tr th {\n        vertical-align: top;\n    }\n\n    .dataframe thead th {\n        text-align: right;\n    }\n</style>\n<table border=\"1\" class=\"dataframe\">\n  <thead>\n    <tr style=\"text-align: right;\">\n      <th></th>\n      <th>InvoiceId</th>\n      <th>CustomerId</th>\n      <th>InvoiceDate</th>\n      <th>BillingAddress</th>\n      <th>BillingCity</th>\n      <th>BillingState</th>\n      <th>BillingCountry</th>\n      <th>BillingPostalCode</th>\n      <th>Total</th>\n      <th>Nombre_cancion</th>\n    </tr>\n  </thead>\n  <tbody>\n    <tr>\n      <th>0</th>\n      <td>1</td>\n      <td>2</td>\n      <td>2009-01-01 00:00:00</td>\n      <td>Theodor-Heuss-Straße 34</td>\n      <td>Stuttgart</td>\n      <td>None</td>\n      <td>Germany</td>\n      <td>70174</td>\n      <td>1.98</td>\n      <td>Balls to the Wall</td>\n    </tr>\n    <tr>\n      <th>1</th>\n      <td>1</td>\n      <td>2</td>\n      <td>2009-01-01 00:00:00</td>\n      <td>Theodor-Heuss-Straße 34</td>\n      <td>Stuttgart</td>\n      <td>None</td>\n      <td>Germany</td>\n      <td>70174</td>\n      <td>1.98</td>\n      <td>Restless and Wild</td>\n    </tr>\n    <tr>\n      <th>2</th>\n      <td>2</td>\n      <td>4</td>\n      <td>2009-01-02 00:00:00</td>\n      <td>Ullevålsveien 14</td>\n      <td>Oslo</td>\n      <td>None</td>\n      <td>Norway</td>\n      <td>0171</td>\n      <td>3.96</td>\n      <td>Put The Finger On You</td>\n    </tr>\n    <tr>\n      <th>3</th>\n      <td>2</td>\n      <td>4</td>\n      <td>2009-01-02 00:00:00</td>\n      <td>Ullevålsveien 14</td>\n      <td>Oslo</td>\n      <td>None</td>\n      <td>Norway</td>\n      <td>0171</td>\n      <td>3.96</td>\n      <td>Inject The Venom</td>\n    </tr>\n    <tr>\n      <th>4</th>\n      <td>2</td>\n      <td>4</td>\n      <td>2009-01-02 00:00:00</td>\n      <td>Ullevålsveien 14</td>\n      <td>Oslo</td>\n      <td>None</td>\n      <td>Norway</td>\n      <td>0171</td>\n      <td>3.96</td>\n      <td>Evil Walks</td>\n    </tr>\n    <tr>\n      <th>...</th>\n      <td>...</td>\n      <td>...</td>\n      <td>...</td>\n      <td>...</td>\n      <td>...</td>\n      <td>...</td>\n      <td>...</td>\n      <td>...</td>\n      <td>...</td>\n      <td>...</td>\n    </tr>\n    <tr>\n      <th>2235</th>\n      <td>411</td>\n      <td>44</td>\n      <td>2013-12-14 00:00:00</td>\n      <td>Porthaninkatu 9</td>\n      <td>Helsinki</td>\n      <td>None</td>\n      <td>Finland</td>\n      <td>00530</td>\n      <td>13.86</td>\n      <td>Looking For Love</td>\n    </tr>\n    <tr>\n      <th>2236</th>\n      <td>411</td>\n      <td>44</td>\n      <td>2013-12-14 00:00:00</td>\n      <td>Porthaninkatu 9</td>\n      <td>Helsinki</td>\n      <td>None</td>\n      <td>Finland</td>\n      <td>00530</td>\n      <td>13.86</td>\n      <td>Sweet Lady Luck</td>\n    </tr>\n    <tr>\n      <th>2237</th>\n      <td>411</td>\n      <td>44</td>\n      <td>2013-12-14 00:00:00</td>\n      <td>Porthaninkatu 9</td>\n      <td>Helsinki</td>\n      <td>None</td>\n      <td>Finland</td>\n      <td>00530</td>\n      <td>13.86</td>\n      <td>Feirinha da Pavuna/Luz do Repente/Bagaço da La...</td>\n    </tr>\n    <tr>\n      <th>2238</th>\n      <td>411</td>\n      <td>44</td>\n      <td>2013-12-14 00:00:00</td>\n      <td>Porthaninkatu 9</td>\n      <td>Helsinki</td>\n      <td>None</td>\n      <td>Finland</td>\n      <td>00530</td>\n      <td>13.86</td>\n      <td>Samba pras moças</td>\n    </tr>\n    <tr>\n      <th>2239</th>\n      <td>412</td>\n      <td>58</td>\n      <td>2013-12-22 00:00:00</td>\n      <td>12,Community Centre</td>\n      <td>Delhi</td>\n      <td>None</td>\n      <td>India</td>\n      <td>110017</td>\n      <td>1.99</td>\n      <td>Hot Girl</td>\n    </tr>\n  </tbody>\n</table>\n<p>2240 rows × 10 columns</p>\n</div>"
     },
     "metadata": {},
     "execution_count": 33
    }
   ],
   "source": [
    "query=\"\"\"\n",
    "SELECT i.* ,t.Name as Nombre_cancion\n",
    "FROM Invoices i\n",
    "JOIN Invoice_items it ON i.InvoiceId = it.InvoiceId\n",
    "JOIN tracks t ON it.TrackId = t.TrackId\n",
    "\n",
    "\"\"\"\n",
    "pd.read_sql_query(query, connection)"
   ]
  },
  {
   "source": [
    "### 6.\tMuestra todas las canciones con su nombre, formato, álbum y género."
   ],
   "cell_type": "markdown",
   "metadata": {}
  },
  {
   "cell_type": "code",
   "execution_count": 40,
   "metadata": {},
   "outputs": [
    {
     "output_type": "execute_result",
     "data": {
      "text/plain": [
       "                                                   Name  \\\n",
       "0               For Those About To Rock (We Salute You)   \n",
       "1                                     Balls to the Wall   \n",
       "2                                       Fast As a Shark   \n",
       "3                                     Restless and Wild   \n",
       "4                                  Princess of the Dawn   \n",
       "...                                                 ...   \n",
       "3498  Pini Di Roma (Pinien Von Rom) \\ I Pini Della V...   \n",
       "3499  String Quartet No. 12 in C Minor, D. 703 \"Quar...   \n",
       "3500               L'orfeo, Act 3, Sinfonia (Orchestra)   \n",
       "3501  Quintet for Horn, Violin, 2 Violas, and Cello ...   \n",
       "3502  Die Zauberflöte, K.620: \"Der Hölle Rache Kocht...   \n",
       "\n",
       "                        Format  \\\n",
       "0              MPEG audio file   \n",
       "1     Protected AAC audio file   \n",
       "2     Protected AAC audio file   \n",
       "3     Protected AAC audio file   \n",
       "4     Protected AAC audio file   \n",
       "...                        ...   \n",
       "3498  Protected AAC audio file   \n",
       "3499  Protected AAC audio file   \n",
       "3500  Protected AAC audio file   \n",
       "3501  Protected AAC audio file   \n",
       "3502  Protected AAC audio file   \n",
       "\n",
       "                                                  Album      Genre  \n",
       "0                 For Those About To Rock We Salute You       Rock  \n",
       "1                                     Balls to the Wall       Rock  \n",
       "2                                     Restless and Wild       Rock  \n",
       "3                                     Restless and Wild       Rock  \n",
       "4                                     Restless and Wild       Rock  \n",
       "...                                                 ...        ...  \n",
       "3498                             Respighi:Pines of Rome  Classical  \n",
       "3499  Schubert: The Late String Quartets & String Qu...  Classical  \n",
       "3500                                Monteverdi: L'Orfeo  Classical  \n",
       "3501                              Mozart: Chamber Music  Classical  \n",
       "3502                          Mozart Gala: Famous Arias      Opera  \n",
       "\n",
       "[3503 rows x 4 columns]"
      ],
      "text/html": "<div>\n<style scoped>\n    .dataframe tbody tr th:only-of-type {\n        vertical-align: middle;\n    }\n\n    .dataframe tbody tr th {\n        vertical-align: top;\n    }\n\n    .dataframe thead th {\n        text-align: right;\n    }\n</style>\n<table border=\"1\" class=\"dataframe\">\n  <thead>\n    <tr style=\"text-align: right;\">\n      <th></th>\n      <th>Name</th>\n      <th>Format</th>\n      <th>Album</th>\n      <th>Genre</th>\n    </tr>\n  </thead>\n  <tbody>\n    <tr>\n      <th>0</th>\n      <td>For Those About To Rock (We Salute You)</td>\n      <td>MPEG audio file</td>\n      <td>For Those About To Rock We Salute You</td>\n      <td>Rock</td>\n    </tr>\n    <tr>\n      <th>1</th>\n      <td>Balls to the Wall</td>\n      <td>Protected AAC audio file</td>\n      <td>Balls to the Wall</td>\n      <td>Rock</td>\n    </tr>\n    <tr>\n      <th>2</th>\n      <td>Fast As a Shark</td>\n      <td>Protected AAC audio file</td>\n      <td>Restless and Wild</td>\n      <td>Rock</td>\n    </tr>\n    <tr>\n      <th>3</th>\n      <td>Restless and Wild</td>\n      <td>Protected AAC audio file</td>\n      <td>Restless and Wild</td>\n      <td>Rock</td>\n    </tr>\n    <tr>\n      <th>4</th>\n      <td>Princess of the Dawn</td>\n      <td>Protected AAC audio file</td>\n      <td>Restless and Wild</td>\n      <td>Rock</td>\n    </tr>\n    <tr>\n      <th>...</th>\n      <td>...</td>\n      <td>...</td>\n      <td>...</td>\n      <td>...</td>\n    </tr>\n    <tr>\n      <th>3498</th>\n      <td>Pini Di Roma (Pinien Von Rom) \\ I Pini Della V...</td>\n      <td>Protected AAC audio file</td>\n      <td>Respighi:Pines of Rome</td>\n      <td>Classical</td>\n    </tr>\n    <tr>\n      <th>3499</th>\n      <td>String Quartet No. 12 in C Minor, D. 703 \"Quar...</td>\n      <td>Protected AAC audio file</td>\n      <td>Schubert: The Late String Quartets &amp; String Qu...</td>\n      <td>Classical</td>\n    </tr>\n    <tr>\n      <th>3500</th>\n      <td>L'orfeo, Act 3, Sinfonia (Orchestra)</td>\n      <td>Protected AAC audio file</td>\n      <td>Monteverdi: L'Orfeo</td>\n      <td>Classical</td>\n    </tr>\n    <tr>\n      <th>3501</th>\n      <td>Quintet for Horn, Violin, 2 Violas, and Cello ...</td>\n      <td>Protected AAC audio file</td>\n      <td>Mozart: Chamber Music</td>\n      <td>Classical</td>\n    </tr>\n    <tr>\n      <th>3502</th>\n      <td>Die Zauberflöte, K.620: \"Der Hölle Rache Kocht...</td>\n      <td>Protected AAC audio file</td>\n      <td>Mozart Gala: Famous Arias</td>\n      <td>Opera</td>\n    </tr>\n  </tbody>\n</table>\n<p>3503 rows × 4 columns</p>\n</div>"
     },
     "metadata": {},
     "execution_count": 40
    }
   ],
   "source": [
    "query=\"\"\"\n",
    "SELECT t.Name, m.Name as Format, a.Title as Album, g.Name as Genre\n",
    "FROM tracks t\n",
    "JOIN genres g ON t.GenreId = g.GenreId\n",
    "JOIN albums a ON t.AlbumID = a.AlbumId\n",
    "JOIN media_types m ON t.MediaTypeId = m.MediaTypeId\n",
    "\n",
    "\n",
    "\n",
    "\"\"\"\n",
    "pd.read_sql_query(query, connection)"
   ]
  },
  {
   "source": [
    "### 7.\tMuestra cuántas canciones hay en cada playlist y el nombre de cada playlist."
   ],
   "cell_type": "markdown",
   "metadata": {}
  },
  {
   "cell_type": "code",
   "execution_count": null,
   "metadata": {},
   "outputs": [],
   "source": [
    "query=\"\"\"\n",
    "SELECT t.Name, p\n",
    "FROM tracks t\n",
    "JOIN playlist_tracks pt ON pt.TrackId = t.TrackId\n",
    "JOIN playlists p ON p.PlaylistId = pt.PlaylistId\n",
    "\n",
    "\"\"\"\n",
    "pd.read_sql_query(query, connection)"
   ]
  },
  {
   "source": [
    "### 8.\tMuestra cuánto ha vendido cada empleado."
   ],
   "cell_type": "markdown",
   "metadata": {}
  },
  {
   "source": [],
   "cell_type": "code",
   "metadata": {},
   "execution_count": null,
   "outputs": []
  },
  {
   "source": [
    "### 9.\t¿Quién ha sido el agente de ventas que más ha vendido en 2009?"
   ],
   "cell_type": "markdown",
   "metadata": {}
  },
  {
   "cell_type": "code",
   "execution_count": null,
   "metadata": {},
   "outputs": [],
   "source": []
  },
  {
   "source": [
    "### 10.\t¿Cuáles son los 3 grupos que más han vendido?"
   ],
   "cell_type": "markdown",
   "metadata": {}
  },
  {
   "cell_type": "code",
   "execution_count": null,
   "metadata": {},
   "outputs": [],
   "source": []
  },
  {
   "source": [
    "### 11. Muestra cuántas canciones de Rock hay en cada playlist"
   ],
   "cell_type": "markdown",
   "metadata": {}
  },
  {
   "cell_type": "code",
   "execution_count": null,
   "metadata": {},
   "outputs": [],
   "source": []
  },
  {
   "source": [
    "### 12. Muestra una tabla con todas canciones y su(s) Id de factura, hayan sido vendidas alguna vez o no."
   ],
   "cell_type": "markdown",
   "metadata": {}
  },
  {
   "cell_type": "code",
   "execution_count": null,
   "metadata": {},
   "outputs": [],
   "source": []
  },
  {
   "source": [
    "### 13. ¿Cuántos artistas no tienen ningún album?"
   ],
   "cell_type": "markdown",
   "metadata": {}
  },
  {
   "cell_type": "code",
   "execution_count": 62,
   "metadata": {},
   "outputs": [
    {
     "output_type": "execute_result",
     "data": {
      "text/plain": [
       "   Artists without album\n",
       "0                     71"
      ],
      "text/html": "<div>\n<style scoped>\n    .dataframe tbody tr th:only-of-type {\n        vertical-align: middle;\n    }\n\n    .dataframe tbody tr th {\n        vertical-align: top;\n    }\n\n    .dataframe thead th {\n        text-align: right;\n    }\n</style>\n<table border=\"1\" class=\"dataframe\">\n  <thead>\n    <tr style=\"text-align: right;\">\n      <th></th>\n      <th>Artists without album</th>\n    </tr>\n  </thead>\n  <tbody>\n    <tr>\n      <th>0</th>\n      <td>71</td>\n    </tr>\n  </tbody>\n</table>\n</div>"
     },
     "metadata": {},
     "execution_count": 62
    }
   ],
   "source": [
    "query=\"\"\"\n",
    "SELECT COUNT(*) as \"Artists without album\"\n",
    "FROM artists at\n",
    "LEFT JOIN albums al ON at.artistId = al.artistId\n",
    "WHERE Title IS NULL\n",
    "\"\"\"\n",
    "pd.read_sql_query(query, connection)\n",
    "\n"
   ]
  },
  {
   "cell_type": "code",
   "execution_count": null,
   "metadata": {},
   "outputs": [],
   "source": []
  }
 ]
}