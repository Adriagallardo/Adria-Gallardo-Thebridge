{
 "metadata": {
  "language_info": {
   "codemirror_mode": {
    "name": "ipython",
    "version": 3
   },
   "file_extension": ".py",
   "mimetype": "text/x-python",
   "name": "python",
   "nbconvert_exporter": "python",
   "pygments_lexer": "ipython3",
   "version": "3.7.4"
  },
  "orig_nbformat": 2,
  "kernelspec": {
   "name": "python374jvsc74a57bd054fd10a125f012059efbf68d746a102a68808834a5fa4f754a07e57618326eaa",
   "display_name": "Python 3.7.4 64-bit"
  },
  "metadata": {
   "interpreter": {
    "hash": "54fd10a125f012059efbf68d746a102a68808834a5fa4f754a07e57618326eaa"
   }
  }
 },
 "nbformat": 4,
 "nbformat_minor": 2,
 "cells": [
  {
   "cell_type": "code",
   "execution_count": 3,
   "metadata": {},
   "outputs": [],
   "source": [
    "import pandas as pd\n",
    "import numpy as np\n",
    "import seaborn as sns\n",
    "import matplotlib.pyplot as plt\n",
    "\n",
    "# set seaborn graphs to a better style\n",
    "sns.set(style=\"ticks\")\n",
    "\n",
    "# set the graphs to show in the jupyter notebook\n",
    "%matplotlib inline"
   ]
  },
  {
   "cell_type": "code",
   "execution_count": 5,
   "metadata": {},
   "outputs": [
    {
     "output_type": "stream",
     "name": "stderr",
     "text": [
      "b'Skipping line 7: expected 1 fields, saw 2\\nSkipping line 8: expected 1 fields, saw 2\\nSkipping line 10: expected 1 fields, saw 3\\nSkipping line 11: expected 1 fields, saw 4\\nSkipping line 22: expected 1 fields, saw 2\\nSkipping line 42: expected 1 fields, saw 9\\nSkipping line 46: expected 1 fields, saw 2\\nSkipping line 47: expected 1 fields, saw 6\\nSkipping line 52: expected 1 fields, saw 2\\nSkipping line 53: expected 1 fields, saw 3\\nSkipping line 54: expected 1 fields, saw 2\\nSkipping line 55: expected 1 fields, saw 2\\nSkipping line 56: expected 1 fields, saw 2\\nSkipping line 66: expected 1 fields, saw 2\\nSkipping line 79: expected 1 fields, saw 83\\nSkipping line 89: expected 1 fields, saw 2\\nSkipping line 90: expected 1 fields, saw 2\\nSkipping line 91: expected 1 fields, saw 2\\nSkipping line 92: expected 1 fields, saw 2\\nSkipping line 100: expected 1 fields, saw 2\\nSkipping line 108: expected 1 fields, saw 2\\nSkipping line 136: expected 1 fields, saw 2\\nSkipping line 137: expected 1 fields, saw 2\\nSkipping line 138: expected 1 fields, saw 2\\nSkipping line 139: expected 1 fields, saw 2\\nSkipping line 141: expected 1 fields, saw 2\\nSkipping line 142: expected 1 fields, saw 2\\nSkipping line 161: expected 1 fields, saw 1255\\nSkipping line 164: expected 1 fields, saw 2\\nSkipping line 165: expected 1 fields, saw 3\\nSkipping line 168: expected 1 fields, saw 2\\nSkipping line 170: expected 1 fields, saw 2\\nSkipping line 172: expected 1 fields, saw 5\\nSkipping line 173: expected 1 fields, saw 5\\nSkipping line 174: expected 1 fields, saw 2\\nSkipping line 176: expected 1 fields, saw 2\\nSkipping line 180: expected 1 fields, saw 2\\nSkipping line 181: expected 1 fields, saw 2\\nSkipping line 185: expected 1 fields, saw 2\\nSkipping line 188: expected 1 fields, saw 2\\nSkipping line 189: expected 1 fields, saw 2\\nSkipping line 190: expected 1 fields, saw 2\\nSkipping line 191: expected 1 fields, saw 2\\nSkipping line 195: expected 1 fields, saw 2\\nSkipping line 197: expected 1 fields, saw 2\\n'\n"
     ]
    },
    {
     "output_type": "execute_result",
     "data": {
      "text/plain": [
       "                                       <!DOCTYPE html>\n",
       "0                                     <html lang=\"en\">\n",
       "1                                               <head>\n",
       "2      <title>Student Alcohol Consumption | Kaggle<...\n",
       "3                             <meta charset=\"utf-8\" />\n",
       "4      <meta name=\"turbolinks-cache-control\" conten...\n",
       "..                                                 ...\n",
       "112                                          </script>\n",
       "113                                             </div>\n",
       "114                                            </main>\n",
       "115                                            </body>\n",
       "116                                            </html>\n",
       "\n",
       "[117 rows x 1 columns]"
      ],
      "text/html": "<div>\n<style scoped>\n    .dataframe tbody tr th:only-of-type {\n        vertical-align: middle;\n    }\n\n    .dataframe tbody tr th {\n        vertical-align: top;\n    }\n\n    .dataframe thead th {\n        text-align: right;\n    }\n</style>\n<table border=\"1\" class=\"dataframe\">\n  <thead>\n    <tr style=\"text-align: right;\">\n      <th></th>\n      <th>&lt;!DOCTYPE html&gt;</th>\n    </tr>\n  </thead>\n  <tbody>\n    <tr>\n      <th>0</th>\n      <td>&lt;html lang=\"en\"&gt;</td>\n    </tr>\n    <tr>\n      <th>1</th>\n      <td>&lt;head&gt;</td>\n    </tr>\n    <tr>\n      <th>2</th>\n      <td>&lt;title&gt;Student Alcohol Consumption | Kaggle&lt;...</td>\n    </tr>\n    <tr>\n      <th>3</th>\n      <td>&lt;meta charset=\"utf-8\" /&gt;</td>\n    </tr>\n    <tr>\n      <th>4</th>\n      <td>&lt;meta name=\"turbolinks-cache-control\" conten...</td>\n    </tr>\n    <tr>\n      <th>...</th>\n      <td>...</td>\n    </tr>\n    <tr>\n      <th>112</th>\n      <td>&lt;/script&gt;</td>\n    </tr>\n    <tr>\n      <th>113</th>\n      <td>&lt;/div&gt;</td>\n    </tr>\n    <tr>\n      <th>114</th>\n      <td>&lt;/main&gt;</td>\n    </tr>\n    <tr>\n      <th>115</th>\n      <td>&lt;/body&gt;</td>\n    </tr>\n    <tr>\n      <th>116</th>\n      <td>&lt;/html&gt;</td>\n    </tr>\n  </tbody>\n</table>\n<p>117 rows × 1 columns</p>\n</div>"
     },
     "metadata": {},
     "execution_count": 5
    }
   ],
   "source": [
    "def read_my_csv(file_path):\n",
    "    data = pd.read_csv(filename, error_bad_lines= False)\n",
    "    return data\n",
    "\n",
    "read_my_csv(\"https://www.kaggle.com/uciml/student-alcohol-consumption?select=student-mat.csv\")"
   ]
  },
  {
   "cell_type": "code",
   "execution_count": null,
   "metadata": {},
   "outputs": [],
   "source": []
  }
 ]
}