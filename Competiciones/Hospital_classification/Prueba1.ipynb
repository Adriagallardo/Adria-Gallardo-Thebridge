{
 "cells": [
  {
   "cell_type": "markdown",
   "metadata": {},
   "source": [
    "![image](competi.png)"
   ]
  },
  {
   "cell_type": "markdown",
   "metadata": {},
   "source": [
    "#### Aquí encontrarás todo lo que necesitas saber: https://www.kaggle.com/t/ab8726f0cfc84544abbae69a6be88071"
   ]
  },
  {
   "cell_type": "code",
   "execution_count": 347,
   "metadata": {},
   "outputs": [],
   "source": [
    "import numpy as np\n",
    "import pandas as pd\n",
    "\n",
    "import urllib.request\n",
    "from PIL import Image\n",
    "\n",
    "from sklearn import preprocessing\n",
    "\n",
    "from sklearn.model_selection import train_test_split\n",
    "from sklearn.metrics import mean_squared_error\n",
    "from sklearn.model_selection import GridSearchCV\n",
    "from sklearn.pipeline import Pipeline\n",
    "\n",
    "from sklearn.svm import SVC\n",
    "from catboost import CatBoostClassifier\n",
    "from sklearn.linear_model import LogisticRegression\n",
    "from sklearn.ensemble import RandomForestClassifier\n",
    "from sklearn.neighbors import KNeighborsClassifier\n",
    "\n",
    "from sklearn.preprocessing import StandardScaler, MinMaxScaler\n"
   ]
  },
  {
   "cell_type": "code",
   "execution_count": 348,
   "metadata": {},
   "outputs": [
    {
     "output_type": "stream",
     "name": "stdout",
     "text": [
      "(100000, 17)\n"
     ]
    },
    {
     "output_type": "execute_result",
     "data": {
      "text/plain": [
       "         1  2  3  4  5           6  7  8    9      10    11         12  \\\n",
       "0                                                                        \n",
       "161528   6  a  6  X  2  gynecology  R  F  4.0   45810   2.0     Urgent   \n",
       "159472  23  a  6  X  4  gynecology  Q  F  2.0  128565  15.0     Trauma   \n",
       "309765   2  c  5  Z  2  anesthesia  S  F  3.0   46565   5.0     Urgent   \n",
       "279614  32  f  9  Y  3  gynecology  S  B  4.0  124546   6.0  Emergency   \n",
       "147791  14  a  1  X  3  gynecology  S  E  2.0   22729   8.0     Urgent   \n",
       "\n",
       "              13  14     15      16     17  \n",
       "0                                           \n",
       "161528  Moderate   2  21-30  2817.0   0-10  \n",
       "159472  Moderate   4  51-60  4498.0  21-30  \n",
       "309765  Moderate   2  71-80  4573.0  11-20  \n",
       "279614  Moderate   4  11-20  7202.0  51-60  \n",
       "147791  Moderate   2  51-60  3398.0  51-60  "
      ],
      "text/html": "<div>\n<style scoped>\n    .dataframe tbody tr th:only-of-type {\n        vertical-align: middle;\n    }\n\n    .dataframe tbody tr th {\n        vertical-align: top;\n    }\n\n    .dataframe thead th {\n        text-align: right;\n    }\n</style>\n<table border=\"1\" class=\"dataframe\">\n  <thead>\n    <tr style=\"text-align: right;\">\n      <th></th>\n      <th>1</th>\n      <th>2</th>\n      <th>3</th>\n      <th>4</th>\n      <th>5</th>\n      <th>6</th>\n      <th>7</th>\n      <th>8</th>\n      <th>9</th>\n      <th>10</th>\n      <th>11</th>\n      <th>12</th>\n      <th>13</th>\n      <th>14</th>\n      <th>15</th>\n      <th>16</th>\n      <th>17</th>\n    </tr>\n    <tr>\n      <th>0</th>\n      <th></th>\n      <th></th>\n      <th></th>\n      <th></th>\n      <th></th>\n      <th></th>\n      <th></th>\n      <th></th>\n      <th></th>\n      <th></th>\n      <th></th>\n      <th></th>\n      <th></th>\n      <th></th>\n      <th></th>\n      <th></th>\n      <th></th>\n    </tr>\n  </thead>\n  <tbody>\n    <tr>\n      <th>161528</th>\n      <td>6</td>\n      <td>a</td>\n      <td>6</td>\n      <td>X</td>\n      <td>2</td>\n      <td>gynecology</td>\n      <td>R</td>\n      <td>F</td>\n      <td>4.0</td>\n      <td>45810</td>\n      <td>2.0</td>\n      <td>Urgent</td>\n      <td>Moderate</td>\n      <td>2</td>\n      <td>21-30</td>\n      <td>2817.0</td>\n      <td>0-10</td>\n    </tr>\n    <tr>\n      <th>159472</th>\n      <td>23</td>\n      <td>a</td>\n      <td>6</td>\n      <td>X</td>\n      <td>4</td>\n      <td>gynecology</td>\n      <td>Q</td>\n      <td>F</td>\n      <td>2.0</td>\n      <td>128565</td>\n      <td>15.0</td>\n      <td>Trauma</td>\n      <td>Moderate</td>\n      <td>4</td>\n      <td>51-60</td>\n      <td>4498.0</td>\n      <td>21-30</td>\n    </tr>\n    <tr>\n      <th>309765</th>\n      <td>2</td>\n      <td>c</td>\n      <td>5</td>\n      <td>Z</td>\n      <td>2</td>\n      <td>anesthesia</td>\n      <td>S</td>\n      <td>F</td>\n      <td>3.0</td>\n      <td>46565</td>\n      <td>5.0</td>\n      <td>Urgent</td>\n      <td>Moderate</td>\n      <td>2</td>\n      <td>71-80</td>\n      <td>4573.0</td>\n      <td>11-20</td>\n    </tr>\n    <tr>\n      <th>279614</th>\n      <td>32</td>\n      <td>f</td>\n      <td>9</td>\n      <td>Y</td>\n      <td>3</td>\n      <td>gynecology</td>\n      <td>S</td>\n      <td>B</td>\n      <td>4.0</td>\n      <td>124546</td>\n      <td>6.0</td>\n      <td>Emergency</td>\n      <td>Moderate</td>\n      <td>4</td>\n      <td>11-20</td>\n      <td>7202.0</td>\n      <td>51-60</td>\n    </tr>\n    <tr>\n      <th>147791</th>\n      <td>14</td>\n      <td>a</td>\n      <td>1</td>\n      <td>X</td>\n      <td>3</td>\n      <td>gynecology</td>\n      <td>S</td>\n      <td>E</td>\n      <td>2.0</td>\n      <td>22729</td>\n      <td>8.0</td>\n      <td>Urgent</td>\n      <td>Moderate</td>\n      <td>2</td>\n      <td>51-60</td>\n      <td>3398.0</td>\n      <td>51-60</td>\n    </tr>\n  </tbody>\n</table>\n</div>"
     },
     "metadata": {},
     "execution_count": 348
    }
   ],
   "source": [
    "### Para que funcione necesitas bajarte los archivos de datos de Kaggle \n",
    "df = pd.read_csv(\"data/hospital_train.csv\", index_col=0)\n",
    "print(df.shape)\n",
    "df.head()"
   ]
  },
  {
   "cell_type": "code",
   "execution_count": 349,
   "metadata": {},
   "outputs": [
    {
     "output_type": "stream",
     "name": "stdout",
     "text": [
      "(133744, 16)\n"
     ]
    },
    {
     "output_type": "execute_result",
     "data": {
      "text/plain": [
       "         1  2  3  4  5                   6  7  8    9      10    11  \\\n",
       "0                                                                     \n",
       "314114  19  a  7  Y  4          gynecology  S  C  2.0   59278   8.0   \n",
       "208989  15  c  5  Z  3          gynecology  S  F  2.0  102253  15.0   \n",
       "305872  17  e  1  X  4          gynecology  R  E  4.0    5828   4.0   \n",
       "266099   3  c  3  Z  4  TB & Chest disease  R  A  2.0   56642   9.0   \n",
       "13228    6  a  6  X  4          gynecology  R  F  1.0  116266   8.0   \n",
       "\n",
       "               12        13  14     15      16  \n",
       "0                                               \n",
       "314114  Emergency     Minor   2  41-50  4778.0  \n",
       "208989     Trauma  Moderate   3  31-40  5734.0  \n",
       "305872  Emergency     Minor   3  71-80  5064.0  \n",
       "266099     Urgent   Extreme   4  31-40  3254.0  \n",
       "13228   Emergency     Minor   3  21-30  4639.0  "
      ],
      "text/html": "<div>\n<style scoped>\n    .dataframe tbody tr th:only-of-type {\n        vertical-align: middle;\n    }\n\n    .dataframe tbody tr th {\n        vertical-align: top;\n    }\n\n    .dataframe thead th {\n        text-align: right;\n    }\n</style>\n<table border=\"1\" class=\"dataframe\">\n  <thead>\n    <tr style=\"text-align: right;\">\n      <th></th>\n      <th>1</th>\n      <th>2</th>\n      <th>3</th>\n      <th>4</th>\n      <th>5</th>\n      <th>6</th>\n      <th>7</th>\n      <th>8</th>\n      <th>9</th>\n      <th>10</th>\n      <th>11</th>\n      <th>12</th>\n      <th>13</th>\n      <th>14</th>\n      <th>15</th>\n      <th>16</th>\n    </tr>\n    <tr>\n      <th>0</th>\n      <th></th>\n      <th></th>\n      <th></th>\n      <th></th>\n      <th></th>\n      <th></th>\n      <th></th>\n      <th></th>\n      <th></th>\n      <th></th>\n      <th></th>\n      <th></th>\n      <th></th>\n      <th></th>\n      <th></th>\n      <th></th>\n    </tr>\n  </thead>\n  <tbody>\n    <tr>\n      <th>314114</th>\n      <td>19</td>\n      <td>a</td>\n      <td>7</td>\n      <td>Y</td>\n      <td>4</td>\n      <td>gynecology</td>\n      <td>S</td>\n      <td>C</td>\n      <td>2.0</td>\n      <td>59278</td>\n      <td>8.0</td>\n      <td>Emergency</td>\n      <td>Minor</td>\n      <td>2</td>\n      <td>41-50</td>\n      <td>4778.0</td>\n    </tr>\n    <tr>\n      <th>208989</th>\n      <td>15</td>\n      <td>c</td>\n      <td>5</td>\n      <td>Z</td>\n      <td>3</td>\n      <td>gynecology</td>\n      <td>S</td>\n      <td>F</td>\n      <td>2.0</td>\n      <td>102253</td>\n      <td>15.0</td>\n      <td>Trauma</td>\n      <td>Moderate</td>\n      <td>3</td>\n      <td>31-40</td>\n      <td>5734.0</td>\n    </tr>\n    <tr>\n      <th>305872</th>\n      <td>17</td>\n      <td>e</td>\n      <td>1</td>\n      <td>X</td>\n      <td>4</td>\n      <td>gynecology</td>\n      <td>R</td>\n      <td>E</td>\n      <td>4.0</td>\n      <td>5828</td>\n      <td>4.0</td>\n      <td>Emergency</td>\n      <td>Minor</td>\n      <td>3</td>\n      <td>71-80</td>\n      <td>5064.0</td>\n    </tr>\n    <tr>\n      <th>266099</th>\n      <td>3</td>\n      <td>c</td>\n      <td>3</td>\n      <td>Z</td>\n      <td>4</td>\n      <td>TB &amp; Chest disease</td>\n      <td>R</td>\n      <td>A</td>\n      <td>2.0</td>\n      <td>56642</td>\n      <td>9.0</td>\n      <td>Urgent</td>\n      <td>Extreme</td>\n      <td>4</td>\n      <td>31-40</td>\n      <td>3254.0</td>\n    </tr>\n    <tr>\n      <th>13228</th>\n      <td>6</td>\n      <td>a</td>\n      <td>6</td>\n      <td>X</td>\n      <td>4</td>\n      <td>gynecology</td>\n      <td>R</td>\n      <td>F</td>\n      <td>1.0</td>\n      <td>116266</td>\n      <td>8.0</td>\n      <td>Emergency</td>\n      <td>Minor</td>\n      <td>3</td>\n      <td>21-30</td>\n      <td>4639.0</td>\n    </tr>\n  </tbody>\n</table>\n</div>"
     },
     "metadata": {},
     "execution_count": 349
    }
   ],
   "source": [
    "df_test = pd.read_csv(\"data/hospital_test.csv\", index_col=0)\n",
    "print(df_test.shape)\n",
    "df_test.head()"
   ]
  },
  {
   "cell_type": "code",
   "execution_count": 350,
   "metadata": {},
   "outputs": [
    {
     "output_type": "execute_result",
     "data": {
      "text/plain": [
       "Index(['1', '2', '3', '4', '5', '6', '7', '8', '9', '10', '11', '12', '13',\n",
       "       '14', '15', '16', '17'],\n",
       "      dtype='object')"
      ]
     },
     "metadata": {},
     "execution_count": 350
    }
   ],
   "source": [
    "df.columns"
   ]
  },
  {
   "cell_type": "code",
   "execution_count": 351,
   "metadata": {},
   "outputs": [],
   "source": [
    "df_columns = pd.read_csv(\"data/columns_meaning.csv\", index_col=0)\n",
    "df_index = df_columns[:1].values[0][0]\n",
    "df_columns = df_columns[1:].values.tolist()\n"
   ]
  },
  {
   "cell_type": "code",
   "execution_count": 352,
   "metadata": {},
   "outputs": [
    {
     "output_type": "execute_result",
     "data": {
      "text/plain": [
       "['Unique code for the Hospital',\n",
       " 'Unique code for the type of Hospital',\n",
       " 'City Code of the Hospital',\n",
       " 'Region Code of the Hospital',\n",
       " 'Number of Extra rooms available in the Hospital',\n",
       " 'Department overlooking the case',\n",
       " 'Code for the Ward type',\n",
       " 'Code for the Ward Facility',\n",
       " 'Condition of Bed in the Ward',\n",
       " 'Unique Patient Id',\n",
       " 'City Code for the patient',\n",
       " 'Admission Type registered by the Hospital',\n",
       " 'Severity of the illness recorded at the time of admission',\n",
       " 'Number of Visitors with the patient',\n",
       " 'Age of the patient',\n",
       " 'Deposit at the Admission Time',\n",
       " 'Stay Days by the patient']"
      ]
     },
     "metadata": {},
     "execution_count": 352
    }
   ],
   "source": [
    "df_columns_2 = []\n",
    "for i in range(len(df_columns)):\n",
    "    df_columns_2.append(df_columns[i][0])\n",
    "df_columns_2"
   ]
  },
  {
   "cell_type": "code",
   "execution_count": 353,
   "metadata": {},
   "outputs": [],
   "source": [
    "df_columns = df_columns_2\n"
   ]
  },
  {
   "cell_type": "code",
   "execution_count": 354,
   "metadata": {},
   "outputs": [
    {
     "output_type": "execute_result",
     "data": {
      "text/plain": [
       "'Case_ID registered in Hospital'"
      ]
     },
     "metadata": {},
     "execution_count": 354
    }
   ],
   "source": [
    "df_index"
   ]
  },
  {
   "cell_type": "code",
   "execution_count": 355,
   "metadata": {},
   "outputs": [
    {
     "output_type": "execute_result",
     "data": {
      "text/plain": [
       "array(['1', '2', '3', '4', '5', '6', '7', '8', '9', '10', '11', '12',\n",
       "       '13', '14', '15', '16', '17'], dtype=object)"
      ]
     },
     "metadata": {},
     "execution_count": 355
    }
   ],
   "source": [
    "df.columns.values"
   ]
  },
  {
   "cell_type": "code",
   "execution_count": 356,
   "metadata": {},
   "outputs": [],
   "source": [
    "df.columns = df_columns\n",
    "df.index.name = df_index"
   ]
  },
  {
   "cell_type": "code",
   "execution_count": 357,
   "metadata": {},
   "outputs": [
    {
     "output_type": "execute_result",
     "data": {
      "text/plain": [
       "                                Unique code for the Hospital  \\\n",
       "Case_ID registered in Hospital                                 \n",
       "161528                                                     6   \n",
       "159472                                                    23   \n",
       "309765                                                     2   \n",
       "279614                                                    32   \n",
       "147791                                                    14   \n",
       "...                                                      ...   \n",
       "237869                                                    12   \n",
       "254763                                                    28   \n",
       "69788                                                      6   \n",
       "204442                                                    32   \n",
       "69647                                                     25   \n",
       "\n",
       "                               Unique code for the type of Hospital  \\\n",
       "Case_ID registered in Hospital                                        \n",
       "161528                                                            a   \n",
       "159472                                                            a   \n",
       "309765                                                            c   \n",
       "279614                                                            f   \n",
       "147791                                                            a   \n",
       "...                                                             ...   \n",
       "237869                                                            a   \n",
       "254763                                                            b   \n",
       "69788                                                             a   \n",
       "204442                                                            f   \n",
       "69647                                                             e   \n",
       "\n",
       "                                City Code of the Hospital  \\\n",
       "Case_ID registered in Hospital                              \n",
       "161528                                                  6   \n",
       "159472                                                  6   \n",
       "309765                                                  5   \n",
       "279614                                                  9   \n",
       "147791                                                  1   \n",
       "...                                                   ...   \n",
       "237869                                                  9   \n",
       "254763                                                 11   \n",
       "69788                                                   6   \n",
       "204442                                                  9   \n",
       "69647                                                   1   \n",
       "\n",
       "                               Region Code of the Hospital  \\\n",
       "Case_ID registered in Hospital                               \n",
       "161528                                                   X   \n",
       "159472                                                   X   \n",
       "309765                                                   Z   \n",
       "279614                                                   Y   \n",
       "147791                                                   X   \n",
       "...                                                    ...   \n",
       "237869                                                   Y   \n",
       "254763                                                   X   \n",
       "69788                                                    X   \n",
       "204442                                                   Y   \n",
       "69647                                                    X   \n",
       "\n",
       "                                Number of Extra rooms available in the Hospital  \\\n",
       "Case_ID registered in Hospital                                                    \n",
       "161528                                                                        2   \n",
       "159472                                                                        4   \n",
       "309765                                                                        2   \n",
       "279614                                                                        3   \n",
       "147791                                                                        3   \n",
       "...                                                                         ...   \n",
       "237869                                                                        3   \n",
       "254763                                                                        2   \n",
       "69788                                                                         3   \n",
       "204442                                                                        2   \n",
       "69647                                                                         3   \n",
       "\n",
       "                               Department overlooking the case  \\\n",
       "Case_ID registered in Hospital                                   \n",
       "161528                                              gynecology   \n",
       "159472                                              gynecology   \n",
       "309765                                              anesthesia   \n",
       "279614                                              gynecology   \n",
       "147791                                              gynecology   \n",
       "...                                                        ...   \n",
       "237869                                              gynecology   \n",
       "254763                                              gynecology   \n",
       "69788                                               gynecology   \n",
       "204442                                              gynecology   \n",
       "69647                                               gynecology   \n",
       "\n",
       "                               Code for the Ward type  \\\n",
       "Case_ID registered in Hospital                          \n",
       "161528                                              R   \n",
       "159472                                              Q   \n",
       "309765                                              S   \n",
       "279614                                              S   \n",
       "147791                                              S   \n",
       "...                                               ...   \n",
       "237869                                              R   \n",
       "254763                                              R   \n",
       "69788                                               Q   \n",
       "204442                                              S   \n",
       "69647                                               Q   \n",
       "\n",
       "                               Code for the Ward Facility  \\\n",
       "Case_ID registered in Hospital                              \n",
       "161528                                                  F   \n",
       "159472                                                  F   \n",
       "309765                                                  F   \n",
       "279614                                                  B   \n",
       "147791                                                  E   \n",
       "...                                                   ...   \n",
       "237869                                                  B   \n",
       "254763                                                  F   \n",
       "69788                                                   F   \n",
       "204442                                                  B   \n",
       "69647                                                   E   \n",
       "\n",
       "                                Condition of Bed in the Ward  \\\n",
       "Case_ID registered in Hospital                                 \n",
       "161528                                                   4.0   \n",
       "159472                                                   2.0   \n",
       "309765                                                   3.0   \n",
       "279614                                                   4.0   \n",
       "147791                                                   2.0   \n",
       "...                                                      ...   \n",
       "237869                                                   3.0   \n",
       "254763                                                   2.0   \n",
       "69788                                                    3.0   \n",
       "204442                                                   4.0   \n",
       "69647                                                    2.0   \n",
       "\n",
       "                                Unique Patient Id  City Code for the patient  \\\n",
       "Case_ID registered in Hospital                                                 \n",
       "161528                                      45810                        2.0   \n",
       "159472                                     128565                       15.0   \n",
       "309765                                      46565                        5.0   \n",
       "279614                                     124546                        6.0   \n",
       "147791                                      22729                        8.0   \n",
       "...                                           ...                        ...   \n",
       "237869                                      82914                        3.0   \n",
       "254763                                      40026                        5.0   \n",
       "69788                                       92346                        2.0   \n",
       "204442                                     113798                       15.0   \n",
       "69647                                      109237                        8.0   \n",
       "\n",
       "                               Admission Type registered by the Hospital  \\\n",
       "Case_ID registered in Hospital                                             \n",
       "161528                                                            Urgent   \n",
       "159472                                                            Trauma   \n",
       "309765                                                            Urgent   \n",
       "279614                                                         Emergency   \n",
       "147791                                                            Urgent   \n",
       "...                                                                  ...   \n",
       "237869                                                         Emergency   \n",
       "254763                                                            Urgent   \n",
       "69788                                                             Trauma   \n",
       "204442                                                            Trauma   \n",
       "69647                                                          Emergency   \n",
       "\n",
       "                               Severity of the illness recorded at the time of admission  \\\n",
       "Case_ID registered in Hospital                                                             \n",
       "161528                                                                   Moderate          \n",
       "159472                                                                   Moderate          \n",
       "309765                                                                   Moderate          \n",
       "279614                                                                   Moderate          \n",
       "147791                                                                   Moderate          \n",
       "...                                                                           ...          \n",
       "237869                                                                   Moderate          \n",
       "254763                                                                   Moderate          \n",
       "69788                                                                       Minor          \n",
       "204442                                                                   Moderate          \n",
       "69647                                                                    Moderate          \n",
       "\n",
       "                                Number of Visitors with the patient  \\\n",
       "Case_ID registered in Hospital                                        \n",
       "161528                                                            2   \n",
       "159472                                                            4   \n",
       "309765                                                            2   \n",
       "279614                                                            4   \n",
       "147791                                                            2   \n",
       "...                                                             ...   \n",
       "237869                                                            6   \n",
       "254763                                                            3   \n",
       "69788                                                             2   \n",
       "204442                                                            3   \n",
       "69647                                                             2   \n",
       "\n",
       "                               Age of the patient  \\\n",
       "Case_ID registered in Hospital                      \n",
       "161528                                      21-30   \n",
       "159472                                      51-60   \n",
       "309765                                      71-80   \n",
       "279614                                      11-20   \n",
       "147791                                      51-60   \n",
       "...                                           ...   \n",
       "237869                                      51-60   \n",
       "254763                                      21-30   \n",
       "69788                                       31-40   \n",
       "204442                                      41-50   \n",
       "69647                                       41-50   \n",
       "\n",
       "                                Deposit at the Admission Time  \\\n",
       "Case_ID registered in Hospital                                  \n",
       "161528                                                 2817.0   \n",
       "159472                                                 4498.0   \n",
       "309765                                                 4573.0   \n",
       "279614                                                 7202.0   \n",
       "147791                                                 3398.0   \n",
       "...                                                       ...   \n",
       "237869                                                 3966.0   \n",
       "254763                                                 4005.0   \n",
       "69788                                                  5215.0   \n",
       "204442                                                 5092.0   \n",
       "69647                                                  3390.0   \n",
       "\n",
       "                               Stay Days by the patient  \n",
       "Case_ID registered in Hospital                           \n",
       "161528                                             0-10  \n",
       "159472                                            21-30  \n",
       "309765                                            11-20  \n",
       "279614                                            51-60  \n",
       "147791                                            51-60  \n",
       "...                                                 ...  \n",
       "237869                               More than 100 Days  \n",
       "254763                                            51-60  \n",
       "69788                                             31-40  \n",
       "204442                                            11-20  \n",
       "69647                                             41-50  \n",
       "\n",
       "[100000 rows x 17 columns]"
      ],
      "text/html": "<div>\n<style scoped>\n    .dataframe tbody tr th:only-of-type {\n        vertical-align: middle;\n    }\n\n    .dataframe tbody tr th {\n        vertical-align: top;\n    }\n\n    .dataframe thead th {\n        text-align: right;\n    }\n</style>\n<table border=\"1\" class=\"dataframe\">\n  <thead>\n    <tr style=\"text-align: right;\">\n      <th></th>\n      <th>Unique code for the Hospital</th>\n      <th>Unique code for the type of Hospital</th>\n      <th>City Code of the Hospital</th>\n      <th>Region Code of the Hospital</th>\n      <th>Number of Extra rooms available in the Hospital</th>\n      <th>Department overlooking the case</th>\n      <th>Code for the Ward type</th>\n      <th>Code for the Ward Facility</th>\n      <th>Condition of Bed in the Ward</th>\n      <th>Unique Patient Id</th>\n      <th>City Code for the patient</th>\n      <th>Admission Type registered by the Hospital</th>\n      <th>Severity of the illness recorded at the time of admission</th>\n      <th>Number of Visitors with the patient</th>\n      <th>Age of the patient</th>\n      <th>Deposit at the Admission Time</th>\n      <th>Stay Days by the patient</th>\n    </tr>\n    <tr>\n      <th>Case_ID registered in Hospital</th>\n      <th></th>\n      <th></th>\n      <th></th>\n      <th></th>\n      <th></th>\n      <th></th>\n      <th></th>\n      <th></th>\n      <th></th>\n      <th></th>\n      <th></th>\n      <th></th>\n      <th></th>\n      <th></th>\n      <th></th>\n      <th></th>\n      <th></th>\n    </tr>\n  </thead>\n  <tbody>\n    <tr>\n      <th>161528</th>\n      <td>6</td>\n      <td>a</td>\n      <td>6</td>\n      <td>X</td>\n      <td>2</td>\n      <td>gynecology</td>\n      <td>R</td>\n      <td>F</td>\n      <td>4.0</td>\n      <td>45810</td>\n      <td>2.0</td>\n      <td>Urgent</td>\n      <td>Moderate</td>\n      <td>2</td>\n      <td>21-30</td>\n      <td>2817.0</td>\n      <td>0-10</td>\n    </tr>\n    <tr>\n      <th>159472</th>\n      <td>23</td>\n      <td>a</td>\n      <td>6</td>\n      <td>X</td>\n      <td>4</td>\n      <td>gynecology</td>\n      <td>Q</td>\n      <td>F</td>\n      <td>2.0</td>\n      <td>128565</td>\n      <td>15.0</td>\n      <td>Trauma</td>\n      <td>Moderate</td>\n      <td>4</td>\n      <td>51-60</td>\n      <td>4498.0</td>\n      <td>21-30</td>\n    </tr>\n    <tr>\n      <th>309765</th>\n      <td>2</td>\n      <td>c</td>\n      <td>5</td>\n      <td>Z</td>\n      <td>2</td>\n      <td>anesthesia</td>\n      <td>S</td>\n      <td>F</td>\n      <td>3.0</td>\n      <td>46565</td>\n      <td>5.0</td>\n      <td>Urgent</td>\n      <td>Moderate</td>\n      <td>2</td>\n      <td>71-80</td>\n      <td>4573.0</td>\n      <td>11-20</td>\n    </tr>\n    <tr>\n      <th>279614</th>\n      <td>32</td>\n      <td>f</td>\n      <td>9</td>\n      <td>Y</td>\n      <td>3</td>\n      <td>gynecology</td>\n      <td>S</td>\n      <td>B</td>\n      <td>4.0</td>\n      <td>124546</td>\n      <td>6.0</td>\n      <td>Emergency</td>\n      <td>Moderate</td>\n      <td>4</td>\n      <td>11-20</td>\n      <td>7202.0</td>\n      <td>51-60</td>\n    </tr>\n    <tr>\n      <th>147791</th>\n      <td>14</td>\n      <td>a</td>\n      <td>1</td>\n      <td>X</td>\n      <td>3</td>\n      <td>gynecology</td>\n      <td>S</td>\n      <td>E</td>\n      <td>2.0</td>\n      <td>22729</td>\n      <td>8.0</td>\n      <td>Urgent</td>\n      <td>Moderate</td>\n      <td>2</td>\n      <td>51-60</td>\n      <td>3398.0</td>\n      <td>51-60</td>\n    </tr>\n    <tr>\n      <th>...</th>\n      <td>...</td>\n      <td>...</td>\n      <td>...</td>\n      <td>...</td>\n      <td>...</td>\n      <td>...</td>\n      <td>...</td>\n      <td>...</td>\n      <td>...</td>\n      <td>...</td>\n      <td>...</td>\n      <td>...</td>\n      <td>...</td>\n      <td>...</td>\n      <td>...</td>\n      <td>...</td>\n      <td>...</td>\n    </tr>\n    <tr>\n      <th>237869</th>\n      <td>12</td>\n      <td>a</td>\n      <td>9</td>\n      <td>Y</td>\n      <td>3</td>\n      <td>gynecology</td>\n      <td>R</td>\n      <td>B</td>\n      <td>3.0</td>\n      <td>82914</td>\n      <td>3.0</td>\n      <td>Emergency</td>\n      <td>Moderate</td>\n      <td>6</td>\n      <td>51-60</td>\n      <td>3966.0</td>\n      <td>More than 100 Days</td>\n    </tr>\n    <tr>\n      <th>254763</th>\n      <td>28</td>\n      <td>b</td>\n      <td>11</td>\n      <td>X</td>\n      <td>2</td>\n      <td>gynecology</td>\n      <td>R</td>\n      <td>F</td>\n      <td>2.0</td>\n      <td>40026</td>\n      <td>5.0</td>\n      <td>Urgent</td>\n      <td>Moderate</td>\n      <td>3</td>\n      <td>21-30</td>\n      <td>4005.0</td>\n      <td>51-60</td>\n    </tr>\n    <tr>\n      <th>69788</th>\n      <td>6</td>\n      <td>a</td>\n      <td>6</td>\n      <td>X</td>\n      <td>3</td>\n      <td>gynecology</td>\n      <td>Q</td>\n      <td>F</td>\n      <td>3.0</td>\n      <td>92346</td>\n      <td>2.0</td>\n      <td>Trauma</td>\n      <td>Minor</td>\n      <td>2</td>\n      <td>31-40</td>\n      <td>5215.0</td>\n      <td>31-40</td>\n    </tr>\n    <tr>\n      <th>204442</th>\n      <td>32</td>\n      <td>f</td>\n      <td>9</td>\n      <td>Y</td>\n      <td>2</td>\n      <td>gynecology</td>\n      <td>S</td>\n      <td>B</td>\n      <td>4.0</td>\n      <td>113798</td>\n      <td>15.0</td>\n      <td>Trauma</td>\n      <td>Moderate</td>\n      <td>3</td>\n      <td>41-50</td>\n      <td>5092.0</td>\n      <td>11-20</td>\n    </tr>\n    <tr>\n      <th>69647</th>\n      <td>25</td>\n      <td>e</td>\n      <td>1</td>\n      <td>X</td>\n      <td>3</td>\n      <td>gynecology</td>\n      <td>Q</td>\n      <td>E</td>\n      <td>2.0</td>\n      <td>109237</td>\n      <td>8.0</td>\n      <td>Emergency</td>\n      <td>Moderate</td>\n      <td>2</td>\n      <td>41-50</td>\n      <td>3390.0</td>\n      <td>41-50</td>\n    </tr>\n  </tbody>\n</table>\n<p>100000 rows × 17 columns</p>\n</div>"
     },
     "metadata": {},
     "execution_count": 357
    }
   ],
   "source": [
    "df"
   ]
  },
  {
   "cell_type": "code",
   "execution_count": 358,
   "metadata": {},
   "outputs": [],
   "source": [
    "df.dropna(inplace=True)"
   ]
  },
  {
   "cell_type": "code",
   "execution_count": 359,
   "metadata": {},
   "outputs": [
    {
     "output_type": "execute_result",
     "data": {
      "text/plain": [
       "                                Unique code for the Hospital  \\\n",
       "Case_ID registered in Hospital                                 \n",
       "161528                                                     6   \n",
       "159472                                                    23   \n",
       "309765                                                     2   \n",
       "279614                                                    32   \n",
       "147791                                                    14   \n",
       "...                                                      ...   \n",
       "237869                                                    12   \n",
       "254763                                                    28   \n",
       "69788                                                      6   \n",
       "204442                                                    32   \n",
       "69647                                                     25   \n",
       "\n",
       "                               Unique code for the type of Hospital  \\\n",
       "Case_ID registered in Hospital                                        \n",
       "161528                                                            a   \n",
       "159472                                                            a   \n",
       "309765                                                            c   \n",
       "279614                                                            f   \n",
       "147791                                                            a   \n",
       "...                                                             ...   \n",
       "237869                                                            a   \n",
       "254763                                                            b   \n",
       "69788                                                             a   \n",
       "204442                                                            f   \n",
       "69647                                                             e   \n",
       "\n",
       "                                City Code of the Hospital  \\\n",
       "Case_ID registered in Hospital                              \n",
       "161528                                                  6   \n",
       "159472                                                  6   \n",
       "309765                                                  5   \n",
       "279614                                                  9   \n",
       "147791                                                  1   \n",
       "...                                                   ...   \n",
       "237869                                                  9   \n",
       "254763                                                 11   \n",
       "69788                                                   6   \n",
       "204442                                                  9   \n",
       "69647                                                   1   \n",
       "\n",
       "                               Region Code of the Hospital  \\\n",
       "Case_ID registered in Hospital                               \n",
       "161528                                                   X   \n",
       "159472                                                   X   \n",
       "309765                                                   Z   \n",
       "279614                                                   Y   \n",
       "147791                                                   X   \n",
       "...                                                    ...   \n",
       "237869                                                   Y   \n",
       "254763                                                   X   \n",
       "69788                                                    X   \n",
       "204442                                                   Y   \n",
       "69647                                                    X   \n",
       "\n",
       "                                Number of Extra rooms available in the Hospital  \\\n",
       "Case_ID registered in Hospital                                                    \n",
       "161528                                                                        2   \n",
       "159472                                                                        4   \n",
       "309765                                                                        2   \n",
       "279614                                                                        3   \n",
       "147791                                                                        3   \n",
       "...                                                                         ...   \n",
       "237869                                                                        3   \n",
       "254763                                                                        2   \n",
       "69788                                                                         3   \n",
       "204442                                                                        2   \n",
       "69647                                                                         3   \n",
       "\n",
       "                               Department overlooking the case  \\\n",
       "Case_ID registered in Hospital                                   \n",
       "161528                                              gynecology   \n",
       "159472                                              gynecology   \n",
       "309765                                              anesthesia   \n",
       "279614                                              gynecology   \n",
       "147791                                              gynecology   \n",
       "...                                                        ...   \n",
       "237869                                              gynecology   \n",
       "254763                                              gynecology   \n",
       "69788                                               gynecology   \n",
       "204442                                              gynecology   \n",
       "69647                                               gynecology   \n",
       "\n",
       "                               Code for the Ward type  \\\n",
       "Case_ID registered in Hospital                          \n",
       "161528                                              R   \n",
       "159472                                              Q   \n",
       "309765                                              S   \n",
       "279614                                              S   \n",
       "147791                                              S   \n",
       "...                                               ...   \n",
       "237869                                              R   \n",
       "254763                                              R   \n",
       "69788                                               Q   \n",
       "204442                                              S   \n",
       "69647                                               Q   \n",
       "\n",
       "                               Code for the Ward Facility  \\\n",
       "Case_ID registered in Hospital                              \n",
       "161528                                                  F   \n",
       "159472                                                  F   \n",
       "309765                                                  F   \n",
       "279614                                                  B   \n",
       "147791                                                  E   \n",
       "...                                                   ...   \n",
       "237869                                                  B   \n",
       "254763                                                  F   \n",
       "69788                                                   F   \n",
       "204442                                                  B   \n",
       "69647                                                   E   \n",
       "\n",
       "                                Condition of Bed in the Ward  \\\n",
       "Case_ID registered in Hospital                                 \n",
       "161528                                                   4.0   \n",
       "159472                                                   2.0   \n",
       "309765                                                   3.0   \n",
       "279614                                                   4.0   \n",
       "147791                                                   2.0   \n",
       "...                                                      ...   \n",
       "237869                                                   3.0   \n",
       "254763                                                   2.0   \n",
       "69788                                                    3.0   \n",
       "204442                                                   4.0   \n",
       "69647                                                    2.0   \n",
       "\n",
       "                                Unique Patient Id  City Code for the patient  \\\n",
       "Case_ID registered in Hospital                                                 \n",
       "161528                                      45810                        2.0   \n",
       "159472                                     128565                       15.0   \n",
       "309765                                      46565                        5.0   \n",
       "279614                                     124546                        6.0   \n",
       "147791                                      22729                        8.0   \n",
       "...                                           ...                        ...   \n",
       "237869                                      82914                        3.0   \n",
       "254763                                      40026                        5.0   \n",
       "69788                                       92346                        2.0   \n",
       "204442                                     113798                       15.0   \n",
       "69647                                      109237                        8.0   \n",
       "\n",
       "                               Admission Type registered by the Hospital  \\\n",
       "Case_ID registered in Hospital                                             \n",
       "161528                                                            Urgent   \n",
       "159472                                                            Trauma   \n",
       "309765                                                            Urgent   \n",
       "279614                                                         Emergency   \n",
       "147791                                                            Urgent   \n",
       "...                                                                  ...   \n",
       "237869                                                         Emergency   \n",
       "254763                                                            Urgent   \n",
       "69788                                                             Trauma   \n",
       "204442                                                            Trauma   \n",
       "69647                                                          Emergency   \n",
       "\n",
       "                               Severity of the illness recorded at the time of admission  \\\n",
       "Case_ID registered in Hospital                                                             \n",
       "161528                                                                   Moderate          \n",
       "159472                                                                   Moderate          \n",
       "309765                                                                   Moderate          \n",
       "279614                                                                   Moderate          \n",
       "147791                                                                   Moderate          \n",
       "...                                                                           ...          \n",
       "237869                                                                   Moderate          \n",
       "254763                                                                   Moderate          \n",
       "69788                                                                       Minor          \n",
       "204442                                                                   Moderate          \n",
       "69647                                                                    Moderate          \n",
       "\n",
       "                                Number of Visitors with the patient  \\\n",
       "Case_ID registered in Hospital                                        \n",
       "161528                                                            2   \n",
       "159472                                                            4   \n",
       "309765                                                            2   \n",
       "279614                                                            4   \n",
       "147791                                                            2   \n",
       "...                                                             ...   \n",
       "237869                                                            6   \n",
       "254763                                                            3   \n",
       "69788                                                             2   \n",
       "204442                                                            3   \n",
       "69647                                                             2   \n",
       "\n",
       "                               Age of the patient  \\\n",
       "Case_ID registered in Hospital                      \n",
       "161528                                      21-30   \n",
       "159472                                      51-60   \n",
       "309765                                      71-80   \n",
       "279614                                      11-20   \n",
       "147791                                      51-60   \n",
       "...                                           ...   \n",
       "237869                                      51-60   \n",
       "254763                                      21-30   \n",
       "69788                                       31-40   \n",
       "204442                                      41-50   \n",
       "69647                                       41-50   \n",
       "\n",
       "                                Deposit at the Admission Time  \\\n",
       "Case_ID registered in Hospital                                  \n",
       "161528                                                 2817.0   \n",
       "159472                                                 4498.0   \n",
       "309765                                                 4573.0   \n",
       "279614                                                 7202.0   \n",
       "147791                                                 3398.0   \n",
       "...                                                       ...   \n",
       "237869                                                 3966.0   \n",
       "254763                                                 4005.0   \n",
       "69788                                                  5215.0   \n",
       "204442                                                 5092.0   \n",
       "69647                                                  3390.0   \n",
       "\n",
       "                               Stay Days by the patient  \n",
       "Case_ID registered in Hospital                           \n",
       "161528                                             0-10  \n",
       "159472                                            21-30  \n",
       "309765                                            11-20  \n",
       "279614                                            51-60  \n",
       "147791                                            51-60  \n",
       "...                                                 ...  \n",
       "237869                               More than 100 Days  \n",
       "254763                                            51-60  \n",
       "69788                                             31-40  \n",
       "204442                                            11-20  \n",
       "69647                                             41-50  \n",
       "\n",
       "[98484 rows x 17 columns]"
      ],
      "text/html": "<div>\n<style scoped>\n    .dataframe tbody tr th:only-of-type {\n        vertical-align: middle;\n    }\n\n    .dataframe tbody tr th {\n        vertical-align: top;\n    }\n\n    .dataframe thead th {\n        text-align: right;\n    }\n</style>\n<table border=\"1\" class=\"dataframe\">\n  <thead>\n    <tr style=\"text-align: right;\">\n      <th></th>\n      <th>Unique code for the Hospital</th>\n      <th>Unique code for the type of Hospital</th>\n      <th>City Code of the Hospital</th>\n      <th>Region Code of the Hospital</th>\n      <th>Number of Extra rooms available in the Hospital</th>\n      <th>Department overlooking the case</th>\n      <th>Code for the Ward type</th>\n      <th>Code for the Ward Facility</th>\n      <th>Condition of Bed in the Ward</th>\n      <th>Unique Patient Id</th>\n      <th>City Code for the patient</th>\n      <th>Admission Type registered by the Hospital</th>\n      <th>Severity of the illness recorded at the time of admission</th>\n      <th>Number of Visitors with the patient</th>\n      <th>Age of the patient</th>\n      <th>Deposit at the Admission Time</th>\n      <th>Stay Days by the patient</th>\n    </tr>\n    <tr>\n      <th>Case_ID registered in Hospital</th>\n      <th></th>\n      <th></th>\n      <th></th>\n      <th></th>\n      <th></th>\n      <th></th>\n      <th></th>\n      <th></th>\n      <th></th>\n      <th></th>\n      <th></th>\n      <th></th>\n      <th></th>\n      <th></th>\n      <th></th>\n      <th></th>\n      <th></th>\n    </tr>\n  </thead>\n  <tbody>\n    <tr>\n      <th>161528</th>\n      <td>6</td>\n      <td>a</td>\n      <td>6</td>\n      <td>X</td>\n      <td>2</td>\n      <td>gynecology</td>\n      <td>R</td>\n      <td>F</td>\n      <td>4.0</td>\n      <td>45810</td>\n      <td>2.0</td>\n      <td>Urgent</td>\n      <td>Moderate</td>\n      <td>2</td>\n      <td>21-30</td>\n      <td>2817.0</td>\n      <td>0-10</td>\n    </tr>\n    <tr>\n      <th>159472</th>\n      <td>23</td>\n      <td>a</td>\n      <td>6</td>\n      <td>X</td>\n      <td>4</td>\n      <td>gynecology</td>\n      <td>Q</td>\n      <td>F</td>\n      <td>2.0</td>\n      <td>128565</td>\n      <td>15.0</td>\n      <td>Trauma</td>\n      <td>Moderate</td>\n      <td>4</td>\n      <td>51-60</td>\n      <td>4498.0</td>\n      <td>21-30</td>\n    </tr>\n    <tr>\n      <th>309765</th>\n      <td>2</td>\n      <td>c</td>\n      <td>5</td>\n      <td>Z</td>\n      <td>2</td>\n      <td>anesthesia</td>\n      <td>S</td>\n      <td>F</td>\n      <td>3.0</td>\n      <td>46565</td>\n      <td>5.0</td>\n      <td>Urgent</td>\n      <td>Moderate</td>\n      <td>2</td>\n      <td>71-80</td>\n      <td>4573.0</td>\n      <td>11-20</td>\n    </tr>\n    <tr>\n      <th>279614</th>\n      <td>32</td>\n      <td>f</td>\n      <td>9</td>\n      <td>Y</td>\n      <td>3</td>\n      <td>gynecology</td>\n      <td>S</td>\n      <td>B</td>\n      <td>4.0</td>\n      <td>124546</td>\n      <td>6.0</td>\n      <td>Emergency</td>\n      <td>Moderate</td>\n      <td>4</td>\n      <td>11-20</td>\n      <td>7202.0</td>\n      <td>51-60</td>\n    </tr>\n    <tr>\n      <th>147791</th>\n      <td>14</td>\n      <td>a</td>\n      <td>1</td>\n      <td>X</td>\n      <td>3</td>\n      <td>gynecology</td>\n      <td>S</td>\n      <td>E</td>\n      <td>2.0</td>\n      <td>22729</td>\n      <td>8.0</td>\n      <td>Urgent</td>\n      <td>Moderate</td>\n      <td>2</td>\n      <td>51-60</td>\n      <td>3398.0</td>\n      <td>51-60</td>\n    </tr>\n    <tr>\n      <th>...</th>\n      <td>...</td>\n      <td>...</td>\n      <td>...</td>\n      <td>...</td>\n      <td>...</td>\n      <td>...</td>\n      <td>...</td>\n      <td>...</td>\n      <td>...</td>\n      <td>...</td>\n      <td>...</td>\n      <td>...</td>\n      <td>...</td>\n      <td>...</td>\n      <td>...</td>\n      <td>...</td>\n      <td>...</td>\n    </tr>\n    <tr>\n      <th>237869</th>\n      <td>12</td>\n      <td>a</td>\n      <td>9</td>\n      <td>Y</td>\n      <td>3</td>\n      <td>gynecology</td>\n      <td>R</td>\n      <td>B</td>\n      <td>3.0</td>\n      <td>82914</td>\n      <td>3.0</td>\n      <td>Emergency</td>\n      <td>Moderate</td>\n      <td>6</td>\n      <td>51-60</td>\n      <td>3966.0</td>\n      <td>More than 100 Days</td>\n    </tr>\n    <tr>\n      <th>254763</th>\n      <td>28</td>\n      <td>b</td>\n      <td>11</td>\n      <td>X</td>\n      <td>2</td>\n      <td>gynecology</td>\n      <td>R</td>\n      <td>F</td>\n      <td>2.0</td>\n      <td>40026</td>\n      <td>5.0</td>\n      <td>Urgent</td>\n      <td>Moderate</td>\n      <td>3</td>\n      <td>21-30</td>\n      <td>4005.0</td>\n      <td>51-60</td>\n    </tr>\n    <tr>\n      <th>69788</th>\n      <td>6</td>\n      <td>a</td>\n      <td>6</td>\n      <td>X</td>\n      <td>3</td>\n      <td>gynecology</td>\n      <td>Q</td>\n      <td>F</td>\n      <td>3.0</td>\n      <td>92346</td>\n      <td>2.0</td>\n      <td>Trauma</td>\n      <td>Minor</td>\n      <td>2</td>\n      <td>31-40</td>\n      <td>5215.0</td>\n      <td>31-40</td>\n    </tr>\n    <tr>\n      <th>204442</th>\n      <td>32</td>\n      <td>f</td>\n      <td>9</td>\n      <td>Y</td>\n      <td>2</td>\n      <td>gynecology</td>\n      <td>S</td>\n      <td>B</td>\n      <td>4.0</td>\n      <td>113798</td>\n      <td>15.0</td>\n      <td>Trauma</td>\n      <td>Moderate</td>\n      <td>3</td>\n      <td>41-50</td>\n      <td>5092.0</td>\n      <td>11-20</td>\n    </tr>\n    <tr>\n      <th>69647</th>\n      <td>25</td>\n      <td>e</td>\n      <td>1</td>\n      <td>X</td>\n      <td>3</td>\n      <td>gynecology</td>\n      <td>Q</td>\n      <td>E</td>\n      <td>2.0</td>\n      <td>109237</td>\n      <td>8.0</td>\n      <td>Emergency</td>\n      <td>Moderate</td>\n      <td>2</td>\n      <td>41-50</td>\n      <td>3390.0</td>\n      <td>41-50</td>\n    </tr>\n  </tbody>\n</table>\n<p>98484 rows × 17 columns</p>\n</div>"
     },
     "metadata": {},
     "execution_count": 359
    }
   ],
   "source": [
    "df"
   ]
  },
  {
   "source": [
    "## Encoders\n"
   ],
   "cell_type": "markdown",
   "metadata": {}
  },
  {
   "cell_type": "code",
   "execution_count": 360,
   "metadata": {},
   "outputs": [
    {
     "output_type": "stream",
     "name": "stdout",
     "text": [
      "['a' 'c' 'f' 'b' 'd' 'e' 'g']\n['X' 'Z' 'Y']\n['gynecology' 'anesthesia' 'radiotherapy' 'TB & Chest disease' 'surgery']\n['R' 'Q' 'S' 'P' 'T' 'U']\n['F' 'B' 'E' 'C' 'D' 'A']\n['Urgent' 'Trauma' 'Emergency']\n['Moderate' 'Extreme' 'Minor']\n['21-30' '51-60' '71-80' '11-20' '31-40' '0-10' '61-70' '41-50' '81-90'\n '91-100']\n['0-10' '21-30' '11-20' '51-60' '31-40' '71-80' 'More than 100 Days'\n '41-50' '81-90' '61-70' '91-100']\n\n 6342\n"
     ]
    }
   ],
   "source": [
    "print(df[\"Unique code for the type of Hospital\"].unique())\n",
    "print(df[\"Region Code of the Hospital\"].unique())\n",
    "print(df[\"Department overlooking the case\"].unique())\n",
    "print(df[\"Code for the Ward type\"].unique())\n",
    "print(df[\"Code for the Ward Facility\"].unique())\n",
    "print(df[\"Admission Type registered by the Hospital\"].unique())\n",
    "print(df[\"Severity of the illness recorded at the time of admission\"].unique())\n",
    "print(df[\"Age of the patient\"].unique())\n",
    "print(df[\"Stay Days by the patient\"].unique())\n",
    "\n",
    "print(\"\\n\", len(df[\"Deposit at the Admission Time\"].unique()))\n",
    "\n"
   ]
  },
  {
   "cell_type": "code",
   "execution_count": 361,
   "metadata": {},
   "outputs": [],
   "source": [
    "severity_labels = ['Minor', 'Moderate', 'Extreme']\n",
    "age_labels = ['0-10','11-20','21-30','31-40','41-50','51-60','61-70','71-80','81-90','91-100']\n",
    "#days_labels =['0-10','11-20','21-30','31-40','41-50','51-60','61-70','71-80','81-90','91-100','More than 100 Days']\n",
    "\n",
    "#days_labels\n",
    "oe = preprocessing.OrdinalEncoder(categories=[severity_labels, age_labels])"
   ]
  },
  {
   "cell_type": "code",
   "execution_count": 362,
   "metadata": {},
   "outputs": [
    {
     "output_type": "execute_result",
     "data": {
      "text/plain": [
       "                                Unique code for the Hospital  \\\n",
       "Case_ID registered in Hospital                                 \n",
       "161528                                                     6   \n",
       "159472                                                    23   \n",
       "309765                                                     2   \n",
       "279614                                                    32   \n",
       "147791                                                    14   \n",
       "\n",
       "                               Unique code for the type of Hospital  \\\n",
       "Case_ID registered in Hospital                                        \n",
       "161528                                                            a   \n",
       "159472                                                            a   \n",
       "309765                                                            c   \n",
       "279614                                                            f   \n",
       "147791                                                            a   \n",
       "\n",
       "                                City Code of the Hospital  \\\n",
       "Case_ID registered in Hospital                              \n",
       "161528                                                  6   \n",
       "159472                                                  6   \n",
       "309765                                                  5   \n",
       "279614                                                  9   \n",
       "147791                                                  1   \n",
       "\n",
       "                               Region Code of the Hospital  \\\n",
       "Case_ID registered in Hospital                               \n",
       "161528                                                   X   \n",
       "159472                                                   X   \n",
       "309765                                                   Z   \n",
       "279614                                                   Y   \n",
       "147791                                                   X   \n",
       "\n",
       "                                Number of Extra rooms available in the Hospital  \\\n",
       "Case_ID registered in Hospital                                                    \n",
       "161528                                                                        2   \n",
       "159472                                                                        4   \n",
       "309765                                                                        2   \n",
       "279614                                                                        3   \n",
       "147791                                                                        3   \n",
       "\n",
       "                               Department overlooking the case  \\\n",
       "Case_ID registered in Hospital                                   \n",
       "161528                                              gynecology   \n",
       "159472                                              gynecology   \n",
       "309765                                              anesthesia   \n",
       "279614                                              gynecology   \n",
       "147791                                              gynecology   \n",
       "\n",
       "                               Code for the Ward type  \\\n",
       "Case_ID registered in Hospital                          \n",
       "161528                                              R   \n",
       "159472                                              Q   \n",
       "309765                                              S   \n",
       "279614                                              S   \n",
       "147791                                              S   \n",
       "\n",
       "                               Code for the Ward Facility  \\\n",
       "Case_ID registered in Hospital                              \n",
       "161528                                                  F   \n",
       "159472                                                  F   \n",
       "309765                                                  F   \n",
       "279614                                                  B   \n",
       "147791                                                  E   \n",
       "\n",
       "                                Condition of Bed in the Ward  \\\n",
       "Case_ID registered in Hospital                                 \n",
       "161528                                                   4.0   \n",
       "159472                                                   2.0   \n",
       "309765                                                   3.0   \n",
       "279614                                                   4.0   \n",
       "147791                                                   2.0   \n",
       "\n",
       "                                Unique Patient Id  City Code for the patient  \\\n",
       "Case_ID registered in Hospital                                                 \n",
       "161528                                      45810                        2.0   \n",
       "159472                                     128565                       15.0   \n",
       "309765                                      46565                        5.0   \n",
       "279614                                     124546                        6.0   \n",
       "147791                                      22729                        8.0   \n",
       "\n",
       "                               Admission Type registered by the Hospital  \\\n",
       "Case_ID registered in Hospital                                             \n",
       "161528                                                            Urgent   \n",
       "159472                                                            Trauma   \n",
       "309765                                                            Urgent   \n",
       "279614                                                         Emergency   \n",
       "147791                                                            Urgent   \n",
       "\n",
       "                                Severity of the illness recorded at the time of admission  \\\n",
       "Case_ID registered in Hospital                                                              \n",
       "161528                                                                        1.0           \n",
       "159472                                                                        1.0           \n",
       "309765                                                                        1.0           \n",
       "279614                                                                        1.0           \n",
       "147791                                                                        1.0           \n",
       "\n",
       "                                Number of Visitors with the patient  \\\n",
       "Case_ID registered in Hospital                                        \n",
       "161528                                                            2   \n",
       "159472                                                            4   \n",
       "309765                                                            2   \n",
       "279614                                                            4   \n",
       "147791                                                            2   \n",
       "\n",
       "                                Age of the patient  \\\n",
       "Case_ID registered in Hospital                       \n",
       "161528                                         2.0   \n",
       "159472                                         5.0   \n",
       "309765                                         7.0   \n",
       "279614                                         1.0   \n",
       "147791                                         5.0   \n",
       "\n",
       "                                Deposit at the Admission Time  \\\n",
       "Case_ID registered in Hospital                                  \n",
       "161528                                                 2817.0   \n",
       "159472                                                 4498.0   \n",
       "309765                                                 4573.0   \n",
       "279614                                                 7202.0   \n",
       "147791                                                 3398.0   \n",
       "\n",
       "                               Stay Days by the patient  \n",
       "Case_ID registered in Hospital                           \n",
       "161528                                             0-10  \n",
       "159472                                            21-30  \n",
       "309765                                            11-20  \n",
       "279614                                            51-60  \n",
       "147791                                            51-60  "
      ],
      "text/html": "<div>\n<style scoped>\n    .dataframe tbody tr th:only-of-type {\n        vertical-align: middle;\n    }\n\n    .dataframe tbody tr th {\n        vertical-align: top;\n    }\n\n    .dataframe thead th {\n        text-align: right;\n    }\n</style>\n<table border=\"1\" class=\"dataframe\">\n  <thead>\n    <tr style=\"text-align: right;\">\n      <th></th>\n      <th>Unique code for the Hospital</th>\n      <th>Unique code for the type of Hospital</th>\n      <th>City Code of the Hospital</th>\n      <th>Region Code of the Hospital</th>\n      <th>Number of Extra rooms available in the Hospital</th>\n      <th>Department overlooking the case</th>\n      <th>Code for the Ward type</th>\n      <th>Code for the Ward Facility</th>\n      <th>Condition of Bed in the Ward</th>\n      <th>Unique Patient Id</th>\n      <th>City Code for the patient</th>\n      <th>Admission Type registered by the Hospital</th>\n      <th>Severity of the illness recorded at the time of admission</th>\n      <th>Number of Visitors with the patient</th>\n      <th>Age of the patient</th>\n      <th>Deposit at the Admission Time</th>\n      <th>Stay Days by the patient</th>\n    </tr>\n    <tr>\n      <th>Case_ID registered in Hospital</th>\n      <th></th>\n      <th></th>\n      <th></th>\n      <th></th>\n      <th></th>\n      <th></th>\n      <th></th>\n      <th></th>\n      <th></th>\n      <th></th>\n      <th></th>\n      <th></th>\n      <th></th>\n      <th></th>\n      <th></th>\n      <th></th>\n      <th></th>\n    </tr>\n  </thead>\n  <tbody>\n    <tr>\n      <th>161528</th>\n      <td>6</td>\n      <td>a</td>\n      <td>6</td>\n      <td>X</td>\n      <td>2</td>\n      <td>gynecology</td>\n      <td>R</td>\n      <td>F</td>\n      <td>4.0</td>\n      <td>45810</td>\n      <td>2.0</td>\n      <td>Urgent</td>\n      <td>1.0</td>\n      <td>2</td>\n      <td>2.0</td>\n      <td>2817.0</td>\n      <td>0-10</td>\n    </tr>\n    <tr>\n      <th>159472</th>\n      <td>23</td>\n      <td>a</td>\n      <td>6</td>\n      <td>X</td>\n      <td>4</td>\n      <td>gynecology</td>\n      <td>Q</td>\n      <td>F</td>\n      <td>2.0</td>\n      <td>128565</td>\n      <td>15.0</td>\n      <td>Trauma</td>\n      <td>1.0</td>\n      <td>4</td>\n      <td>5.0</td>\n      <td>4498.0</td>\n      <td>21-30</td>\n    </tr>\n    <tr>\n      <th>309765</th>\n      <td>2</td>\n      <td>c</td>\n      <td>5</td>\n      <td>Z</td>\n      <td>2</td>\n      <td>anesthesia</td>\n      <td>S</td>\n      <td>F</td>\n      <td>3.0</td>\n      <td>46565</td>\n      <td>5.0</td>\n      <td>Urgent</td>\n      <td>1.0</td>\n      <td>2</td>\n      <td>7.0</td>\n      <td>4573.0</td>\n      <td>11-20</td>\n    </tr>\n    <tr>\n      <th>279614</th>\n      <td>32</td>\n      <td>f</td>\n      <td>9</td>\n      <td>Y</td>\n      <td>3</td>\n      <td>gynecology</td>\n      <td>S</td>\n      <td>B</td>\n      <td>4.0</td>\n      <td>124546</td>\n      <td>6.0</td>\n      <td>Emergency</td>\n      <td>1.0</td>\n      <td>4</td>\n      <td>1.0</td>\n      <td>7202.0</td>\n      <td>51-60</td>\n    </tr>\n    <tr>\n      <th>147791</th>\n      <td>14</td>\n      <td>a</td>\n      <td>1</td>\n      <td>X</td>\n      <td>3</td>\n      <td>gynecology</td>\n      <td>S</td>\n      <td>E</td>\n      <td>2.0</td>\n      <td>22729</td>\n      <td>8.0</td>\n      <td>Urgent</td>\n      <td>1.0</td>\n      <td>2</td>\n      <td>5.0</td>\n      <td>3398.0</td>\n      <td>51-60</td>\n    </tr>\n  </tbody>\n</table>\n</div>"
     },
     "metadata": {},
     "execution_count": 362
    }
   ],
   "source": [
    "#//, \"Stay Days by the patient\"// En ambas lineas.\n",
    "X_encoded = oe.fit_transform(df[[\"Severity of the illness recorded at the time of admission\", \"Age of the patient\"]])\n",
    "df[[\"Severity of the illness recorded at the time of admission\", \"Age of the patient\"]] = X_encoded\n",
    "df.head()"
   ]
  },
  {
   "cell_type": "code",
   "execution_count": 363,
   "metadata": {},
   "outputs": [],
   "source": [
    "le = preprocessing.LabelEncoder()"
   ]
  },
  {
   "cell_type": "code",
   "execution_count": 364,
   "metadata": {},
   "outputs": [
    {
     "output_type": "execute_result",
     "data": {
      "text/plain": [
       "                                Unique code for the Hospital  \\\n",
       "Case_ID registered in Hospital                                 \n",
       "161528                                                     6   \n",
       "159472                                                    23   \n",
       "309765                                                     2   \n",
       "279614                                                    32   \n",
       "147791                                                    14   \n",
       "\n",
       "                                Unique code for the type of Hospital  \\\n",
       "Case_ID registered in Hospital                                         \n",
       "161528                                                             0   \n",
       "159472                                                             0   \n",
       "309765                                                             2   \n",
       "279614                                                             5   \n",
       "147791                                                             0   \n",
       "\n",
       "                                City Code of the Hospital  \\\n",
       "Case_ID registered in Hospital                              \n",
       "161528                                                  6   \n",
       "159472                                                  6   \n",
       "309765                                                  5   \n",
       "279614                                                  9   \n",
       "147791                                                  1   \n",
       "\n",
       "                                Region Code of the Hospital  \\\n",
       "Case_ID registered in Hospital                                \n",
       "161528                                                    0   \n",
       "159472                                                    0   \n",
       "309765                                                    2   \n",
       "279614                                                    1   \n",
       "147791                                                    0   \n",
       "\n",
       "                                Number of Extra rooms available in the Hospital  \\\n",
       "Case_ID registered in Hospital                                                    \n",
       "161528                                                                        2   \n",
       "159472                                                                        4   \n",
       "309765                                                                        2   \n",
       "279614                                                                        3   \n",
       "147791                                                                        3   \n",
       "\n",
       "                                Department overlooking the case  \\\n",
       "Case_ID registered in Hospital                                    \n",
       "161528                                                        2   \n",
       "159472                                                        2   \n",
       "309765                                                        1   \n",
       "279614                                                        2   \n",
       "147791                                                        2   \n",
       "\n",
       "                                Code for the Ward type  \\\n",
       "Case_ID registered in Hospital                           \n",
       "161528                                               2   \n",
       "159472                                               1   \n",
       "309765                                               3   \n",
       "279614                                               3   \n",
       "147791                                               3   \n",
       "\n",
       "                                Code for the Ward Facility  \\\n",
       "Case_ID registered in Hospital                               \n",
       "161528                                                   5   \n",
       "159472                                                   5   \n",
       "309765                                                   5   \n",
       "279614                                                   1   \n",
       "147791                                                   4   \n",
       "\n",
       "                                Condition of Bed in the Ward  \\\n",
       "Case_ID registered in Hospital                                 \n",
       "161528                                                   4.0   \n",
       "159472                                                   2.0   \n",
       "309765                                                   3.0   \n",
       "279614                                                   4.0   \n",
       "147791                                                   2.0   \n",
       "\n",
       "                                Unique Patient Id  City Code for the patient  \\\n",
       "Case_ID registered in Hospital                                                 \n",
       "161528                                      45810                        2.0   \n",
       "159472                                     128565                       15.0   \n",
       "309765                                      46565                        5.0   \n",
       "279614                                     124546                        6.0   \n",
       "147791                                      22729                        8.0   \n",
       "\n",
       "                                Admission Type registered by the Hospital  \\\n",
       "Case_ID registered in Hospital                                              \n",
       "161528                                                                  2   \n",
       "159472                                                                  1   \n",
       "309765                                                                  2   \n",
       "279614                                                                  0   \n",
       "147791                                                                  2   \n",
       "\n",
       "                                Severity of the illness recorded at the time of admission  \\\n",
       "Case_ID registered in Hospital                                                              \n",
       "161528                                                                        1.0           \n",
       "159472                                                                        1.0           \n",
       "309765                                                                        1.0           \n",
       "279614                                                                        1.0           \n",
       "147791                                                                        1.0           \n",
       "\n",
       "                                Number of Visitors with the patient  \\\n",
       "Case_ID registered in Hospital                                        \n",
       "161528                                                            2   \n",
       "159472                                                            4   \n",
       "309765                                                            2   \n",
       "279614                                                            4   \n",
       "147791                                                            2   \n",
       "\n",
       "                                Age of the patient  \\\n",
       "Case_ID registered in Hospital                       \n",
       "161528                                         2.0   \n",
       "159472                                         5.0   \n",
       "309765                                         7.0   \n",
       "279614                                         1.0   \n",
       "147791                                         5.0   \n",
       "\n",
       "                                Deposit at the Admission Time  \\\n",
       "Case_ID registered in Hospital                                  \n",
       "161528                                                 2817.0   \n",
       "159472                                                 4498.0   \n",
       "309765                                                 4573.0   \n",
       "279614                                                 7202.0   \n",
       "147791                                                 3398.0   \n",
       "\n",
       "                               Stay Days by the patient  \n",
       "Case_ID registered in Hospital                           \n",
       "161528                                             0-10  \n",
       "159472                                            21-30  \n",
       "309765                                            11-20  \n",
       "279614                                            51-60  \n",
       "147791                                            51-60  "
      ],
      "text/html": "<div>\n<style scoped>\n    .dataframe tbody tr th:only-of-type {\n        vertical-align: middle;\n    }\n\n    .dataframe tbody tr th {\n        vertical-align: top;\n    }\n\n    .dataframe thead th {\n        text-align: right;\n    }\n</style>\n<table border=\"1\" class=\"dataframe\">\n  <thead>\n    <tr style=\"text-align: right;\">\n      <th></th>\n      <th>Unique code for the Hospital</th>\n      <th>Unique code for the type of Hospital</th>\n      <th>City Code of the Hospital</th>\n      <th>Region Code of the Hospital</th>\n      <th>Number of Extra rooms available in the Hospital</th>\n      <th>Department overlooking the case</th>\n      <th>Code for the Ward type</th>\n      <th>Code for the Ward Facility</th>\n      <th>Condition of Bed in the Ward</th>\n      <th>Unique Patient Id</th>\n      <th>City Code for the patient</th>\n      <th>Admission Type registered by the Hospital</th>\n      <th>Severity of the illness recorded at the time of admission</th>\n      <th>Number of Visitors with the patient</th>\n      <th>Age of the patient</th>\n      <th>Deposit at the Admission Time</th>\n      <th>Stay Days by the patient</th>\n    </tr>\n    <tr>\n      <th>Case_ID registered in Hospital</th>\n      <th></th>\n      <th></th>\n      <th></th>\n      <th></th>\n      <th></th>\n      <th></th>\n      <th></th>\n      <th></th>\n      <th></th>\n      <th></th>\n      <th></th>\n      <th></th>\n      <th></th>\n      <th></th>\n      <th></th>\n      <th></th>\n      <th></th>\n    </tr>\n  </thead>\n  <tbody>\n    <tr>\n      <th>161528</th>\n      <td>6</td>\n      <td>0</td>\n      <td>6</td>\n      <td>0</td>\n      <td>2</td>\n      <td>2</td>\n      <td>2</td>\n      <td>5</td>\n      <td>4.0</td>\n      <td>45810</td>\n      <td>2.0</td>\n      <td>2</td>\n      <td>1.0</td>\n      <td>2</td>\n      <td>2.0</td>\n      <td>2817.0</td>\n      <td>0-10</td>\n    </tr>\n    <tr>\n      <th>159472</th>\n      <td>23</td>\n      <td>0</td>\n      <td>6</td>\n      <td>0</td>\n      <td>4</td>\n      <td>2</td>\n      <td>1</td>\n      <td>5</td>\n      <td>2.0</td>\n      <td>128565</td>\n      <td>15.0</td>\n      <td>1</td>\n      <td>1.0</td>\n      <td>4</td>\n      <td>5.0</td>\n      <td>4498.0</td>\n      <td>21-30</td>\n    </tr>\n    <tr>\n      <th>309765</th>\n      <td>2</td>\n      <td>2</td>\n      <td>5</td>\n      <td>2</td>\n      <td>2</td>\n      <td>1</td>\n      <td>3</td>\n      <td>5</td>\n      <td>3.0</td>\n      <td>46565</td>\n      <td>5.0</td>\n      <td>2</td>\n      <td>1.0</td>\n      <td>2</td>\n      <td>7.0</td>\n      <td>4573.0</td>\n      <td>11-20</td>\n    </tr>\n    <tr>\n      <th>279614</th>\n      <td>32</td>\n      <td>5</td>\n      <td>9</td>\n      <td>1</td>\n      <td>3</td>\n      <td>2</td>\n      <td>3</td>\n      <td>1</td>\n      <td>4.0</td>\n      <td>124546</td>\n      <td>6.0</td>\n      <td>0</td>\n      <td>1.0</td>\n      <td>4</td>\n      <td>1.0</td>\n      <td>7202.0</td>\n      <td>51-60</td>\n    </tr>\n    <tr>\n      <th>147791</th>\n      <td>14</td>\n      <td>0</td>\n      <td>1</td>\n      <td>0</td>\n      <td>3</td>\n      <td>2</td>\n      <td>3</td>\n      <td>4</td>\n      <td>2.0</td>\n      <td>22729</td>\n      <td>8.0</td>\n      <td>2</td>\n      <td>1.0</td>\n      <td>2</td>\n      <td>5.0</td>\n      <td>3398.0</td>\n      <td>51-60</td>\n    </tr>\n  </tbody>\n</table>\n</div>"
     },
     "metadata": {},
     "execution_count": 364
    }
   ],
   "source": [
    "col1_encoded = le.fit_transform(df[\"Unique code for the type of Hospital\"])\n",
    "col2_encoded = le.fit_transform(df[\"Department overlooking the case\"])\n",
    "col3_encoded = le.fit_transform(df[\"Code for the Ward type\"])\n",
    "col4_encoded = le.fit_transform(df[\"Code for the Ward Facility\"])\n",
    "col5_encoded = le.fit_transform(df[\"Admission Type registered by the Hospital\"])\n",
    "col6_encoded = le.fit_transform(df[\"Region Code of the Hospital\"])\n",
    "\n",
    "df[\"Unique code for the type of Hospital\"] = col1_encoded\n",
    "df[\"Department overlooking the case\"] = col2_encoded\n",
    "df[\"Code for the Ward type\"] = col3_encoded\n",
    "df[\"Code for the Ward Facility\"] = col4_encoded\n",
    "df[\"Admission Type registered by the Hospital\"] = col5_encoded\n",
    "df[\"Region Code of the Hospital\"] = col6_encoded\n",
    "df.head()"
   ]
  },
  {
   "cell_type": "code",
   "execution_count": 365,
   "metadata": {},
   "outputs": [
    {
     "output_type": "execute_result",
     "data": {
      "text/plain": [
       "       Unique code for the Hospital  Unique code for the type of Hospital  \\\n",
       "count                  98484.000000                          98484.000000   \n",
       "mean                      18.339578                              1.254955   \n",
       "std                        8.625392                              1.529145   \n",
       "min                        1.000000                              0.000000   \n",
       "25%                       11.000000                              0.000000   \n",
       "50%                       19.000000                              1.000000   \n",
       "75%                       26.000000                              2.000000   \n",
       "max                       32.000000                              6.000000   \n",
       "\n",
       "       City Code of the Hospital  Region Code of the Hospital  \\\n",
       "count               98484.000000                 98484.000000   \n",
       "mean                    4.783894                     0.779020   \n",
       "std                     3.104605                     0.751995   \n",
       "min                     1.000000                     0.000000   \n",
       "25%                     2.000000                     0.000000   \n",
       "50%                     5.000000                     1.000000   \n",
       "75%                     7.000000                     1.000000   \n",
       "max                    13.000000                     2.000000   \n",
       "\n",
       "       Number of Extra rooms available in the Hospital  \\\n",
       "count                                     98484.000000   \n",
       "mean                                          3.195707   \n",
       "std                                           1.169959   \n",
       "min                                           0.000000   \n",
       "25%                                           2.000000   \n",
       "50%                                           3.000000   \n",
       "75%                                           4.000000   \n",
       "max                                          24.000000   \n",
       "\n",
       "       Department overlooking the case  Code for the Ward type  \\\n",
       "count                     98484.000000            98484.000000   \n",
       "mean                          1.941787                1.889566   \n",
       "std                           0.563335                0.803153   \n",
       "min                           0.000000                0.000000   \n",
       "25%                           2.000000                1.000000   \n",
       "50%                           2.000000                2.000000   \n",
       "75%                           2.000000                2.000000   \n",
       "max                           4.000000                5.000000   \n",
       "\n",
       "       Code for the Ward Facility  Condition of Bed in the Ward  \\\n",
       "count                98484.000000                  98484.000000   \n",
       "mean                     3.290870                      2.620446   \n",
       "std                      1.685989                      0.873974   \n",
       "min                      0.000000                      1.000000   \n",
       "25%                      2.000000                      2.000000   \n",
       "50%                      4.000000                      3.000000   \n",
       "75%                      5.000000                      3.000000   \n",
       "max                      5.000000                      4.000000   \n",
       "\n",
       "       Unique Patient Id  City Code for the patient  \\\n",
       "count       98484.000000               98484.000000   \n",
       "mean        65955.330551                   7.226900   \n",
       "std         37872.848150                   4.717302   \n",
       "min             1.000000                   1.000000   \n",
       "25%         33198.000000                   4.000000   \n",
       "50%         65912.500000                   8.000000   \n",
       "75%         98623.250000                   8.000000   \n",
       "max        131624.000000                  38.000000   \n",
       "\n",
       "       Admission Type registered by the Hospital  \\\n",
       "count                               98484.000000   \n",
       "mean                                    0.781061   \n",
       "std                                     0.689658   \n",
       "min                                     0.000000   \n",
       "25%                                     0.000000   \n",
       "50%                                     1.000000   \n",
       "75%                                     1.000000   \n",
       "max                                     2.000000   \n",
       "\n",
       "       Severity of the illness recorded at the time of admission  \\\n",
       "count                                       98484.000000           \n",
       "mean                                            0.909346           \n",
       "std                                             0.662146           \n",
       "min                                             0.000000           \n",
       "25%                                             0.000000           \n",
       "50%                                             1.000000           \n",
       "75%                                             1.000000           \n",
       "max                                             2.000000           \n",
       "\n",
       "       Number of Visitors with the patient  Age of the patient  \\\n",
       "count                         98484.000000        98484.000000   \n",
       "mean                              3.291966            4.129615   \n",
       "std                               1.783924            1.889445   \n",
       "min                               0.000000            0.000000   \n",
       "25%                               2.000000            3.000000   \n",
       "50%                               3.000000            4.000000   \n",
       "75%                               4.000000            5.000000   \n",
       "max                              32.000000            9.000000   \n",
       "\n",
       "       Deposit at the Admission Time  \n",
       "count                   98484.000000  \n",
       "mean                     4880.696976  \n",
       "std                      1082.590128  \n",
       "min                      1800.000000  \n",
       "25%                      4189.000000  \n",
       "50%                      4741.000000  \n",
       "75%                      5411.000000  \n",
       "max                     10842.000000  "
      ],
      "text/html": "<div>\n<style scoped>\n    .dataframe tbody tr th:only-of-type {\n        vertical-align: middle;\n    }\n\n    .dataframe tbody tr th {\n        vertical-align: top;\n    }\n\n    .dataframe thead th {\n        text-align: right;\n    }\n</style>\n<table border=\"1\" class=\"dataframe\">\n  <thead>\n    <tr style=\"text-align: right;\">\n      <th></th>\n      <th>Unique code for the Hospital</th>\n      <th>Unique code for the type of Hospital</th>\n      <th>City Code of the Hospital</th>\n      <th>Region Code of the Hospital</th>\n      <th>Number of Extra rooms available in the Hospital</th>\n      <th>Department overlooking the case</th>\n      <th>Code for the Ward type</th>\n      <th>Code for the Ward Facility</th>\n      <th>Condition of Bed in the Ward</th>\n      <th>Unique Patient Id</th>\n      <th>City Code for the patient</th>\n      <th>Admission Type registered by the Hospital</th>\n      <th>Severity of the illness recorded at the time of admission</th>\n      <th>Number of Visitors with the patient</th>\n      <th>Age of the patient</th>\n      <th>Deposit at the Admission Time</th>\n    </tr>\n  </thead>\n  <tbody>\n    <tr>\n      <th>count</th>\n      <td>98484.000000</td>\n      <td>98484.000000</td>\n      <td>98484.000000</td>\n      <td>98484.000000</td>\n      <td>98484.000000</td>\n      <td>98484.000000</td>\n      <td>98484.000000</td>\n      <td>98484.000000</td>\n      <td>98484.000000</td>\n      <td>98484.000000</td>\n      <td>98484.000000</td>\n      <td>98484.000000</td>\n      <td>98484.000000</td>\n      <td>98484.000000</td>\n      <td>98484.000000</td>\n      <td>98484.000000</td>\n    </tr>\n    <tr>\n      <th>mean</th>\n      <td>18.339578</td>\n      <td>1.254955</td>\n      <td>4.783894</td>\n      <td>0.779020</td>\n      <td>3.195707</td>\n      <td>1.941787</td>\n      <td>1.889566</td>\n      <td>3.290870</td>\n      <td>2.620446</td>\n      <td>65955.330551</td>\n      <td>7.226900</td>\n      <td>0.781061</td>\n      <td>0.909346</td>\n      <td>3.291966</td>\n      <td>4.129615</td>\n      <td>4880.696976</td>\n    </tr>\n    <tr>\n      <th>std</th>\n      <td>8.625392</td>\n      <td>1.529145</td>\n      <td>3.104605</td>\n      <td>0.751995</td>\n      <td>1.169959</td>\n      <td>0.563335</td>\n      <td>0.803153</td>\n      <td>1.685989</td>\n      <td>0.873974</td>\n      <td>37872.848150</td>\n      <td>4.717302</td>\n      <td>0.689658</td>\n      <td>0.662146</td>\n      <td>1.783924</td>\n      <td>1.889445</td>\n      <td>1082.590128</td>\n    </tr>\n    <tr>\n      <th>min</th>\n      <td>1.000000</td>\n      <td>0.000000</td>\n      <td>1.000000</td>\n      <td>0.000000</td>\n      <td>0.000000</td>\n      <td>0.000000</td>\n      <td>0.000000</td>\n      <td>0.000000</td>\n      <td>1.000000</td>\n      <td>1.000000</td>\n      <td>1.000000</td>\n      <td>0.000000</td>\n      <td>0.000000</td>\n      <td>0.000000</td>\n      <td>0.000000</td>\n      <td>1800.000000</td>\n    </tr>\n    <tr>\n      <th>25%</th>\n      <td>11.000000</td>\n      <td>0.000000</td>\n      <td>2.000000</td>\n      <td>0.000000</td>\n      <td>2.000000</td>\n      <td>2.000000</td>\n      <td>1.000000</td>\n      <td>2.000000</td>\n      <td>2.000000</td>\n      <td>33198.000000</td>\n      <td>4.000000</td>\n      <td>0.000000</td>\n      <td>0.000000</td>\n      <td>2.000000</td>\n      <td>3.000000</td>\n      <td>4189.000000</td>\n    </tr>\n    <tr>\n      <th>50%</th>\n      <td>19.000000</td>\n      <td>1.000000</td>\n      <td>5.000000</td>\n      <td>1.000000</td>\n      <td>3.000000</td>\n      <td>2.000000</td>\n      <td>2.000000</td>\n      <td>4.000000</td>\n      <td>3.000000</td>\n      <td>65912.500000</td>\n      <td>8.000000</td>\n      <td>1.000000</td>\n      <td>1.000000</td>\n      <td>3.000000</td>\n      <td>4.000000</td>\n      <td>4741.000000</td>\n    </tr>\n    <tr>\n      <th>75%</th>\n      <td>26.000000</td>\n      <td>2.000000</td>\n      <td>7.000000</td>\n      <td>1.000000</td>\n      <td>4.000000</td>\n      <td>2.000000</td>\n      <td>2.000000</td>\n      <td>5.000000</td>\n      <td>3.000000</td>\n      <td>98623.250000</td>\n      <td>8.000000</td>\n      <td>1.000000</td>\n      <td>1.000000</td>\n      <td>4.000000</td>\n      <td>5.000000</td>\n      <td>5411.000000</td>\n    </tr>\n    <tr>\n      <th>max</th>\n      <td>32.000000</td>\n      <td>6.000000</td>\n      <td>13.000000</td>\n      <td>2.000000</td>\n      <td>24.000000</td>\n      <td>4.000000</td>\n      <td>5.000000</td>\n      <td>5.000000</td>\n      <td>4.000000</td>\n      <td>131624.000000</td>\n      <td>38.000000</td>\n      <td>2.000000</td>\n      <td>2.000000</td>\n      <td>32.000000</td>\n      <td>9.000000</td>\n      <td>10842.000000</td>\n    </tr>\n  </tbody>\n</table>\n</div>"
     },
     "metadata": {},
     "execution_count": 365
    }
   ],
   "source": [
    "df.describe()"
   ]
  },
  {
   "cell_type": "markdown",
   "metadata": {},
   "source": [
    "### 1. Definir X e y"
   ]
  },
  {
   "cell_type": "code",
   "execution_count": 366,
   "metadata": {},
   "outputs": [
    {
     "output_type": "execute_result",
     "data": {
      "text/plain": [
       "(98484, 16)"
      ]
     },
     "metadata": {},
     "execution_count": 366
    }
   ],
   "source": [
    "X = df.drop([\"Stay Days by the patient\"],1)\n",
    "X.shape"
   ]
  },
  {
   "cell_type": "code",
   "execution_count": 367,
   "metadata": {},
   "outputs": [],
   "source": [
    "#PredictorScaler=MinMaxScaler()\n",
    "#PredictorScalerFit=PredictorScaler.fit(X)\n",
    "#X=PredictorScalerFit.transform(X)"
   ]
  },
  {
   "cell_type": "code",
   "execution_count": 368,
   "metadata": {},
   "outputs": [
    {
     "output_type": "execute_result",
     "data": {
      "text/plain": [
       "(98484,)"
      ]
     },
     "metadata": {},
     "execution_count": 368
    }
   ],
   "source": [
    "#skY=df['price'].skew()\n",
    "#skY\n",
    "y = df[\"Stay Days by the patient\"]\n",
    "y.shape"
   ]
  },
  {
   "cell_type": "code",
   "execution_count": 369,
   "metadata": {},
   "outputs": [],
   "source": [
    "#data_score = pd.DataFrame({'price':np.log(df['price'])})"
   ]
  },
  {
   "cell_type": "code",
   "execution_count": 370,
   "metadata": {},
   "outputs": [],
   "source": [
    "#sk = data_score['price'].skew()\n",
    "#sk"
   ]
  },
  {
   "cell_type": "code",
   "execution_count": 371,
   "metadata": {},
   "outputs": [],
   "source": [
    "#y = np.log(y)"
   ]
  },
  {
   "cell_type": "markdown",
   "metadata": {},
   "source": [
    "### 2. Dividir X_train, X_test, y_train, y_test"
   ]
  },
  {
   "cell_type": "code",
   "execution_count": 372,
   "metadata": {},
   "outputs": [],
   "source": [
    "X_train, X_test, y_train, y_test = train_test_split(X, y, test_size=0.2, random_state=42)"
   ]
  },
  {
   "cell_type": "code",
   "execution_count": 373,
   "metadata": {},
   "outputs": [
    {
     "output_type": "execute_result",
     "data": {
      "text/plain": [
       "Case_ID registered in Hospital\n",
       "87357      11-20\n",
       "52780       0-10\n",
       "123600     11-20\n",
       "61355      21-30\n",
       "219572      0-10\n",
       "           ...  \n",
       "63226      31-40\n",
       "171147     21-30\n",
       "140505    91-100\n",
       "34711      21-30\n",
       "208948     11-20\n",
       "Name: Stay Days by the patient, Length: 78787, dtype: object"
      ]
     },
     "metadata": {},
     "execution_count": 373
    }
   ],
   "source": [
    "y_train"
   ]
  },
  {
   "cell_type": "markdown",
   "metadata": {},
   "source": [
    "### 3. Asignar el modelo (vacío) a una variable\n",
    "Aquí meteríais los parámetros. \n",
    "\n",
    "**Consejo**: Usa GridSearch y vuélvete loca o loco probando modelos e hiperparámetros."
   ]
  },
  {
   "cell_type": "code",
   "execution_count": 374,
   "metadata": {},
   "outputs": [],
   "source": [
    "pipe = Pipeline(steps=[\n",
    "    ('classifier', CatBoostClassifier())\n",
    "])\n",
    "\n",
    "params = {\n",
    "    'classifier': [CatBoostClassifier()],\n",
    "    'classifier__iterations': [200],\n",
    "    'classifier__learning_rate':[0.08],\n",
    "    'classifier__depth':[8],\n",
    "    'classifier__l2_leaf_reg':[3]\n",
    "}\n",
    "\n",
    "\n",
    "#'classifier__n_neighbors=': [11]\n",
    "model = GridSearchCV(estimator = pipe,\n",
    "                  param_grid = params,\n",
    "                  cv = 10,\n",
    "                  verbose=1,\n",
    "                  n_jobs=-1)"
   ]
  },
  {
   "cell_type": "markdown",
   "metadata": {},
   "source": [
    "### 4. Entrenar el modelo con X_train, y_train"
   ]
  },
  {
   "cell_type": "code",
   "execution_count": 375,
   "metadata": {
    "tags": []
   },
   "outputs": [
    {
     "output_type": "stream",
     "name": "stdout",
     "text": [
      "Fitting 10 folds for each of 1 candidates, totalling 10 fits\n",
      "0:\tlearn: 2.2637402\ttotal: 127ms\tremaining: 25.3s\n",
      "1:\tlearn: 2.1607744\ttotal: 246ms\tremaining: 24.3s\n",
      "2:\tlearn: 2.0823108\ttotal: 359ms\tremaining: 23.6s\n",
      "3:\tlearn: 2.0172796\ttotal: 480ms\tremaining: 23.5s\n",
      "4:\tlearn: 1.9649458\ttotal: 598ms\tremaining: 23.3s\n",
      "5:\tlearn: 1.9187526\ttotal: 724ms\tremaining: 23.4s\n",
      "6:\tlearn: 1.8798361\ttotal: 829ms\tremaining: 22.9s\n",
      "7:\tlearn: 1.8439958\ttotal: 944ms\tremaining: 22.6s\n",
      "8:\tlearn: 1.8134799\ttotal: 1.06s\tremaining: 22.4s\n",
      "9:\tlearn: 1.7876287\ttotal: 1.17s\tremaining: 22.3s\n",
      "10:\tlearn: 1.7640265\ttotal: 1.28s\tremaining: 22.1s\n",
      "11:\tlearn: 1.7435356\ttotal: 1.4s\tremaining: 21.9s\n",
      "12:\tlearn: 1.7262066\ttotal: 1.51s\tremaining: 21.8s\n",
      "13:\tlearn: 1.7081840\ttotal: 1.63s\tremaining: 21.6s\n",
      "14:\tlearn: 1.6918260\ttotal: 1.74s\tremaining: 21.4s\n",
      "15:\tlearn: 1.6783088\ttotal: 1.85s\tremaining: 21.3s\n",
      "16:\tlearn: 1.6659109\ttotal: 1.96s\tremaining: 21.1s\n",
      "17:\tlearn: 1.6556876\ttotal: 2.08s\tremaining: 21s\n",
      "18:\tlearn: 1.6453465\ttotal: 2.19s\tremaining: 20.9s\n",
      "19:\tlearn: 1.6356539\ttotal: 2.34s\tremaining: 21s\n",
      "20:\tlearn: 1.6265507\ttotal: 2.47s\tremaining: 21s\n",
      "21:\tlearn: 1.6204509\ttotal: 2.59s\tremaining: 21s\n",
      "22:\tlearn: 1.6138723\ttotal: 2.7s\tremaining: 20.8s\n",
      "23:\tlearn: 1.6075610\ttotal: 2.81s\tremaining: 20.6s\n",
      "24:\tlearn: 1.6014242\ttotal: 2.92s\tremaining: 20.4s\n",
      "25:\tlearn: 1.5959227\ttotal: 3.03s\tremaining: 20.3s\n",
      "26:\tlearn: 1.5913147\ttotal: 3.14s\tremaining: 20.1s\n",
      "27:\tlearn: 1.5865145\ttotal: 3.25s\tremaining: 19.9s\n",
      "28:\tlearn: 1.5816056\ttotal: 3.36s\tremaining: 19.8s\n",
      "29:\tlearn: 1.5782192\ttotal: 3.48s\tremaining: 19.7s\n",
      "30:\tlearn: 1.5743393\ttotal: 3.59s\tremaining: 19.6s\n",
      "31:\tlearn: 1.5714321\ttotal: 3.7s\tremaining: 19.4s\n",
      "32:\tlearn: 1.5682748\ttotal: 3.81s\tremaining: 19.3s\n",
      "33:\tlearn: 1.5658771\ttotal: 3.92s\tremaining: 19.1s\n",
      "34:\tlearn: 1.5627315\ttotal: 4.03s\tremaining: 19s\n",
      "35:\tlearn: 1.5603014\ttotal: 4.14s\tremaining: 18.8s\n",
      "36:\tlearn: 1.5575226\ttotal: 4.25s\tremaining: 18.7s\n",
      "37:\tlearn: 1.5551154\ttotal: 4.35s\tremaining: 18.6s\n",
      "38:\tlearn: 1.5526509\ttotal: 4.46s\tremaining: 18.4s\n",
      "39:\tlearn: 1.5504406\ttotal: 4.58s\tremaining: 18.3s\n",
      "40:\tlearn: 1.5485297\ttotal: 4.69s\tremaining: 18.2s\n",
      "41:\tlearn: 1.5454254\ttotal: 4.8s\tremaining: 18s\n",
      "42:\tlearn: 1.5433375\ttotal: 4.91s\tremaining: 17.9s\n",
      "43:\tlearn: 1.5417087\ttotal: 5.01s\tremaining: 17.8s\n",
      "44:\tlearn: 1.5396508\ttotal: 5.12s\tremaining: 17.6s\n",
      "45:\tlearn: 1.5380387\ttotal: 5.24s\tremaining: 17.5s\n",
      "46:\tlearn: 1.5366792\ttotal: 5.35s\tremaining: 17.4s\n",
      "47:\tlearn: 1.5345339\ttotal: 5.47s\tremaining: 17.3s\n",
      "48:\tlearn: 1.5332675\ttotal: 5.58s\tremaining: 17.2s\n",
      "49:\tlearn: 1.5314858\ttotal: 5.69s\tremaining: 17.1s\n",
      "50:\tlearn: 1.5299564\ttotal: 5.8s\tremaining: 16.9s\n",
      "51:\tlearn: 1.5285889\ttotal: 5.91s\tremaining: 16.8s\n",
      "52:\tlearn: 1.5270820\ttotal: 6.02s\tremaining: 16.7s\n",
      "53:\tlearn: 1.5258352\ttotal: 6.13s\tremaining: 16.6s\n",
      "54:\tlearn: 1.5249761\ttotal: 6.24s\tremaining: 16.4s\n",
      "55:\tlearn: 1.5240026\ttotal: 6.35s\tremaining: 16.3s\n",
      "56:\tlearn: 1.5229967\ttotal: 6.46s\tremaining: 16.2s\n",
      "57:\tlearn: 1.5215486\ttotal: 6.57s\tremaining: 16.1s\n",
      "58:\tlearn: 1.5195793\ttotal: 6.68s\tremaining: 16s\n",
      "59:\tlearn: 1.5185079\ttotal: 6.79s\tremaining: 15.9s\n",
      "60:\tlearn: 1.5174167\ttotal: 6.9s\tremaining: 15.7s\n",
      "61:\tlearn: 1.5162715\ttotal: 7.01s\tremaining: 15.6s\n",
      "62:\tlearn: 1.5148305\ttotal: 7.12s\tremaining: 15.5s\n",
      "63:\tlearn: 1.5140807\ttotal: 7.23s\tremaining: 15.4s\n",
      "64:\tlearn: 1.5131502\ttotal: 7.34s\tremaining: 15.2s\n",
      "65:\tlearn: 1.5119188\ttotal: 7.46s\tremaining: 15.1s\n",
      "66:\tlearn: 1.5101472\ttotal: 7.57s\tremaining: 15s\n",
      "67:\tlearn: 1.5094561\ttotal: 7.67s\tremaining: 14.9s\n",
      "68:\tlearn: 1.5080063\ttotal: 7.79s\tremaining: 14.8s\n",
      "69:\tlearn: 1.5068896\ttotal: 7.91s\tremaining: 14.7s\n",
      "70:\tlearn: 1.5060582\ttotal: 8.02s\tremaining: 14.6s\n",
      "71:\tlearn: 1.5050246\ttotal: 8.13s\tremaining: 14.5s\n",
      "72:\tlearn: 1.5040841\ttotal: 8.24s\tremaining: 14.3s\n",
      "73:\tlearn: 1.5031556\ttotal: 8.36s\tremaining: 14.2s\n",
      "74:\tlearn: 1.5023067\ttotal: 8.47s\tremaining: 14.1s\n",
      "75:\tlearn: 1.5013220\ttotal: 8.61s\tremaining: 14s\n",
      "76:\tlearn: 1.4998409\ttotal: 8.73s\tremaining: 13.9s\n",
      "77:\tlearn: 1.4984917\ttotal: 8.84s\tremaining: 13.8s\n",
      "78:\tlearn: 1.4978521\ttotal: 8.94s\tremaining: 13.7s\n",
      "79:\tlearn: 1.4969654\ttotal: 9.05s\tremaining: 13.6s\n",
      "80:\tlearn: 1.4959612\ttotal: 9.16s\tremaining: 13.5s\n",
      "81:\tlearn: 1.4949530\ttotal: 9.27s\tremaining: 13.3s\n",
      "82:\tlearn: 1.4942074\ttotal: 9.37s\tremaining: 13.2s\n",
      "83:\tlearn: 1.4931445\ttotal: 9.48s\tremaining: 13.1s\n",
      "84:\tlearn: 1.4925106\ttotal: 9.59s\tremaining: 13s\n",
      "85:\tlearn: 1.4916562\ttotal: 9.7s\tremaining: 12.9s\n",
      "86:\tlearn: 1.4908532\ttotal: 9.81s\tremaining: 12.7s\n",
      "87:\tlearn: 1.4901622\ttotal: 9.92s\tremaining: 12.6s\n",
      "88:\tlearn: 1.4891343\ttotal: 10s\tremaining: 12.5s\n",
      "89:\tlearn: 1.4880654\ttotal: 10.1s\tremaining: 12.4s\n",
      "90:\tlearn: 1.4868473\ttotal: 10.3s\tremaining: 12.3s\n",
      "91:\tlearn: 1.4858264\ttotal: 10.4s\tremaining: 12.2s\n",
      "92:\tlearn: 1.4853515\ttotal: 10.5s\tremaining: 12.1s\n",
      "93:\tlearn: 1.4844518\ttotal: 10.6s\tremaining: 11.9s\n",
      "94:\tlearn: 1.4836867\ttotal: 10.7s\tremaining: 11.8s\n",
      "95:\tlearn: 1.4826376\ttotal: 10.8s\tremaining: 11.7s\n",
      "96:\tlearn: 1.4817862\ttotal: 10.9s\tremaining: 11.6s\n",
      "97:\tlearn: 1.4811103\ttotal: 11s\tremaining: 11.5s\n",
      "98:\tlearn: 1.4798062\ttotal: 11.1s\tremaining: 11.4s\n",
      "99:\tlearn: 1.4791600\ttotal: 11.2s\tremaining: 11.2s\n",
      "100:\tlearn: 1.4784988\ttotal: 11.4s\tremaining: 11.1s\n",
      "101:\tlearn: 1.4774911\ttotal: 11.5s\tremaining: 11s\n",
      "102:\tlearn: 1.4768149\ttotal: 11.6s\tremaining: 10.9s\n",
      "103:\tlearn: 1.4762233\ttotal: 11.7s\tremaining: 10.8s\n",
      "104:\tlearn: 1.4758450\ttotal: 11.8s\tremaining: 10.7s\n",
      "105:\tlearn: 1.4750532\ttotal: 11.9s\tremaining: 10.5s\n",
      "106:\tlearn: 1.4746520\ttotal: 12s\tremaining: 10.4s\n",
      "107:\tlearn: 1.4743285\ttotal: 12.1s\tremaining: 10.3s\n",
      "108:\tlearn: 1.4737945\ttotal: 12.2s\tremaining: 10.2s\n",
      "109:\tlearn: 1.4723979\ttotal: 12.3s\tremaining: 10.1s\n",
      "110:\tlearn: 1.4717897\ttotal: 12.4s\tremaining: 9.98s\n",
      "111:\tlearn: 1.4710194\ttotal: 12.6s\tremaining: 9.87s\n",
      "112:\tlearn: 1.4705118\ttotal: 12.7s\tremaining: 9.75s\n",
      "113:\tlearn: 1.4700229\ttotal: 12.8s\tremaining: 9.64s\n",
      "114:\tlearn: 1.4695559\ttotal: 12.9s\tremaining: 9.53s\n",
      "115:\tlearn: 1.4687609\ttotal: 13s\tremaining: 9.41s\n",
      "116:\tlearn: 1.4680818\ttotal: 13.1s\tremaining: 9.3s\n",
      "117:\tlearn: 1.4672737\ttotal: 13.2s\tremaining: 9.19s\n",
      "118:\tlearn: 1.4663351\ttotal: 13.3s\tremaining: 9.08s\n",
      "119:\tlearn: 1.4655471\ttotal: 13.4s\tremaining: 8.96s\n",
      "120:\tlearn: 1.4647454\ttotal: 13.6s\tremaining: 8.85s\n",
      "121:\tlearn: 1.4640136\ttotal: 13.7s\tremaining: 8.74s\n",
      "122:\tlearn: 1.4631711\ttotal: 13.8s\tremaining: 8.62s\n",
      "123:\tlearn: 1.4624129\ttotal: 13.9s\tremaining: 8.51s\n",
      "124:\tlearn: 1.4618471\ttotal: 14s\tremaining: 8.4s\n",
      "125:\tlearn: 1.4612351\ttotal: 14.1s\tremaining: 8.28s\n",
      "126:\tlearn: 1.4607431\ttotal: 14.2s\tremaining: 8.17s\n",
      "127:\tlearn: 1.4594150\ttotal: 14.3s\tremaining: 8.06s\n",
      "128:\tlearn: 1.4590063\ttotal: 14.4s\tremaining: 7.95s\n",
      "129:\tlearn: 1.4582467\ttotal: 14.6s\tremaining: 7.83s\n",
      "130:\tlearn: 1.4575860\ttotal: 14.7s\tremaining: 7.72s\n",
      "131:\tlearn: 1.4567353\ttotal: 14.8s\tremaining: 7.61s\n",
      "132:\tlearn: 1.4564232\ttotal: 14.9s\tremaining: 7.49s\n",
      "133:\tlearn: 1.4554165\ttotal: 15s\tremaining: 7.38s\n",
      "134:\tlearn: 1.4546523\ttotal: 15.1s\tremaining: 7.26s\n",
      "135:\tlearn: 1.4538759\ttotal: 15.2s\tremaining: 7.15s\n",
      "136:\tlearn: 1.4530195\ttotal: 15.3s\tremaining: 7.04s\n",
      "137:\tlearn: 1.4522976\ttotal: 15.4s\tremaining: 6.93s\n",
      "138:\tlearn: 1.4515269\ttotal: 15.5s\tremaining: 6.82s\n",
      "139:\tlearn: 1.4509811\ttotal: 15.7s\tremaining: 6.71s\n",
      "140:\tlearn: 1.4501989\ttotal: 15.8s\tremaining: 6.59s\n",
      "141:\tlearn: 1.4496565\ttotal: 15.9s\tremaining: 6.48s\n",
      "142:\tlearn: 1.4487931\ttotal: 16s\tremaining: 6.37s\n",
      "143:\tlearn: 1.4483228\ttotal: 16.1s\tremaining: 6.26s\n",
      "144:\tlearn: 1.4480226\ttotal: 16.2s\tremaining: 6.14s\n",
      "145:\tlearn: 1.4475087\ttotal: 16.3s\tremaining: 6.03s\n",
      "146:\tlearn: 1.4472377\ttotal: 16.4s\tremaining: 5.91s\n",
      "147:\tlearn: 1.4465957\ttotal: 16.5s\tremaining: 5.81s\n",
      "148:\tlearn: 1.4459742\ttotal: 16.6s\tremaining: 5.69s\n",
      "149:\tlearn: 1.4453147\ttotal: 16.7s\tremaining: 5.58s\n",
      "150:\tlearn: 1.4449491\ttotal: 16.8s\tremaining: 5.46s\n",
      "151:\tlearn: 1.4442319\ttotal: 17s\tremaining: 5.36s\n",
      "152:\tlearn: 1.4434437\ttotal: 17.1s\tremaining: 5.24s\n",
      "153:\tlearn: 1.4425868\ttotal: 17.2s\tremaining: 5.13s\n",
      "154:\tlearn: 1.4419302\ttotal: 17.3s\tremaining: 5.02s\n",
      "155:\tlearn: 1.4409147\ttotal: 17.4s\tremaining: 4.91s\n",
      "156:\tlearn: 1.4403639\ttotal: 17.5s\tremaining: 4.8s\n",
      "157:\tlearn: 1.4396844\ttotal: 17.6s\tremaining: 4.68s\n",
      "158:\tlearn: 1.4392644\ttotal: 17.7s\tremaining: 4.57s\n",
      "159:\tlearn: 1.4386703\ttotal: 17.8s\tremaining: 4.46s\n",
      "160:\tlearn: 1.4381583\ttotal: 17.9s\tremaining: 4.34s\n",
      "161:\tlearn: 1.4375889\ttotal: 18s\tremaining: 4.23s\n",
      "162:\tlearn: 1.4371967\ttotal: 18.2s\tremaining: 4.12s\n",
      "163:\tlearn: 1.4368170\ttotal: 18.3s\tremaining: 4.01s\n",
      "164:\tlearn: 1.4362045\ttotal: 18.4s\tremaining: 3.9s\n",
      "165:\tlearn: 1.4354276\ttotal: 18.5s\tremaining: 3.79s\n",
      "166:\tlearn: 1.4345732\ttotal: 18.6s\tremaining: 3.67s\n",
      "167:\tlearn: 1.4340382\ttotal: 18.7s\tremaining: 3.56s\n",
      "168:\tlearn: 1.4334673\ttotal: 18.8s\tremaining: 3.45s\n",
      "169:\tlearn: 1.4327391\ttotal: 18.9s\tremaining: 3.34s\n",
      "170:\tlearn: 1.4321274\ttotal: 19s\tremaining: 3.23s\n",
      "171:\tlearn: 1.4314014\ttotal: 19.1s\tremaining: 3.12s\n",
      "172:\tlearn: 1.4303407\ttotal: 19.3s\tremaining: 3s\n",
      "173:\tlearn: 1.4290722\ttotal: 19.4s\tremaining: 2.89s\n",
      "174:\tlearn: 1.4283626\ttotal: 19.5s\tremaining: 2.78s\n",
      "175:\tlearn: 1.4276225\ttotal: 19.6s\tremaining: 2.67s\n",
      "176:\tlearn: 1.4268895\ttotal: 19.7s\tremaining: 2.56s\n",
      "177:\tlearn: 1.4258372\ttotal: 19.8s\tremaining: 2.45s\n",
      "178:\tlearn: 1.4253565\ttotal: 19.9s\tremaining: 2.33s\n",
      "179:\tlearn: 1.4247496\ttotal: 20s\tremaining: 2.22s\n",
      "180:\tlearn: 1.4243490\ttotal: 20.1s\tremaining: 2.11s\n",
      "181:\tlearn: 1.4238534\ttotal: 20.2s\tremaining: 2s\n",
      "182:\tlearn: 1.4230082\ttotal: 20.4s\tremaining: 1.89s\n",
      "183:\tlearn: 1.4225074\ttotal: 20.5s\tremaining: 1.78s\n",
      "184:\tlearn: 1.4220565\ttotal: 20.6s\tremaining: 1.67s\n",
      "185:\tlearn: 1.4212762\ttotal: 20.7s\tremaining: 1.56s\n",
      "186:\tlearn: 1.4202744\ttotal: 20.8s\tremaining: 1.45s\n",
      "187:\tlearn: 1.4197514\ttotal: 20.9s\tremaining: 1.33s\n",
      "188:\tlearn: 1.4190986\ttotal: 21s\tremaining: 1.22s\n",
      "189:\tlearn: 1.4182886\ttotal: 21.1s\tremaining: 1.11s\n",
      "190:\tlearn: 1.4173653\ttotal: 21.2s\tremaining: 1s\n",
      "191:\tlearn: 1.4166328\ttotal: 21.3s\tremaining: 889ms\n",
      "192:\tlearn: 1.4159475\ttotal: 21.4s\tremaining: 778ms\n",
      "193:\tlearn: 1.4154062\ttotal: 21.6s\tremaining: 667ms\n",
      "194:\tlearn: 1.4143408\ttotal: 21.7s\tremaining: 555ms\n",
      "195:\tlearn: 1.4139359\ttotal: 21.8s\tremaining: 444ms\n",
      "196:\tlearn: 1.4133521\ttotal: 21.9s\tremaining: 333ms\n",
      "197:\tlearn: 1.4127642\ttotal: 22s\tremaining: 222ms\n",
      "198:\tlearn: 1.4122627\ttotal: 22.1s\tremaining: 111ms\n",
      "199:\tlearn: 1.4116733\ttotal: 22.2s\tremaining: 0us\n"
     ]
    },
    {
     "output_type": "execute_result",
     "data": {
      "text/plain": [
       "GridSearchCV(cv=10,\n",
       "             estimator=Pipeline(steps=[('classifier',\n",
       "                                        <catboost.core.CatBoostClassifier object at 0x0000028171FD6648>)]),\n",
       "             n_jobs=-1,\n",
       "             param_grid={'classifier': [<catboost.core.CatBoostClassifier object at 0x000002817A02CF88>],\n",
       "                         'classifier__depth': [8],\n",
       "                         'classifier__iterations': [200],\n",
       "                         'classifier__l2_leaf_reg': [3],\n",
       "                         'classifier__learning_rate': [0.08]},\n",
       "             verbose=1)"
      ]
     },
     "metadata": {},
     "execution_count": 375
    }
   ],
   "source": [
    "model.fit(X_train, y_train)"
   ]
  },
  {
   "cell_type": "code",
   "execution_count": 376,
   "metadata": {},
   "outputs": [
    {
     "output_type": "stream",
     "name": "stdout",
     "text": [
      "Pipeline(steps=[('classifier',\n                 <catboost.core.CatBoostClassifier object at 0x000002817A173908>)])\n0.41768310013658283\n{'classifier': <catboost.core.CatBoostClassifier object at 0x000002817A02CF88>, 'classifier__depth': 8, 'classifier__iterations': 200, 'classifier__l2_leaf_reg': 3, 'classifier__learning_rate': 0.08}\n"
     ]
    }
   ],
   "source": [
    "print(model.best_estimator_)\n",
    "print(model.best_score_)\n",
    "print(model.best_params_)"
   ]
  },
  {
   "cell_type": "markdown",
   "metadata": {},
   "source": [
    "-----------------------------------------------------------------"
   ]
  },
  {
   "cell_type": "markdown",
   "metadata": {},
   "source": [
    "## Una vez listo el modelo, toca predecir con el dataset de predicción "
   ]
  },
  {
   "cell_type": "markdown",
   "metadata": {},
   "source": [
    "Definición de **modelo que está listo**. \n",
    "\n",
    "_Tras hacer suficientes pruebas, analizar los datos, hacer feature engineering, probar diferentes modelos con diferentes parámetros, es con este con el que observo mejores métricas y menos overfitting. ¡Cuidado con el overfitting aquí! Si vuestro modelo aprende muy bien de estos datos pero hay overfitting cuando le pasemos los datos desconocidos de `diamonds_test.csv` nos arriesgamos a que digamos, no salga lo esperado._"
   ]
  },
  {
   "cell_type": "markdown",
   "metadata": {},
   "source": [
    "### 1. Entrena dicho modelo con TODOS tus datos de train, esto es con `diamonds_train.csv` al completo.\n",
    "\n",
    "**CON LAS TRANSFORMACIONES QUE LE HAYAS REALIZADO A `X` INCLUÍDAS.**\n",
    "\n",
    "Véase:\n",
    "- Estandarización/Normalización\n",
    "- Eliminación de Outliers\n",
    "- Eliminación de columnas\n",
    "- Creación de columnas nuevas\n",
    "- Gestión de valores nulos\n",
    "- Y un largo etcétera de técnicas que como Data Scientist hayas considerado las mejores para tu dataset."
   ]
  },
  {
   "cell_type": "markdown",
   "metadata": {},
   "source": [
    "### 2. Carga los datos de `diamonds_test.csv` para predecir.\n",
    "\n",
    "**¿De dónde saco `diamonds_test.csv`?**"
   ]
  },
  {
   "cell_type": "code",
   "execution_count": 377,
   "metadata": {},
   "outputs": [
    {
     "output_type": "execute_result",
     "data": {
      "text/plain": [
       "        Unique code for the Hospital Unique code for the type of Hospital  \\\n",
       "0                                                                           \n",
       "314114                            19                                    a   \n",
       "208989                            15                                    c   \n",
       "305872                            17                                    e   \n",
       "266099                             3                                    c   \n",
       "13228                              6                                    a   \n",
       "\n",
       "        City Code of the Hospital Region Code of the Hospital  \\\n",
       "0                                                               \n",
       "314114                          7                           Y   \n",
       "208989                          5                           Z   \n",
       "305872                          1                           X   \n",
       "266099                          3                           Z   \n",
       "13228                           6                           X   \n",
       "\n",
       "        Number of Extra rooms available in the Hospital  \\\n",
       "0                                                         \n",
       "314114                                                4   \n",
       "208989                                                3   \n",
       "305872                                                4   \n",
       "266099                                                4   \n",
       "13228                                                 4   \n",
       "\n",
       "       Department overlooking the case Code for the Ward type  \\\n",
       "0                                                               \n",
       "314114                      gynecology                      S   \n",
       "208989                      gynecology                      S   \n",
       "305872                      gynecology                      R   \n",
       "266099              TB & Chest disease                      R   \n",
       "13228                       gynecology                      R   \n",
       "\n",
       "       Code for the Ward Facility  Condition of Bed in the Ward  \\\n",
       "0                                                                 \n",
       "314114                          C                           2.0   \n",
       "208989                          F                           2.0   \n",
       "305872                          E                           4.0   \n",
       "266099                          A                           2.0   \n",
       "13228                           F                           1.0   \n",
       "\n",
       "        Unique Patient Id  City Code for the patient  \\\n",
       "0                                                      \n",
       "314114              59278                        8.0   \n",
       "208989             102253                       15.0   \n",
       "305872               5828                        4.0   \n",
       "266099              56642                        9.0   \n",
       "13228              116266                        8.0   \n",
       "\n",
       "       Admission Type registered by the Hospital  \\\n",
       "0                                                  \n",
       "314114                                 Emergency   \n",
       "208989                                    Trauma   \n",
       "305872                                 Emergency   \n",
       "266099                                    Urgent   \n",
       "13228                                  Emergency   \n",
       "\n",
       "       Severity of the illness recorded at the time of admission  \\\n",
       "0                                                                  \n",
       "314114                                              Minor          \n",
       "208989                                           Moderate          \n",
       "305872                                              Minor          \n",
       "266099                                            Extreme          \n",
       "13228                                               Minor          \n",
       "\n",
       "        Number of Visitors with the patient Age of the patient  \\\n",
       "0                                                                \n",
       "314114                                    2              41-50   \n",
       "208989                                    3              31-40   \n",
       "305872                                    3              71-80   \n",
       "266099                                    4              31-40   \n",
       "13228                                     3              21-30   \n",
       "\n",
       "        Deposit at the Admission Time  \n",
       "0                                      \n",
       "314114                         4778.0  \n",
       "208989                         5734.0  \n",
       "305872                         5064.0  \n",
       "266099                         3254.0  \n",
       "13228                          4639.0  "
      ],
      "text/html": "<div>\n<style scoped>\n    .dataframe tbody tr th:only-of-type {\n        vertical-align: middle;\n    }\n\n    .dataframe tbody tr th {\n        vertical-align: top;\n    }\n\n    .dataframe thead th {\n        text-align: right;\n    }\n</style>\n<table border=\"1\" class=\"dataframe\">\n  <thead>\n    <tr style=\"text-align: right;\">\n      <th></th>\n      <th>Unique code for the Hospital</th>\n      <th>Unique code for the type of Hospital</th>\n      <th>City Code of the Hospital</th>\n      <th>Region Code of the Hospital</th>\n      <th>Number of Extra rooms available in the Hospital</th>\n      <th>Department overlooking the case</th>\n      <th>Code for the Ward type</th>\n      <th>Code for the Ward Facility</th>\n      <th>Condition of Bed in the Ward</th>\n      <th>Unique Patient Id</th>\n      <th>City Code for the patient</th>\n      <th>Admission Type registered by the Hospital</th>\n      <th>Severity of the illness recorded at the time of admission</th>\n      <th>Number of Visitors with the patient</th>\n      <th>Age of the patient</th>\n      <th>Deposit at the Admission Time</th>\n    </tr>\n    <tr>\n      <th>0</th>\n      <th></th>\n      <th></th>\n      <th></th>\n      <th></th>\n      <th></th>\n      <th></th>\n      <th></th>\n      <th></th>\n      <th></th>\n      <th></th>\n      <th></th>\n      <th></th>\n      <th></th>\n      <th></th>\n      <th></th>\n      <th></th>\n    </tr>\n  </thead>\n  <tbody>\n    <tr>\n      <th>314114</th>\n      <td>19</td>\n      <td>a</td>\n      <td>7</td>\n      <td>Y</td>\n      <td>4</td>\n      <td>gynecology</td>\n      <td>S</td>\n      <td>C</td>\n      <td>2.0</td>\n      <td>59278</td>\n      <td>8.0</td>\n      <td>Emergency</td>\n      <td>Minor</td>\n      <td>2</td>\n      <td>41-50</td>\n      <td>4778.0</td>\n    </tr>\n    <tr>\n      <th>208989</th>\n      <td>15</td>\n      <td>c</td>\n      <td>5</td>\n      <td>Z</td>\n      <td>3</td>\n      <td>gynecology</td>\n      <td>S</td>\n      <td>F</td>\n      <td>2.0</td>\n      <td>102253</td>\n      <td>15.0</td>\n      <td>Trauma</td>\n      <td>Moderate</td>\n      <td>3</td>\n      <td>31-40</td>\n      <td>5734.0</td>\n    </tr>\n    <tr>\n      <th>305872</th>\n      <td>17</td>\n      <td>e</td>\n      <td>1</td>\n      <td>X</td>\n      <td>4</td>\n      <td>gynecology</td>\n      <td>R</td>\n      <td>E</td>\n      <td>4.0</td>\n      <td>5828</td>\n      <td>4.0</td>\n      <td>Emergency</td>\n      <td>Minor</td>\n      <td>3</td>\n      <td>71-80</td>\n      <td>5064.0</td>\n    </tr>\n    <tr>\n      <th>266099</th>\n      <td>3</td>\n      <td>c</td>\n      <td>3</td>\n      <td>Z</td>\n      <td>4</td>\n      <td>TB &amp; Chest disease</td>\n      <td>R</td>\n      <td>A</td>\n      <td>2.0</td>\n      <td>56642</td>\n      <td>9.0</td>\n      <td>Urgent</td>\n      <td>Extreme</td>\n      <td>4</td>\n      <td>31-40</td>\n      <td>3254.0</td>\n    </tr>\n    <tr>\n      <th>13228</th>\n      <td>6</td>\n      <td>a</td>\n      <td>6</td>\n      <td>X</td>\n      <td>4</td>\n      <td>gynecology</td>\n      <td>R</td>\n      <td>F</td>\n      <td>1.0</td>\n      <td>116266</td>\n      <td>8.0</td>\n      <td>Emergency</td>\n      <td>Minor</td>\n      <td>3</td>\n      <td>21-30</td>\n      <td>4639.0</td>\n    </tr>\n  </tbody>\n</table>\n</div>"
     },
     "metadata": {},
     "execution_count": 377
    }
   ],
   "source": [
    "X_pred = df_test\n",
    "X_pred.columns = X_train.columns\n",
    "X_pred.head()"
   ]
  },
  {
   "cell_type": "code",
   "execution_count": 378,
   "metadata": {},
   "outputs": [],
   "source": [
    "severity_labels = ['Minor', 'Moderate', 'Extreme']\n",
    "age_labels = ['0-10','11-20','21-30','31-40','41-50','51-60','61-70','71-80','81-90','91-100']\n",
    "\n",
    "\n",
    "oe_2 = preprocessing.OrdinalEncoder(categories=[severity_labels, age_labels])"
   ]
  },
  {
   "cell_type": "code",
   "execution_count": 379,
   "metadata": {},
   "outputs": [
    {
     "output_type": "execute_result",
     "data": {
      "text/plain": [
       "array([[0., 4.],\n",
       "       [1., 3.],\n",
       "       [0., 7.],\n",
       "       ...,\n",
       "       [0., 3.],\n",
       "       [2., 3.],\n",
       "       [1., 5.]])"
      ]
     },
     "metadata": {},
     "execution_count": 379
    }
   ],
   "source": [
    "X_encoded = oe_2.fit_transform(X_pred[[\"Severity of the illness recorded at the time of admission\", \"Age of the patient\"]])\n",
    "X_encoded"
   ]
  },
  {
   "cell_type": "code",
   "execution_count": 380,
   "metadata": {},
   "outputs": [
    {
     "output_type": "execute_result",
     "data": {
      "text/plain": [
       "        Unique code for the Hospital Unique code for the type of Hospital  \\\n",
       "0                                                                           \n",
       "314114                            19                                    a   \n",
       "208989                            15                                    c   \n",
       "305872                            17                                    e   \n",
       "266099                             3                                    c   \n",
       "13228                              6                                    a   \n",
       "\n",
       "        City Code of the Hospital Region Code of the Hospital  \\\n",
       "0                                                               \n",
       "314114                          7                           Y   \n",
       "208989                          5                           Z   \n",
       "305872                          1                           X   \n",
       "266099                          3                           Z   \n",
       "13228                           6                           X   \n",
       "\n",
       "        Number of Extra rooms available in the Hospital  \\\n",
       "0                                                         \n",
       "314114                                                4   \n",
       "208989                                                3   \n",
       "305872                                                4   \n",
       "266099                                                4   \n",
       "13228                                                 4   \n",
       "\n",
       "       Department overlooking the case Code for the Ward type  \\\n",
       "0                                                               \n",
       "314114                      gynecology                      S   \n",
       "208989                      gynecology                      S   \n",
       "305872                      gynecology                      R   \n",
       "266099              TB & Chest disease                      R   \n",
       "13228                       gynecology                      R   \n",
       "\n",
       "       Code for the Ward Facility  Condition of Bed in the Ward  \\\n",
       "0                                                                 \n",
       "314114                          C                           2.0   \n",
       "208989                          F                           2.0   \n",
       "305872                          E                           4.0   \n",
       "266099                          A                           2.0   \n",
       "13228                           F                           1.0   \n",
       "\n",
       "        Unique Patient Id  City Code for the patient  \\\n",
       "0                                                      \n",
       "314114              59278                        8.0   \n",
       "208989             102253                       15.0   \n",
       "305872               5828                        4.0   \n",
       "266099              56642                        9.0   \n",
       "13228              116266                        8.0   \n",
       "\n",
       "       Admission Type registered by the Hospital  \\\n",
       "0                                                  \n",
       "314114                                 Emergency   \n",
       "208989                                    Trauma   \n",
       "305872                                 Emergency   \n",
       "266099                                    Urgent   \n",
       "13228                                  Emergency   \n",
       "\n",
       "        Severity of the illness recorded at the time of admission  \\\n",
       "0                                                                   \n",
       "314114                                                0.0           \n",
       "208989                                                1.0           \n",
       "305872                                                0.0           \n",
       "266099                                                2.0           \n",
       "13228                                                 0.0           \n",
       "\n",
       "        Number of Visitors with the patient  Age of the patient  \\\n",
       "0                                                                 \n",
       "314114                                    2                 4.0   \n",
       "208989                                    3                 3.0   \n",
       "305872                                    3                 7.0   \n",
       "266099                                    4                 3.0   \n",
       "13228                                     3                 2.0   \n",
       "\n",
       "        Deposit at the Admission Time  \n",
       "0                                      \n",
       "314114                         4778.0  \n",
       "208989                         5734.0  \n",
       "305872                         5064.0  \n",
       "266099                         3254.0  \n",
       "13228                          4639.0  "
      ],
      "text/html": "<div>\n<style scoped>\n    .dataframe tbody tr th:only-of-type {\n        vertical-align: middle;\n    }\n\n    .dataframe tbody tr th {\n        vertical-align: top;\n    }\n\n    .dataframe thead th {\n        text-align: right;\n    }\n</style>\n<table border=\"1\" class=\"dataframe\">\n  <thead>\n    <tr style=\"text-align: right;\">\n      <th></th>\n      <th>Unique code for the Hospital</th>\n      <th>Unique code for the type of Hospital</th>\n      <th>City Code of the Hospital</th>\n      <th>Region Code of the Hospital</th>\n      <th>Number of Extra rooms available in the Hospital</th>\n      <th>Department overlooking the case</th>\n      <th>Code for the Ward type</th>\n      <th>Code for the Ward Facility</th>\n      <th>Condition of Bed in the Ward</th>\n      <th>Unique Patient Id</th>\n      <th>City Code for the patient</th>\n      <th>Admission Type registered by the Hospital</th>\n      <th>Severity of the illness recorded at the time of admission</th>\n      <th>Number of Visitors with the patient</th>\n      <th>Age of the patient</th>\n      <th>Deposit at the Admission Time</th>\n    </tr>\n    <tr>\n      <th>0</th>\n      <th></th>\n      <th></th>\n      <th></th>\n      <th></th>\n      <th></th>\n      <th></th>\n      <th></th>\n      <th></th>\n      <th></th>\n      <th></th>\n      <th></th>\n      <th></th>\n      <th></th>\n      <th></th>\n      <th></th>\n      <th></th>\n    </tr>\n  </thead>\n  <tbody>\n    <tr>\n      <th>314114</th>\n      <td>19</td>\n      <td>a</td>\n      <td>7</td>\n      <td>Y</td>\n      <td>4</td>\n      <td>gynecology</td>\n      <td>S</td>\n      <td>C</td>\n      <td>2.0</td>\n      <td>59278</td>\n      <td>8.0</td>\n      <td>Emergency</td>\n      <td>0.0</td>\n      <td>2</td>\n      <td>4.0</td>\n      <td>4778.0</td>\n    </tr>\n    <tr>\n      <th>208989</th>\n      <td>15</td>\n      <td>c</td>\n      <td>5</td>\n      <td>Z</td>\n      <td>3</td>\n      <td>gynecology</td>\n      <td>S</td>\n      <td>F</td>\n      <td>2.0</td>\n      <td>102253</td>\n      <td>15.0</td>\n      <td>Trauma</td>\n      <td>1.0</td>\n      <td>3</td>\n      <td>3.0</td>\n      <td>5734.0</td>\n    </tr>\n    <tr>\n      <th>305872</th>\n      <td>17</td>\n      <td>e</td>\n      <td>1</td>\n      <td>X</td>\n      <td>4</td>\n      <td>gynecology</td>\n      <td>R</td>\n      <td>E</td>\n      <td>4.0</td>\n      <td>5828</td>\n      <td>4.0</td>\n      <td>Emergency</td>\n      <td>0.0</td>\n      <td>3</td>\n      <td>7.0</td>\n      <td>5064.0</td>\n    </tr>\n    <tr>\n      <th>266099</th>\n      <td>3</td>\n      <td>c</td>\n      <td>3</td>\n      <td>Z</td>\n      <td>4</td>\n      <td>TB &amp; Chest disease</td>\n      <td>R</td>\n      <td>A</td>\n      <td>2.0</td>\n      <td>56642</td>\n      <td>9.0</td>\n      <td>Urgent</td>\n      <td>2.0</td>\n      <td>4</td>\n      <td>3.0</td>\n      <td>3254.0</td>\n    </tr>\n    <tr>\n      <th>13228</th>\n      <td>6</td>\n      <td>a</td>\n      <td>6</td>\n      <td>X</td>\n      <td>4</td>\n      <td>gynecology</td>\n      <td>R</td>\n      <td>F</td>\n      <td>1.0</td>\n      <td>116266</td>\n      <td>8.0</td>\n      <td>Emergency</td>\n      <td>0.0</td>\n      <td>3</td>\n      <td>2.0</td>\n      <td>4639.0</td>\n    </tr>\n  </tbody>\n</table>\n</div>"
     },
     "metadata": {},
     "execution_count": 380
    }
   ],
   "source": [
    "X_pred[[\"Severity of the illness recorded at the time of admission\", \"Age of the patient\"]] = X_encoded\n",
    "X_pred.head()"
   ]
  },
  {
   "cell_type": "code",
   "execution_count": 381,
   "metadata": {},
   "outputs": [
    {
     "output_type": "execute_result",
     "data": {
      "text/plain": [
       "        Unique code for the Hospital  Unique code for the type of Hospital  \\\n",
       "0                                                                            \n",
       "314114                            19                                     0   \n",
       "208989                            15                                     2   \n",
       "305872                            17                                     4   \n",
       "266099                             3                                     2   \n",
       "13228                              6                                     0   \n",
       "\n",
       "        City Code of the Hospital  Region Code of the Hospital  \\\n",
       "0                                                                \n",
       "314114                          7                            1   \n",
       "208989                          5                            2   \n",
       "305872                          1                            0   \n",
       "266099                          3                            2   \n",
       "13228                           6                            0   \n",
       "\n",
       "        Number of Extra rooms available in the Hospital  \\\n",
       "0                                                         \n",
       "314114                                                4   \n",
       "208989                                                3   \n",
       "305872                                                4   \n",
       "266099                                                4   \n",
       "13228                                                 4   \n",
       "\n",
       "        Department overlooking the case  Code for the Ward type  \\\n",
       "0                                                                 \n",
       "314114                                2                       3   \n",
       "208989                                2                       3   \n",
       "305872                                2                       2   \n",
       "266099                                0                       2   \n",
       "13228                                 2                       2   \n",
       "\n",
       "        Code for the Ward Facility  Condition of Bed in the Ward  \\\n",
       "0                                                                  \n",
       "314114                           2                           2.0   \n",
       "208989                           5                           2.0   \n",
       "305872                           4                           4.0   \n",
       "266099                           0                           2.0   \n",
       "13228                            5                           1.0   \n",
       "\n",
       "        Unique Patient Id  City Code for the patient  \\\n",
       "0                                                      \n",
       "314114              59278                        8.0   \n",
       "208989             102253                       15.0   \n",
       "305872               5828                        4.0   \n",
       "266099              56642                        9.0   \n",
       "13228              116266                        8.0   \n",
       "\n",
       "        Admission Type registered by the Hospital  \\\n",
       "0                                                   \n",
       "314114                                          0   \n",
       "208989                                          1   \n",
       "305872                                          0   \n",
       "266099                                          2   \n",
       "13228                                           0   \n",
       "\n",
       "        Severity of the illness recorded at the time of admission  \\\n",
       "0                                                                   \n",
       "314114                                                0.0           \n",
       "208989                                                1.0           \n",
       "305872                                                0.0           \n",
       "266099                                                2.0           \n",
       "13228                                                 0.0           \n",
       "\n",
       "        Number of Visitors with the patient  Age of the patient  \\\n",
       "0                                                                 \n",
       "314114                                    2                 4.0   \n",
       "208989                                    3                 3.0   \n",
       "305872                                    3                 7.0   \n",
       "266099                                    4                 3.0   \n",
       "13228                                     3                 2.0   \n",
       "\n",
       "        Deposit at the Admission Time  \n",
       "0                                      \n",
       "314114                         4778.0  \n",
       "208989                         5734.0  \n",
       "305872                         5064.0  \n",
       "266099                         3254.0  \n",
       "13228                          4639.0  "
      ],
      "text/html": "<div>\n<style scoped>\n    .dataframe tbody tr th:only-of-type {\n        vertical-align: middle;\n    }\n\n    .dataframe tbody tr th {\n        vertical-align: top;\n    }\n\n    .dataframe thead th {\n        text-align: right;\n    }\n</style>\n<table border=\"1\" class=\"dataframe\">\n  <thead>\n    <tr style=\"text-align: right;\">\n      <th></th>\n      <th>Unique code for the Hospital</th>\n      <th>Unique code for the type of Hospital</th>\n      <th>City Code of the Hospital</th>\n      <th>Region Code of the Hospital</th>\n      <th>Number of Extra rooms available in the Hospital</th>\n      <th>Department overlooking the case</th>\n      <th>Code for the Ward type</th>\n      <th>Code for the Ward Facility</th>\n      <th>Condition of Bed in the Ward</th>\n      <th>Unique Patient Id</th>\n      <th>City Code for the patient</th>\n      <th>Admission Type registered by the Hospital</th>\n      <th>Severity of the illness recorded at the time of admission</th>\n      <th>Number of Visitors with the patient</th>\n      <th>Age of the patient</th>\n      <th>Deposit at the Admission Time</th>\n    </tr>\n    <tr>\n      <th>0</th>\n      <th></th>\n      <th></th>\n      <th></th>\n      <th></th>\n      <th></th>\n      <th></th>\n      <th></th>\n      <th></th>\n      <th></th>\n      <th></th>\n      <th></th>\n      <th></th>\n      <th></th>\n      <th></th>\n      <th></th>\n      <th></th>\n    </tr>\n  </thead>\n  <tbody>\n    <tr>\n      <th>314114</th>\n      <td>19</td>\n      <td>0</td>\n      <td>7</td>\n      <td>1</td>\n      <td>4</td>\n      <td>2</td>\n      <td>3</td>\n      <td>2</td>\n      <td>2.0</td>\n      <td>59278</td>\n      <td>8.0</td>\n      <td>0</td>\n      <td>0.0</td>\n      <td>2</td>\n      <td>4.0</td>\n      <td>4778.0</td>\n    </tr>\n    <tr>\n      <th>208989</th>\n      <td>15</td>\n      <td>2</td>\n      <td>5</td>\n      <td>2</td>\n      <td>3</td>\n      <td>2</td>\n      <td>3</td>\n      <td>5</td>\n      <td>2.0</td>\n      <td>102253</td>\n      <td>15.0</td>\n      <td>1</td>\n      <td>1.0</td>\n      <td>3</td>\n      <td>3.0</td>\n      <td>5734.0</td>\n    </tr>\n    <tr>\n      <th>305872</th>\n      <td>17</td>\n      <td>4</td>\n      <td>1</td>\n      <td>0</td>\n      <td>4</td>\n      <td>2</td>\n      <td>2</td>\n      <td>4</td>\n      <td>4.0</td>\n      <td>5828</td>\n      <td>4.0</td>\n      <td>0</td>\n      <td>0.0</td>\n      <td>3</td>\n      <td>7.0</td>\n      <td>5064.0</td>\n    </tr>\n    <tr>\n      <th>266099</th>\n      <td>3</td>\n      <td>2</td>\n      <td>3</td>\n      <td>2</td>\n      <td>4</td>\n      <td>0</td>\n      <td>2</td>\n      <td>0</td>\n      <td>2.0</td>\n      <td>56642</td>\n      <td>9.0</td>\n      <td>2</td>\n      <td>2.0</td>\n      <td>4</td>\n      <td>3.0</td>\n      <td>3254.0</td>\n    </tr>\n    <tr>\n      <th>13228</th>\n      <td>6</td>\n      <td>0</td>\n      <td>6</td>\n      <td>0</td>\n      <td>4</td>\n      <td>2</td>\n      <td>2</td>\n      <td>5</td>\n      <td>1.0</td>\n      <td>116266</td>\n      <td>8.0</td>\n      <td>0</td>\n      <td>0.0</td>\n      <td>3</td>\n      <td>2.0</td>\n      <td>4639.0</td>\n    </tr>\n  </tbody>\n</table>\n</div>"
     },
     "metadata": {},
     "execution_count": 381
    }
   ],
   "source": [
    "col1_encoded = le.fit_transform(X_pred[\"Unique code for the type of Hospital\"])\n",
    "col2_encoded = le.fit_transform(X_pred[\"Department overlooking the case\"])\n",
    "col3_encoded = le.fit_transform(X_pred[\"Code for the Ward type\"])\n",
    "col4_encoded = le.fit_transform(X_pred[\"Code for the Ward Facility\"])\n",
    "col5_encoded = le.fit_transform(X_pred[\"Admission Type registered by the Hospital\"])\n",
    "col6_encoded = le.fit_transform(X_pred[\"Region Code of the Hospital\"])\n",
    "\n",
    "X_pred[\"Unique code for the type of Hospital\"] = col1_encoded\n",
    "X_pred[\"Department overlooking the case\"] = col2_encoded\n",
    "X_pred[\"Code for the Ward type\"] = col3_encoded\n",
    "X_pred[\"Code for the Ward Facility\"] = col4_encoded\n",
    "X_pred[\"Admission Type registered by the Hospital\"] = col5_encoded\n",
    "X_pred[\"Region Code of the Hospital\"] = col6_encoded\n",
    "X_pred.head()"
   ]
  },
  {
   "cell_type": "code",
   "execution_count": 382,
   "metadata": {},
   "outputs": [],
   "source": [
    "#PredictorScaler=MinMaxScaler()\n",
    "#PredictorScalerFit=PredictorScaler.fit(X_pred)\n",
    "#X_pred=PredictorScalerFit.transform(X_pred)"
   ]
  },
  {
   "cell_type": "markdown",
   "metadata": {},
   "source": [
    "Porque:\n",
    "    - SI EL ARRAY CON EL QUE HICISTEIS `.fit()` ERA DE 3 COLUMNAS, PARA `.predict()` DEBEN SER LAS MISMAS"
   ]
  },
  {
   "cell_type": "markdown",
   "metadata": {},
   "source": [
    "### 3. AHORA puedo hacer la predicción que será lo que subirás a Kaggle. "
   ]
  },
  {
   "cell_type": "markdown",
   "metadata": {},
   "source": [
    "**¿Qué es lo que subirás a Kaggle?**"
   ]
  },
  {
   "cell_type": "code",
   "execution_count": 383,
   "metadata": {},
   "outputs": [
    {
     "output_type": "stream",
     "name": "stdout",
     "text": [
      "133744\n"
     ]
    },
    {
     "output_type": "execute_result",
     "data": {
      "text/plain": [
       "array(['11-20', '51-60', '11-20', ..., '11-20', '21-30', '21-30'],\n",
       "      dtype=object)"
      ]
     },
     "metadata": {},
     "execution_count": 383
    }
   ],
   "source": [
    "predictions_submit = model.predict(X_pred).reshape(1,-1)[0]\n",
    "print(len(predictions_submit))\n",
    "predictions_submit"
   ]
  },
  {
   "cell_type": "markdown",
   "metadata": {},
   "source": [
    "**¡PERO! Para subir a Kaggle la predicción, ésta tendrá que tener una forma específica y no valdrá otra.**\n",
    "\n",
    "En este caso, la **MISMA** forma que `sample_submission.csv`. "
   ]
  },
  {
   "cell_type": "markdown",
   "metadata": {},
   "source": [
    "**¿De dónde saco `sample_submission.csv`?**"
   ]
  },
  {
   "cell_type": "code",
   "execution_count": 384,
   "metadata": {},
   "outputs": [],
   "source": [
    "sample = pd.read_csv(\"data/sample_submission.csv\")"
   ]
  },
  {
   "cell_type": "code",
   "execution_count": 385,
   "metadata": {},
   "outputs": [
    {
     "output_type": "execute_result",
     "data": {
      "text/plain": [
       "       id   days\n",
       "0  314114  11-20\n",
       "1  208989  31-40\n",
       "2  305872  81-90\n",
       "3  266099  21-30\n",
       "4   13228  31-40"
      ],
      "text/html": "<div>\n<style scoped>\n    .dataframe tbody tr th:only-of-type {\n        vertical-align: middle;\n    }\n\n    .dataframe tbody tr th {\n        vertical-align: top;\n    }\n\n    .dataframe thead th {\n        text-align: right;\n    }\n</style>\n<table border=\"1\" class=\"dataframe\">\n  <thead>\n    <tr style=\"text-align: right;\">\n      <th></th>\n      <th>id</th>\n      <th>days</th>\n    </tr>\n  </thead>\n  <tbody>\n    <tr>\n      <th>0</th>\n      <td>314114</td>\n      <td>11-20</td>\n    </tr>\n    <tr>\n      <th>1</th>\n      <td>208989</td>\n      <td>31-40</td>\n    </tr>\n    <tr>\n      <th>2</th>\n      <td>305872</td>\n      <td>81-90</td>\n    </tr>\n    <tr>\n      <th>3</th>\n      <td>266099</td>\n      <td>21-30</td>\n    </tr>\n    <tr>\n      <th>4</th>\n      <td>13228</td>\n      <td>31-40</td>\n    </tr>\n  </tbody>\n</table>\n</div>"
     },
     "metadata": {},
     "execution_count": 385
    }
   ],
   "source": [
    "sample.head()"
   ]
  },
  {
   "cell_type": "code",
   "execution_count": 386,
   "metadata": {},
   "outputs": [
    {
     "output_type": "execute_result",
     "data": {
      "text/plain": [
       "(133744, 2)"
      ]
     },
     "metadata": {},
     "execution_count": 386
    }
   ],
   "source": [
    "sample.shape"
   ]
  },
  {
   "cell_type": "markdown",
   "metadata": {},
   "source": [
    "### 4. Mete tus predicciones en un dataframe. \n",
    "\n",
    "En este caso, la **MISMA** forma que `sample_submission.csv`. "
   ]
  },
  {
   "cell_type": "code",
   "execution_count": 387,
   "metadata": {},
   "outputs": [],
   "source": [
    "submission = pd.DataFrame({\"id\": X_pred.index, \"days\": predictions_submit})"
   ]
  },
  {
   "cell_type": "code",
   "execution_count": 388,
   "metadata": {},
   "outputs": [
    {
     "output_type": "execute_result",
     "data": {
      "text/plain": [
       "       id   days\n",
       "0  314114  11-20\n",
       "1  208989  51-60\n",
       "2  305872  11-20\n",
       "3  266099  51-60\n",
       "4   13228  21-30"
      ],
      "text/html": "<div>\n<style scoped>\n    .dataframe tbody tr th:only-of-type {\n        vertical-align: middle;\n    }\n\n    .dataframe tbody tr th {\n        vertical-align: top;\n    }\n\n    .dataframe thead th {\n        text-align: right;\n    }\n</style>\n<table border=\"1\" class=\"dataframe\">\n  <thead>\n    <tr style=\"text-align: right;\">\n      <th></th>\n      <th>id</th>\n      <th>days</th>\n    </tr>\n  </thead>\n  <tbody>\n    <tr>\n      <th>0</th>\n      <td>314114</td>\n      <td>11-20</td>\n    </tr>\n    <tr>\n      <th>1</th>\n      <td>208989</td>\n      <td>51-60</td>\n    </tr>\n    <tr>\n      <th>2</th>\n      <td>305872</td>\n      <td>11-20</td>\n    </tr>\n    <tr>\n      <th>3</th>\n      <td>266099</td>\n      <td>51-60</td>\n    </tr>\n    <tr>\n      <th>4</th>\n      <td>13228</td>\n      <td>21-30</td>\n    </tr>\n  </tbody>\n</table>\n</div>"
     },
     "metadata": {},
     "execution_count": 388
    }
   ],
   "source": [
    "submission.head()"
   ]
  },
  {
   "cell_type": "code",
   "execution_count": 389,
   "metadata": {},
   "outputs": [
    {
     "output_type": "execute_result",
     "data": {
      "text/plain": [
       "(133744, 2)"
      ]
     },
     "metadata": {},
     "execution_count": 389
    }
   ],
   "source": [
    "submission.shape"
   ]
  },
  {
   "cell_type": "markdown",
   "metadata": {},
   "source": [
    "### 5. Pásale el CHEQUEATOR para comprobar que efectivamente está listo para subir a Kaggle."
   ]
  },
  {
   "cell_type": "code",
   "execution_count": 390,
   "metadata": {},
   "outputs": [],
   "source": [
    "def chequeator(df_to_submit):\n",
    "    \"\"\"\n",
    "    Esta función se asegura de que tu submission tenga la forma requerida por Kaggle.\n",
    "    \n",
    "    Si es así, se guardará el dataframe en un `csv` y estará listo para subir a Kaggle.\n",
    "    \n",
    "    Si no, LEE EL MENSAJE Y HAZLE CASO.\n",
    "    \n",
    "    Si aún no:\n",
    "    - apaga tu ordenador, \n",
    "    - date una vuelta, \n",
    "    - enciendelo otra vez, \n",
    "    - abre este notebook y \n",
    "    - leelo todo de nuevo. \n",
    "    Todos nos merecemos una segunda oportunidad. También tú.\n",
    "    \"\"\"\n",
    "    if df_to_submit.shape == sample.shape:\n",
    "        if df_to_submit.columns.all() == sample.columns.all():\n",
    "            if df_to_submit.id.all() == sample.id.all():\n",
    "                print(\"You're ready to submit!\")\n",
    "                submission.to_csv(\"submission1.csv\", index = False) #muy importante el index = False\n",
    "                urllib.request.urlretrieve(\"https://i.kym-cdn.com/photos/images/facebook/000/747/556/27a.jpg\", \"gfg.png\")     \n",
    "                img = Image.open(\"gfg.png\")\n",
    "                img.show()   \n",
    "            else:\n",
    "                print(\"Check the ids and try again\")\n",
    "        else:\n",
    "            print(\"Check the names of the columns and try again\")\n",
    "    else:\n",
    "        print(\"Check the number of rows and/or columns and try again\")\n",
    "        print(\"\\nMensaje secreto de Clara: No me puedo creer que después de todo este notebook hayas hecho algún cambio en las filas de `diamonds_test.csv`. Lloro.\")\n"
   ]
  },
  {
   "cell_type": "code",
   "execution_count": 391,
   "metadata": {},
   "outputs": [
    {
     "output_type": "stream",
     "name": "stdout",
     "text": [
      "Help on function chequeator in module __main__:\n\nchequeator(df_to_submit)\n    Esta función se asegura de que tu submission tenga la forma requerida por Kaggle.\n    \n    Si es así, se guardará el dataframe en un `csv` y estará listo para subir a Kaggle.\n    \n    Si no, LEE EL MENSAJE Y HAZLE CASO.\n    \n    Si aún no:\n    - apaga tu ordenador, \n    - date una vuelta, \n    - enciendelo otra vez, \n    - abre este notebook y \n    - leelo todo de nuevo. \n    Todos nos merecemos una segunda oportunidad. También tú.\n\n"
     ]
    }
   ],
   "source": [
    "help(chequeator)"
   ]
  },
  {
   "cell_type": "code",
   "execution_count": 392,
   "metadata": {},
   "outputs": [
    {
     "output_type": "stream",
     "name": "stdout",
     "text": [
      "You're ready to submit!\n"
     ]
    }
   ],
   "source": [
    "chequeator(submission)"
   ]
  },
  {
   "cell_type": "code",
   "execution_count": null,
   "metadata": {},
   "outputs": [],
   "source": []
  }
 ],
 "metadata": {
  "kernelspec": {
   "name": "python3",
   "display_name": "Python 3.7.4 64-bit"
  },
  "language_info": {
   "codemirror_mode": {
    "name": "ipython",
    "version": 3
   },
   "file_extension": ".py",
   "mimetype": "text/x-python",
   "name": "python",
   "nbconvert_exporter": "python",
   "pygments_lexer": "ipython3",
   "version": "3.7.4"
  },
  "interpreter": {
   "hash": "54fd10a125f012059efbf68d746a102a68808834a5fa4f754a07e57618326eaa"
  }
 },
 "nbformat": 4,
 "nbformat_minor": 4
}