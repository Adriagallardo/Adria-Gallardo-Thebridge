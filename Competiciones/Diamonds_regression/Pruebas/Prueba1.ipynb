{
 "cells": [
  {
   "cell_type": "markdown",
   "metadata": {},
   "source": [
    "![image](competi.png)"
   ]
  },
  {
   "source": [
    "### En esta primera prueba hago un encode y busco scores de algoritmo polinómico individuales para cada columna con price."
   ],
   "cell_type": "markdown",
   "metadata": {}
  },
  {
   "cell_type": "markdown",
   "metadata": {},
   "source": [
    "#### Aquí encontrarás todo lo que necesitas saber: https://www.kaggle.com/t/ab8726f0cfc84544abbae69a6be88071"
   ]
  },
  {
   "cell_type": "code",
   "execution_count": 44,
   "metadata": {},
   "outputs": [],
   "source": [
    "import numpy as np\n",
    "import pandas as pd\n",
    "\n",
    "import urllib.request\n",
    "from PIL import Image\n",
    "\n",
    "from sklearn.linear_model import LinearRegression\n",
    "from sklearn.model_selection import train_test_split\n",
    "from sklearn.metrics import mean_squared_error\n",
    "from sklearn.preprocessing import PolynomialFeatures\n",
    "from sklearn.metrics import r2_score\n",
    "from sklearn import preprocessing\n",
    "\n"
   ]
  },
  {
   "cell_type": "code",
   "execution_count": 45,
   "metadata": {},
   "outputs": [],
   "source": [
    "### Para que funcione necesitas bajarte los archivos de datos de Kaggle \n",
    "df = pd.read_csv(\"diamonds_train.csv\", index_col=0)"
   ]
  },
  {
   "cell_type": "code",
   "execution_count": 46,
   "metadata": {},
   "outputs": [
    {
     "output_type": "stream",
     "name": "stdout",
     "text": [
      "<class 'pandas.core.frame.DataFrame'>\nInt64Index: 40345 entries, 0 to 40344\nData columns (total 10 columns):\n #   Column   Non-Null Count  Dtype  \n---  ------   --------------  -----  \n 0   carat    40345 non-null  float64\n 1   cut      40345 non-null  object \n 2   color    40345 non-null  object \n 3   clarity  40345 non-null  object \n 4   depth    40345 non-null  float64\n 5   table    40345 non-null  float64\n 6   x        40345 non-null  float64\n 7   y        40345 non-null  float64\n 8   z        40345 non-null  float64\n 9   price    40345 non-null  int64  \ndtypes: float64(6), int64(1), object(3)\nmemory usage: 3.4+ MB\n"
     ]
    }
   ],
   "source": [
    "df.info()"
   ]
  },
  {
   "cell_type": "code",
   "execution_count": 4,
   "metadata": {},
   "outputs": [
    {
     "output_type": "execute_result",
     "data": {
      "text/plain": [
       "    carat        cut color clarity  depth  table     x     y     z  price\n",
       "0    1.21      Ideal     H     VS2   63.0   57.0  6.73  6.70  4.23   6134\n",
       "1    0.28  Very Good     D    VVS2   64.0   56.0  4.14  4.17  2.66    532\n",
       "2    0.42    Premium     F     VS1   61.2   58.0  4.86  4.82  2.96   1103\n",
       "3    0.26      Ideal     H      IF   61.1   57.0  4.16  4.12  2.53    600\n",
       "4    1.10       Good     G     SI1   63.4   57.0  6.52  6.55  4.14   4997\n",
       "5    0.35      Ideal     F     SI1   62.2   56.0  4.48  4.52  2.80    583\n",
       "6    0.31      Ideal     I     VS2   62.3   54.0  4.37  4.40  2.73    452\n",
       "7    0.43    Premium     H     SI1   60.2   57.0  4.93  4.91  2.96    919\n",
       "8    0.51    Premium     I     SI2   60.4   59.0  5.20  5.17  3.13    956\n",
       "9    1.22      Ideal     I     VS1   61.9   55.7  6.81  6.84  4.23   6469\n",
       "10   0.41  Very Good     D     SI1   63.2   57.0  4.77  4.73  3.00    947\n",
       "11   0.33    Premium     G    VVS1   61.9   59.0  4.41  4.38  2.72   1114\n",
       "12   0.93      Ideal     I     SI1   62.5   55.0  6.23  6.29  3.91   3856\n",
       "13   0.71      Ideal     H     VS1   61.6   57.0  5.74  5.79  3.55   2175\n",
       "14   0.47      Ideal     G    VVS2   62.2   53.0  5.00  5.04  3.12   1618\n",
       "15   1.71    Premium     I     SI2   60.6   57.0  7.78  7.71  4.69   9760\n",
       "16   0.33  Very Good     E    VVS2   60.1   63.0  4.45  4.50  2.69    981\n",
       "17   1.26  Very Good     G     SI1   61.7   60.0  6.85  6.90  4.24   6733\n",
       "18   0.75    Premium     G     SI1   60.9   58.0  5.87  5.83  3.56   2631\n",
       "19   0.76  Very Good     H     SI1   61.4   57.0  5.89  5.94  3.63   2557"
      ],
      "text/html": "<div>\n<style scoped>\n    .dataframe tbody tr th:only-of-type {\n        vertical-align: middle;\n    }\n\n    .dataframe tbody tr th {\n        vertical-align: top;\n    }\n\n    .dataframe thead th {\n        text-align: right;\n    }\n</style>\n<table border=\"1\" class=\"dataframe\">\n  <thead>\n    <tr style=\"text-align: right;\">\n      <th></th>\n      <th>carat</th>\n      <th>cut</th>\n      <th>color</th>\n      <th>clarity</th>\n      <th>depth</th>\n      <th>table</th>\n      <th>x</th>\n      <th>y</th>\n      <th>z</th>\n      <th>price</th>\n    </tr>\n  </thead>\n  <tbody>\n    <tr>\n      <th>0</th>\n      <td>1.21</td>\n      <td>Ideal</td>\n      <td>H</td>\n      <td>VS2</td>\n      <td>63.0</td>\n      <td>57.0</td>\n      <td>6.73</td>\n      <td>6.70</td>\n      <td>4.23</td>\n      <td>6134</td>\n    </tr>\n    <tr>\n      <th>1</th>\n      <td>0.28</td>\n      <td>Very Good</td>\n      <td>D</td>\n      <td>VVS2</td>\n      <td>64.0</td>\n      <td>56.0</td>\n      <td>4.14</td>\n      <td>4.17</td>\n      <td>2.66</td>\n      <td>532</td>\n    </tr>\n    <tr>\n      <th>2</th>\n      <td>0.42</td>\n      <td>Premium</td>\n      <td>F</td>\n      <td>VS1</td>\n      <td>61.2</td>\n      <td>58.0</td>\n      <td>4.86</td>\n      <td>4.82</td>\n      <td>2.96</td>\n      <td>1103</td>\n    </tr>\n    <tr>\n      <th>3</th>\n      <td>0.26</td>\n      <td>Ideal</td>\n      <td>H</td>\n      <td>IF</td>\n      <td>61.1</td>\n      <td>57.0</td>\n      <td>4.16</td>\n      <td>4.12</td>\n      <td>2.53</td>\n      <td>600</td>\n    </tr>\n    <tr>\n      <th>4</th>\n      <td>1.10</td>\n      <td>Good</td>\n      <td>G</td>\n      <td>SI1</td>\n      <td>63.4</td>\n      <td>57.0</td>\n      <td>6.52</td>\n      <td>6.55</td>\n      <td>4.14</td>\n      <td>4997</td>\n    </tr>\n    <tr>\n      <th>5</th>\n      <td>0.35</td>\n      <td>Ideal</td>\n      <td>F</td>\n      <td>SI1</td>\n      <td>62.2</td>\n      <td>56.0</td>\n      <td>4.48</td>\n      <td>4.52</td>\n      <td>2.80</td>\n      <td>583</td>\n    </tr>\n    <tr>\n      <th>6</th>\n      <td>0.31</td>\n      <td>Ideal</td>\n      <td>I</td>\n      <td>VS2</td>\n      <td>62.3</td>\n      <td>54.0</td>\n      <td>4.37</td>\n      <td>4.40</td>\n      <td>2.73</td>\n      <td>452</td>\n    </tr>\n    <tr>\n      <th>7</th>\n      <td>0.43</td>\n      <td>Premium</td>\n      <td>H</td>\n      <td>SI1</td>\n      <td>60.2</td>\n      <td>57.0</td>\n      <td>4.93</td>\n      <td>4.91</td>\n      <td>2.96</td>\n      <td>919</td>\n    </tr>\n    <tr>\n      <th>8</th>\n      <td>0.51</td>\n      <td>Premium</td>\n      <td>I</td>\n      <td>SI2</td>\n      <td>60.4</td>\n      <td>59.0</td>\n      <td>5.20</td>\n      <td>5.17</td>\n      <td>3.13</td>\n      <td>956</td>\n    </tr>\n    <tr>\n      <th>9</th>\n      <td>1.22</td>\n      <td>Ideal</td>\n      <td>I</td>\n      <td>VS1</td>\n      <td>61.9</td>\n      <td>55.7</td>\n      <td>6.81</td>\n      <td>6.84</td>\n      <td>4.23</td>\n      <td>6469</td>\n    </tr>\n    <tr>\n      <th>10</th>\n      <td>0.41</td>\n      <td>Very Good</td>\n      <td>D</td>\n      <td>SI1</td>\n      <td>63.2</td>\n      <td>57.0</td>\n      <td>4.77</td>\n      <td>4.73</td>\n      <td>3.00</td>\n      <td>947</td>\n    </tr>\n    <tr>\n      <th>11</th>\n      <td>0.33</td>\n      <td>Premium</td>\n      <td>G</td>\n      <td>VVS1</td>\n      <td>61.9</td>\n      <td>59.0</td>\n      <td>4.41</td>\n      <td>4.38</td>\n      <td>2.72</td>\n      <td>1114</td>\n    </tr>\n    <tr>\n      <th>12</th>\n      <td>0.93</td>\n      <td>Ideal</td>\n      <td>I</td>\n      <td>SI1</td>\n      <td>62.5</td>\n      <td>55.0</td>\n      <td>6.23</td>\n      <td>6.29</td>\n      <td>3.91</td>\n      <td>3856</td>\n    </tr>\n    <tr>\n      <th>13</th>\n      <td>0.71</td>\n      <td>Ideal</td>\n      <td>H</td>\n      <td>VS1</td>\n      <td>61.6</td>\n      <td>57.0</td>\n      <td>5.74</td>\n      <td>5.79</td>\n      <td>3.55</td>\n      <td>2175</td>\n    </tr>\n    <tr>\n      <th>14</th>\n      <td>0.47</td>\n      <td>Ideal</td>\n      <td>G</td>\n      <td>VVS2</td>\n      <td>62.2</td>\n      <td>53.0</td>\n      <td>5.00</td>\n      <td>5.04</td>\n      <td>3.12</td>\n      <td>1618</td>\n    </tr>\n    <tr>\n      <th>15</th>\n      <td>1.71</td>\n      <td>Premium</td>\n      <td>I</td>\n      <td>SI2</td>\n      <td>60.6</td>\n      <td>57.0</td>\n      <td>7.78</td>\n      <td>7.71</td>\n      <td>4.69</td>\n      <td>9760</td>\n    </tr>\n    <tr>\n      <th>16</th>\n      <td>0.33</td>\n      <td>Very Good</td>\n      <td>E</td>\n      <td>VVS2</td>\n      <td>60.1</td>\n      <td>63.0</td>\n      <td>4.45</td>\n      <td>4.50</td>\n      <td>2.69</td>\n      <td>981</td>\n    </tr>\n    <tr>\n      <th>17</th>\n      <td>1.26</td>\n      <td>Very Good</td>\n      <td>G</td>\n      <td>SI1</td>\n      <td>61.7</td>\n      <td>60.0</td>\n      <td>6.85</td>\n      <td>6.90</td>\n      <td>4.24</td>\n      <td>6733</td>\n    </tr>\n    <tr>\n      <th>18</th>\n      <td>0.75</td>\n      <td>Premium</td>\n      <td>G</td>\n      <td>SI1</td>\n      <td>60.9</td>\n      <td>58.0</td>\n      <td>5.87</td>\n      <td>5.83</td>\n      <td>3.56</td>\n      <td>2631</td>\n    </tr>\n    <tr>\n      <th>19</th>\n      <td>0.76</td>\n      <td>Very Good</td>\n      <td>H</td>\n      <td>SI1</td>\n      <td>61.4</td>\n      <td>57.0</td>\n      <td>5.89</td>\n      <td>5.94</td>\n      <td>3.63</td>\n      <td>2557</td>\n    </tr>\n  </tbody>\n</table>\n</div>"
     },
     "metadata": {},
     "execution_count": 4
    }
   ],
   "source": [
    "df.head(20)"
   ]
  },
  {
   "cell_type": "code",
   "execution_count": 47,
   "metadata": {},
   "outputs": [
    {
     "output_type": "stream",
     "name": "stdout",
     "text": [
      "['Ideal' 'Very Good' 'Premium' 'Good' 'Fair']\n['H' 'D' 'F' 'G' 'I' 'E' 'J']\n['VS2' 'VVS2' 'VS1' 'IF' 'SI1' 'SI2' 'VVS1' 'I1']\n   carat  cut color clarity  depth  table     x     y     z  price\n0   1.21    2     H     VS2   63.0   57.0  6.73  6.70  4.23   6134\n1   0.28    4     D    VVS2   64.0   56.0  4.14  4.17  2.66    532\n2   0.42    3     F     VS1   61.2   58.0  4.86  4.82  2.96   1103\n3   0.26    2     H      IF   61.1   57.0  4.16  4.12  2.53    600\n4   1.10    1     G     SI1   63.4   57.0  6.52  6.55  4.14   4997\n   carat  cut  color clarity  depth  table     x     y     z  price\n0   1.21    2      4     VS2   63.0   57.0  6.73  6.70  4.23   6134\n1   0.28    4      0    VVS2   64.0   56.0  4.14  4.17  2.66    532\n2   0.42    3      2     VS1   61.2   58.0  4.86  4.82  2.96   1103\n3   0.26    2      4      IF   61.1   57.0  4.16  4.12  2.53    600\n4   1.10    1      3     SI1   63.4   57.0  6.52  6.55  4.14   4997\n   carat  cut  color  clarity  depth  table     x     y     z  price\n0   1.21    2      4        5   63.0   57.0  6.73  6.70  4.23   6134\n1   0.28    4      0        7   64.0   56.0  4.14  4.17  2.66    532\n2   0.42    3      2        4   61.2   58.0  4.86  4.82  2.96   1103\n3   0.26    2      4        1   61.1   57.0  4.16  4.12  2.53    600\n4   1.10    1      3        2   63.4   57.0  6.52  6.55  4.14   4997\n"
     ]
    }
   ],
   "source": [
    "le = preprocessing.LabelEncoder()\n",
    "\n",
    "print(df[\"cut\"].unique())\n",
    "print(df[\"color\"].unique())\n",
    "print(df[\"clarity\"].unique())\n",
    "\n",
    "\n",
    "need_label = [\"cut\", \"color\", \"clarity\"]\n",
    "\n",
    "for column in need_label:\n",
    "    data = le.fit_transform(df[column])\n",
    "    df[column] = data\n",
    "    print(df.head())"
   ]
  },
  {
   "cell_type": "markdown",
   "metadata": {},
   "source": [
    "**Importante:**\n",
    "\n",
    "   - Si quitas columnas o creas columnas nuevas a partir de otras, o cualquier modificación column-wise tendrás que aplicarlo al dataset de `diamonds_test.csv` de cara a hacer la predicción.\n",
    "   - Si por lo contrario, decides por ejemplo, quitar los outliers o hacer un `dropna()`, o cualquier modificación row-wise eso NO PODRÁS (ni debes) aplicarlo al dataset de `diamonds_test.csv` de cara a hacer la predicción. ¿Por qué? Porque si el conjunto de test tiene 50 observaciones (filas) la predicción se espera que tenga 50 filas."
   ]
  },
  {
   "cell_type": "markdown",
   "metadata": {},
   "source": [
    "#### ¿Y si lo que hago es estandarizar los datos o hacer un encoding, también se lo tengo que hacer al test antes de predecir?"
   ]
  },
  {
   "cell_type": "code",
   "execution_count": null,
   "metadata": {},
   "outputs": [],
   "source": [
    "# ¿qué opináis?\n",
    "#Sí, habría que hacerlo"
   ]
  },
  {
   "cell_type": "markdown",
   "metadata": {},
   "source": [
    "-----------------------------------------------------------------------------------------------------------------"
   ]
  },
  {
   "cell_type": "markdown",
   "metadata": {},
   "source": [
    "### Pasos que si o si debéis realizar para poder participar en la competición:"
   ]
  },
  {
   "cell_type": "markdown",
   "metadata": {},
   "source": [
    "### 1. Definir X e y"
   ]
  },
  {
   "cell_type": "code",
   "execution_count": 48,
   "metadata": {},
   "outputs": [
    {
     "output_type": "execute_result",
     "data": {
      "text/plain": [
       "(9, 40345)"
      ]
     },
     "metadata": {},
     "execution_count": 48
    }
   ],
   "source": [
    "# coger las columnas \"x\", \"y\", \"z\" tiene solo valor ilustrativo, NO LO COPIÉIS\n",
    "l_X = df[[\"x\",\"y\",\"z\", \"carat\", \"depth\", \"table\", \"cut\", \"color\", \"clarity\"]].values\n",
    "l_X = np.transpose(l_X)\n",
    "y = df[\"price\"].values\n",
    "l_X.shape"
   ]
  },
  {
   "cell_type": "code",
   "execution_count": 49,
   "metadata": {},
   "outputs": [
    {
     "output_type": "execute_result",
     "data": {
      "text/plain": [
       "(40345,)"
      ]
     },
     "metadata": {},
     "execution_count": 49
    }
   ],
   "source": [
    "y.shape"
   ]
  },
  {
   "cell_type": "markdown",
   "metadata": {},
   "source": [
    "#### ¿Y si después del análisis exploratorio de mis datos llego a la conclusión de que puedo predecir el precio solo con las columnas `x`, `y` y `z`, también aplica al test?"
   ]
  },
  {
   "cell_type": "code",
   "execution_count": null,
   "metadata": {},
   "outputs": [],
   "source": [
    "# ¿qué opináis?\n",
    "# sí, el conjunto para predecir `diamonds_test.csv` también tendrá que tener 3 columnas"
   ]
  },
  {
   "cell_type": "markdown",
   "metadata": {},
   "source": [
    "### 2. Dividir X_train, X_test, y_train, y_test"
   ]
  },
  {
   "cell_type": "code",
   "execution_count": 8,
   "metadata": {},
   "outputs": [
    {
     "output_type": "error",
     "ename": "NameError",
     "evalue": "name 'X' is not defined",
     "traceback": [
      "\u001b[1;31m---------------------------------------------------------------------------\u001b[0m",
      "\u001b[1;31mNameError\u001b[0m                                 Traceback (most recent call last)",
      "\u001b[1;32m<ipython-input-8-8edaab277f44>\u001b[0m in \u001b[0;36m<module>\u001b[1;34m\u001b[0m\n\u001b[0;32m      1\u001b[0m \u001b[1;31m# el test_size 0.20 y el random_state puede cambiar\u001b[0m\u001b[1;33m\u001b[0m\u001b[1;33m\u001b[0m\u001b[1;33m\u001b[0m\u001b[0m\n\u001b[1;32m----> 2\u001b[1;33m \u001b[0mX_train\u001b[0m\u001b[1;33m,\u001b[0m \u001b[0mX_test\u001b[0m\u001b[1;33m,\u001b[0m \u001b[0my_train\u001b[0m\u001b[1;33m,\u001b[0m \u001b[0my_test\u001b[0m \u001b[1;33m=\u001b[0m \u001b[0mtrain_test_split\u001b[0m\u001b[1;33m(\u001b[0m\u001b[0mX\u001b[0m\u001b[1;33m,\u001b[0m \u001b[0my\u001b[0m\u001b[1;33m,\u001b[0m \u001b[0mtest_size\u001b[0m \u001b[1;33m=\u001b[0m \u001b[1;36m0.20\u001b[0m\u001b[1;33m,\u001b[0m \u001b[0mrandom_state\u001b[0m \u001b[1;33m=\u001b[0m \u001b[1;36m42\u001b[0m\u001b[1;33m)\u001b[0m\u001b[1;33m\u001b[0m\u001b[1;33m\u001b[0m\u001b[0m\n\u001b[0m",
      "\u001b[1;31mNameError\u001b[0m: name 'X' is not defined"
     ]
    }
   ],
   "source": [
    "# el test_size 0.20 y el random_state puede cambiar\n",
    "X_train, X_test, y_train, y_test = train_test_split(X, y, test_size = 0.20, random_state = 42)"
   ]
  },
  {
   "cell_type": "code",
   "execution_count": 8,
   "metadata": {},
   "outputs": [
    {
     "data": {
      "text/plain": [
       "array([[6.5 , 6.55, 4.16],\n",
       "       [5.34, 5.38, 3.31],\n",
       "       [4.41, 4.38, 2.7 ],\n",
       "       ...,\n",
       "       [6.05, 6.07, 3.73],\n",
       "       [6.5 , 6.53, 3.99],\n",
       "       [6.51, 6.56, 4.1 ]])"
      ]
     },
     "execution_count": 8,
     "metadata": {},
     "output_type": "execute_result"
    }
   ],
   "source": [
    "X_train"
   ]
  },
  {
   "cell_type": "markdown",
   "metadata": {},
   "source": [
    "### 3. Asignar el modelo (vacío) a una variable\n",
    "Aquí meteríais los parámetros. \n",
    "\n",
    "**Consejo**: Usa GridSearch y vuélvete loca o loco probando modelos e hiperparámetros."
   ]
  },
  {
   "cell_type": "code",
   "execution_count": 9,
   "metadata": {},
   "outputs": [],
   "source": [
    "model = LinearRegression()"
   ]
  },
  {
   "cell_type": "markdown",
   "metadata": {},
   "source": [
    "Siempre hay tiempo para una historia:\n",
    "https://catboost.ai/docs/concepts/python-reference_catboostregressor.html"
   ]
  },
  {
   "cell_type": "markdown",
   "metadata": {},
   "source": [
    "### 4. Entrenar el modelo con X_train, y_train"
   ]
  },
  {
   "cell_type": "code",
   "execution_count": 50,
   "metadata": {
    "tags": []
   },
   "outputs": [
    {
     "output_type": "stream",
     "name": "stdout",
     "text": [
      "\n",
      "\n",
      "(8069, 3)\n",
      "(8069,)\n",
      "Score con \"2\" grados de dato 0 para Price: 86.18626888110983\n",
      "MSE: 1517.291002053524\n",
      "(8069, 4)\n",
      "(8069,)\n",
      "Score con \"3\" grados de dato 0 para Price: 86.22582121270969\n",
      "MSE: 1518.902715474148\n",
      "(8069, 5)\n",
      "(8069,)\n",
      "Score con \"4\" grados de dato 0 para Price: 86.63342239243602\n",
      "MSE: 1465.1663415433568\n",
      "(8069, 6)\n",
      "(8069,)\n",
      "Score con \"5\" grados de dato 0 para Price: 86.89938080407408\n",
      "MSE: 1447.0703683791787\n",
      "(8069, 7)\n",
      "(8069,)\n",
      "Score con \"6\" grados de dato 0 para Price: 86.90283197418016\n",
      "MSE: 1446.4925291085592\n",
      "(8069, 8)\n",
      "(8069,)\n",
      "Score con \"7\" grados de dato 0 para Price: 86.93562132699837\n",
      "MSE: 1443.0742680541912\n",
      "(8069, 9)\n",
      "(8069,)\n",
      "Score con \"8\" grados de dato 0 para Price: 86.95526917131068\n",
      "MSE: 1440.7447124833504\n",
      "(8069, 10)\n",
      "(8069,)\n",
      "Score con \"9\" grados de dato 0 para Price: 86.95549839509087\n",
      "MSE: 1440.7003289171248\n",
      "(8069, 11)\n",
      "(8069,)\n",
      "Score con \"10\" grados de dato 0 para Price: 86.96634676772568\n",
      "MSE: 1439.8196119451006\n",
      "(8069, 12)\n",
      "(8069,)\n",
      "Score con \"11\" grados de dato 0 para Price: 86.97000259824917\n",
      "MSE: 1439.8223180296245\n",
      "(8069, 13)\n",
      "(8069,)\n",
      "Score con \"12\" grados de dato 0 para Price: 86.96885735860779\n",
      "MSE: 1439.6941839148058\n",
      "(8069, 14)\n",
      "(8069,)\n",
      "Score con \"13\" grados de dato 0 para Price: 86.9692908750258\n",
      "MSE: 1439.3631757871374\n",
      "(8069, 15)\n",
      "(8069,)\n",
      "Score con \"14\" grados de dato 0 para Price: 86.97105255597779\n",
      "MSE: 1439.3635187143198\n",
      "(8069, 16)\n",
      "(8069,)\n",
      "Score con \"15\" grados de dato 0 para Price: 86.96779386340316\n",
      "MSE: 1439.8155055913262\n",
      "(8069, 17)\n",
      "(8069,)\n",
      "Score con \"16\" grados de dato 0 para Price: 86.97037071943886\n",
      "MSE: 1439.8307864479991\n",
      "(8069, 18)\n",
      "(8069,)\n",
      "Score con \"17\" grados de dato 0 para Price: 86.97042397691988\n",
      "MSE: 1440.2993629747368\n",
      "(8069, 19)\n",
      "(8069,)\n",
      "Score con \"18\" grados de dato 0 para Price: 86.95817490738257\n",
      "MSE: 1441.774289742832\n",
      "(8069, 20)\n",
      "(8069,)\n",
      "Score con \"19\" grados de dato 0 para Price: 86.93001756047211\n",
      "MSE: 1444.2148855628845\n",
      "(8069, 21)\n",
      "(8069,)\n",
      "Score con \"20\" grados de dato 0 para Price: 86.89060406449055\n",
      "MSE: 1446.6652902062226\n",
      "(8069, 22)\n",
      "(8069,)\n",
      "Score con \"21\" grados de dato 0 para Price: 86.89061681222833\n",
      "MSE: 1446.7499465258036\n",
      "(8069, 23)\n",
      "(8069,)\n",
      "Score con \"22\" grados de dato 0 para Price: 86.8906732427183\n",
      "MSE: 1446.6764546636716\n",
      "(8069, 24)\n",
      "(8069,)\n",
      "Score con \"23\" grados de dato 0 para Price: 86.89104836699025\n",
      "MSE: 1446.5435279774697\n",
      "(8069, 25)\n",
      "(8069,)\n",
      "Score con \"24\" grados de dato 0 para Price: 86.89171692218049\n",
      "MSE: 1446.512208234164\n",
      "(8069, 26)\n",
      "(8069,)\n",
      "Score con \"25\" grados de dato 0 para Price: 86.89219081458306\n",
      "MSE: 1446.8938717989229\n",
      "(8069, 27)\n",
      "(8069,)\n",
      "Score con \"26\" grados de dato 0 para Price: 86.89235865339795\n",
      "MSE: 1446.7020450435741\n",
      "(8069, 28)\n",
      "(8069,)\n",
      "Score con \"27\" grados de dato 0 para Price: 86.89209515982266\n",
      "MSE: 1447.0202330374088\n",
      "(8069, 29)\n",
      "(8069,)\n",
      "Score con \"28\" grados de dato 0 para Price: 86.89073502434812\n",
      "MSE: 1446.3191119033556\n",
      "(8069, 30)\n",
      "(8069,)\n",
      "Score con \"29\" grados de dato 0 para Price: 86.83185335754898\n",
      "MSE: 1490.9151616918427\n",
      "(8069, 31)\n",
      "(8069,)\n",
      "Score con \"30\" grados de dato 0 para Price: 86.7667088281874\n",
      "MSE: 1534.9625785941837\n",
      "(8069, 32)\n",
      "(8069,)\n",
      "Score con \"31\" grados de dato 0 para Price: 86.6653857399712\n",
      "MSE: 1603.240617153615\n",
      "(8069, 33)\n",
      "(8069,)\n",
      "Score con \"32\" grados de dato 0 para Price: 86.52268770897764\n",
      "MSE: 1700.5875238252036\n",
      "(8069, 34)\n",
      "(8069,)\n",
      "Score con \"33\" grados de dato 0 para Price: 86.33739443662243\n",
      "MSE: 1833.7128882340105\n",
      "(8069, 35)\n",
      "(8069,)\n",
      "Score con \"34\" grados de dato 0 para Price: 86.1055145865762\n",
      "MSE: 2014.7116124452\n",
      "(8069, 36)\n",
      "(8069,)\n",
      "Score con \"35\" grados de dato 0 para Price: 85.82616845274896\n",
      "MSE: 2261.9503955958053\n",
      "(8069, 37)\n",
      "(8069,)\n",
      "Score con \"36\" grados de dato 0 para Price: 85.48963055210386\n",
      "MSE: 2577.9522460817893\n",
      "(8069, 38)\n",
      "(8069,)\n",
      "Score con \"37\" grados de dato 0 para Price: 85.0975893904738\n",
      "MSE: 3022.815291193661\n",
      "(8069, 39)\n",
      "(8069,)\n",
      "Score con \"38\" grados de dato 0 para Price: 84.6283086910487\n",
      "MSE: 3704.5671705183245\n",
      "(8069, 40)\n",
      "(8069,)\n",
      "Score con \"39\" grados de dato 0 para Price: 84.09701121979094\n",
      "MSE: 4537.400839155917\n",
      "\n",
      "\n",
      "(8069, 3)\n",
      "(8069,)\n",
      "Score con \"2\" grados de dato 1 para Price: 76.84478439873777\n",
      "MSE: 1887.9100949097804\n",
      "(8069, 4)\n",
      "(8069,)\n",
      "Score con \"3\" grados de dato 1 para Price: 78.45893356168538\n",
      "MSE: 1712.0666376014935\n",
      "(8069, 5)\n",
      "(8069,)\n",
      "Score con \"4\" grados de dato 1 para Price: 86.5251068039224\n",
      "MSE: 1425.2588271253578\n",
      "(8069, 6)\n",
      "(8069,)\n",
      "Score con \"5\" grados de dato 1 para Price: 86.69954452066715\n",
      "MSE: 1424.4910777731047\n",
      "(8069, 7)\n",
      "(8069,)\n",
      "Score con \"6\" grados de dato 1 para Price: 87.0790837714229\n",
      "MSE: 1408.981718523386\n",
      "(8069, 8)\n",
      "(8069,)\n",
      "Score con \"7\" grados de dato 1 para Price: 87.41499712487749\n",
      "MSE: 1389.7740392593141\n",
      "(8069, 9)\n",
      "(8069,)\n",
      "Score con \"8\" grados de dato 1 para Price: 87.41497794230631\n",
      "MSE: 1389.7716645934458\n",
      "(8069, 10)\n",
      "(8069,)\n",
      "Score con \"9\" grados de dato 1 para Price: 87.37100917978654\n",
      "MSE: 1393.2969031695827\n",
      "(8069, 11)\n",
      "(8069,)\n",
      "Score con \"10\" grados de dato 1 para Price: 87.33837288055298\n",
      "MSE: 1398.0105119758655\n",
      "(8069, 12)\n",
      "(8069,)\n",
      "Score con \"11\" grados de dato 1 para Price: 87.34408090818995\n",
      "MSE: 1397.999625983514\n",
      "(8069, 13)\n",
      "(8069,)\n",
      "Score con \"12\" grados de dato 1 para Price: 87.2952883531544\n",
      "MSE: 1400.9139219676738\n",
      "(8069, 14)\n",
      "(8069,)\n",
      "Score con \"13\" grados de dato 1 para Price: 87.34388881973672\n",
      "MSE: 1398.7473208734295\n",
      "(8069, 15)\n",
      "(8069,)\n",
      "Score con \"14\" grados de dato 1 para Price: 82.75710237409085\n",
      "MSE: 1596.9875208233718\n",
      "(8069, 16)\n",
      "(8069,)\n",
      "Score con \"15\" grados de dato 1 para Price: 79.27293892529428\n",
      "MSE: 1745.9771597970282\n",
      "(8069, 17)\n",
      "(8069,)\n",
      "Score con \"16\" grados de dato 1 para Price: 39.58984044873664\n",
      "MSE: 2961.7801835947466\n",
      "(8069, 18)\n",
      "(8069,)\n",
      "Score con \"17\" grados de dato 1 para Price: 34.10065969844158\n",
      "MSE: 3091.245410767397\n",
      "(8069, 19)\n",
      "(8069,)\n",
      "Score con \"18\" grados de dato 1 para Price: 0.013960637416121635\n",
      "MSE: 3939.538156456475\n",
      "(8069, 20)\n",
      "(8069,)\n",
      "Score con \"19\" grados de dato 1 para Price: 0.01396063957247451\n",
      "MSE: 3939.538156416985\n",
      "(8069, 21)\n",
      "(8069,)\n",
      "Score con \"20\" grados de dato 1 para Price: 0.013960640129884183\n",
      "MSE: 3939.5381564068616\n",
      "(8069, 22)\n",
      "(8069,)\n",
      "Score con \"21\" grados de dato 1 para Price: 0.013960640274701674\n",
      "MSE: 3939.5381564042586\n",
      "(8069, 23)\n",
      "(8069,)\n",
      "Score con \"22\" grados de dato 1 para Price: 0.013960640312504768\n",
      "MSE: 3939.538156403604\n",
      "(8069, 24)\n",
      "(8069,)\n",
      "Score con \"23\" grados de dato 1 para Price: 0.013960640322430162\n",
      "MSE: 3939.5381564029767\n",
      "(8069, 25)\n",
      "(8069,)\n",
      "Score con \"24\" grados de dato 1 para Price: 0.013960640325039186\n",
      "MSE: 3939.5381564032564\n",
      "(8069, 26)\n",
      "(8069,)\n",
      "Score con \"25\" grados de dato 1 para Price: 0.013960640325738627\n",
      "MSE: 3939.5381564022946\n",
      "(8069, 27)\n",
      "(8069,)\n",
      "Score con \"26\" grados de dato 1 para Price: 0.013960640325916263\n",
      "MSE: 3939.538156406011\n",
      "(8069, 28)\n",
      "(8069,)\n",
      "Score con \"27\" grados de dato 1 para Price: 0.013960640325960672\n",
      "MSE: 3939.538156402266\n",
      "(8069, 29)\n",
      "(8069,)\n",
      "Score con \"28\" grados de dato 1 para Price: 0.013960640325982876\n",
      "MSE: 3939.5381564036343\n",
      "(8069, 30)\n",
      "(8069,)\n",
      "Score con \"29\" grados de dato 1 para Price: 0.013960640325916263\n",
      "MSE: 3939.538156417737\n",
      "(8069, 31)\n",
      "(8069,)\n",
      "Score con \"30\" grados de dato 1 para Price: 0.013960640325938467\n",
      "MSE: 3939.5381563898195\n",
      "(8069, 32)\n",
      "(8069,)\n",
      "Score con \"31\" grados de dato 1 para Price: 0.013960640325916263\n",
      "MSE: 3939.5381563897276\n",
      "(8069, 33)\n",
      "(8069,)\n",
      "Score con \"32\" grados de dato 1 para Price: 0.013960640311083683\n",
      "MSE: 3939.53815619294\n",
      "(8069, 34)\n",
      "(8069,)\n",
      "Score con \"33\" grados de dato 1 para Price: 0.013960640260235468\n",
      "MSE: 3939.538156846292\n",
      "(8069, 35)\n",
      "(8069,)\n",
      "Score con \"34\" grados de dato 1 para Price: 0.013960640288146475\n",
      "MSE: 3939.5381560672386\n",
      "(8069, 36)\n",
      "(8069,)\n",
      "Score con \"35\" grados de dato 1 para Price: 0.013960640039389904\n",
      "MSE: 3939.538157326461\n",
      "(8069, 37)\n",
      "(8069,)\n",
      "Score con \"36\" grados de dato 1 para Price: 0.013960640004229141\n",
      "MSE: 3939.5381554234564\n",
      "(8069, 38)\n",
      "(8069,)\n",
      "Score con \"37\" grados de dato 1 para Price: 0.013960640119969892\n",
      "MSE: 3939.538155614861\n",
      "(8069, 39)\n",
      "(8069,)\n",
      "Score con \"38\" grados de dato 1 para Price: 0.013960639378374218\n",
      "MSE: 3939.5381581001775\n",
      "(8069, 40)\n",
      "(8069,)\n",
      "Score con \"39\" grados de dato 1 para Price: 0.013960638460341901\n",
      "MSE: 3939.5381587480088\n",
      "\n",
      "\n",
      "(8069, 3)\n",
      "(8069,)\n",
      "Score con \"2\" grados de dato 2 para Price: 84.18851150471947\n",
      "MSE: 1581.528727400293\n",
      "(8069, 4)\n",
      "(8069,)\n",
      "Score con \"3\" grados de dato 2 para Price: 84.35296264772376\n",
      "MSE: 1579.6001760040824\n",
      "(8069, 5)\n",
      "(8069,)\n",
      "Score con \"4\" grados de dato 2 para Price: 85.34997739275171\n",
      "MSE: 1537.1238135217766\n",
      "(8069, 6)\n",
      "(8069,)\n",
      "Score con \"5\" grados de dato 2 para Price: 85.41644968163054\n",
      "MSE: 1533.683457253637\n",
      "(8069, 7)\n",
      "(8069,)\n",
      "Score con \"6\" grados de dato 2 para Price: 85.80233575605523\n",
      "MSE: 1511.0725366565016\n",
      "(8069, 8)\n",
      "(8069,)\n",
      "Score con \"7\" grados de dato 2 para Price: 85.91663970374272\n",
      "MSE: 1516.0493647344604\n",
      "(8069, 9)\n",
      "(8069,)\n",
      "Score con \"8\" grados de dato 2 para Price: 85.95890709278808\n",
      "MSE: 1511.3004993483548\n",
      "(8069, 10)\n",
      "(8069,)\n",
      "Score con \"9\" grados de dato 2 para Price: 86.02884112920066\n",
      "MSE: 1510.7244033949692\n",
      "(8069, 11)\n",
      "(8069,)\n",
      "Score con \"10\" grados de dato 2 para Price: 86.03620300558474\n",
      "MSE: 1511.2780608713267\n",
      "(8069, 12)\n",
      "(8069,)\n",
      "Score con \"11\" grados de dato 2 para Price: 86.03972996936247\n",
      "MSE: 1512.4118798510606\n",
      "(8069, 13)\n",
      "(8069,)\n",
      "Score con \"12\" grados de dato 2 para Price: 86.07443327088401\n",
      "MSE: 1507.2680935180642\n",
      "(8069, 14)\n",
      "(8069,)\n",
      "Score con \"13\" grados de dato 2 para Price: 86.08122752510154\n",
      "MSE: 1505.604816819896\n",
      "(8069, 15)\n",
      "(8069,)\n",
      "Score con \"14\" grados de dato 2 para Price: 86.08059772069394\n",
      "MSE: 1505.7597150217455\n",
      "(8069, 16)\n",
      "(8069,)\n",
      "Score con \"15\" grados de dato 2 para Price: 86.07070679416266\n",
      "MSE: 1505.4311807663705\n",
      "(8069, 17)\n",
      "(8069,)\n",
      "Score con \"16\" grados de dato 2 para Price: 86.06820925786144\n",
      "MSE: 1505.7877663946829\n",
      "(8069, 18)\n",
      "(8069,)\n",
      "Score con \"17\" grados de dato 2 para Price: 86.0749434958659\n",
      "MSE: 1506.1064013879388\n",
      "(8069, 19)\n",
      "(8069,)\n",
      "Score con \"18\" grados de dato 2 para Price: 86.07124280044131\n",
      "MSE: 1506.2873557156615\n",
      "(8069, 20)\n",
      "(8069,)\n",
      "Score con \"19\" grados de dato 2 para Price: 85.97450676732188\n",
      "MSE: 1510.257153682129\n",
      "(8069, 21)\n",
      "(8069,)\n",
      "Score con \"20\" grados de dato 2 para Price: 85.91442773469511\n",
      "MSE: 1513.2962779735249\n",
      "(8069, 22)\n",
      "(8069,)\n",
      "Score con \"21\" grados de dato 2 para Price: 85.87719204128554\n",
      "MSE: 1514.809091476127\n",
      "(8069, 23)\n",
      "(8069,)\n",
      "Score con \"22\" grados de dato 2 para Price: 85.84799065379265\n",
      "MSE: 1514.7224494099391\n",
      "(8069, 24)\n",
      "(8069,)\n",
      "Score con \"23\" grados de dato 2 para Price: 85.84388871299024\n",
      "MSE: 1514.4711687460808\n",
      "(8069, 25)\n",
      "(8069,)\n",
      "Score con \"24\" grados de dato 2 para Price: 85.84182334501082\n",
      "MSE: 1514.3270512176164\n",
      "(8069, 26)\n",
      "(8069,)\n",
      "Score con \"25\" grados de dato 2 para Price: 85.84263286836075\n",
      "MSE: 1514.3645118361335\n",
      "(8069, 27)\n",
      "(8069,)\n",
      "Score con \"26\" grados de dato 2 para Price: 85.78788953579522\n",
      "MSE: 1515.7048862049942\n",
      "(8069, 28)\n",
      "(8069,)\n",
      "Score con \"27\" grados de dato 2 para Price: 85.71200210294188\n",
      "MSE: 1518.2021077454147\n",
      "(8069, 29)\n",
      "(8069,)\n",
      "Score con \"28\" grados de dato 2 para Price: 85.59353450975539\n",
      "MSE: 1522.8488587912752\n",
      "(8069, 30)\n",
      "(8069,)\n",
      "Score con \"29\" grados de dato 2 para Price: 85.42646240032813\n",
      "MSE: 1530.3930772581857\n",
      "(8069, 31)\n",
      "(8069,)\n",
      "Score con \"30\" grados de dato 2 para Price: 85.19875635617755\n",
      "MSE: 1541.9871899625966\n",
      "(8069, 32)\n",
      "(8069,)\n",
      "Score con \"31\" grados de dato 2 para Price: 84.9052715430638\n",
      "MSE: 1558.8561044124142\n",
      "(8069, 33)\n",
      "(8069,)\n",
      "Score con \"32\" grados de dato 2 para Price: 81.03404907766634\n",
      "MSE: 1789.0160242871248\n",
      "(8069, 34)\n",
      "(8069,)\n",
      "Score con \"33\" grados de dato 2 para Price: 79.80397212287926\n",
      "MSE: 1860.7145461159657\n",
      "(8069, 35)\n",
      "(8069,)\n",
      "Score con \"34\" grados de dato 2 para Price: 78.44270021314263\n",
      "MSE: 1940.5289174451552\n",
      "(8069, 36)\n",
      "(8069,)\n",
      "Score con \"35\" grados de dato 2 para Price: 76.96962485575618\n",
      "MSE: 2028.4129451911422\n",
      "(8069, 37)\n",
      "(8069,)\n",
      "Score con \"36\" grados de dato 2 para Price: 75.3919883092878\n",
      "MSE: 2125.5737016429284\n",
      "(8069, 38)\n",
      "(8069,)\n",
      "Score con \"37\" grados de dato 2 para Price: 73.7113998603036\n",
      "MSE: 2232.072076387115\n",
      "(8069, 39)\n",
      "(8069,)\n",
      "Score con \"38\" grados de dato 2 para Price: 71.91842337480998\n",
      "MSE: 2355.2941179268432\n",
      "(8069, 40)\n",
      "(8069,)\n",
      "Score con \"39\" grados de dato 2 para Price: 70.02846776754666\n",
      "MSE: 2480.918126550963\n",
      "\n",
      "\n",
      "(8069, 3)\n",
      "(8069,)\n",
      "Score con \"2\" grados de dato 3 para Price: 85.32907836439716\n",
      "MSE: 1556.1297199775465\n",
      "(8069, 4)\n",
      "(8069,)\n",
      "Score con \"3\" grados de dato 3 para Price: 86.82232346240512\n",
      "MSE: 1460.7735113992012\n",
      "(8069, 5)\n",
      "(8069,)\n",
      "Score con \"4\" grados de dato 3 para Price: 86.9070112784133\n",
      "MSE: 1454.9469020025044\n",
      "(8069, 6)\n",
      "(8069,)\n",
      "Score con \"5\" grados de dato 3 para Price: 86.9902064531658\n",
      "MSE: 1454.0780036211568\n",
      "(8069, 7)\n",
      "(8069,)\n",
      "Score con \"6\" grados de dato 3 para Price: 86.99052137503489\n",
      "MSE: 1454.3814480051667\n",
      "(8069, 8)\n",
      "(8069,)\n",
      "Score con \"7\" grados de dato 3 para Price: 86.99744245699613\n",
      "MSE: 1453.5664020531367\n",
      "(8069, 9)\n",
      "(8069,)\n",
      "Score con \"8\" grados de dato 3 para Price: 87.00690789224812\n",
      "MSE: 1455.4251589448106\n",
      "(8069, 10)\n",
      "(8069,)\n",
      "Score con \"9\" grados de dato 3 para Price: 87.0070946455902\n",
      "MSE: 1456.2655460973037\n",
      "(8069, 11)\n",
      "(8069,)\n",
      "Score con \"10\" grados de dato 3 para Price: 87.00964477198782\n",
      "MSE: 1460.984766878803\n",
      "(8069, 12)\n",
      "(8069,)\n",
      "Score con \"11\" grados de dato 3 para Price: 87.02814081735156\n",
      "MSE: 1517.5260328638544\n",
      "(8069, 13)\n",
      "(8069,)\n",
      "Score con \"12\" grados de dato 3 para Price: 87.04293992182765\n",
      "MSE: 1460.9858045155927\n",
      "(8069, 14)\n",
      "(8069,)\n",
      "Score con \"13\" grados de dato 3 para Price: 87.04596214525813\n",
      "MSE: 1537.4653337785846\n",
      "(8069, 15)\n",
      "(8069,)\n",
      "Score con \"14\" grados de dato 3 para Price: 87.07174497498991\n",
      "MSE: 2081.3888396966886\n",
      "(8069, 16)\n",
      "(8069,)\n",
      "Score con \"15\" grados de dato 3 para Price: 87.0895623946069\n",
      "MSE: 2544.5604184307385\n",
      "(8069, 17)\n",
      "(8069,)\n",
      "Score con \"16\" grados de dato 3 para Price: 87.09043247714365\n",
      "MSE: 1577.3716011844585\n",
      "(8069, 18)\n",
      "(8069,)\n",
      "Score con \"17\" grados de dato 3 para Price: 87.10484837729172\n",
      "MSE: 4894.24458616686\n",
      "(8069, 19)\n",
      "(8069,)\n",
      "Score con \"18\" grados de dato 3 para Price: 87.116518080767\n",
      "MSE: 10407.109656258255\n",
      "(8069, 20)\n",
      "(8069,)\n",
      "Score con \"19\" grados de dato 3 para Price: 87.10802656766701\n",
      "MSE: 14487.696310721527\n",
      "(8069, 21)\n",
      "(8069,)\n",
      "Score con \"20\" grados de dato 3 para Price: 87.0850848605035\n",
      "MSE: 15132.943131919861\n",
      "(8069, 22)\n",
      "(8069,)\n",
      "Score con \"21\" grados de dato 3 para Price: 87.07334109610427\n",
      "MSE: 11858.399612307396\n",
      "(8069, 23)\n",
      "(8069,)\n",
      "Score con \"22\" grados de dato 3 para Price: 87.08009147607324\n",
      "MSE: 5189.527002010143\n",
      "(8069, 24)\n",
      "(8069,)\n",
      "Score con \"23\" grados de dato 3 para Price: 87.04489702780288\n",
      "MSE: 14148.760409105233\n",
      "(8069, 25)\n",
      "(8069,)\n",
      "Score con \"24\" grados de dato 3 para Price: 87.04532006368679\n",
      "MSE: 7482.747978915049\n",
      "(8069, 26)\n",
      "(8069,)\n",
      "Score con \"25\" grados de dato 3 para Price: 87.0323211397847\n",
      "MSE: 15384.109551766172\n",
      "(8069, 27)\n",
      "(8069,)\n",
      "Score con \"26\" grados de dato 3 para Price: 87.0316164913716\n",
      "MSE: 9775.563214046584\n",
      "(8069, 28)\n",
      "(8069,)\n",
      "Score con \"27\" grados de dato 3 para Price: 87.01811661316007\n",
      "MSE: 20708.597038157994\n",
      "(8069, 29)\n",
      "(8069,)\n",
      "Score con \"28\" grados de dato 3 para Price: 86.79425822765148\n",
      "MSE: 112633.48517005904\n",
      "(8069, 30)\n",
      "(8069,)\n",
      "Score con \"29\" grados de dato 3 para Price: 86.54104493161545\n",
      "MSE: 158659.3217885597\n",
      "(8069, 31)\n",
      "(8069,)\n",
      "Score con \"30\" grados de dato 3 para Price: 74.09744396064191\n",
      "MSE: 656539.7067200525\n",
      "(8069, 32)\n",
      "(8069,)\n",
      "Score con \"31\" grados de dato 3 para Price: 59.17509146117117\n",
      "MSE: 772159.8236195479\n",
      "(8069, 33)\n",
      "(8069,)\n",
      "Score con \"32\" grados de dato 3 para Price: 54.616503982494955\n",
      "MSE: 1144836.2850391704\n",
      "(8069, 34)\n",
      "(8069,)\n",
      "Score con \"33\" grados de dato 3 para Price: 50.48262111184243\n",
      "MSE: 1556178.1184503066\n",
      "(8069, 35)\n",
      "(8069,)\n",
      "Score con \"34\" grados de dato 3 para Price: 34.99002169644779\n",
      "MSE: 859615.3187553529\n",
      "(8069, 36)\n",
      "(8069,)\n",
      "Score con \"35\" grados de dato 3 para Price: 33.11400708318456\n",
      "MSE: 1136260.6902812964\n",
      "(8069, 37)\n",
      "(8069,)\n",
      "Score con \"36\" grados de dato 3 para Price: 31.467823021042495\n",
      "MSE: 1537200.7491420975\n",
      "(8069, 38)\n",
      "(8069,)\n",
      "Score con \"37\" grados de dato 3 para Price: 29.81026109630206\n",
      "MSE: 2165692.492808957\n",
      "(8069, 39)\n",
      "(8069,)\n",
      "Score con \"38\" grados de dato 3 para Price: 28.169095232598274\n",
      "MSE: 3122939.98446647\n",
      "(8069, 40)\n",
      "(8069,)\n",
      "Score con \"39\" grados de dato 3 para Price: 26.521810863064932\n",
      "MSE: 4545397.839825614\n"
     ]
    }
   ],
   "source": [
    "lin_reg_model = LinearRegression()\n",
    "for i, X in enumerate(l_X):\n",
    "    \n",
    "    X = X.reshape(-1, 1)\n",
    "    X_train, X_test, y_train, y_test = train_test_split(X, y, test_size=0.20)\n",
    "    print(\"\\n\")\n",
    "    tabla_score = []\n",
    "    tabla_x = []\n",
    "    for degree in range(2,40):\n",
    "        polinominal_model = PolynomialFeatures(degree) \n",
    "        X_poly = polinominal_model.fit_transform(X_train.reshape(-1, 1), y_train)\n",
    "        X_poly_T = polinominal_model.fit_transform(X_test.reshape(-1, 1), y_test)\n",
    "        print(X_poly_T.shape)\n",
    "        print(y_test.shape)\n",
    "        lin_reg_model.fit(X_poly, y_train)\n",
    "        \n",
    "\n",
    "        y_pred = lin_reg_model.predict(X_poly)\n",
    "        tabla_score.append(r2_score(y_train, y_pred)*100)\n",
    "        tabla_x.append(degree)\n",
    "        print (f'Score con \"{degree}\" grados de dato {i} para Price:', r2_score(y_train, y_pred)*100)\n",
    "        \n",
    "        predictions = lin_reg_model.predict(X_poly_T)\n",
    "        np.sqrt(mean_squared_error(y_test, predictions))\n",
    "        print(\"MSE:\", np.sqrt(mean_squared_error(y_test, predictions)))\n"
   ]
  },
  {
   "cell_type": "code",
   "execution_count": 26,
   "metadata": {},
   "outputs": [
    {
     "output_type": "execute_result",
     "data": {
      "text/plain": [
       "(40345, 3)"
      ]
     },
     "metadata": {},
     "execution_count": 26
    }
   ],
   "source": [
    "X = np.array(df[[\"x\",\"y\",\"z\"]])\n",
    "X.shape"
   ]
  },
  {
   "cell_type": "code",
   "execution_count": 27,
   "metadata": {},
   "outputs": [
    {
     "output_type": "execute_result",
     "data": {
      "text/plain": [
       "(40345,)"
      ]
     },
     "metadata": {},
     "execution_count": 27
    }
   ],
   "source": [
    "y = np.array(df[\"price\"])\n",
    "y.shape"
   ]
  },
  {
   "cell_type": "code",
   "execution_count": 41,
   "metadata": {},
   "outputs": [
    {
     "output_type": "stream",
     "name": "stdout",
     "text": [
      "\n\n(32276, 3)\n(96828, 3)\n(24207, 3)\n(8069,)\n"
     ]
    },
    {
     "output_type": "error",
     "ename": "ValueError",
     "evalue": "Found input variables with inconsistent numbers of samples: [96828, 32276]",
     "traceback": [
      "\u001b[1;31m---------------------------------------------------------------------------\u001b[0m",
      "\u001b[1;31mValueError\u001b[0m                                Traceback (most recent call last)",
      "\u001b[1;32m<ipython-input-41-7f778eabb4f0>\u001b[0m in \u001b[0;36m<module>\u001b[1;34m\u001b[0m\n\u001b[0;32m     11\u001b[0m     \u001b[0mprint\u001b[0m\u001b[1;33m(\u001b[0m\u001b[0mX_poly_T\u001b[0m\u001b[1;33m.\u001b[0m\u001b[0mshape\u001b[0m\u001b[1;33m)\u001b[0m\u001b[1;33m\u001b[0m\u001b[1;33m\u001b[0m\u001b[0m\n\u001b[0;32m     12\u001b[0m     \u001b[0mprint\u001b[0m\u001b[1;33m(\u001b[0m\u001b[0my_test\u001b[0m\u001b[1;33m.\u001b[0m\u001b[0mshape\u001b[0m\u001b[1;33m)\u001b[0m\u001b[1;33m\u001b[0m\u001b[1;33m\u001b[0m\u001b[0m\n\u001b[1;32m---> 13\u001b[1;33m     \u001b[0mlin_reg_model\u001b[0m\u001b[1;33m.\u001b[0m\u001b[0mfit\u001b[0m\u001b[1;33m(\u001b[0m\u001b[0mX_poly\u001b[0m\u001b[1;33m,\u001b[0m \u001b[0my_train\u001b[0m\u001b[1;33m)\u001b[0m\u001b[1;33m\u001b[0m\u001b[1;33m\u001b[0m\u001b[0m\n\u001b[0m\u001b[0;32m     14\u001b[0m \u001b[1;33m\u001b[0m\u001b[0m\n\u001b[0;32m     15\u001b[0m \u001b[1;33m\u001b[0m\u001b[0m\n",
      "\u001b[1;32m~\\AppData\\Local\\Programs\\Python\\Python37\\lib\\site-packages\\sklearn\\linear_model\\_base.py\u001b[0m in \u001b[0;36mfit\u001b[1;34m(self, X, y, sample_weight)\u001b[0m\n\u001b[0;32m    517\u001b[0m \u001b[1;33m\u001b[0m\u001b[0m\n\u001b[0;32m    518\u001b[0m         X, y = self._validate_data(X, y, accept_sparse=accept_sparse,\n\u001b[1;32m--> 519\u001b[1;33m                                    y_numeric=True, multi_output=True)\n\u001b[0m\u001b[0;32m    520\u001b[0m \u001b[1;33m\u001b[0m\u001b[0m\n\u001b[0;32m    521\u001b[0m         \u001b[1;32mif\u001b[0m \u001b[0msample_weight\u001b[0m \u001b[1;32mis\u001b[0m \u001b[1;32mnot\u001b[0m \u001b[1;32mNone\u001b[0m\u001b[1;33m:\u001b[0m\u001b[1;33m\u001b[0m\u001b[1;33m\u001b[0m\u001b[0m\n",
      "\u001b[1;32m~\\AppData\\Local\\Programs\\Python\\Python37\\lib\\site-packages\\sklearn\\base.py\u001b[0m in \u001b[0;36m_validate_data\u001b[1;34m(self, X, y, reset, validate_separately, **check_params)\u001b[0m\n\u001b[0;32m    431\u001b[0m                 \u001b[0my\u001b[0m \u001b[1;33m=\u001b[0m \u001b[0mcheck_array\u001b[0m\u001b[1;33m(\u001b[0m\u001b[0my\u001b[0m\u001b[1;33m,\u001b[0m \u001b[1;33m**\u001b[0m\u001b[0mcheck_y_params\u001b[0m\u001b[1;33m)\u001b[0m\u001b[1;33m\u001b[0m\u001b[1;33m\u001b[0m\u001b[0m\n\u001b[0;32m    432\u001b[0m             \u001b[1;32melse\u001b[0m\u001b[1;33m:\u001b[0m\u001b[1;33m\u001b[0m\u001b[1;33m\u001b[0m\u001b[0m\n\u001b[1;32m--> 433\u001b[1;33m                 \u001b[0mX\u001b[0m\u001b[1;33m,\u001b[0m \u001b[0my\u001b[0m \u001b[1;33m=\u001b[0m \u001b[0mcheck_X_y\u001b[0m\u001b[1;33m(\u001b[0m\u001b[0mX\u001b[0m\u001b[1;33m,\u001b[0m \u001b[0my\u001b[0m\u001b[1;33m,\u001b[0m \u001b[1;33m**\u001b[0m\u001b[0mcheck_params\u001b[0m\u001b[1;33m)\u001b[0m\u001b[1;33m\u001b[0m\u001b[1;33m\u001b[0m\u001b[0m\n\u001b[0m\u001b[0;32m    434\u001b[0m             \u001b[0mout\u001b[0m \u001b[1;33m=\u001b[0m \u001b[0mX\u001b[0m\u001b[1;33m,\u001b[0m \u001b[0my\u001b[0m\u001b[1;33m\u001b[0m\u001b[1;33m\u001b[0m\u001b[0m\n\u001b[0;32m    435\u001b[0m \u001b[1;33m\u001b[0m\u001b[0m\n",
      "\u001b[1;32m~\\AppData\\Local\\Programs\\Python\\Python37\\lib\\site-packages\\sklearn\\utils\\validation.py\u001b[0m in \u001b[0;36minner_f\u001b[1;34m(*args, **kwargs)\u001b[0m\n\u001b[0;32m     61\u001b[0m             \u001b[0mextra_args\u001b[0m \u001b[1;33m=\u001b[0m \u001b[0mlen\u001b[0m\u001b[1;33m(\u001b[0m\u001b[0margs\u001b[0m\u001b[1;33m)\u001b[0m \u001b[1;33m-\u001b[0m \u001b[0mlen\u001b[0m\u001b[1;33m(\u001b[0m\u001b[0mall_args\u001b[0m\u001b[1;33m)\u001b[0m\u001b[1;33m\u001b[0m\u001b[1;33m\u001b[0m\u001b[0m\n\u001b[0;32m     62\u001b[0m             \u001b[1;32mif\u001b[0m \u001b[0mextra_args\u001b[0m \u001b[1;33m<=\u001b[0m \u001b[1;36m0\u001b[0m\u001b[1;33m:\u001b[0m\u001b[1;33m\u001b[0m\u001b[1;33m\u001b[0m\u001b[0m\n\u001b[1;32m---> 63\u001b[1;33m                 \u001b[1;32mreturn\u001b[0m \u001b[0mf\u001b[0m\u001b[1;33m(\u001b[0m\u001b[1;33m*\u001b[0m\u001b[0margs\u001b[0m\u001b[1;33m,\u001b[0m \u001b[1;33m**\u001b[0m\u001b[0mkwargs\u001b[0m\u001b[1;33m)\u001b[0m\u001b[1;33m\u001b[0m\u001b[1;33m\u001b[0m\u001b[0m\n\u001b[0m\u001b[0;32m     64\u001b[0m \u001b[1;33m\u001b[0m\u001b[0m\n\u001b[0;32m     65\u001b[0m             \u001b[1;31m# extra_args > 0\u001b[0m\u001b[1;33m\u001b[0m\u001b[1;33m\u001b[0m\u001b[1;33m\u001b[0m\u001b[0m\n",
      "\u001b[1;32m~\\AppData\\Local\\Programs\\Python\\Python37\\lib\\site-packages\\sklearn\\utils\\validation.py\u001b[0m in \u001b[0;36mcheck_X_y\u001b[1;34m(X, y, accept_sparse, accept_large_sparse, dtype, order, copy, force_all_finite, ensure_2d, allow_nd, multi_output, ensure_min_samples, ensure_min_features, y_numeric, estimator)\u001b[0m\n\u001b[0;32m    886\u001b[0m         \u001b[0my\u001b[0m \u001b[1;33m=\u001b[0m \u001b[0my\u001b[0m\u001b[1;33m.\u001b[0m\u001b[0mastype\u001b[0m\u001b[1;33m(\u001b[0m\u001b[0mnp\u001b[0m\u001b[1;33m.\u001b[0m\u001b[0mfloat64\u001b[0m\u001b[1;33m)\u001b[0m\u001b[1;33m\u001b[0m\u001b[1;33m\u001b[0m\u001b[0m\n\u001b[0;32m    887\u001b[0m \u001b[1;33m\u001b[0m\u001b[0m\n\u001b[1;32m--> 888\u001b[1;33m     \u001b[0mcheck_consistent_length\u001b[0m\u001b[1;33m(\u001b[0m\u001b[0mX\u001b[0m\u001b[1;33m,\u001b[0m \u001b[0my\u001b[0m\u001b[1;33m)\u001b[0m\u001b[1;33m\u001b[0m\u001b[1;33m\u001b[0m\u001b[0m\n\u001b[0m\u001b[0;32m    889\u001b[0m \u001b[1;33m\u001b[0m\u001b[0m\n\u001b[0;32m    890\u001b[0m     \u001b[1;32mreturn\u001b[0m \u001b[0mX\u001b[0m\u001b[1;33m,\u001b[0m \u001b[0my\u001b[0m\u001b[1;33m\u001b[0m\u001b[1;33m\u001b[0m\u001b[0m\n",
      "\u001b[1;32m~\\AppData\\Local\\Programs\\Python\\Python37\\lib\\site-packages\\sklearn\\utils\\validation.py\u001b[0m in \u001b[0;36mcheck_consistent_length\u001b[1;34m(*arrays)\u001b[0m\n\u001b[0;32m    318\u001b[0m     \u001b[1;32mif\u001b[0m \u001b[0mlen\u001b[0m\u001b[1;33m(\u001b[0m\u001b[0muniques\u001b[0m\u001b[1;33m)\u001b[0m \u001b[1;33m>\u001b[0m \u001b[1;36m1\u001b[0m\u001b[1;33m:\u001b[0m\u001b[1;33m\u001b[0m\u001b[1;33m\u001b[0m\u001b[0m\n\u001b[0;32m    319\u001b[0m         raise ValueError(\"Found input variables with inconsistent numbers of\"\n\u001b[1;32m--> 320\u001b[1;33m                          \" samples: %r\" % [int(l) for l in lengths])\n\u001b[0m\u001b[0;32m    321\u001b[0m \u001b[1;33m\u001b[0m\u001b[0m\n\u001b[0;32m    322\u001b[0m \u001b[1;33m\u001b[0m\u001b[0m\n",
      "\u001b[1;31mValueError\u001b[0m: Found input variables with inconsistent numbers of samples: [96828, 32276]"
     ]
    }
   ],
   "source": [
    "X_train, X_test, y_train, y_test = train_test_split(X, y, test_size=0.20)\n",
    "print(\"\\n\")\n",
    "for degree in range(2,3):\n",
    "    polinominal_model = PolynomialFeatures(degree) \n",
    "    print(X_train.shape)\n",
    "    X_poly = polinominal_model.fit_transform(X_train.reshape(-1, 1))\n",
    "    #X_poly = polinominal_model.fit_transform(X_train.reshape(-1, 1), y_train)\n",
    "    lin_reg_model = LinearRegression()\n",
    "    print(X_poly.shape)\n",
    "    X_poly_T = polinominal_model.fit_transform(X_test.reshape(-1, 1), y_test)\n",
    "    print(X_poly_T.shape)\n",
    "    print(y_test.shape)\n",
    "    lin_reg_model.fit(X_poly, y_train)\n",
    "        \n",
    "\n",
    "    y_pred = lin_reg_model.predict(X_poly)\n",
    "    tabla_score.append(r2_score(y_train, y_pred)*100)\n",
    "    tabla_x.append(degree)\n",
    "    print (f'Score con \"{degree}\" grados para Price:', r2_score(y_train, y_pred)*100)\n",
    "        \n",
    "    predictions = lin_reg_model.predict(X_poly_T)\n",
    "    np.sqrt(mean_squared_error(y_test, predictions))\n",
    "    print(\"MSE:\", np.sqrt(mean_squared_error(y_test, predictions)))"
   ]
  },
  {
   "cell_type": "code",
   "execution_count": null,
   "metadata": {},
   "outputs": [],
   "source": []
  },
  {
   "cell_type": "code",
   "execution_count": null,
   "metadata": {},
   "outputs": [],
   "source": []
  },
  {
   "cell_type": "code",
   "execution_count": 10,
   "metadata": {},
   "outputs": [
    {
     "data": {
      "text/plain": [
       "LinearRegression()"
      ]
     },
     "execution_count": 10,
     "metadata": {},
     "output_type": "execute_result"
    }
   ],
   "source": [
    "model.fit(X_train, y_train)"
   ]
  },
  {
   "cell_type": "markdown",
   "metadata": {},
   "source": [
    "### 5. Predecir con el modelo ya entrenado con X_test"
   ]
  },
  {
   "cell_type": "code",
   "execution_count": 11,
   "metadata": {},
   "outputs": [
    {
     "name": "stdout",
     "output_type": "stream",
     "text": [
      "[ 7704.85364418  5221.32255796  -458.15129534 ... -1757.15918457\n",
      "  6025.68092069  2426.18738372]\n"
     ]
    }
   ],
   "source": [
    "predictions = model.predict(X_test)\n",
    "print(predictions)"
   ]
  },
  {
   "cell_type": "code",
   "execution_count": null,
   "metadata": {},
   "outputs": [],
   "source": []
  },
  {
   "cell_type": "markdown",
   "metadata": {},
   "source": [
    "### 6. Sacar métricas, valorar el modelo \n",
    "\n",
    "Recuerdo que en la competición se va a evaluar con la métrica de RMSE."
   ]
  },
  {
   "cell_type": "code",
   "execution_count": 12,
   "metadata": {},
   "outputs": [
    {
     "data": {
      "text/plain": [
       "1894.008376646408"
      ]
     },
     "execution_count": 12,
     "metadata": {},
     "output_type": "execute_result"
    }
   ],
   "source": [
    "np.sqrt(mean_squared_error(y_test, predictions))"
   ]
  },
  {
   "cell_type": "markdown",
   "metadata": {},
   "source": [
    "-----------------------------------------------------------------"
   ]
  },
  {
   "cell_type": "markdown",
   "metadata": {},
   "source": [
    "## Una vez listo el modelo, toca predecir con el dataset de predicción "
   ]
  },
  {
   "cell_type": "markdown",
   "metadata": {},
   "source": [
    "Definición de **modelo que está listo**. \n",
    "\n",
    "_Tras hacer suficientes pruebas, analizar los datos, hacer feature engineering, probar diferentes modelos con diferentes parámetros, es con este con el que observo mejores métricas y menos overfitting. ¡Cuidado con el overfitting aquí! Si vuestro modelo aprende muy bien de estos datos pero hay overfitting cuando le pasemos los datos desconocidos de `diamonds_test.csv` nos arriesgamos a que digamos, no salga lo esperado._"
   ]
  },
  {
   "cell_type": "markdown",
   "metadata": {},
   "source": [
    "### 1. Entrena dicho modelo con TODOS tus datos de train, esto es con `diamonds_train.csv` al completo.\n",
    "\n",
    "**CON LAS TRANSFORMACIONES QUE LE HAYAS REALIZADO A `X` INCLUÍDAS.**\n",
    "\n",
    "Véase:\n",
    "- Estandarización/Normalización\n",
    "- Eliminación de Outliers\n",
    "- Eliminación de columnas\n",
    "- Creación de columnas nuevas\n",
    "- Gestión de valores nulos\n",
    "- Y un largo etcétera de técnicas que como Data Scientist hayas considerado las mejores para tu dataset."
   ]
  },
  {
   "cell_type": "markdown",
   "metadata": {},
   "source": [
    "### 2. Carga los datos de `diamonds_test.csv` para predecir.\n",
    "\n",
    "**¿De dónde saco `diamonds_test.csv`?**"
   ]
  },
  {
   "cell_type": "code",
   "execution_count": 17,
   "metadata": {},
   "outputs": [
    {
     "data": {
      "text/html": [
       "<div>\n",
       "<style scoped>\n",
       "    .dataframe tbody tr th:only-of-type {\n",
       "        vertical-align: middle;\n",
       "    }\n",
       "\n",
       "    .dataframe tbody tr th {\n",
       "        vertical-align: top;\n",
       "    }\n",
       "\n",
       "    .dataframe thead th {\n",
       "        text-align: right;\n",
       "    }\n",
       "</style>\n",
       "<table border=\"1\" class=\"dataframe\">\n",
       "  <thead>\n",
       "    <tr style=\"text-align: right;\">\n",
       "      <th></th>\n",
       "      <th>carat</th>\n",
       "      <th>cut</th>\n",
       "      <th>color</th>\n",
       "      <th>clarity</th>\n",
       "      <th>depth</th>\n",
       "      <th>table</th>\n",
       "      <th>x</th>\n",
       "      <th>y</th>\n",
       "      <th>z</th>\n",
       "    </tr>\n",
       "  </thead>\n",
       "  <tbody>\n",
       "    <tr>\n",
       "      <th>0</th>\n",
       "      <td>0.30</td>\n",
       "      <td>Ideal</td>\n",
       "      <td>H</td>\n",
       "      <td>SI2</td>\n",
       "      <td>60.0</td>\n",
       "      <td>56.0</td>\n",
       "      <td>4.41</td>\n",
       "      <td>4.43</td>\n",
       "      <td>2.65</td>\n",
       "    </tr>\n",
       "    <tr>\n",
       "      <th>1</th>\n",
       "      <td>0.34</td>\n",
       "      <td>Ideal</td>\n",
       "      <td>D</td>\n",
       "      <td>IF</td>\n",
       "      <td>62.1</td>\n",
       "      <td>57.0</td>\n",
       "      <td>4.52</td>\n",
       "      <td>4.46</td>\n",
       "      <td>2.79</td>\n",
       "    </tr>\n",
       "    <tr>\n",
       "      <th>2</th>\n",
       "      <td>1.57</td>\n",
       "      <td>Very Good</td>\n",
       "      <td>I</td>\n",
       "      <td>VS2</td>\n",
       "      <td>60.3</td>\n",
       "      <td>58.0</td>\n",
       "      <td>7.58</td>\n",
       "      <td>7.55</td>\n",
       "      <td>4.56</td>\n",
       "    </tr>\n",
       "    <tr>\n",
       "      <th>3</th>\n",
       "      <td>0.31</td>\n",
       "      <td>Ideal</td>\n",
       "      <td>H</td>\n",
       "      <td>VS2</td>\n",
       "      <td>61.8</td>\n",
       "      <td>57.0</td>\n",
       "      <td>4.32</td>\n",
       "      <td>4.36</td>\n",
       "      <td>2.68</td>\n",
       "    </tr>\n",
       "    <tr>\n",
       "      <th>4</th>\n",
       "      <td>1.51</td>\n",
       "      <td>Good</td>\n",
       "      <td>I</td>\n",
       "      <td>VVS1</td>\n",
       "      <td>64.0</td>\n",
       "      <td>60.0</td>\n",
       "      <td>7.26</td>\n",
       "      <td>7.21</td>\n",
       "      <td>4.63</td>\n",
       "    </tr>\n",
       "  </tbody>\n",
       "</table>\n",
       "</div>"
      ],
      "text/plain": [
       "   carat        cut color clarity  depth  table     x     y     z\n",
       "0   0.30      Ideal     H     SI2   60.0   56.0  4.41  4.43  2.65\n",
       "1   0.34      Ideal     D      IF   62.1   57.0  4.52  4.46  2.79\n",
       "2   1.57  Very Good     I     VS2   60.3   58.0  7.58  7.55  4.56\n",
       "3   0.31      Ideal     H     VS2   61.8   57.0  4.32  4.36  2.68\n",
       "4   1.51       Good     I    VVS1   64.0   60.0  7.26  7.21  4.63"
      ]
     },
     "execution_count": 17,
     "metadata": {},
     "output_type": "execute_result"
    }
   ],
   "source": [
    "X_pred = pd.read_csv(\"diamonds_test.csv\", index_col = 0)\n",
    "X_pred.head()"
   ]
  },
  {
   "cell_type": "code",
   "execution_count": 18,
   "metadata": {},
   "outputs": [
    {
     "data": {
      "text/plain": [
       "(13449, 9)"
      ]
     },
     "execution_count": 18,
     "metadata": {},
     "output_type": "execute_result"
    }
   ],
   "source": [
    "X_pred.shape"
   ]
  },
  {
   "cell_type": "markdown",
   "metadata": {},
   "source": [
    "**¿Por qué da error?** "
   ]
  },
  {
   "cell_type": "code",
   "execution_count": 19,
   "metadata": {},
   "outputs": [
    {
     "ename": "ValueError",
     "evalue": "could not convert string to float: 'Ideal'",
     "output_type": "error",
     "traceback": [
      "\u001b[1;31m---------------------------------------------------------------------------\u001b[0m",
      "\u001b[1;31mValueError\u001b[0m                                Traceback (most recent call last)",
      "\u001b[1;32m<ipython-input-19-53b045e55ed6>\u001b[0m in \u001b[0;36m<module>\u001b[1;34m\u001b[0m\n\u001b[1;32m----> 1\u001b[1;33m \u001b[0mpredictions_submit\u001b[0m \u001b[1;33m=\u001b[0m \u001b[0mmodel\u001b[0m\u001b[1;33m.\u001b[0m\u001b[0mpredict\u001b[0m\u001b[1;33m(\u001b[0m\u001b[0mX_pred\u001b[0m\u001b[1;33m)\u001b[0m\u001b[1;33m\u001b[0m\u001b[1;33m\u001b[0m\u001b[0m\n\u001b[0m\u001b[0;32m      2\u001b[0m \u001b[0mpredictions_submit\u001b[0m\u001b[1;33m\u001b[0m\u001b[1;33m\u001b[0m\u001b[0m\n",
      "\u001b[1;32mc:\\users\\clara\\appdata\\local\\programs\\python\\python38\\lib\\site-packages\\sklearn\\linear_model\\_base.py\u001b[0m in \u001b[0;36mpredict\u001b[1;34m(self, X)\u001b[0m\n\u001b[0;32m    234\u001b[0m             \u001b[0mReturns\u001b[0m \u001b[0mpredicted\u001b[0m \u001b[0mvalues\u001b[0m\u001b[1;33m.\u001b[0m\u001b[1;33m\u001b[0m\u001b[1;33m\u001b[0m\u001b[0m\n\u001b[0;32m    235\u001b[0m         \"\"\"\n\u001b[1;32m--> 236\u001b[1;33m         \u001b[1;32mreturn\u001b[0m \u001b[0mself\u001b[0m\u001b[1;33m.\u001b[0m\u001b[0m_decision_function\u001b[0m\u001b[1;33m(\u001b[0m\u001b[0mX\u001b[0m\u001b[1;33m)\u001b[0m\u001b[1;33m\u001b[0m\u001b[1;33m\u001b[0m\u001b[0m\n\u001b[0m\u001b[0;32m    237\u001b[0m \u001b[1;33m\u001b[0m\u001b[0m\n\u001b[0;32m    238\u001b[0m     \u001b[0m_preprocess_data\u001b[0m \u001b[1;33m=\u001b[0m \u001b[0mstaticmethod\u001b[0m\u001b[1;33m(\u001b[0m\u001b[0m_preprocess_data\u001b[0m\u001b[1;33m)\u001b[0m\u001b[1;33m\u001b[0m\u001b[1;33m\u001b[0m\u001b[0m\n",
      "\u001b[1;32mc:\\users\\clara\\appdata\\local\\programs\\python\\python38\\lib\\site-packages\\sklearn\\linear_model\\_base.py\u001b[0m in \u001b[0;36m_decision_function\u001b[1;34m(self, X)\u001b[0m\n\u001b[0;32m    216\u001b[0m         \u001b[0mcheck_is_fitted\u001b[0m\u001b[1;33m(\u001b[0m\u001b[0mself\u001b[0m\u001b[1;33m)\u001b[0m\u001b[1;33m\u001b[0m\u001b[1;33m\u001b[0m\u001b[0m\n\u001b[0;32m    217\u001b[0m \u001b[1;33m\u001b[0m\u001b[0m\n\u001b[1;32m--> 218\u001b[1;33m         \u001b[0mX\u001b[0m \u001b[1;33m=\u001b[0m \u001b[0mcheck_array\u001b[0m\u001b[1;33m(\u001b[0m\u001b[0mX\u001b[0m\u001b[1;33m,\u001b[0m \u001b[0maccept_sparse\u001b[0m\u001b[1;33m=\u001b[0m\u001b[1;33m[\u001b[0m\u001b[1;34m'csr'\u001b[0m\u001b[1;33m,\u001b[0m \u001b[1;34m'csc'\u001b[0m\u001b[1;33m,\u001b[0m \u001b[1;34m'coo'\u001b[0m\u001b[1;33m]\u001b[0m\u001b[1;33m)\u001b[0m\u001b[1;33m\u001b[0m\u001b[1;33m\u001b[0m\u001b[0m\n\u001b[0m\u001b[0;32m    219\u001b[0m         return safe_sparse_dot(X, self.coef_.T,\n\u001b[0;32m    220\u001b[0m                                dense_output=True) + self.intercept_\n",
      "\u001b[1;32mc:\\users\\clara\\appdata\\local\\programs\\python\\python38\\lib\\site-packages\\sklearn\\utils\\validation.py\u001b[0m in \u001b[0;36minner_f\u001b[1;34m(*args, **kwargs)\u001b[0m\n\u001b[0;32m     70\u001b[0m                           FutureWarning)\n\u001b[0;32m     71\u001b[0m         \u001b[0mkwargs\u001b[0m\u001b[1;33m.\u001b[0m\u001b[0mupdate\u001b[0m\u001b[1;33m(\u001b[0m\u001b[1;33m{\u001b[0m\u001b[0mk\u001b[0m\u001b[1;33m:\u001b[0m \u001b[0marg\u001b[0m \u001b[1;32mfor\u001b[0m \u001b[0mk\u001b[0m\u001b[1;33m,\u001b[0m \u001b[0marg\u001b[0m \u001b[1;32min\u001b[0m \u001b[0mzip\u001b[0m\u001b[1;33m(\u001b[0m\u001b[0msig\u001b[0m\u001b[1;33m.\u001b[0m\u001b[0mparameters\u001b[0m\u001b[1;33m,\u001b[0m \u001b[0margs\u001b[0m\u001b[1;33m)\u001b[0m\u001b[1;33m}\u001b[0m\u001b[1;33m)\u001b[0m\u001b[1;33m\u001b[0m\u001b[1;33m\u001b[0m\u001b[0m\n\u001b[1;32m---> 72\u001b[1;33m         \u001b[1;32mreturn\u001b[0m \u001b[0mf\u001b[0m\u001b[1;33m(\u001b[0m\u001b[1;33m**\u001b[0m\u001b[0mkwargs\u001b[0m\u001b[1;33m)\u001b[0m\u001b[1;33m\u001b[0m\u001b[1;33m\u001b[0m\u001b[0m\n\u001b[0m\u001b[0;32m     73\u001b[0m     \u001b[1;32mreturn\u001b[0m \u001b[0minner_f\u001b[0m\u001b[1;33m\u001b[0m\u001b[1;33m\u001b[0m\u001b[0m\n\u001b[0;32m     74\u001b[0m \u001b[1;33m\u001b[0m\u001b[0m\n",
      "\u001b[1;32mc:\\users\\clara\\appdata\\local\\programs\\python\\python38\\lib\\site-packages\\sklearn\\utils\\validation.py\u001b[0m in \u001b[0;36mcheck_array\u001b[1;34m(array, accept_sparse, accept_large_sparse, dtype, order, copy, force_all_finite, ensure_2d, allow_nd, ensure_min_samples, ensure_min_features, estimator)\u001b[0m\n\u001b[0;32m    596\u001b[0m                     \u001b[0marray\u001b[0m \u001b[1;33m=\u001b[0m \u001b[0marray\u001b[0m\u001b[1;33m.\u001b[0m\u001b[0mastype\u001b[0m\u001b[1;33m(\u001b[0m\u001b[0mdtype\u001b[0m\u001b[1;33m,\u001b[0m \u001b[0mcasting\u001b[0m\u001b[1;33m=\u001b[0m\u001b[1;34m\"unsafe\"\u001b[0m\u001b[1;33m,\u001b[0m \u001b[0mcopy\u001b[0m\u001b[1;33m=\u001b[0m\u001b[1;32mFalse\u001b[0m\u001b[1;33m)\u001b[0m\u001b[1;33m\u001b[0m\u001b[1;33m\u001b[0m\u001b[0m\n\u001b[0;32m    597\u001b[0m                 \u001b[1;32melse\u001b[0m\u001b[1;33m:\u001b[0m\u001b[1;33m\u001b[0m\u001b[1;33m\u001b[0m\u001b[0m\n\u001b[1;32m--> 598\u001b[1;33m                     \u001b[0marray\u001b[0m \u001b[1;33m=\u001b[0m \u001b[0mnp\u001b[0m\u001b[1;33m.\u001b[0m\u001b[0masarray\u001b[0m\u001b[1;33m(\u001b[0m\u001b[0marray\u001b[0m\u001b[1;33m,\u001b[0m \u001b[0morder\u001b[0m\u001b[1;33m=\u001b[0m\u001b[0morder\u001b[0m\u001b[1;33m,\u001b[0m \u001b[0mdtype\u001b[0m\u001b[1;33m=\u001b[0m\u001b[0mdtype\u001b[0m\u001b[1;33m)\u001b[0m\u001b[1;33m\u001b[0m\u001b[1;33m\u001b[0m\u001b[0m\n\u001b[0m\u001b[0;32m    599\u001b[0m             \u001b[1;32mexcept\u001b[0m \u001b[0mComplexWarning\u001b[0m\u001b[1;33m:\u001b[0m\u001b[1;33m\u001b[0m\u001b[1;33m\u001b[0m\u001b[0m\n\u001b[0;32m    600\u001b[0m                 raise ValueError(\"Complex data not supported\\n\"\n",
      "\u001b[1;32mc:\\users\\clara\\appdata\\local\\programs\\python\\python38\\lib\\site-packages\\numpy\\core\\_asarray.py\u001b[0m in \u001b[0;36masarray\u001b[1;34m(a, dtype, order)\u001b[0m\n\u001b[0;32m     83\u001b[0m \u001b[1;33m\u001b[0m\u001b[0m\n\u001b[0;32m     84\u001b[0m     \"\"\"\n\u001b[1;32m---> 85\u001b[1;33m     \u001b[1;32mreturn\u001b[0m \u001b[0marray\u001b[0m\u001b[1;33m(\u001b[0m\u001b[0ma\u001b[0m\u001b[1;33m,\u001b[0m \u001b[0mdtype\u001b[0m\u001b[1;33m,\u001b[0m \u001b[0mcopy\u001b[0m\u001b[1;33m=\u001b[0m\u001b[1;32mFalse\u001b[0m\u001b[1;33m,\u001b[0m \u001b[0morder\u001b[0m\u001b[1;33m=\u001b[0m\u001b[0morder\u001b[0m\u001b[1;33m)\u001b[0m\u001b[1;33m\u001b[0m\u001b[1;33m\u001b[0m\u001b[0m\n\u001b[0m\u001b[0;32m     86\u001b[0m \u001b[1;33m\u001b[0m\u001b[0m\n\u001b[0;32m     87\u001b[0m \u001b[1;33m\u001b[0m\u001b[0m\n",
      "\u001b[1;32mc:\\users\\clara\\appdata\\local\\programs\\python\\python38\\lib\\site-packages\\pandas\\core\\generic.py\u001b[0m in \u001b[0;36m__array__\u001b[1;34m(self, dtype)\u001b[0m\n\u001b[0;32m   1894\u001b[0m \u001b[1;33m\u001b[0m\u001b[0m\n\u001b[0;32m   1895\u001b[0m     \u001b[1;32mdef\u001b[0m \u001b[0m__array__\u001b[0m\u001b[1;33m(\u001b[0m\u001b[0mself\u001b[0m\u001b[1;33m,\u001b[0m \u001b[0mdtype\u001b[0m\u001b[1;33m=\u001b[0m\u001b[1;32mNone\u001b[0m\u001b[1;33m)\u001b[0m \u001b[1;33m->\u001b[0m \u001b[0mnp\u001b[0m\u001b[1;33m.\u001b[0m\u001b[0mndarray\u001b[0m\u001b[1;33m:\u001b[0m\u001b[1;33m\u001b[0m\u001b[1;33m\u001b[0m\u001b[0m\n\u001b[1;32m-> 1896\u001b[1;33m         \u001b[1;32mreturn\u001b[0m \u001b[0mnp\u001b[0m\u001b[1;33m.\u001b[0m\u001b[0masarray\u001b[0m\u001b[1;33m(\u001b[0m\u001b[0mself\u001b[0m\u001b[1;33m.\u001b[0m\u001b[0m_values\u001b[0m\u001b[1;33m,\u001b[0m \u001b[0mdtype\u001b[0m\u001b[1;33m=\u001b[0m\u001b[0mdtype\u001b[0m\u001b[1;33m)\u001b[0m\u001b[1;33m\u001b[0m\u001b[1;33m\u001b[0m\u001b[0m\n\u001b[0m\u001b[0;32m   1897\u001b[0m \u001b[1;33m\u001b[0m\u001b[0m\n\u001b[0;32m   1898\u001b[0m     def __array_wrap__(\n",
      "\u001b[1;32mc:\\users\\clara\\appdata\\local\\programs\\python\\python38\\lib\\site-packages\\numpy\\core\\_asarray.py\u001b[0m in \u001b[0;36masarray\u001b[1;34m(a, dtype, order)\u001b[0m\n\u001b[0;32m     83\u001b[0m \u001b[1;33m\u001b[0m\u001b[0m\n\u001b[0;32m     84\u001b[0m     \"\"\"\n\u001b[1;32m---> 85\u001b[1;33m     \u001b[1;32mreturn\u001b[0m \u001b[0marray\u001b[0m\u001b[1;33m(\u001b[0m\u001b[0ma\u001b[0m\u001b[1;33m,\u001b[0m \u001b[0mdtype\u001b[0m\u001b[1;33m,\u001b[0m \u001b[0mcopy\u001b[0m\u001b[1;33m=\u001b[0m\u001b[1;32mFalse\u001b[0m\u001b[1;33m,\u001b[0m \u001b[0morder\u001b[0m\u001b[1;33m=\u001b[0m\u001b[0morder\u001b[0m\u001b[1;33m)\u001b[0m\u001b[1;33m\u001b[0m\u001b[1;33m\u001b[0m\u001b[0m\n\u001b[0m\u001b[0;32m     86\u001b[0m \u001b[1;33m\u001b[0m\u001b[0m\n\u001b[0;32m     87\u001b[0m \u001b[1;33m\u001b[0m\u001b[0m\n",
      "\u001b[1;31mValueError\u001b[0m: could not convert string to float: 'Ideal'"
     ]
    }
   ],
   "source": [
    "predictions_submit = model.predict(X_pred)\n",
    "predictions_submit"
   ]
  },
  {
   "cell_type": "markdown",
   "metadata": {},
   "source": [
    "## IMPORTANTE: APLICAR LO MISMO A ESTOS DATOS QUE HAYÁIS APLICADO A LOS DATOS DE ENTRENAMIENTO\n",
    "\n",
    "- SI EL ARRAY CON EL QUE HICISTEIS `.fit()` ERA DE 4 COLUMNAS, PARA `.predict()` DEBEN SER LAS MISMAS\n",
    "- SI AL ARRAY CON EL QUE HICISTEIS `.fit()` LO NORMALIZASTEIS, PARA `.predict()` DEBÉIS NORMALIZARLO\n",
    "- TODO IGUAL SALVO BORRAR FILAS, EL NÚMERO DE ROWS SE DEBE MANTENER EN ESTE SET, PUES LA PREDICCIÓN DEBE TENER 13449 FILAS, SI O SI"
   ]
  },
  {
   "cell_type": "markdown",
   "metadata": {},
   "source": [
    "**Entonces, si al cargar los datos de train usé `index_col=0` para que utilizara la primera columna del conjunto de datos como índice, ¿tendré que hacerlo también para el conjunto `diamonds_test.csv`?**"
   ]
  },
  {
   "cell_type": "code",
   "execution_count": null,
   "metadata": {},
   "outputs": [],
   "source": [
    "# ¿Qué opináis?\n",
    "# Sí"
   ]
  },
  {
   "cell_type": "markdown",
   "metadata": {},
   "source": [
    "![](https://www.tierraljelechu.com/web/img/wiki_up/1.996-SorpresaDto.-1-Red.jpg)"
   ]
  },
  {
   "cell_type": "code",
   "execution_count": 20,
   "metadata": {},
   "outputs": [
    {
     "data": {
      "text/html": [
       "<div>\n",
       "<style scoped>\n",
       "    .dataframe tbody tr th:only-of-type {\n",
       "        vertical-align: middle;\n",
       "    }\n",
       "\n",
       "    .dataframe tbody tr th {\n",
       "        vertical-align: top;\n",
       "    }\n",
       "\n",
       "    .dataframe thead th {\n",
       "        text-align: right;\n",
       "    }\n",
       "</style>\n",
       "<table border=\"1\" class=\"dataframe\">\n",
       "  <thead>\n",
       "    <tr style=\"text-align: right;\">\n",
       "      <th></th>\n",
       "      <th>carat</th>\n",
       "      <th>cut</th>\n",
       "      <th>color</th>\n",
       "      <th>clarity</th>\n",
       "      <th>depth</th>\n",
       "      <th>table</th>\n",
       "      <th>x</th>\n",
       "      <th>y</th>\n",
       "      <th>z</th>\n",
       "    </tr>\n",
       "  </thead>\n",
       "  <tbody>\n",
       "    <tr>\n",
       "      <th>0</th>\n",
       "      <td>0.30</td>\n",
       "      <td>Ideal</td>\n",
       "      <td>H</td>\n",
       "      <td>SI2</td>\n",
       "      <td>60.0</td>\n",
       "      <td>56.0</td>\n",
       "      <td>4.41</td>\n",
       "      <td>4.43</td>\n",
       "      <td>2.65</td>\n",
       "    </tr>\n",
       "    <tr>\n",
       "      <th>1</th>\n",
       "      <td>0.34</td>\n",
       "      <td>Ideal</td>\n",
       "      <td>D</td>\n",
       "      <td>IF</td>\n",
       "      <td>62.1</td>\n",
       "      <td>57.0</td>\n",
       "      <td>4.52</td>\n",
       "      <td>4.46</td>\n",
       "      <td>2.79</td>\n",
       "    </tr>\n",
       "    <tr>\n",
       "      <th>2</th>\n",
       "      <td>1.57</td>\n",
       "      <td>Very Good</td>\n",
       "      <td>I</td>\n",
       "      <td>VS2</td>\n",
       "      <td>60.3</td>\n",
       "      <td>58.0</td>\n",
       "      <td>7.58</td>\n",
       "      <td>7.55</td>\n",
       "      <td>4.56</td>\n",
       "    </tr>\n",
       "    <tr>\n",
       "      <th>3</th>\n",
       "      <td>0.31</td>\n",
       "      <td>Ideal</td>\n",
       "      <td>H</td>\n",
       "      <td>VS2</td>\n",
       "      <td>61.8</td>\n",
       "      <td>57.0</td>\n",
       "      <td>4.32</td>\n",
       "      <td>4.36</td>\n",
       "      <td>2.68</td>\n",
       "    </tr>\n",
       "    <tr>\n",
       "      <th>4</th>\n",
       "      <td>1.51</td>\n",
       "      <td>Good</td>\n",
       "      <td>I</td>\n",
       "      <td>VVS1</td>\n",
       "      <td>64.0</td>\n",
       "      <td>60.0</td>\n",
       "      <td>7.26</td>\n",
       "      <td>7.21</td>\n",
       "      <td>4.63</td>\n",
       "    </tr>\n",
       "  </tbody>\n",
       "</table>\n",
       "</div>"
      ],
      "text/plain": [
       "   carat        cut color clarity  depth  table     x     y     z\n",
       "0   0.30      Ideal     H     SI2   60.0   56.0  4.41  4.43  2.65\n",
       "1   0.34      Ideal     D      IF   62.1   57.0  4.52  4.46  2.79\n",
       "2   1.57  Very Good     I     VS2   60.3   58.0  7.58  7.55  4.56\n",
       "3   0.31      Ideal     H     VS2   61.8   57.0  4.32  4.36  2.68\n",
       "4   1.51       Good     I    VVS1   64.0   60.0  7.26  7.21  4.63"
      ]
     },
     "execution_count": 20,
     "metadata": {},
     "output_type": "execute_result"
    }
   ],
   "source": [
    "X_pred = pd.read_csv(\"diamonds_test.csv\", index_col=0)\n",
    "X_pred.head()"
   ]
  },
  {
   "cell_type": "markdown",
   "metadata": {},
   "source": [
    "**¿Qué más habrá que quitar o hacer?**"
   ]
  },
  {
   "cell_type": "code",
   "execution_count": null,
   "metadata": {},
   "outputs": [],
   "source": [
    "# ¿Qué opináis?\n",
    "# En este caso, quitar todas las columnas, menos la x, y y z"
   ]
  },
  {
   "cell_type": "markdown",
   "metadata": {},
   "source": [
    "![](https://www.tierraljelechu.com/web/img/wiki_up/1.996-SorpresaDto.-1-Red.jpg)"
   ]
  },
  {
   "cell_type": "markdown",
   "metadata": {},
   "source": [
    "**Truqui**: Carga X que debe estar actualmente actualizada a cómo la usaste para entrenar a `model` y haz que `X_pred` sea igual. ¡Sin quitar filas!"
   ]
  },
  {
   "cell_type": "code",
   "execution_count": 21,
   "metadata": {},
   "outputs": [
    {
     "data": {
      "text/plain": [
       "array([[6.73, 6.7 , 4.23],\n",
       "       [4.14, 4.17, 2.66],\n",
       "       [4.86, 4.82, 2.96],\n",
       "       ...,\n",
       "       [5.33, 5.34, 3.32],\n",
       "       [6.47, 6.56, 3.88],\n",
       "       [5.33, 5.27, 3.2 ]])"
      ]
     },
     "execution_count": 21,
     "metadata": {},
     "output_type": "execute_result"
    }
   ],
   "source": [
    "X"
   ]
  },
  {
   "cell_type": "code",
   "execution_count": 22,
   "metadata": {},
   "outputs": [],
   "source": [
    "X_pred = np.array(X_pred[['x','y','z']])"
   ]
  },
  {
   "cell_type": "markdown",
   "metadata": {},
   "source": [
    "Porque:\n",
    "    - SI EL ARRAY CON EL QUE HICISTEIS `.fit()` ERA DE 3 COLUMNAS, PARA `.predict()` DEBEN SER LAS MISMAS"
   ]
  },
  {
   "cell_type": "code",
   "execution_count": 23,
   "metadata": {},
   "outputs": [
    {
     "data": {
      "text/plain": [
       "array([[4.41, 4.43, 2.65],\n",
       "       [4.52, 4.46, 2.79],\n",
       "       [7.58, 7.55, 4.56],\n",
       "       ...,\n",
       "       [7.3 , 7.37, 4.53],\n",
       "       [7.79, 7.68, 4.66],\n",
       "       [4.29, 4.34, 2.64]])"
      ]
     },
     "execution_count": 23,
     "metadata": {},
     "output_type": "execute_result"
    }
   ],
   "source": [
    "X_pred"
   ]
  },
  {
   "cell_type": "markdown",
   "metadata": {},
   "source": [
    "### 3. AHORA puedo hacer la predicción que será lo que subirás a Kaggle. "
   ]
  },
  {
   "cell_type": "markdown",
   "metadata": {},
   "source": [
    "**¿Qué es lo que subirás a Kaggle?**"
   ]
  },
  {
   "cell_type": "code",
   "execution_count": null,
   "metadata": {},
   "outputs": [],
   "source": [
    "# respuestas"
   ]
  },
  {
   "cell_type": "code",
   "execution_count": 24,
   "metadata": {},
   "outputs": [
    {
     "data": {
      "text/plain": [
       "array([ -260.20029487,   116.70396517,  9699.26794807, ...,\n",
       "        8903.59284445, 10336.93013348,  -601.00685048])"
      ]
     },
     "execution_count": 24,
     "metadata": {},
     "output_type": "execute_result"
    }
   ],
   "source": [
    "predictions_submit = model.predict(X_pred)\n",
    "predictions_submit"
   ]
  },
  {
   "cell_type": "markdown",
   "metadata": {},
   "source": [
    "**¡PERO! Para subir a Kaggle la predicción, ésta tendrá que tener una forma específica y no valdrá otra.**\n",
    "\n",
    "En este caso, la **MISMA** forma que `sample_submission.csv`. "
   ]
  },
  {
   "cell_type": "markdown",
   "metadata": {},
   "source": [
    "**¿De dónde saco `sample_submission.csv`?**"
   ]
  },
  {
   "cell_type": "code",
   "execution_count": 25,
   "metadata": {},
   "outputs": [],
   "source": [
    "sample = pd.read_csv(\"sample_submission.csv\")"
   ]
  },
  {
   "cell_type": "code",
   "execution_count": 26,
   "metadata": {},
   "outputs": [
    {
     "data": {
      "text/html": [
       "<div>\n",
       "<style scoped>\n",
       "    .dataframe tbody tr th:only-of-type {\n",
       "        vertical-align: middle;\n",
       "    }\n",
       "\n",
       "    .dataframe tbody tr th {\n",
       "        vertical-align: top;\n",
       "    }\n",
       "\n",
       "    .dataframe thead th {\n",
       "        text-align: right;\n",
       "    }\n",
       "</style>\n",
       "<table border=\"1\" class=\"dataframe\">\n",
       "  <thead>\n",
       "    <tr style=\"text-align: right;\">\n",
       "      <th></th>\n",
       "      <th>id</th>\n",
       "      <th>price</th>\n",
       "    </tr>\n",
       "  </thead>\n",
       "  <tbody>\n",
       "    <tr>\n",
       "      <th>0</th>\n",
       "      <td>0</td>\n",
       "      <td>12132</td>\n",
       "    </tr>\n",
       "    <tr>\n",
       "      <th>1</th>\n",
       "      <td>1</td>\n",
       "      <td>11786</td>\n",
       "    </tr>\n",
       "    <tr>\n",
       "      <th>2</th>\n",
       "      <td>2</td>\n",
       "      <td>14684</td>\n",
       "    </tr>\n",
       "    <tr>\n",
       "      <th>3</th>\n",
       "      <td>3</td>\n",
       "      <td>15425</td>\n",
       "    </tr>\n",
       "    <tr>\n",
       "      <th>4</th>\n",
       "      <td>4</td>\n",
       "      <td>6724</td>\n",
       "    </tr>\n",
       "  </tbody>\n",
       "</table>\n",
       "</div>"
      ],
      "text/plain": [
       "   id  price\n",
       "0   0  12132\n",
       "1   1  11786\n",
       "2   2  14684\n",
       "3   3  15425\n",
       "4   4   6724"
      ]
     },
     "execution_count": 26,
     "metadata": {},
     "output_type": "execute_result"
    }
   ],
   "source": [
    "sample.head()"
   ]
  },
  {
   "cell_type": "code",
   "execution_count": 27,
   "metadata": {},
   "outputs": [
    {
     "data": {
      "text/plain": [
       "(13449, 2)"
      ]
     },
     "execution_count": 27,
     "metadata": {},
     "output_type": "execute_result"
    }
   ],
   "source": [
    "sample.shape"
   ]
  },
  {
   "cell_type": "markdown",
   "metadata": {},
   "source": [
    "### 4. Mete tus predicciones en un dataframe. \n",
    "\n",
    "En este caso, la **MISMA** forma que `sample_submission.csv`. "
   ]
  },
  {
   "cell_type": "code",
   "execution_count": 28,
   "metadata": {},
   "outputs": [],
   "source": [
    "submission = pd.DataFrame({\"id\": range(len(predictions_submit)), \"price\": predictions_submit})"
   ]
  },
  {
   "cell_type": "code",
   "execution_count": 29,
   "metadata": {},
   "outputs": [
    {
     "data": {
      "text/html": [
       "<div>\n",
       "<style scoped>\n",
       "    .dataframe tbody tr th:only-of-type {\n",
       "        vertical-align: middle;\n",
       "    }\n",
       "\n",
       "    .dataframe tbody tr th {\n",
       "        vertical-align: top;\n",
       "    }\n",
       "\n",
       "    .dataframe thead th {\n",
       "        text-align: right;\n",
       "    }\n",
       "</style>\n",
       "<table border=\"1\" class=\"dataframe\">\n",
       "  <thead>\n",
       "    <tr style=\"text-align: right;\">\n",
       "      <th></th>\n",
       "      <th>id</th>\n",
       "      <th>price</th>\n",
       "    </tr>\n",
       "  </thead>\n",
       "  <tbody>\n",
       "    <tr>\n",
       "      <th>0</th>\n",
       "      <td>0</td>\n",
       "      <td>-260.200295</td>\n",
       "    </tr>\n",
       "    <tr>\n",
       "      <th>1</th>\n",
       "      <td>1</td>\n",
       "      <td>116.703965</td>\n",
       "    </tr>\n",
       "    <tr>\n",
       "      <th>2</th>\n",
       "      <td>2</td>\n",
       "      <td>9699.267948</td>\n",
       "    </tr>\n",
       "    <tr>\n",
       "      <th>3</th>\n",
       "      <td>3</td>\n",
       "      <td>-496.020397</td>\n",
       "    </tr>\n",
       "    <tr>\n",
       "      <th>4</th>\n",
       "      <td>4</td>\n",
       "      <td>8831.773091</td>\n",
       "    </tr>\n",
       "  </tbody>\n",
       "</table>\n",
       "</div>"
      ],
      "text/plain": [
       "   id        price\n",
       "0   0  -260.200295\n",
       "1   1   116.703965\n",
       "2   2  9699.267948\n",
       "3   3  -496.020397\n",
       "4   4  8831.773091"
      ]
     },
     "execution_count": 29,
     "metadata": {},
     "output_type": "execute_result"
    }
   ],
   "source": [
    "submission.head()"
   ]
  },
  {
   "cell_type": "code",
   "execution_count": 30,
   "metadata": {},
   "outputs": [
    {
     "data": {
      "text/plain": [
       "(13449, 2)"
      ]
     },
     "execution_count": 30,
     "metadata": {},
     "output_type": "execute_result"
    }
   ],
   "source": [
    "submission.shape"
   ]
  },
  {
   "cell_type": "markdown",
   "metadata": {},
   "source": [
    "### 5. Pásale el CHEQUEATOR para comprobar que efectivamente está listo para subir a Kaggle."
   ]
  },
  {
   "cell_type": "code",
   "execution_count": 31,
   "metadata": {},
   "outputs": [],
   "source": [
    "def chequeator(df_to_submit):\n",
    "    \"\"\"\n",
    "    Esta función se asegura de que tu submission tenga la forma requerida por Kaggle.\n",
    "    \n",
    "    Si es así, se guardará el dataframe en un `csv` y estará listo para subir a Kaggle.\n",
    "    \n",
    "    Si no, LEE EL MENSAJE Y HAZLE CASO.\n",
    "    \n",
    "    Si aún no:\n",
    "    - apaga tu ordenador, \n",
    "    - date una vuelta, \n",
    "    - enciendelo otra vez, \n",
    "    - abre este notebook y \n",
    "    - leelo todo de nuevo. \n",
    "    Todos nos merecemos una segunda oportunidad. También tú.\n",
    "    \"\"\"\n",
    "    if df_to_submit.shape == sample.shape:\n",
    "        if df_to_submit.columns.all() == sample.columns.all():\n",
    "            if df_to_submit.id.all() == sample.id.all():\n",
    "                print(\"You're ready to submit!\")\n",
    "                submission.to_csv(\"submission.csv\", index = False) #muy importante el index = False\n",
    "                urllib.request.urlretrieve(\"https://i.kym-cdn.com/photos/images/facebook/000/747/556/27a.jpg\", \"gfg.png\")     \n",
    "                img = Image.open(\"gfg.png\")\n",
    "                img.show()   \n",
    "            else:\n",
    "                print(\"Check the ids and try again\")\n",
    "        else:\n",
    "            print(\"Check the names of the columns and try again\")\n",
    "    else:\n",
    "        print(\"Check the number of rows and/or columns and try again\")\n",
    "        print(\"\\nMensaje secreto de Clara: No me puedo creer que después de todo este notebook hayas hecho algún cambio en las filas de `diamonds_test.csv`. Lloro.\")\n"
   ]
  },
  {
   "cell_type": "code",
   "execution_count": 32,
   "metadata": {},
   "outputs": [
    {
     "name": "stdout",
     "output_type": "stream",
     "text": [
      "Help on function chequeator in module __main__:\n",
      "\n",
      "chequeator(df_to_submit)\n",
      "    Esta función se asegura de que tu submission tenga la forma requerida por Kaggle.\n",
      "    \n",
      "    Si es así, se guardará el dataframe en un `csv` y estará listo para subir a Kaggle.\n",
      "    \n",
      "    Si no, LEE EL MENSAJE Y HAZLE CASO.\n",
      "    \n",
      "    Si aún no:\n",
      "    - apaga tu ordenador, \n",
      "    - date una vuelta, \n",
      "    - enciendelo otra vez, \n",
      "    - abre este notebook y \n",
      "    - leelo todo de nuevo. \n",
      "    Todos nos merecemos una segunda oportunidad. También tú.\n",
      "\n"
     ]
    }
   ],
   "source": [
    "help(chequeator)"
   ]
  },
  {
   "cell_type": "code",
   "execution_count": 34,
   "metadata": {},
   "outputs": [
    {
     "name": "stdout",
     "output_type": "stream",
     "text": [
      "You're ready to submit!\n"
     ]
    }
   ],
   "source": [
    "chequeator(submission)"
   ]
  },
  {
   "cell_type": "code",
   "execution_count": null,
   "metadata": {},
   "outputs": [],
   "source": []
  }
 ],
 "metadata": {
  "kernelspec": {
   "name": "python3",
   "display_name": "Python 3.7.4 64-bit"
  },
  "language_info": {
   "codemirror_mode": {
    "name": "ipython",
    "version": 3
   },
   "file_extension": ".py",
   "mimetype": "text/x-python",
   "name": "python",
   "nbconvert_exporter": "python",
   "pygments_lexer": "ipython3",
   "version": "3.7.4"
  },
  "interpreter": {
   "hash": "54fd10a125f012059efbf68d746a102a68808834a5fa4f754a07e57618326eaa"
  }
 },
 "nbformat": 4,
 "nbformat_minor": 4
}