{
 "cells": [
  {
   "cell_type": "markdown",
   "metadata": {},
   "source": [
    "# Python | day 6 | while"
   ]
  },
  {
   "cell_type": "markdown",
   "metadata": {},
   "source": [
    "With the **while** loop we can execute a set of statements as long as a condition is true."
   ]
  },
  {
   "cell_type": "markdown",
   "metadata": {},
   "source": [
    "```python\n",
    "i = 1\n",
    "while i < 6:\n",
    "  print(i)\n",
    "  i += 1\n",
    "```"
   ]
  },
  {
   "cell_type": "markdown",
   "metadata": {},
   "source": [
    "https://www.w3schools.com/python/python_while_loops.asp"
   ]
  },
  {
   "cell_type": "markdown",
   "metadata": {},
   "source": [
    "### Exercise 1. "
   ]
  },
  {
   "cell_type": "markdown",
   "metadata": {},
   "source": [
    "Do as described below:\n",
    "\n",
    "- Make a variable called strength, and set its initial value to 5.\n",
    "\n",
    "- Print a message reporting the player's strength.\n",
    "\n",
    "- Set up a while loop that runs until the player's strength increases to a value such as 10.\n",
    "\n",
    "- Inside the while loop, print a message that reports the player's current strength.\n",
    "\n",
    "- Inside the while loop, write a statement that increases the player's strength.\n",
    "\n",
    "- Outside the while loop, print a message reporting that the player has grown too strong, and that they have moved up to a new level of the game.\n",
    "\n",
    "Play around with different cutoff levels for the value of strength, and play around with different ways to increase the strength value within the while loop.\n"
   ]
  },
  {
   "cell_type": "code",
   "execution_count": 50,
   "metadata": {
    "tags": []
   },
   "outputs": [
    {
     "output_type": "stream",
     "name": "stdout",
     "text": [
      "Player's strength: 5\nPlayer's current strength: 5\nPlayer's current strength: 6\nPlayer's current strength: 7\nPlayer's current strength: 8\nPlayer's current strength: 9\nThe player has grown too strong, he has moved up to a new level of the game\n"
     ]
    }
   ],
   "source": [
    "strength = 5\n",
    "print(\"Player's strength:\", strength)\n",
    "\n",
    "while strength < 10:\n",
    "    print(\"Player's current strength:\", strength)\n",
    "    strength += 1\n",
    "\n",
    "print(\"The player has grown too strong, he has moved up to a new level of the game\")\n",
    "\n"
   ]
  },
  {
   "cell_type": "markdown",
   "metadata": {},
   "source": [
    "### Exercise 2. "
   ]
  },
  {
   "cell_type": "markdown",
   "metadata": {},
   "source": [
    "To solve the following exercises it will be necessary to define a function for each section. You choose the name of those functions unless specified, but make sure you define a single parameter `whichever_list`, when calling the function it will correspond to the variable `info_list`."
   ]
  },
  {
   "cell_type": "code",
   "execution_count": 51,
   "metadata": {},
   "outputs": [],
   "source": [
    "# you can use this list or take yours from Practice 3\n",
    "info_list = [15, 'Recoletos', True, ['Recoletos', 15],  None, '8'] "
   ]
  },
  {
   "cell_type": "markdown",
   "metadata": {},
   "source": [
    "You have already read these questions below, but this time you are asked to solve it using `while` loop instead of `for`. \n",
    "\n",
    "   - Loop through `whichever_list` to print all the elements it contains. This function should return the list turned into a tuple. \n",
    "   - Loop through `whichever_list` to print all the elements it contains concatenated with the string` \"--> OK\" `. This function should return a message saying, `\"everything will be ok\"`. \n",
    "   - Loop through `whichever_list` to display all items it contains except the first one. This function should return the first element of the list. \n",
    "   - Loop through `whichever_list` to display all the items it contains except the last one. This function should return the last element of the list. "
   ]
  },
  {
   "cell_type": "code",
   "execution_count": 52,
   "metadata": {},
   "outputs": [
    {
     "output_type": "stream",
     "name": "stdout",
     "text": [
      "15\nRecoletos\nTrue\n['Recoletos', 15]\nNone\n8\n"
     ]
    },
    {
     "output_type": "execute_result",
     "data": {
      "text/plain": [
       "(15, 'Recoletos', True, ['Recoletos', 15], None, '8')"
      ]
     },
     "metadata": {},
     "execution_count": 52
    }
   ],
   "source": [
    "\n",
    "\n",
    "def total (par):\n",
    "    ie = 0\n",
    "    while ie < len(par):\n",
    "\n",
    "        print(par[ie])\n",
    "        ie += 1\n",
    "        \n",
    "\n",
    "    return (tuple(par))\n",
    "\n",
    "total(info_list)"
   ]
  },
  {
   "cell_type": "code",
   "execution_count": 53,
   "metadata": {},
   "outputs": [
    {
     "output_type": "stream",
     "name": "stdout",
     "text": [
      "15--> OK\nRecoletos--> OK\nTrue--> OK\n['Recoletos', 15]--> OK\nNone--> OK\n8--> OK\n"
     ]
    },
    {
     "output_type": "execute_result",
     "data": {
      "text/plain": [
       "'everything will be ok'"
      ]
     },
     "metadata": {},
     "execution_count": 53
    }
   ],
   "source": [
    "def total_conc (par):\n",
    "    ie = 0\n",
    "    while ie < len(par):\n",
    "\n",
    "        print(str(par[ie]) + \"--> OK\")\n",
    "        ie += 1\n",
    "        \n",
    "\n",
    "    return \"everything will be ok\"\n",
    "\n",
    "total_conc(info_list)"
   ]
  },
  {
   "cell_type": "code",
   "execution_count": 54,
   "metadata": {},
   "outputs": [
    {
     "output_type": "stream",
     "name": "stdout",
     "text": [
      "Recoletos\nTrue\n['Recoletos', 15]\nNone\n8\n"
     ]
    },
    {
     "output_type": "execute_result",
     "data": {
      "text/plain": [
       "15"
      ]
     },
     "metadata": {},
     "execution_count": 54
    }
   ],
   "source": [
    "def total_first (par):\n",
    "    ie = 1\n",
    "    while ie < len(par):\n",
    "\n",
    "        print(par[ie])\n",
    "        ie += 1\n",
    "        \n",
    "\n",
    "    return par[0]\n",
    "\n",
    "total_first(info_list)"
   ]
  },
  {
   "cell_type": "code",
   "execution_count": 55,
   "metadata": {},
   "outputs": [
    {
     "output_type": "stream",
     "name": "stdout",
     "text": [
      "15\nRecoletos\nTrue\n['Recoletos', 15]\nNone\n"
     ]
    },
    {
     "output_type": "execute_result",
     "data": {
      "text/plain": [
       "'8'"
      ]
     },
     "metadata": {},
     "execution_count": 55
    }
   ],
   "source": [
    "def total_last (par):\n",
    "    ie = 0\n",
    "    while ie < len(par)-1:\n",
    "\n",
    "        print(par[ie])\n",
    "        ie += 1\n",
    "        \n",
    "\n",
    "    return par[-1]\n",
    "\n",
    "total_last(info_list)"
   ]
  },
  {
   "cell_type": "code",
   "execution_count": null,
   "metadata": {},
   "outputs": [],
   "source": []
  },
  {
   "cell_type": "markdown",
   "metadata": {},
   "source": [
    "### Exercise 3. "
   ]
  },
  {
   "cell_type": "markdown",
   "metadata": {},
   "source": [
    "1. Define a function that performs the [Fibonacci series](https://quantdare.com/numeros-de-fibonacci/#:~:text=En%20matem%C3%A1ticas%2C%20la%20sucesi%C3%B3n%20o,nombre%20de%20n%C3%BAmero%20de%20Fibonacci.) with a `while`."
   ]
  },
  {
   "cell_type": "code",
   "execution_count": 56,
   "metadata": {},
   "outputs": [
    {
     "output_type": "stream",
     "name": "stdout",
     "text": [
      "0\n1\n1\n2\n3\n5\n8\n13\n21\n34\n55\n89\n144\n233\n377\n610\n987\n1597\n2584\n4181\n6765\n"
     ]
    }
   ],
   "source": [
    "\n",
    "\n",
    "def fibonacci():\n",
    "    \n",
    "    \"\"\"Esta función activa una serie de fibonacci limitada hasta el número 7000\"\"\"\n",
    "\n",
    "    b=0\n",
    "    print(b)\n",
    "    a=1\n",
    "    print(a)\n",
    "\n",
    "    while a < 7000:\n",
    "        c = a\n",
    "        a = a + b\n",
    "        b = c\n",
    "\n",
    "        if a > 7000:\n",
    "            break\n",
    "\n",
    "        print(a)\n",
    "\n",
    "fibonacci()"
   ]
  },
  {
   "cell_type": "markdown",
   "metadata": {},
   "source": [
    "### Bonus Track."
   ]
  },
  {
   "cell_type": "markdown",
   "metadata": {},
   "source": [
    "To solve the following exercises it will be necessary to define a function for each section. You choose the name of those functions unless specified, but make sure you define a single parameter `whichever_list`, when calling the function it will correspond to the variable `info_list`."
   ]
  },
  {
   "cell_type": "code",
   "execution_count": 57,
   "metadata": {},
   "outputs": [],
   "source": [
    "# you can use this list or take yours from Practice 3\n",
    "info_list = [15, 'Recoletos', True, ['Recoletos', 15],  None, '8'] "
   ]
  },
  {
   "cell_type": "markdown",
   "metadata": {},
   "source": [
    "1. Define a function `f_s` that saves the value of a word (for example: \"nothing\") in a variable and print it. Also, concatenate its value with the street number of The Bridge and display it on the screen. \n",
    "\n",
    "   Also, display a boolean **True** if the length of the concatenated word is 6. If not, it will be **False**. The function must return the value **True** or **False**."
   ]
  },
  {
   "cell_type": "code",
   "execution_count": 101,
   "metadata": {},
   "outputs": [
    {
     "output_type": "stream",
     "name": "stdout",
     "text": [
      "nothing\nnothing15\nFalse\n"
     ]
    },
    {
     "output_type": "execute_result",
     "data": {
      "text/plain": [
       "False"
      ]
     },
     "metadata": {},
     "execution_count": 101
    }
   ],
   "source": [
    "def f_s (par):\n",
    "    \n",
    "    \"\"\"saves the value of a word (for example: \"nothing\") in a variable and print  it\"\"\"\n",
    "\n",
    "    value = \"nothing\"\n",
    "    print(value)\n",
    "    \n",
    "    \"\"\"concatenate its value with the street number of The Bridge and display it on the screen\"\"\"\n",
    "\n",
    "    value_1 = str(value) + str(par[0])\n",
    "    print(value_1)\n",
    "\n",
    "    \"\"\"display a boolean True if the length of the concatenated word is 6. If not, it will be False. The function must return the value True or False.\"\"\"\n",
    "\n",
    "    if len(value_1) == 6:\n",
    "\n",
    "        print(True)\n",
    "\n",
    "        return True\n",
    "\n",
    "    else:\n",
    "\n",
    "        print(False)\n",
    "\n",
    "        return False\n",
    "\n",
    "f_s(info_list)"
   ]
  },
  {
   "cell_type": "markdown",
   "metadata": {},
   "source": [
    "2. Create a list `list_aux` with 7 elements, whichever you want. Next, create a function `function_use_f_s` which receives as parameters a function `some_function`, a word which is the argument of `some_funtion` and whichever list `whichever_list`. If the value of `some_function` is **True**, then delete an item from `whichever_list`. Repeat the process until `whichever_list` has no elements. The argument for `whichever_list` must be `list_aux` and for `some_function` it will be the function `f_s` from the previous point."
   ]
  },
  {
   "cell_type": "code",
   "execution_count": 64,
   "metadata": {},
   "outputs": [
    {
     "output_type": "stream",
     "name": "stdout",
     "text": [
      "['au', 7, 8, 'ioioio', ['hola', 99], 15]\n['au', 7, 8, 'ioioio', ['hola', 99]]\n['au', 7, 8, 'ioioio']\n['au', 7, 8]\n['au', 7]\n['au']\n[]\n"
     ]
    }
   ],
   "source": [
    "list_aux = [\"au\", 7, 8, \"ioioio\", [\"hola\", 99], 15, \"adiós\" ]\n",
    "\n",
    "def function_use_f_s (some_function, whichever_list):\n",
    "    while len(whichever_list) > 0:\n",
    "        whichever_list.pop()\n",
    "        print(whichever_list)\n",
    "\n",
    "function_use_f_s(f_s, list_aux)\n",
    "    "
   ]
  },
  {
   "cell_type": "markdown",
   "metadata": {},
   "source": [
    "3. Define a function `even_numbers` that has an input parameter `arg1`, type integer. The function must return a list of numbers of size `arg1`, all of them being even numbers. \n",
    "\n",
    "   Don't use the function `print()` inside the function, but print what `even_numbers` returns when calling it with the argument `10`, just to check your function works.\n",
    "   \n",
    "```python\n",
    "print(even_numbers(10))\n",
    "```"
   ]
  },
  {
   "cell_type": "code",
   "execution_count": 102,
   "metadata": {},
   "outputs": [
    {
     "output_type": "stream",
     "name": "stdout",
     "text": [
      "[10, 10, 10, 10, 10, 10, 10, 10, 10, 10]\n"
     ]
    }
   ],
   "source": [
    "def even_numbers (arg1):\n",
    "\n",
    "    ao = []\n",
    "    arg1_r=len(range(arg1))\n",
    "\n",
    "    while len(ao) < len(range(arg1)):\n",
    "\n",
    "        ao.append(arg1_r)\n",
    "\n",
    "    return ao\n",
    "\n",
    "print(even_numbers(10))\n"
   ]
  },
  {
   "cell_type": "markdown",
   "metadata": {},
   "source": [
    "4. Create a function that has an input variable `arg1`, which will be the list of even numbers from the previous section, and that removes elements from the list, one by one, if `arg1` has a size divisible by 2 and, if not, it adds just once, the value of the function `f_s` that should be a boolean (`True` or `False`).\n"
   ]
  },
  {
   "cell_type": "code",
   "execution_count": 111,
   "metadata": {},
   "outputs": [
    {
     "output_type": "stream",
     "name": "stdout",
     "text": [
      "10\n10\n10\n10\n10\n10\n10\n10\n10\n10\n"
     ]
    }
   ],
   "source": [
    "#Algo sale mal pero no logro ver porque...\n",
    "\n",
    "\n",
    "def function_4(arg1):\n",
    "    if len(arg1) % 2 == 0:\n",
    "        while len(arg1) > 0:\n",
    "            final = arg1.pop()\n",
    "            print(final)\n",
    "    \n",
    "    else:\n",
    "        x = []\n",
    "        x = arg1.append(f_s(arg1))\n",
    "       \n",
    "\n",
    "function_4(even_numbers(10))"
   ]
  },
  {
   "cell_type": "markdown",
   "metadata": {},
   "source": [
    "!['nicetry'](https://i.pinimg.com/originals/36/ab/81/36ab81cd8d63cf7c4a08f39403698c77.jpg)"
   ]
  }
 ],
 "metadata": {
  "kernelspec": {
   "name": "python374jvsc74a57bd054fd10a125f012059efbf68d746a102a68808834a5fa4f754a07e57618326eaa",
   "display_name": "Python 3.7.4 64-bit"
  },
  "language_info": {
   "codemirror_mode": {
    "name": "ipython",
    "version": 3
   },
   "file_extension": ".py",
   "mimetype": "text/x-python",
   "name": "python",
   "nbconvert_exporter": "python",
   "pygments_lexer": "ipython3",
   "version": "3.7.4"
  },
  "metadata": {
   "interpreter": {
    "hash": "54fd10a125f012059efbf68d746a102a68808834a5fa4f754a07e57618326eaa"
   }
  }
 },
 "nbformat": 4,
 "nbformat_minor": 4
}