{
 "cells": [
  {
   "cell_type": "markdown",
   "metadata": {},
   "source": [
    "# Python | day 5 | functions"
   ]
  },
  {
   "cell_type": "markdown",
   "metadata": {},
   "source": [
    "In Python, a function is a group of related statements that performs a specific task."
   ]
  },
  {
   "cell_type": "markdown",
   "metadata": {},
   "source": [
    "https://www.programiz.com/python-programming/function"
   ]
  },
  {
   "cell_type": "markdown",
   "metadata": {},
   "source": [
    "#### Difference between `return` and `print`.\n",
    "\n",
    "Take some minutes to understand the difference between `return` and `print`, it seems to be the same, but they are not and it's important you understand the difference. "
   ]
  },
  {
   "cell_type": "code",
   "execution_count": 3,
   "metadata": {},
   "outputs": [
    {
     "output_type": "stream",
     "name": "stdout",
     "text": [
      "2\n4\n8\n"
     ]
    }
   ],
   "source": [
    "def suma(a,b):\n",
    "    print(a)\n",
    "    return a+b\n",
    "\n",
    "print(suma(suma(2,2),4))"
   ]
  },
  {
   "cell_type": "markdown",
   "metadata": {},
   "source": [
    "#### Comments in a function."
   ]
  },
  {
   "cell_type": "code",
   "execution_count": 4,
   "metadata": {},
   "outputs": [],
   "source": [
    "def say_hello(name):\n",
    "    \"\"\"\n",
    "    Given a name as an argument, \n",
    "    the function return a string greeting\n",
    "    the name given. \n",
    "    \"\"\"\n",
    "    return f\"hello {name}\""
   ]
  },
  {
   "cell_type": "code",
   "execution_count": 5,
   "metadata": {},
   "outputs": [
    {
     "output_type": "stream",
     "name": "stdout",
     "text": [
      "hello Clara\n"
     ]
    }
   ],
   "source": [
    "print(say_hello(\"Clara\"))"
   ]
  },
  {
   "cell_type": "code",
   "execution_count": 6,
   "metadata": {},
   "outputs": [
    {
     "output_type": "stream",
     "name": "stdout",
     "text": [
      "Help on function say_hello in module __main__:\n\nsay_hello(name)\n    Given a name as an argument, \n    the function return a string greeting\n    the name given.\n\n"
     ]
    }
   ],
   "source": [
    "help(say_hello)"
   ]
  },
  {
   "cell_type": "markdown",
   "metadata": {},
   "source": [
    "### Exercise 1. "
   ]
  },
  {
   "cell_type": "markdown",
   "metadata": {},
   "source": [
    "To solve the following exercises it will be necessary to define a function for each section. You choose the name of those functions unless specified, but make sure you define a single parameter `whichever_list`, when calling the function it will correspond to the variable `info_list`.\n",
    "```python\n",
    "def funtion_bla(whichever_list):\n",
    "    return whichever_list\n",
    "\n",
    "function_bla(info_list)\n",
    "```\n",
    "\n",
    "**In the case of not being able to solve a question containing the code in a function, try to do it without defining one.**"
   ]
  },
  {
   "cell_type": "code",
   "execution_count": 7,
   "metadata": {},
   "outputs": [],
   "source": [
    "# you can use this list or take yours from Practice 3\n",
    "info_list = [15, 'Recoletos', True, ['Recoletos', 15],  None, '8'] "
   ]
  },
  {
   "cell_type": "markdown",
   "metadata": {},
   "source": [
    "1. Display on the screen `\"I like the tranquility\"` if you like the mountains more and `\"I'd love to live in Malaga\"` if you like the beach more.\n",
    "\n"
   ]
  },
  {
   "cell_type": "code",
   "execution_count": 8,
   "metadata": {},
   "outputs": [],
   "source": [
    "#define a function which takes a single parameter `whichever_list`\n",
    "\n",
    "def function_a1 (whichever_list):\n",
    "    if whichever_list[2] == True:\n",
    "        print (\"I like the tranquility\")\n",
    "    else:\n",
    "        print (\"I'd love to live in Malaga\")\n",
    "\n"
   ]
  },
  {
   "cell_type": "code",
   "execution_count": 9,
   "metadata": {},
   "outputs": [
    {
     "output_type": "stream",
     "name": "stdout",
     "text": [
      "I like the tranquility\n"
     ]
    }
   ],
   "source": [
    "#call the function with the variable `info_list`\n",
    "function_a1(info_list)\n"
   ]
  },
  {
   "cell_type": "markdown",
   "metadata": {},
   "source": [
    "2. Print `\"Today I am tired\"` if you have slept less than 7 hours or `\"Today I conquer the world\"` if you have slept more than 7 hours."
   ]
  },
  {
   "cell_type": "code",
   "execution_count": 10,
   "metadata": {},
   "outputs": [],
   "source": [
    "#define a function which takes a single parameter `whichever_list`\n",
    "def function_a2 (whichever_list):\n",
    "    if whichever_list < 7:\n",
    "        print (\"Today I am tired\")\n",
    "    else:\n",
    "        print (\"Today I conquer the world\")"
   ]
  },
  {
   "cell_type": "code",
   "execution_count": 11,
   "metadata": {},
   "outputs": [
    {
     "output_type": "stream",
     "name": "stdout",
     "text": [
      "Today I conquer the world\n"
     ]
    }
   ],
   "source": [
    "#call the function with the variable `info_list`\n",
    "function_a2(whichever_list=int(info_list[-1]))"
   ]
  },
  {
   "cell_type": "markdown",
   "metadata": {},
   "source": [
    "3. Loop through `whichever_list` to print all the elements it contains. This function should return the list turned into a tuple. "
   ]
  },
  {
   "cell_type": "code",
   "execution_count": 12,
   "metadata": {},
   "outputs": [],
   "source": [
    "#define a function which takes a single parameter `whichever_list`\n",
    "def function_a3 (whichever_list):\n",
    "    tuple_whichever_list = tuple(whichever_list)  \n",
    "    print (tuple_whichever_list)"
   ]
  },
  {
   "cell_type": "code",
   "execution_count": 13,
   "metadata": {},
   "outputs": [
    {
     "output_type": "stream",
     "name": "stdout",
     "text": [
      "(15, 'Recoletos', True, ['Recoletos', 15], None, '8')\n"
     ]
    }
   ],
   "source": [
    "#call the function with the variable `info_list`\n",
    "function_a3(whichever_list=info_list)"
   ]
  },
  {
   "cell_type": "markdown",
   "metadata": {},
   "source": [
    "4. Loop through `whichever_list` to print all the elements it contains concatenated with the string` \"--> OK\" `. This function should return a message saying, `\"everything will be ok\"`. \n"
   ]
  },
  {
   "cell_type": "code",
   "execution_count": 14,
   "metadata": {},
   "outputs": [],
   "source": [
    "#define a function which takes a single parameter `whichever_list`\n",
    "def function_a4 (whichever_list):\n",
    "    for walem in whichever_list:\n",
    "        print(str(walem) + \"---> OK\")  \n",
    "    print(\"everything will be ok\")"
   ]
  },
  {
   "cell_type": "code",
   "execution_count": 15,
   "metadata": {},
   "outputs": [
    {
     "output_type": "stream",
     "name": "stdout",
     "text": [
      "15---> OK\nRecoletos---> OK\nTrue---> OK\n['Recoletos', 15]---> OK\nNone---> OK\n8---> OK\neverything will be ok\n"
     ]
    }
   ],
   "source": [
    "#call the function with the variable `info_list`\n",
    "\n",
    "function_a4(whichever_list=info_list)"
   ]
  },
  {
   "cell_type": "markdown",
   "metadata": {},
   "source": [
    "5. Loop through `whichever_list` to display all items it contains except the first one. This function should return the first element of the list. "
   ]
  },
  {
   "cell_type": "code",
   "execution_count": 16,
   "metadata": {},
   "outputs": [],
   "source": [
    "#define a function which takes a single parameter `whichever_list`\n",
    "def function_a5 (whichever_list):\n",
    "    print(whichever_list[1::])\n",
    "    \n",
    "    return whichever_list[0]"
   ]
  },
  {
   "cell_type": "code",
   "execution_count": 17,
   "metadata": {},
   "outputs": [
    {
     "output_type": "stream",
     "name": "stdout",
     "text": [
      "['Recoletos', True, ['Recoletos', 15], None, '8']\n"
     ]
    },
    {
     "output_type": "execute_result",
     "data": {
      "text/plain": [
       "15"
      ]
     },
     "metadata": {},
     "execution_count": 17
    }
   ],
   "source": [
    "#call the function with the variable `info_list`\n",
    "function_a5(whichever_list=info_list)"
   ]
  },
  {
   "cell_type": "markdown",
   "metadata": {},
   "source": [
    "6. Loop through `whichever_list` to display all the items it contains except the last one. This function should return the last element of the list. "
   ]
  },
  {
   "cell_type": "code",
   "execution_count": 18,
   "metadata": {},
   "outputs": [],
   "source": [
    "#define a function which takes a single parameter `whichever_list`\n",
    "def function_a6 (whichever_list):\n",
    "    print(whichever_list[:-1])\n",
    "    \n",
    "    return whichever_list[-1]"
   ]
  },
  {
   "cell_type": "code",
   "execution_count": 19,
   "metadata": {},
   "outputs": [
    {
     "output_type": "stream",
     "name": "stdout",
     "text": [
      "[15, 'Recoletos', True, ['Recoletos', 15], None]\n"
     ]
    },
    {
     "output_type": "execute_result",
     "data": {
      "text/plain": [
       "'8'"
      ]
     },
     "metadata": {},
     "execution_count": 19
    }
   ],
   "source": [
    "#call the function with the variable `info_list`\n",
    "function_a6(whichever_list=info_list)"
   ]
  },
  {
   "cell_type": "markdown",
   "metadata": {},
   "source": [
    "7. Loop through `whichever_list` to show all the elements it contains except the street number and the hours you've slept."
   ]
  },
  {
   "cell_type": "code",
   "execution_count": 20,
   "metadata": {},
   "outputs": [],
   "source": [
    "#define a function which takes a single parameter `whichever_list`\n",
    "def function_a7 (whichever_list):\n",
    "    print(whichever_list[1:-1])\n",
    "    "
   ]
  },
  {
   "cell_type": "code",
   "execution_count": 21,
   "metadata": {},
   "outputs": [
    {
     "output_type": "stream",
     "name": "stdout",
     "text": [
      "['Recoletos', True, ['Recoletos', 15], None]\n"
     ]
    }
   ],
   "source": [
    "#call the function with the variable `info_list`\n",
    "function_a7(whichever_list=info_list)"
   ]
  },
  {
   "cell_type": "markdown",
   "metadata": {},
   "source": [
    "8. Loop through `whichever_list` to print all the elements it contains except the first element of the list which is in fourth position (`'Recoletos'`). This function should return the lenght of that element. "
   ]
  },
  {
   "cell_type": "code",
   "execution_count": 22,
   "metadata": {},
   "outputs": [],
   "source": [
    "#define a function which takes a single parameter `whichever_list`\n",
    "def function_a8 (whichever_list):\n",
    "    for ap in whichever_list:\n",
    "        if isinstance(ap, list):\n",
    "            print (ap[0])"
   ]
  },
  {
   "cell_type": "code",
   "execution_count": 23,
   "metadata": {},
   "outputs": [
    {
     "output_type": "stream",
     "name": "stdout",
     "text": [
      "Recoletos\n"
     ]
    }
   ],
   "source": [
    "#call the function with the variable `info_list`\n",
    "function_a8(whichever_list=info_list)"
   ]
  },
  {
   "cell_type": "markdown",
   "metadata": {},
   "source": [
    "9. Loop through `whichever_list` to show all the elements it contains except the one that contains the information about whether you like the mountains or the beach. The function should return a message saying `\"I love the beach\"` if you prefer the beach and a message saying `\"I love the mountain\"` otherwise. "
   ]
  },
  {
   "cell_type": "code",
   "execution_count": 24,
   "metadata": {},
   "outputs": [],
   "source": [
    "#define a function which takes a single parameter `whichever_list`\n",
    "def function_a9 (whichever_list):\n",
    "    for a9i, a9c in enumerate(whichever_list):\n",
    "        \n",
    "        if not a9i == 2:\n",
    "            print(a9c)\n",
    "    \n",
    "\n",
    "    if whichever_list[2] == True:\n",
    "        message=\"I love thee beach\"\n",
    "    else:\n",
    "        message=\"I love the mountain\" \n",
    "\n",
    "    return message\n",
    "    \n",
    "    "
   ]
  },
  {
   "cell_type": "code",
   "execution_count": 25,
   "metadata": {},
   "outputs": [
    {
     "output_type": "stream",
     "name": "stdout",
     "text": [
      "15\nRecoletos\n['Recoletos', 15]\nNone\n8\n"
     ]
    },
    {
     "output_type": "execute_result",
     "data": {
      "text/plain": [
       "'I love thee beach'"
      ]
     },
     "metadata": {},
     "execution_count": 25
    }
   ],
   "source": [
    "#call the function with the variable `info_list`\n",
    "function_a9(info_list)"
   ]
  },
  {
   "cell_type": "markdown",
   "metadata": {},
   "source": [
    "### Bonus Track\n",
    "\n",
    "In the case of not being able to solve a question containing the code in a function, try to do it without defining one. "
   ]
  },
  {
   "cell_type": "markdown",
   "metadata": {},
   "source": [
    "1. Create a variable called `zone` and give it the value of **None**. Loop through `whichever_list` and update `zone` to **True** if and only if, you have slept more than 7 hours, you like the beach and the sum of the hours you have slept plus the number of The Bridge is less than 24. In any other case, `zone` will be **False**. This function should return the value of `zone` and will be called `zone_function`.\n"
   ]
  },
  {
   "cell_type": "code",
   "execution_count": 26,
   "metadata": {},
   "outputs": [
    {
     "output_type": "execute_result",
     "data": {
      "text/plain": [
       "[15, 'Recoletos', True, ['Recoletos', 15], None, '8']"
      ]
     },
     "metadata": {},
     "execution_count": 26
    }
   ],
   "source": [
    "info_list\n"
   ]
  },
  {
   "cell_type": "code",
   "execution_count": 27,
   "metadata": {},
   "outputs": [],
   "source": [
    "zone = None\n",
    "\n",
    "def zone_function (whichever_list):\n",
    "        \n",
    "    if (int(whichever_list[-1]) > 7) and (whichever_list[2] == True) and (int(whichever_list[-1]) + whichever_list[0]) < 24:\n",
    "         zone = True\n",
    "         print (\"Zone updated to true\")\n",
    "    else:\n",
    "        zone = False\n",
    "    return zone\n"
   ]
  },
  {
   "cell_type": "code",
   "execution_count": 28,
   "metadata": {},
   "outputs": [
    {
     "output_type": "stream",
     "name": "stdout",
     "text": [
      "Zone updated to true\n"
     ]
    },
    {
     "output_type": "execute_result",
     "data": {
      "text/plain": [
       "True"
      ]
     },
     "metadata": {},
     "execution_count": 28
    }
   ],
   "source": [
    "zone_function(whichever_list = info_list)"
   ]
  },
  {
   "cell_type": "markdown",
   "metadata": {},
   "source": [
    "2. Define a function called `test_function` that receives only one parameter called `zone_value` and that returns the value of `zone_value` if it is **True**. Once you've defined `test_function` you should call it with the value returned by the `zone_function` as an argument."
   ]
  },
  {
   "cell_type": "code",
   "execution_count": 29,
   "metadata": {},
   "outputs": [],
   "source": [
    "def test_function (zone_value):\n",
    "    if zone_value == True:\n",
    "\n",
    "        return zone_value"
   ]
  },
  {
   "cell_type": "code",
   "execution_count": 30,
   "metadata": {},
   "outputs": [
    {
     "output_type": "stream",
     "name": "stdout",
     "text": [
      "Zone updated to true\nTrue\n"
     ]
    }
   ],
   "source": [
    "test_function(zone_function)\n",
    "print(test_function(zone_function(info_list)))"
   ]
  },
  {
   "cell_type": "markdown",
   "metadata": {},
   "source": [
    "3. Define a function that asks the user if they like the mountain and, if not, call the `zone_function` function."
   ]
  },
  {
   "cell_type": "code",
   "execution_count": 31,
   "metadata": {},
   "outputs": [],
   "source": [
    "def ask_zone ():\n",
    "    xzone = input(\"Do you like the mountain?\")\n",
    "    if xzone == \"yes\":\n",
    "        print (\"You like the mountain\")\n",
    "    elif xzone == \"no\":\n",
    "        zone_function\n",
    "    \n",
    "    else: \n",
    "        print(\"Please, use commands yes or no to answer the question\")"
   ]
  },
  {
   "cell_type": "code",
   "execution_count": 157,
   "metadata": {},
   "outputs": [
    {
     "output_type": "stream",
     "name": "stdout",
     "text": [
      "You like the mountain\n"
     ]
    }
   ],
   "source": [
    "ask_zone()"
   ]
  },
  {
   "cell_type": "markdown",
   "metadata": {},
   "source": [
    "### Bonus Track of the Bonus Track.\n",
    "\n",
    "**This Bonus Track could take you some days, it is very ok, sometimes coding is all about time.**\n",
    "\n",
    "Sooner than later, you'll also learn about `.py` files and you will be able to implement this program into that kind of file. Not yet, tho. "
   ]
  },
  {
   "cell_type": "markdown",
   "metadata": {},
   "source": [
    "1. Program **a calculator** that asks for two numbers and two operators on the screen. One operation must be performed first and then another. Try to define as many functions as possible."
   ]
  },
  {
   "cell_type": "code",
   "execution_count": 171,
   "metadata": {},
   "outputs": [
    {
     "output_type": "stream",
     "name": "stdout",
     "text": [
      "La división_absoluta de  4  y  5  es: 0\nLa resta de  4  y  5  es: -1\n"
     ]
    }
   ],
   "source": [
    "\n",
    "def suma(num1, num2):\n",
    "    print(\"La suma de \",xn,\" y \",zn ,\" es:\", num1 + num2)\n",
    "def resta(num1, num2):\n",
    "    print(\"La resta de \",xn,\" y \",zn ,\" es:\", num1 - num2)\n",
    "def multiplicacion(num1, num2):\n",
    "    print(\"La multiplicación de \",xn,\" y \",zn ,\" es:\", num1 * num2)\n",
    "def division(num1, num2):\n",
    "    print(\"La división de \",xn,\" y \",zn ,\" es:\", num1 / num2)\n",
    "def division_absoluta(num1, num2):\n",
    "    print(\"La división_absoluta de \",xn,\" y \",zn ,\" es:\", num1 // num2)\n",
    "def modulo(num1, num2):\n",
    "    print(\"La módulo de \",xn,\" y \",zn ,\" es:\", num1 % num2)\n",
    "\n",
    "def calculadora (num1, num2):\n",
    "\n",
    "\n",
    "    if xo == \"suma\":\n",
    "        suma(xn, zn)\n",
    "\n",
    "    elif xo == \"resta\":\n",
    "        resta(xn,zn)\n",
    "\n",
    "    elif xo == \"multiplicacion\":\n",
    "        multiplicacion(xn,zn)\n",
    "\n",
    "    elif xo == \"division\":\n",
    "        division(xn,zn)\n",
    "\n",
    "    elif xo == \"division absoluta\":\n",
    "        division_absoluta(xn,zn)\n",
    "\n",
    "    elif xo == \"modulo\":\n",
    "        modulo(xn,zn)\n",
    "\n",
    "    else:\n",
    "        print(\"La primera operación no cuadra con las operativas en el sistema\")\n",
    "\n",
    "\n",
    "    if xa == \"suma\":\n",
    "        suma(xn, zn)\n",
    "\n",
    "    elif xa == \"resta\":\n",
    "        resta(xn,zn)\n",
    "\n",
    "    elif xa == \"multiplicacion\":\n",
    "        multiplicacion(xn,zn)\n",
    "\n",
    "    elif xa == \"division\":\n",
    "        division(xn,zn)\n",
    "\n",
    "    elif xa == \"division absoluta\":\n",
    "        division_absoluta(xn,zn)\n",
    "\n",
    "    elif xa == \"modulo\":\n",
    "        modulo(xn,zn)\n",
    "\n",
    "    else:\n",
    "        print(\"La segunda operación no cuadra con las operativas en el sistema\")\n",
    "\n",
    "\n",
    "\n",
    "xn = int(input(\"Introduce el primer número\"))\n",
    "zn = int(input(\"Introduce el segundo número\"))\n",
    "\n",
    "xo = input(\"Introduce una primera operación\")\n",
    "xa = input(\"Introduce una segunda operación\")\n",
    "\n",
    "calculadora(xn, zn)\n",
    "    \n"
   ]
  },
  {
   "cell_type": "markdown",
   "metadata": {},
   "source": [
    "!['ha'](https://i.pinimg.com/originals/c6/4e/fc/c64efc9adaedbf446f328698e8b67388.jpg)"
   ]
  },
  {
   "cell_type": "code",
   "execution_count": null,
   "metadata": {},
   "outputs": [],
   "source": []
  }
 ],
 "metadata": {
  "kernelspec": {
   "name": "python374jvsc74a57bd054fd10a125f012059efbf68d746a102a68808834a5fa4f754a07e57618326eaa",
   "display_name": "Python 3.7.4 64-bit"
  },
  "language_info": {
   "codemirror_mode": {
    "name": "ipython",
    "version": 3
   },
   "file_extension": ".py",
   "mimetype": "text/x-python",
   "name": "python",
   "nbconvert_exporter": "python",
   "pygments_lexer": "ipython3",
   "version": "3.7.4"
  },
  "metadata": {
   "interpreter": {
    "hash": "54fd10a125f012059efbf68d746a102a68808834a5fa4f754a07e57618326eaa"
   }
  }
 },
 "nbformat": 4,
 "nbformat_minor": 4
}