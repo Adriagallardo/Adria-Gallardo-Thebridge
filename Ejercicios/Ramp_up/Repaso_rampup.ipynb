{
 "cells": [
  {
   "cell_type": "markdown",
   "metadata": {},
   "source": [
    "## 🐍 Ramp-up\n",
    "\n",
    "Note: The bold words are instructions for you to know how to solve the exercises below that word. For example, if it says **for loop** you should use at least a for loop in order to solve the exercise. "
   ]
  },
  {
   "cell_type": "markdown",
   "metadata": {},
   "source": [
    "#### Collections\n",
    "1. Create a tuple as follows (10,2,27,8)\n",
    "2. Get the lenght of the tuple\n",
    "3. Which type is it? And which type are the elements the tuple contains?\n",
    "4. Create a new tuple with any other 4 strings and concatenate all of them with the tuple you created before by position, creating a list called `words`.\n",
    "5. Make a list with the same elements in question 1. Find the element 27 and make it 37.\n",
    "6. Remove the number 8 from the list.\n",
    "7. Turn the list you made before into a set.\n",
    "8. Check if the element \"3\" is in that set.\n",
    "9. Sort the list you made in exercise 4 in descending order.\n",
    "10. Turn the list `words` into a dictionary. Split every string taking the number in the tuple (10,2,27,8) as the values and the rest as the keys.\n",
    "11. Sum up the values of the new dictionary.\n",
    "12. Sort the values of the dictionary in descending order and the keys in ascending order, then make a list of tuples with every couple of keys and values by position."
   ]
  },
  {
   "cell_type": "code",
   "execution_count": 80,
   "metadata": {},
   "outputs": [
    {
     "output_type": "execute_result",
     "data": {
      "text/plain": [
       "(10, 2, 27, 8)"
      ]
     },
     "metadata": {},
     "execution_count": 80
    }
   ],
   "source": [
    "#1\n",
    "\n",
    "t = (10,2,27,8)\n",
    "t"
   ]
  },
  {
   "cell_type": "code",
   "execution_count": 81,
   "metadata": {},
   "outputs": [
    {
     "output_type": "execute_result",
     "data": {
      "text/plain": [
       "4"
      ]
     },
     "metadata": {},
     "execution_count": 81
    }
   ],
   "source": [
    "#2\n",
    "\n",
    "len_t = len(t)\n",
    "len_t"
   ]
  },
  {
   "cell_type": "code",
   "execution_count": 82,
   "metadata": {},
   "outputs": [
    {
     "output_type": "stream",
     "name": "stdout",
     "text": [
      "<class 'tuple'>\nEn posición 0 tenemos <class 'int'>\nEn posición 1 tenemos <class 'int'>\nEn posición 2 tenemos <class 'int'>\nEn posición 3 tenemos <class 'int'>\n"
     ]
    }
   ],
   "source": [
    "#3\n",
    "\n",
    "print(type(t))\n",
    "\n",
    "for ti,telem in enumerate(t):\n",
    "    print(f\"En posición {ti} tenemos\", type(telem))"
   ]
  },
  {
   "cell_type": "code",
   "execution_count": 83,
   "metadata": {},
   "outputs": [
    {
     "output_type": "execute_result",
     "data": {
      "text/plain": [
       "('10hola', '2buenas', '27hey', '8adiós')"
      ]
     },
     "metadata": {},
     "execution_count": 83
    }
   ],
   "source": [
    "#4\n",
    "\n",
    "t2 = (\"hola\",\"buenas\",\"hey\",\"adiós\")\n",
    "\n",
    "words = []\n",
    "\n",
    "for ix, xelem in enumerate(t):\n",
    "    pap = str(xelem) + t2[ix]\n",
    "    words.append(pap)\n",
    "\n",
    "words = tuple(words)\n",
    "words"
   ]
  },
  {
   "cell_type": "code",
   "execution_count": 84,
   "metadata": {},
   "outputs": [
    {
     "output_type": "stream",
     "name": "stdout",
     "text": [
      "[10, 2, 27, 8]\n[10, 2, 37, 8]\n"
     ]
    }
   ],
   "source": [
    "#5\n",
    "\n",
    "listt = list(t)\n",
    "print(listt)\n",
    "\n",
    "for li, lelem in enumerate(listt):\n",
    "    if lelem == 27:\n",
    "        listt[li] = 37\n",
    "\n",
    "print(listt)\n",
    "\n"
   ]
  },
  {
   "cell_type": "code",
   "execution_count": 85,
   "metadata": {},
   "outputs": [
    {
     "output_type": "stream",
     "name": "stdout",
     "text": [
      "[10, 2, 37]\n"
     ]
    }
   ],
   "source": [
    "#6\n",
    "\n",
    "for ttelem in listt:\n",
    "    if ttelem == 8:\n",
    "        listt.remove(ttelem)\n",
    "\n",
    "print(listt)"
   ]
  },
  {
   "cell_type": "code",
   "execution_count": 86,
   "metadata": {},
   "outputs": [
    {
     "output_type": "execute_result",
     "data": {
      "text/plain": [
       "{2, 10, 37}"
      ]
     },
     "metadata": {},
     "execution_count": 86
    }
   ],
   "source": [
    "#7\n",
    "sett = set(listt)\n",
    "sett"
   ]
  },
  {
   "cell_type": "code",
   "execution_count": 87,
   "metadata": {},
   "outputs": [
    {
     "output_type": "stream",
     "name": "stdout",
     "text": [
      "No está\n"
     ]
    }
   ],
   "source": [
    "#8\n",
    "if 3 in sett:\n",
    "    print(\"Está\")\n",
    "else:\n",
    "    print(\"No está\")"
   ]
  },
  {
   "cell_type": "code",
   "execution_count": 88,
   "metadata": {},
   "outputs": [
    {
     "output_type": "execute_result",
     "data": {
      "text/plain": [
       "['adiós', 'hey', 'buenas', 'hola']"
      ]
     },
     "metadata": {},
     "execution_count": 88
    }
   ],
   "source": [
    "#9\n",
    "t2 = list(t2)\n",
    "t2.reverse()\n",
    "t2\n"
   ]
  },
  {
   "cell_type": "code",
   "execution_count": 89,
   "metadata": {},
   "outputs": [
    {
     "output_type": "stream",
     "name": "stdout",
     "text": [
      "(10, 2, 27, 8)\n('10hola', '2buenas', '27hey', '8adiós')\n{'10hola': 10, '2buenas': 2, '27hey': 27, '8adiós': 8}\n"
     ]
    }
   ],
   "source": [
    "#10\n",
    "print(t)\n",
    "print(words)\n",
    "\n",
    "\n",
    "dicct= {}\n",
    "\n",
    "for iii in range(len(t)):\n",
    "   \n",
    "   dicct[words[iii]] = t[iii]\n",
    "\n",
    "print(dicct) \n"
   ]
  },
  {
   "cell_type": "code",
   "execution_count": 90,
   "metadata": {},
   "outputs": [
    {
     "output_type": "execute_result",
     "data": {
      "text/plain": [
       "47"
      ]
     },
     "metadata": {},
     "execution_count": 90
    }
   ],
   "source": [
    "et = 0\n",
    "\n",
    "for ppp in dicct.values():\n",
    "    et = et + ppp\n",
    "\n",
    "et"
   ]
  },
  {
   "cell_type": "code",
   "execution_count": null,
   "metadata": {},
   "outputs": [],
   "source": []
  },
  {
   "cell_type": "markdown",
   "metadata": {},
   "source": [
    "#### Dictionaries\n",
    "\n",
    "1. Make a dictionary containing three major rivers and the country each river runs through. One key-value pair might be 'nile': 'egypt'.\n",
    "\n",
    "    - Use a loop to print a sentence about each river, such as The Nile runs through Egypt.\n",
    "    - Use a loop to print the name of each river included in the dictionary.\n",
    "    - Use a loop to print the name of each country included in the dictionary."
   ]
  },
  {
   "cell_type": "code",
   "execution_count": 101,
   "metadata": {},
   "outputs": [
    {
     "output_type": "stream",
     "name": "stdout",
     "text": [
      "The sena runs throught france\nThe misisipi runs throught USA\nThe duero runs throught spain\n"
     ]
    }
   ],
   "source": [
    "dicty = {\"sena\": \"france\", \"misisipi\": \"USA\", \"duero\": \"spain\"}\n",
    "\n",
    "for oi in dicty:\n",
    "    print(f\"The {oi} runs throught {dicty[oi]}\")"
   ]
  },
  {
   "cell_type": "code",
   "execution_count": 102,
   "metadata": {},
   "outputs": [
    {
     "output_type": "stream",
     "name": "stdout",
     "text": [
      "sena\nmisisipi\nduero\n"
     ]
    }
   ],
   "source": [
    "for oi in dicty:\n",
    "    print(oi)"
   ]
  },
  {
   "cell_type": "code",
   "execution_count": 104,
   "metadata": {},
   "outputs": [
    {
     "output_type": "stream",
     "name": "stdout",
     "text": [
      "france\nUSA\nspain\n"
     ]
    }
   ],
   "source": [
    "for oi in dicty:\n",
    "    print(dicty[oi])"
   ]
  },
  {
   "cell_type": "markdown",
   "metadata": {},
   "source": [
    "2. Use the provided dictionary that shows some coders and their favoites languages.\n",
    "```Python\n",
    "favorite_languages = {\n",
    "    'jen': 'python',\n",
    "    'sarah': 'c',\n",
    "    'edward': 'ruby',\n",
    "    'phil': 'python',\n",
    "    }\n",
    "```\n",
    "\n",
    "    - Make a list of people who should take the favorite languages poll. Include some names that are already in the dictionary and some that are not.\n",
    "    - Loop through the list of people who should take the poll. If they have already taken the poll, print a message thanking them for responding. If they have not yet taken the poll, print a message inviting them to take the poll."
   ]
  },
  {
   "cell_type": "code",
   "execution_count": 110,
   "metadata": {},
   "outputs": [
    {
     "output_type": "stream",
     "name": "stdout",
     "text": [
      "jen thanks for responding to the poll\nsarah thanks for responding to the poll\nconor take the poll\nantonio take the poll\nphil thanks for responding to the poll\n"
     ]
    }
   ],
   "source": [
    "favorite_languages = {'jen': 'python', 'sarah': 'c', 'edward': 'ruby', 'phil': 'python'}\n",
    "\n",
    "listado = [\"jen\", \"sarah\", \"conor\", \"antonio\", \"phil\"]\n",
    "\n",
    "for kik in listado:\n",
    "    if kik in favorite_languages.keys():\n",
    "        print(f\"{kik} thanks for responding to the poll\")\n",
    "    else:\n",
    "        print(f\"{kik} take the poll\")"
   ]
  },
  {
   "cell_type": "markdown",
   "metadata": {},
   "source": [
    "3. Make a dictionary called cities. Use the names of three cities as keys in your dictionary. Create a dictionary of information about each city and include the country that the city is in, its approximate population, and one fact about that city. The keys for each city’s dictionary should be something like country, population, and fact. Print the name of each city and all of the information you have stored about it.\n",
    "\n",
    "```python\n",
    "cities = {\"city1\":{\"country\": \"bla\"}}\n",
    "```\n",
    "\n",
    "\n"
   ]
  },
  {
   "cell_type": "code",
   "execution_count": 111,
   "metadata": {},
   "outputs": [
    {
     "output_type": "execute_result",
     "data": {
      "text/plain": [
       "{'barcelona': {'country': 'spain', 'population': 2000000, 'fact': 'cool'},\n",
       " 'tokyo': {'country': 'japan',\n",
       "  'population': 9000000,\n",
       "  'fact': 'japanese people live there'},\n",
       " 'andorra': {'country': 'andorra', 'population': 70000, 'fact': 'cool'}}"
      ]
     },
     "metadata": {},
     "execution_count": 111
    }
   ],
   "source": [
    "cities = {\"barcelona\":{\"country\": \"spain\", \"population\": 2000000, \"fact\": \"cool\" }, \"tokyo\":{\"country\": \"japan\", \"population\": 9000000, \"fact\": \"japanese people live there\" }, \"andorra\":{\"country\": \"andorra\", \"population\": 70000, \"fact\": \"cool\" }}\n",
    "cities"
   ]
  },
  {
   "cell_type": "markdown",
   "metadata": {},
   "source": [
    "**for loop**\n",
    "1. This is a fruit list, ['banana', 'orange', 'mango', 'lemon'] reverse the order using a for loop.\n"
   ]
  },
  {
   "cell_type": "code",
   "execution_count": 122,
   "metadata": {},
   "outputs": [
    {
     "output_type": "execute_result",
     "data": {
      "text/plain": [
       "['banana', 'orange', 'orange', 'banana']"
      ]
     },
     "metadata": {},
     "execution_count": 122
    }
   ],
   "source": [
    "frutis = [\"banana\", \"orange\", \"mango\", \"lemon\"]\n",
    "\n",
    "for ti, tini in enumerate(frutis):\n",
    "    frutis[3-ti] = tini\n",
    "\n",
    "frutis\n",
    "\n"
   ]
  },
  {
   "cell_type": "markdown",
   "metadata": {},
   "source": [
    "2. Write a Python program to create the multiplication table (from 1 to 10) of a number.\n",
    "```python\n",
    "Input a number: 5                                                                                             \n",
    "5 x 1 = 5                                                                                                     \n",
    "5 x 2 = 10                                                                                                    \n",
    "5 x 3 = 15                                                                                                    \n",
    "5 x 4 = 20                                                                                                    \n",
    "5 x 5 = 25                                                                                                    \n",
    "5 x 6 = 30                                                                                                    \n",
    "5 x 7 = 35                                                                                                    \n",
    "5 x 8 = 40                                                                                                    \n",
    "5 x 9 = 45                                                                                                    \n",
    "5 x 10 = 50\n",
    "```"
   ]
  },
  {
   "cell_type": "code",
   "execution_count": 124,
   "metadata": {},
   "outputs": [
    {
     "output_type": "stream",
     "name": "stdout",
     "text": [
      "5 x 1 = 5\n5 x 2 = 10\n5 x 3 = 15\n5 x 4 = 20\n5 x 5 = 25\n5 x 6 = 30\n5 x 7 = 35\n5 x 8 = 40\n5 x 9 = 45\n5 x 10 = 50\n"
     ]
    }
   ],
   "source": [
    "num = int(input(\"Input a number:\"))\n",
    "\n",
    "for iota in range(1,11):\n",
    "    result = num * iota\n",
    "    print(f\"{num} x {iota} = {result}\")"
   ]
  },
  {
   "cell_type": "markdown",
   "metadata": {},
   "source": [
    "3. Write a Python program which iterates the integers from 1 to 50. For multiples of three print \"Fizz\" instead of the number and for the multiples of five print \"Buzz\". For numbers which are multiples of both three and five print \"FizzBuzz\".\n",
    "```python\n",
    "Sample Output :\n",
    "fizzbuzz\n",
    "1\n",
    "2\n",
    "fizz\n",
    "4\n",
    "buzz\n",
    "```"
   ]
  },
  {
   "cell_type": "code",
   "execution_count": 138,
   "metadata": {},
   "outputs": [
    {
     "output_type": "stream",
     "name": "stdout",
     "text": [
      "1\n2\nfizz\n4\nbuzz\nfizz\n7\n8\nfizz\nbuzz\n11\nfizz\n13\n14\nfizzbuzz\n16\n17\nfizz\n19\nbuzz\nfizz\n22\n23\nfizz\nbuzz\n26\nfizz\n28\n29\nfizzbuzz\n31\n32\nfizz\n34\nbuzz\nfizz\n37\n38\nfizz\nbuzz\n41\nfizz\n43\n44\nfizzbuzz\n46\n47\nfizz\n49\nbuzz\n"
     ]
    }
   ],
   "source": [
    "\n",
    "for numo in range(1,51):\n",
    "    if numo % 3 == 0 and numo % 5 == 0:\n",
    "        print(\"fizzbuzz\")\n",
    "    \n",
    "    elif numo % 3 == 0:\n",
    "        print(\"fizz\")\n",
    "    elif numo % 5 == 0:\n",
    "        print(\"buzz\")  \n",
    "    \n",
    "    else:\n",
    "            print(numo)"
   ]
  },
  {
   "cell_type": "markdown",
   "metadata": {},
   "source": [
    "**functions**\n",
    "\n",
    "1. Write a Python function to check whether a string is a pangram or not. \n",
    "\n",
    "Note : Pangrams are words or sentences containing every letter of the alphabet at least once.\n",
    "    \n",
    "For example : `\"The quick brown fox jumps over the lazy dog\"`"
   ]
  },
  {
   "cell_type": "code",
   "execution_count": 169,
   "metadata": {},
   "outputs": [
    {
     "output_type": "stream",
     "name": "stdout",
     "text": [
      "its not a pangram\n"
     ]
    }
   ],
   "source": [
    "def pangram_definition ():\n",
    "    a = input(\"Introduce a string\")\n",
    "    c = 0\n",
    "    abc = \"abcdefghijklmnopqrstuvwxyz\"\n",
    "    for toko in abc:\n",
    "        if toko in a:\n",
    "            c = c + 1\n",
    "        else:\n",
    "            print(\"its not a pangram\")\n",
    "            break\n",
    "    if c == len(abc):\n",
    "        print(\"its a pangram\")\n",
    "\n",
    "pangram_definition()\n",
    "    "
   ]
  },
  {
   "cell_type": "markdown",
   "metadata": {},
   "source": [
    "2. Write a Python program to count the number of even and odd numbers from a series of numbers. \n",
    "\n",
    "```python\n",
    "Sample numbers: numbers = (1, 2, 3, 4, 5, 6, 7, 8, 9) \n",
    "    \n",
    "Expected Output:\n",
    "Number of even numbers: 5\n",
    "Number of odd numbers: 4\n",
    "```"
   ]
  },
  {
   "cell_type": "code",
   "execution_count": 173,
   "metadata": {},
   "outputs": [
    {
     "output_type": "stream",
     "name": "stdout",
     "text": [
      "Number of even numbers: 3\nNumber of odd numbers: 5\n"
     ]
    }
   ],
   "source": [
    "lista_ejemplo = [1, 2, 3, 4, 9, 7, 3, 4]\n",
    "\n",
    "def contaje(wlista):\n",
    "    i2=0\n",
    "    i1=0\n",
    "    for ico in wlista:\n",
    "        if ico % 2 == 0:\n",
    "            i2 = i2 + 1\n",
    "        else:\n",
    "            i1 = i1 + 1    \n",
    "\n",
    "\n",
    "\n",
    "    print(\"Number of even numbers:\", i2)\n",
    "    print(\"Number of odd numbers:\", i1)\n",
    "\n",
    "contaje(lista_ejemplo)"
   ]
  },
  {
   "cell_type": "markdown",
   "metadata": {},
   "source": [
    "#### functions & while loop\n",
    "1. Write a program which keeps asking for numbers till the user writes 9999. In that case, the program returns the concatenation of every number as a string.\n"
   ]
  },
  {
   "cell_type": "code",
   "execution_count": 2,
   "metadata": {},
   "outputs": [
    {
     "output_type": "execute_result",
     "data": {
      "text/plain": [
       "'13332'"
      ]
     },
     "metadata": {},
     "execution_count": 2
    }
   ],
   "source": [
    "def function_ask():\n",
    "    b = 0\n",
    "    total = 0\n",
    "    while b != 9999:\n",
    "        \n",
    "        total = total + b\n",
    "        b = int(input(\"Introduzca un número\"))\n",
    "    \n",
    "    return str(total)\n",
    "\n",
    "function_ask()"
   ]
  },
  {
   "cell_type": "markdown",
   "metadata": {},
   "source": [
    "2. Writes a function that asks a user for a pin code till they get it right... If they give a wrong answer three times the function returns \"Your bank account has been blocked\", otherwise, returns: \"You got it right! You get full access to your money\".\n"
   ]
  },
  {
   "cell_type": "code",
   "execution_count": 200,
   "metadata": {},
   "outputs": [
    {
     "output_type": "execute_result",
     "data": {
      "text/plain": [
       "'Your bank account has been blocked'"
      ]
     },
     "metadata": {},
     "execution_count": 200
    }
   ],
   "source": [
    "def pin():\n",
    "    user_c = \"\"\n",
    "    code = \"8484\"\n",
    "    final = 0\n",
    "    while user_c != code and final < 3:\n",
    "        user_c = input(\"Introduce 4 numbers\")\n",
    "        final = final + 1\n",
    "\n",
    "    if user_c != code:\n",
    "        return \"Your bank account has been blocked\"\n",
    "    else:\n",
    "        return \"You got it right! You get full access to your money\"\n",
    "pin()"
   ]
  },
  {
   "cell_type": "markdown",
   "metadata": {},
   "source": [
    "#### functions & for loop\n",
    "\n",
    "1. Write a function that takes in a person's name, and prints out a greeting.\n",
    "    - The greeting must be at least three lines, and the person's name must be in each line.\n",
    "    - Use your function to greet at least three different people.\n",
    "    - Store your three people in a list, and call your function from a for loop."
   ]
  },
  {
   "cell_type": "code",
   "execution_count": 220,
   "metadata": {},
   "outputs": [
    {
     "output_type": "stream",
     "name": "stdout",
     "text": [
      "Hola juan\n¿Como te encuentras, juan? \n¿Quieres una taza de te, juan?\nHola manuela\n¿Como te encuentras, manuela? \n¿Quieres una taza de te, manuela?\nHola isabel\n¿Como te encuentras, isabel? \n¿Quieres una taza de te, isabel?\n"
     ]
    }
   ],
   "source": [
    "personas = [\"juan\", \"manuela\", \"isabel\"]\n",
    "\n",
    "def name(n1):\n",
    "  \n",
    "    print(f\"Hola {n1}\\n¿Como te encuentras, {n1}? \\n¿Quieres una taza de te, {n1}?\")\n",
    "\n",
    "for keko in personas:\n",
    "    name(keko)\n"
   ]
  },
  {
   "cell_type": "markdown",
   "metadata": {},
   "source": [
    "2. Make a list that includes 3 or 4 games that you like to play and print a statement that tells the user what games you like.\n",
    "    - Write a function that asks the user to tell you a game they like, and store the game in a variable such as `new_game`. \n",
    "    - If the user mentions one game you like to play, send a message asking to play together.\n",
    "    - Otherwise ask for another game name. If the user tries your program 3 times and doesn't give a game name you like, then ask them to find another friend."
   ]
  },
  {
   "cell_type": "code",
   "execution_count": 19,
   "metadata": {},
   "outputs": [
    {
     "output_type": "stream",
     "name": "stdout",
     "text": [
      "I like ('god of war', 'league of legends', 'world of warcraft', 'gartic')\n",
      "Find another friend\n"
     ]
    }
   ],
   "source": [
    "\n",
    "games = \"god of war\", \"league of legends\", \"world of warcraft\", \"gartic\"\n",
    "print(\"I like\", games)\n",
    "\n",
    "def game():\n",
    "    new_game =  input(\"What game do you like?\")\n",
    "    e = 1\n",
    "    for ga in games:\n",
    "        if new_game != ga and e < 3:\n",
    "            e = e + 1\n",
    "            new_game =  input(\"Hey, I don't like that, ask me for another one\")\n",
    "        else:\n",
    "            break\n",
    "    if new_game in games:\n",
    "        print(\"Me too, let's play together!\")\n",
    "    else:\n",
    "        print(\"Find another friend\")\n",
    "    \n",
    "game()\n",
    "        \n",
    "    "
   ]
  },
  {
   "cell_type": "markdown",
   "metadata": {},
   "source": [
    "#### write a mini-program\n",
    "**Three is a Crowd**\n",
    "- Make a list of names that includes at least four people.\n",
    "- Write an if test that prints a message about the room being crowded, if there are more than three people in your list.\n",
    "- Modify your list so that there are only two people in it. Use one of the methods for removing people from the list, don't just redefine the list.\n",
    "- Run your if test again. There should be no output this time, because there are less than three people in the list.\n",
    "- Store your if test in a function called something like `crowd_test`.\n",
    "\n"
   ]
  },
  {
   "cell_type": "code",
   "execution_count": 24,
   "metadata": {},
   "outputs": [
    {
     "output_type": "stream",
     "name": "stdout",
     "text": [
      "['juan', 'julia']\n"
     ]
    }
   ],
   "source": [
    "names = [\"juan\", \"julia\", \"pedro\", \"roberto\"]\n",
    "def crowd_test(param):\n",
    "    if len(param) > 3:\n",
    "        param.pop()\n",
    "        param.pop()\n",
    "        print(param)\n",
    "\n",
    "crowd_test(names)"
   ]
  },
  {
   "cell_type": "markdown",
   "metadata": {},
   "source": [
    "**Three is a Crowd - Part 2**\n",
    "- Save your program from *Three is a Crowd* under a new name.\n",
    "- Add an `else` statement to your if tests. If the `else` statement is run, have it print a message that the room is not very crowded.\n"
   ]
  },
  {
   "cell_type": "code",
   "execution_count": 25,
   "metadata": {},
   "outputs": [
    {
     "output_type": "stream",
     "name": "stdout",
     "text": [
      "['juan', 'julia']\n"
     ]
    }
   ],
   "source": [
    "names = [\"juan\", \"julia\", \"pedro\", \"roberto\"]\n",
    "def crowd_test2(param):\n",
    "    if len(param) > 3:\n",
    "        param.pop()\n",
    "        param.pop()\n",
    "        print(param)\n",
    "    else:\n",
    "        print(\"Its not very crowded\")\n",
    "\n",
    "crowd_test2(names)"
   ]
  },
  {
   "cell_type": "markdown",
   "metadata": {},
   "source": [
    "\n",
    "**Six is a Mob**\n",
    "- Save your program from *Three is a Crowd - Part 2* under a new name.\n",
    "- Add some names to your list, so that there are at least six people in the list.\n",
    "- Modify your tests so that\n",
    "    - If there are more than 5 people, a message is printed about there being a mob in the room.\n",
    "    - If there are 3-5 people, a message is printed about the room being crowded.\n",
    "    - If there are 1 or 2 people, a message is printed about the room not being crowded.\n",
    "    - If there are no people in the room, a message is printed abou the room being empty."
   ]
  },
  {
   "cell_type": "code",
   "execution_count": 28,
   "metadata": {},
   "outputs": [
    {
     "output_type": "stream",
     "name": "stdout",
     "text": [
      "There is a mob in the room\n"
     ]
    }
   ],
   "source": [
    "names = [\"juan\", \"julia\", \"pedro\", \"roberto\",\"olivia\",\"adri\"]\n",
    "def crowd_test3(param):\n",
    "    if len(param) > 5:\n",
    "        print(\"There is a mob in the room\")\n",
    "    elif len(param) <= 5 and len(param) >= 3:\n",
    "        print(\"Room is crowded\")\n",
    "    elif len(param) < 3 and len(param) > 0:\n",
    "        print(\"Room not crowded\")\n",
    "    else:\n",
    "        print(\"Empty room\")\n",
    "\n",
    "crowd_test3(names)"
   ]
  },
  {
   "cell_type": "code",
   "execution_count": null,
   "metadata": {},
   "outputs": [],
   "source": []
  }
 ],
 "metadata": {
  "kernelspec": {
   "name": "python374jvsc74a57bd054fd10a125f012059efbf68d746a102a68808834a5fa4f754a07e57618326eaa",
   "display_name": "Python 3.7.4 64-bit"
  },
  "language_info": {
   "codemirror_mode": {
    "name": "ipython",
    "version": 3
   },
   "file_extension": ".py",
   "mimetype": "text/x-python",
   "name": "python",
   "nbconvert_exporter": "python",
   "pygments_lexer": "ipython3",
   "version": "3.7.4-final"
  },
  "metadata": {
   "interpreter": {
    "hash": "54fd10a125f012059efbf68d746a102a68808834a5fa4f754a07e57618326eaa"
   }
  }
 },
 "nbformat": 4,
 "nbformat_minor": 4
}