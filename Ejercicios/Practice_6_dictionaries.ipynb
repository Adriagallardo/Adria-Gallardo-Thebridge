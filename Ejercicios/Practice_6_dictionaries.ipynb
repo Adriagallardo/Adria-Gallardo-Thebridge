{
 "cells": [
  {
   "cell_type": "markdown",
   "metadata": {},
   "source": [
    "# Python | day 6 | dictionaries"
   ]
  },
  {
   "cell_type": "markdown",
   "metadata": {},
   "source": [
    "Dictionaries are used to store data values in key:value pairs.\n",
    "\n",
    "A dictionary is a collection which is unordered, changeable and does not allow duplicates.\n",
    "\n",
    "Dictionaries are written with curly brackets, and have keys and values:"
   ]
  },
  {
   "cell_type": "markdown",
   "metadata": {},
   "source": [
    "```python\n",
    "thisdict = {\n",
    "  \"brand\": \"Ford\",\n",
    "  \"model\": \"Mustang\",\n",
    "  \"year\": 1964\n",
    "}\n",
    "```"
   ]
  },
  {
   "cell_type": "markdown",
   "metadata": {},
   "source": [
    "https://www.w3schools.com/python/python_dictionaries.asp"
   ]
  },
  {
   "cell_type": "markdown",
   "metadata": {},
   "source": [
    "### Exercise 1. \n",
    "\n",
    "1. Create a dictionary with an integer 5 as the key and \"val\" as its value."
   ]
  },
  {
   "cell_type": "code",
   "execution_count": 138,
   "metadata": {},
   "outputs": [
    {
     "output_type": "execute_result",
     "data": {
      "text/plain": [
       "{5: 'val'}"
      ]
     },
     "metadata": {},
     "execution_count": 138
    }
   ],
   "source": [
    "dictionary1 = {5:\"val\"}\n",
    "dictionary1"
   ]
  },
  {
   "cell_type": "markdown",
   "metadata": {},
   "source": [
    "2. Create two lists: one that has 4 city names and another that has 4 landmarks in the city."
   ]
  },
  {
   "cell_type": "code",
   "execution_count": 139,
   "metadata": {},
   "outputs": [
    {
     "output_type": "execute_result",
     "data": {
      "text/plain": [
       "['Barcelona', 'Madrid', 'Tokyo', 'Sevilla']"
      ]
     },
     "metadata": {},
     "execution_count": 139
    }
   ],
   "source": [
    "list_first = [\"Barcelona\", \"Madrid\", \"Tokyo\", \"Sevilla\"]\n",
    "list_first"
   ]
  },
  {
   "cell_type": "code",
   "execution_count": 140,
   "metadata": {},
   "outputs": [
    {
     "output_type": "execute_result",
     "data": {
      "text/plain": [
       "['Sagrada Família', 'Puerta de Alcalá', 'Tokyo Tower', 'La Giralda']"
      ]
     },
     "metadata": {},
     "execution_count": 140
    }
   ],
   "source": [
    "list_landmark = [\"Sagrada Família\", \"Puerta de Alcalá\", \"Tokyo Tower\", \"La Giralda\"]\n",
    "list_landmark"
   ]
  },
  {
   "cell_type": "markdown",
   "metadata": {},
   "source": [
    "3. Create a dictionary where the cities contained in the first list are the **keys** and the landmarks are the **values**.\n",
    "```python\n",
    "#example\n",
    "places = {\"Malaga\": \"Gibralfaro\", \n",
    "         \"Madrid\": \"Templo de Debod\",\n",
    "         \"Granada\": \"La Alcazaba\",\n",
    "         \"Barcelona\": \"Sagrada Familia\"}\n",
    "```"
   ]
  },
  {
   "cell_type": "code",
   "execution_count": 141,
   "metadata": {},
   "outputs": [
    {
     "output_type": "execute_result",
     "data": {
      "text/plain": [
       "{'Barcelona': 'Sagrada Família',\n",
       " 'Madrid': 'Puerta de Alcalá',\n",
       " 'Tokyo': 'Tokyo Tower',\n",
       " 'Sevilla': 'La Giralda'}"
      ]
     },
     "metadata": {},
     "execution_count": 141
    }
   ],
   "source": [
    "dictionary2 = {}\n",
    "\n",
    "for elem1 in range(len(list_landmark)):\n",
    "    dictionary2[list_first[elem1]] = list_landmark[elem1]\n",
    "dictionary2\n"
   ]
  },
  {
   "cell_type": "markdown",
   "metadata": {},
   "source": [
    "4. Loop through the dictionary and print only the values of those keys starting with the letter **M**.\n",
    "\n",
    "https://realpython.com/iterate-through-dictionary-python/"
   ]
  },
  {
   "cell_type": "code",
   "execution_count": 142,
   "metadata": {},
   "outputs": [
    {
     "output_type": "stream",
     "name": "stdout",
     "text": [
      "Puerta de Alcalá\n"
     ]
    }
   ],
   "source": [
    "for key2, value2 in dictionary2.items():\n",
    "    if key2[0] == \"M\":\n",
    "        print(value2)\n"
   ]
  },
  {
   "cell_type": "markdown",
   "metadata": {},
   "source": [
    "5. Create a function that receives two lists `list1` and `list2` by parameter and returns a dictionary with each element of `list1` as keys and the elements of `list2` as values. Call the function with the lists you have created before to return the same dictionary you've created in question 3. "
   ]
  },
  {
   "cell_type": "code",
   "execution_count": 143,
   "metadata": {},
   "outputs": [],
   "source": [
    "dictt = {}\n",
    "\n",
    "def funcion_1(list1, list2):\n",
    "\n",
    "    for kkey in range(len(list1)):\n",
    "        dictt[list1[kkey]] = list2[kkey]\n",
    "        \n",
    "    return dictt"
   ]
  },
  {
   "cell_type": "code",
   "execution_count": 144,
   "metadata": {},
   "outputs": [
    {
     "output_type": "execute_result",
     "data": {
      "text/plain": [
       "{'Barcelona': 'Sagrada Família',\n",
       " 'Madrid': 'Puerta de Alcalá',\n",
       " 'Tokyo': 'Tokyo Tower',\n",
       " 'Sevilla': 'La Giralda'}"
      ]
     },
     "metadata": {},
     "execution_count": 144
    }
   ],
   "source": [
    "funcion_1(list_first, list_landmark)"
   ]
  },
  {
   "cell_type": "markdown",
   "metadata": {},
   "source": [
    "### Exercise 2. "
   ]
  },
  {
   "cell_type": "markdown",
   "metadata": {},
   "source": [
    "1. Create an empty dictionary called dog."
   ]
  },
  {
   "cell_type": "code",
   "execution_count": 145,
   "metadata": {},
   "outputs": [],
   "source": [
    "dog = {}"
   ]
  },
  {
   "cell_type": "markdown",
   "metadata": {},
   "source": [
    "2. Add name, color, breed, legs, age to the dog dictionary."
   ]
  },
  {
   "cell_type": "code",
   "execution_count": 146,
   "metadata": {},
   "outputs": [
    {
     "output_type": "execute_result",
     "data": {
      "text/plain": [
       "{'name': 'buddy', 'color': 'brown', 'breed': 'chihuahua', 'legs': 4, 'age': 10}"
      ]
     },
     "metadata": {},
     "execution_count": 146
    }
   ],
   "source": [
    "dog[\"name\"] = \"buddy\"\n",
    "dog[\"color\"] = \"brown\"\n",
    "dog[\"breed\"] = \"chihuahua\"\n",
    "dog[\"legs\"] = 4\n",
    "dog[\"age\"] = 10\n",
    "dog"
   ]
  },
  {
   "cell_type": "markdown",
   "metadata": {},
   "source": [
    "3. Create a student dictionary and add first_name, last_name, age, skills, country, city and address as keys for the dictionary.\n"
   ]
  },
  {
   "cell_type": "code",
   "execution_count": 147,
   "metadata": {},
   "outputs": [
    {
     "output_type": "execute_result",
     "data": {
      "text/plain": [
       "{'first_name': 'Adrià',\n",
       " 'last_name': 'Gallardo',\n",
       " 'age': 24,\n",
       " 'skills': ['levantar peso', 'orinar a distancia'],\n",
       " 'country': ['España'],\n",
       " 'city': ['Barcelona'],\n",
       " 'address': ['Concilio de trento 236']}"
      ]
     },
     "metadata": {},
     "execution_count": 147
    }
   ],
   "source": [
    "student = {}\n",
    "student[\"first_name\"] = \"Adrià\"\n",
    "student[\"last_name\"] = \"Gallardo\"\n",
    "student[\"age\"] = 24\n",
    "student[\"skills\"] = [\"levantar peso\" , \"orinar a distancia\"]\n",
    "student[\"country\"] = [\"España\"]\n",
    "student[\"city\"] = [\"Barcelona\"]\n",
    "student[\"address\"] = [\"Concilio de trento 236\"]\n",
    "student"
   ]
  },
  {
   "cell_type": "markdown",
   "metadata": {},
   "source": [
    "4. Get the length of the student dictionary.\n"
   ]
  },
  {
   "cell_type": "code",
   "execution_count": 148,
   "metadata": {},
   "outputs": [
    {
     "output_type": "stream",
     "name": "stdout",
     "text": [
      "7\n"
     ]
    }
   ],
   "source": [
    "print(len(student))"
   ]
  },
  {
   "cell_type": "markdown",
   "metadata": {},
   "source": [
    "5. Get the value of skills and check the data type, it should be a list."
   ]
  },
  {
   "cell_type": "code",
   "execution_count": 149,
   "metadata": {},
   "outputs": [
    {
     "output_type": "stream",
     "name": "stdout",
     "text": [
      "skills es <class 'list'>\n"
     ]
    }
   ],
   "source": [
    "print(\"skills es\",type(student[\"skills\"]))"
   ]
  },
  {
   "cell_type": "markdown",
   "metadata": {},
   "source": [
    "6. Modify the skills values by adding one or two skills."
   ]
  },
  {
   "cell_type": "code",
   "execution_count": 150,
   "metadata": {},
   "outputs": [
    {
     "output_type": "execute_result",
     "data": {
      "text/plain": [
       "{'first_name': 'Adrià',\n",
       " 'last_name': 'Gallardo',\n",
       " 'age': 24,\n",
       " 'skills': ['levantar peso',\n",
       "  'orinar a distancia',\n",
       "  'bailar a la pata coja',\n",
       "  'dormir más de 15 horas'],\n",
       " 'country': ['España'],\n",
       " 'city': ['Barcelona'],\n",
       " 'address': ['Concilio de trento 236']}"
      ]
     },
     "metadata": {},
     "execution_count": 150
    }
   ],
   "source": [
    "student[\"skills\"] = student[\"skills\"] + [\"bailar a la pata coja\", \"dormir más de 15 horas\"]\n",
    "\n",
    "student"
   ]
  },
  {
   "cell_type": "markdown",
   "metadata": {},
   "source": [
    "7. Get the dictionary keys as a list."
   ]
  },
  {
   "cell_type": "code",
   "execution_count": 151,
   "metadata": {},
   "outputs": [
    {
     "output_type": "stream",
     "name": "stdout",
     "text": [
      "['first_name', 'last_name', 'age', 'skills', 'country', 'city', 'address']\n"
     ]
    }
   ],
   "source": [
    "key_student_list = []\n",
    "\n",
    "for skey in student.keys():\n",
    "    key_student_list.append(skey)\n",
    "\n",
    "print(key_student_list)\n"
   ]
  },
  {
   "cell_type": "markdown",
   "metadata": {},
   "source": [
    "8. Get the dictionary values as a list.\n"
   ]
  },
  {
   "cell_type": "code",
   "execution_count": 152,
   "metadata": {},
   "outputs": [
    {
     "output_type": "stream",
     "name": "stdout",
     "text": [
      "['Adrià', 'Gallardo', 24, ['levantar peso', 'orinar a distancia', 'bailar a la pata coja', 'dormir más de 15 horas'], ['España'], ['Barcelona'], ['Concilio de trento 236']]\n"
     ]
    }
   ],
   "source": [
    "value_student_list = []\n",
    "\n",
    "for svalue in student.values():\n",
    "    value_student_list.append(svalue)\n",
    "\n",
    "print(value_student_list)"
   ]
  },
  {
   "cell_type": "markdown",
   "metadata": {},
   "source": [
    "9. Change the dictionary to a list of tuples using `items()` method"
   ]
  },
  {
   "cell_type": "code",
   "execution_count": 153,
   "metadata": {},
   "outputs": [
    {
     "output_type": "execute_result",
     "data": {
      "text/plain": [
       "dict_items([('first_name', 'Adrià'), ('last_name', 'Gallardo'), ('age', 24), ('skills', ['levantar peso', 'orinar a distancia', 'bailar a la pata coja', 'dormir más de 15 horas']), ('country', ['España']), ('city', ['Barcelona']), ('address', ['Concilio de trento 236'])])"
      ]
     },
     "metadata": {},
     "execution_count": 153
    }
   ],
   "source": [
    "student_tuple = student.items()\n",
    "student_tuple"
   ]
  },
  {
   "cell_type": "markdown",
   "metadata": {},
   "source": [
    "10. Delete one of the items in the dictionary.\n"
   ]
  },
  {
   "cell_type": "code",
   "execution_count": 154,
   "metadata": {},
   "outputs": [
    {
     "output_type": "execute_result",
     "data": {
      "text/plain": [
       "{'first_name': 'Adrià',\n",
       " 'age': 24,\n",
       " 'skills': ['levantar peso',\n",
       "  'orinar a distancia',\n",
       "  'bailar a la pata coja',\n",
       "  'dormir más de 15 horas'],\n",
       " 'country': ['España'],\n",
       " 'city': ['Barcelona'],\n",
       " 'address': ['Concilio de trento 236']}"
      ]
     },
     "metadata": {},
     "execution_count": 154
    }
   ],
   "source": [
    "del student[\"last_name\"]\n",
    "student"
   ]
  },
  {
   "cell_type": "markdown",
   "metadata": {},
   "source": [
    "### Bonus Track"
   ]
  },
  {
   "cell_type": "markdown",
   "metadata": {},
   "source": [
    "**Tómate un zumito a tu salud.**"
   ]
  },
  {
   "cell_type": "markdown",
   "metadata": {},
   "source": [
    "!['daughter'](https://i.pinimg.com/originals/8f/35/28/8f35281e742e71be09697e7e6789b819.png)"
   ]
  },
  {
   "cell_type": "code",
   "execution_count": null,
   "metadata": {},
   "outputs": [],
   "source": []
  }
 ],
 "metadata": {
  "kernelspec": {
   "name": "python374jvsc74a57bd054fd10a125f012059efbf68d746a102a68808834a5fa4f754a07e57618326eaa",
   "display_name": "Python 3.7.4 64-bit"
  },
  "language_info": {
   "codemirror_mode": {
    "name": "ipython",
    "version": 3
   },
   "file_extension": ".py",
   "mimetype": "text/x-python",
   "name": "python",
   "nbconvert_exporter": "python",
   "pygments_lexer": "ipython3",
   "version": "3.7.4"
  },
  "metadata": {
   "interpreter": {
    "hash": "54fd10a125f012059efbf68d746a102a68808834a5fa4f754a07e57618326eaa"
   }
  }
 },
 "nbformat": 4,
 "nbformat_minor": 2
}