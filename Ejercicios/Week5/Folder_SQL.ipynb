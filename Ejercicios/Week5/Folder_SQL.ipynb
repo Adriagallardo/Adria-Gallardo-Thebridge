{
 "metadata": {
  "language_info": {
   "codemirror_mode": {
    "name": "ipython",
    "version": 3
   },
   "file_extension": ".py",
   "mimetype": "text/x-python",
   "name": "python",
   "nbconvert_exporter": "python",
   "pygments_lexer": "ipython3",
   "version": "3.7.4"
  },
  "orig_nbformat": 2,
  "kernelspec": {
   "name": "python374jvsc74a57bd054fd10a125f012059efbf68d746a102a68808834a5fa4f754a07e57618326eaa",
   "display_name": "Python 3.7.4 64-bit"
  },
  "metadata": {
   "interpreter": {
    "hash": "54fd10a125f012059efbf68d746a102a68808834a5fa4f754a07e57618326eaa"
   }
  }
 },
 "nbformat": 4,
 "nbformat_minor": 2,
 "cells": [
  {
   "cell_type": "code",
   "execution_count": 3,
   "metadata": {},
   "outputs": [],
   "source": [
    "import pandas as pd\n",
    "import sqlite3"
   ]
  },
  {
   "cell_type": "code",
   "execution_count": null,
   "metadata": {},
   "outputs": [],
   "source": [
    "SELECT* \n",
    "FROM crime_scene_report cr\n",
    "WHERE cr.type = \"murder\" AND cr.city= \"SQL City\""
   ]
  },
  {
   "cell_type": "code",
   "execution_count": null,
   "metadata": {},
   "outputs": [],
   "source": [
    "SELECT *\n",
    "FROM interview i\n",
    "JOIN person p ON i.person_id = p.id\n",
    "JOIN facebook_event_checkin fec ON fec.person_id = p.id\n",
    "JOIN drivers_license dl ON dl.id = p.license_id\n",
    "where fec.date like \"201712%\" AND dl.hair_color == \"red\" AND dl.height between 57 and 59 "
   ]
  },
  {
   "cell_type": "code",
   "execution_count": null,
   "metadata": {},
   "outputs": [],
   "source": [
    "SELECT *\n",
    "FROM facebook_event_checkin fec\n",
    "JOIN person p ON fec.person_id = p.id\n",
    "JOIN drivers_license dl ON dl.id = p.license_id\n",
    "JOIN get_fit_now_member gf ON gf.person_id = p.id\n",
    "where event_id == 1143\n",
    "\n",
    "--where fec.date like \"201712%\" AND dl.hair_color == \"red\" AND dl.height between 57 and 59 \n",
    "\n",
    "--where fec.event_name == \"SQL Symphony Concert\"           "
   ]
  }
 ]
}