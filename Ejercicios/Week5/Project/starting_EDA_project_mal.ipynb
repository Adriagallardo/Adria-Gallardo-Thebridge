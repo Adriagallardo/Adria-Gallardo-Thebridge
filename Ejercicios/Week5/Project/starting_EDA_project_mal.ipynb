{
 "cells": [
  {
   "cell_type": "markdown",
   "metadata": {},
   "source": [
    "![EDA.png](img/proyecto_eda.png)"
   ]
  },
  {
   "cell_type": "markdown",
   "metadata": {},
   "source": [
    "# Primera entrega EDA: Definición del proyecto"
   ]
  },
  {
   "cell_type": "markdown",
   "metadata": {},
   "source": [
    "En este primer entregable se espera  hagas la búsqueda de datos e investigación suficiente como para definir lo que serán los primeros pasos de tu proyecto EDA y los datos que usarás incluyendo al menos un dataset principal (aunque también podrás incluir fuentes de datos alternativas).\n",
    "\n",
    "Tienes hasta el día _20/05/2021 a las 09:00_ para entregar este archivo completado. Posteriormente se os introducirá el proyecto y darán los detalles pertinentes."
   ]
  },
  {
   "source": [
    "### Tema"
   ],
   "cell_type": "markdown",
   "metadata": {}
  },
  {
   "cell_type": "code",
   "execution_count": null,
   "metadata": {},
   "outputs": [],
   "source": [
    "Cambios en las tendencias poblacionales de actividades referentes al bienestar físico durante el COVID"
   ]
  },
  {
   "source": [
    "### Título de proyecto"
   ],
   "cell_type": "markdown",
   "metadata": {}
  },
  {
   "source": [
    "# Escribir el título de proyecto en Markdown\n",
    "El fitness cambia su rumbo"
   ],
   "cell_type": "code",
   "metadata": {},
   "execution_count": null,
   "outputs": []
  },
  {
   "cell_type": "markdown",
   "metadata": {},
   "source": [
    "### Hipótesis\n",
    "Define aquí la que será la hipótesis de tu proyecto.\n",
    "Puede que tengas más de una, pero tu proyecto lo harás teniendo una principal hipótesis."
   ]
  },
  {
   "source": [
    "# hipótesis en Markdown\n",
    "Durante la etapa COVID, se han reducido las suscripciones a programas de pago en formato indoor dedicadas al bienestar físico y se han promovido actividades outdoor, cambiando la directiva de las tendencias en fitness\n"
   ],
   "cell_type": "code",
   "metadata": {},
   "execution_count": null,
   "outputs": []
  },
  {
   "cell_type": "markdown",
   "metadata": {},
   "source": [
    "### Datasets\n",
    "Incluye aquí una breve descripción del dataset o datasets de los que partirás para poder evaluar tu hipótesis. También incluye el origen de estos datos y el formato en el que están."
   ]
  },
  {
   "cell_type": "code",
   "execution_count": null,
   "metadata": {},
   "outputs": [],
   "source": [
    "# definición y enlaces de datasets en Markdown\n",
    "Empezaré buscando datasets municipales de las ciudades Barcelona y Madrid referentes a eventos deportivos y ocio en actividades deportivos. También quiero llevar un registro de la evolución de las actividades dedicadas al fitness y bienestar en españa durante el covid.\n",
    "\n",
    "-Agenda de actividades deportivas de Madrid: \"https://datos.madrid.es/egob/catalogo/212504-0-agenda-actividades-deportes.json\" *Formato.json\n",
    "\n",
    "-Agenda de competiciones, actos populares y otros acontecimientos deportivos de Barcelona: \"https://opendata-ajuntament.barcelona.cat/data/es/dataset/agenda-activitats-esportives/resource/ca2ca99a-23da-4123-8a9b-6896d32c2c71\" *Formato.json\n",
    "\n",
    "-Centros deportivos que incluyen programas de deportes de equipo de la ciudad de Barcelona. \"https://opendata-ajuntament.barcelona.cat/data/es/dataset/esports-equip/resource/72fcd36f-6f52-432a-ad25-f4b288fa0082\" *Formato.csv\n",
    "\n",
    "-Centros deportivos que incluyen programas de deportes individuales de la ciudad de Barcelona. \"https://opendata-ajuntament.barcelona.cat/data/es/dataset/esports-individuals\" *Formato.csv\n",
    "\n",
    "-Listado de equipamientos de deportes de la ciudad de Barcelona. \"https://opendata-ajuntament.barcelona.cat/data/es/dataset/equipament-esports\" *Formato.json\n",
    "\n",
    "-Instalaciones deportivas de la ciudad de Barcelona \"https://opendata-ajuntament.barcelona.cat/data/es/dataset/esports-instal-lacions-esportives\" *Formato.csv\n"
   ]
  },
  {
   "cell_type": "markdown",
   "metadata": {},
   "source": [
    "### Fuentes alternativas de datos\n",
    "Como podrán ser webs a las que hacer web scraping o APIs de donde obtener información."
   ]
  },
  {
   "cell_type": "code",
   "execution_count": null,
   "metadata": {},
   "outputs": [],
   "source": [
    "# fuentes alternativas de datos en Markdown\n",
    "https://ilostat.ilo.org/data/country-profiles/\n",
    "https://datasetsearch.research.google.com/\n",
    "https://www.ine.es/nomen2/ficheros.do\n",
    "https://www.kaggle.com/datasets\n",
    "https://datos.gob.es/\n",
    "https://databank.worldbank.org/home.aspx\n"
   ]
  },
  {
   "cell_type": "markdown",
   "metadata": {},
   "source": [
    "**¿De dónde saco los datos?** Posibles fuentes:\n",
    "\n",
    "- De los enlaces que están en el canal *links_of_interests* de Discord\n",
    "- https://www.kaggle.com/datasets\n",
    "- [API de Idealista](https://www.idealista.com/labs/)\n",
    "- [API de Booking](https://developers.booking.com/api/index.html)\n",
    "- [API de Tripadvisor](http://developer-tripadvisor.com/content-api/)\n",
    "- [API de Facebook](https://developers.facebook.com/docs/apis-and-sdks?locale=es_ES)\n",
    "- [API de Twitter](https://developer.twitter.com/en/docs)\n",
    "- [API de Instagram](https://www.instagram.com/developer/)\n",
    "- [APIs de Google Maps](https://cloud.google.com/maps-platform?hl=es)\n",
    "- [Google Timeline](https://www.google.es/maps/timeline?pb). Todo tu registro de actividad de Google, como los lugares que has visitado\n",
    "- [Alexa. Tráfico de webs](https://www.alexa.com/siteinfo)\n",
    "- [Catastro](https://ovc.catastro.meh.es/ovcservweb/OVCSWLocalizacionRC/OVCCoordenadas.asmx)\n",
    "- [Airbnb](http://insideairbnb.com/index.html)\n",
    "- Web scrapping. Acceso automatizado a cualquier web.\n",
    "- Kaggle: página con competiciones de data scientists. Muchísimos datasets.\n",
    "- QPython 3L: APP para ejecutar código Python en el movil. Podrás sacar datos de tu actividad con el teléfono (horarios, geoposicionamiento)\n",
    "- Coronavirus. Se están empezando a librerar muchísimos datasets con datos del coronavirus en todo el mundo. En Kaggle hay varios.\n",
    "- [Web de datos abiertos del gobierno](https://datos.gob.es/)\n",
    "- [OpenStreetMap](https://wiki.openstreetmap.org/wiki/API). Datos de ubicaciones (como Google Maps) abiertos\n",
    "- [Obtención de datos bursátiles](https://financetrain.com/best-python-librariespackages-finance-financial-data-scientists/)\n",
    "- [ESRI Datos abiertos España](https://opendata.esri.es/)\n",
    "- [INE](https://www.ine.es/nomen2/ficheros.do)\n",
    "- [Red.es](https://www.red.es/redes/es/que-hacemos/datos-abiertos)\n",
    "- [Datos abiertos gobierno](https://www.hacienda.gob.es/es-ES/GobiernoAbierto/Datos%20Abiertos/Paginas/Catalogodedatosabiertos.aspx)\n",
    "- [Ayuntamiento de Madrid](https://datos.madrid.es/portal/site/egob/)\n",
    "- [Ayuntamiento de Barcelona](https://opendata-ajuntament.barcelona.cat/es)\n",
    "- [Metro de Madrid](https://data-crtm.opendata.arcgis.com/)\n",
    "- [Portal datos europeo I](https://data.europa.eu/euodp/es/home)\n",
    "- [Portal datos europeo II](https://www.europeandataportal.eu/data/datasets?locale=en&minScoring=0)\n",
    "- [Google Dataset Search](https://datasetsearch.research.google.com/)\n",
    "- [Indicadores macro mundiales](https://databank.worldbank.org/home)\n",
    "- [Indicadores macro mundiales 2](https://ilostat.ilo.org/data/country-profiles/)"
   ]
  },
  {
   "cell_type": "code",
   "execution_count": null,
   "metadata": {},
   "outputs": [],
   "source": []
  }
 ],
 "metadata": {
  "kernelspec": {
   "name": "python374jvsc74a57bd054fd10a125f012059efbf68d746a102a68808834a5fa4f754a07e57618326eaa",
   "display_name": "Python 3.7.4 64-bit"
  },
  "language_info": {
   "codemirror_mode": {
    "name": "ipython",
    "version": 3
   },
   "file_extension": ".py",
   "mimetype": "text/x-python",
   "name": "python",
   "nbconvert_exporter": "python",
   "pygments_lexer": "ipython3",
   "version": "3.7.4"
  },
  "metadata": {
   "interpreter": {
    "hash": "54fd10a125f012059efbf68d746a102a68808834a5fa4f754a07e57618326eaa"
   }
  }
 },
 "nbformat": 4,
 "nbformat_minor": 5
}