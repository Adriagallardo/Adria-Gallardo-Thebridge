{
 "metadata": {
  "language_info": {
   "codemirror_mode": {
    "name": "ipython",
    "version": 3
   },
   "file_extension": ".py",
   "mimetype": "text/x-python",
   "name": "python",
   "nbconvert_exporter": "python",
   "pygments_lexer": "ipython3",
   "version": "3.7.4"
  },
  "orig_nbformat": 2,
  "kernelspec": {
   "name": "python374jvsc74a57bd054fd10a125f012059efbf68d746a102a68808834a5fa4f754a07e57618326eaa",
   "display_name": "Python 3.7.4 64-bit"
  },
  "metadata": {
   "interpreter": {
    "hash": "54fd10a125f012059efbf68d746a102a68808834a5fa4f754a07e57618326eaa"
   }
  }
 },
 "nbformat": 4,
 "nbformat_minor": 2,
 "cells": [
  {
   "source": [
    "### Ejercicio 1\n",
    "\n",
    "A partir de la API de Pokemon, se pide generar un DataFrame como el de la imagen con las columnas: \n",
    "\n",
    "- **\"height\",\"id\",\"order\",\"weight\",\"types\"**\n",
    "\n",
    "### Ejercicio 2\n",
    "\n",
    "¿Has visto que dentro del DataFrame la columna \"types\" hay diccionarios? Se pide agregar, por cada pokemon, las columnas necesarias al DataFrame para albergar toda la información de \"types\" (solo las keys)\n",
    "\n",
    "![](df_pk.PNG)"
   ],
   "cell_type": "markdown",
   "metadata": {}
  },
  {
   "cell_type": "code",
   "execution_count": 51,
   "metadata": {},
   "outputs": [],
   "source": [
    "import requests\n",
    "import json\n",
    "import pandas as pd\n",
    "from pandas.io.json import json_normalize"
   ]
  },
  {
   "cell_type": "code",
   "execution_count": 52,
   "metadata": {},
   "outputs": [
    {
     "output_type": "execute_result",
     "data": {
      "text/plain": [
       "   count                                               next previous  \\\n",
       "0   1118  https://pokeapi.co/api/v2/pokemon?offset=5&lim...     None   \n",
       "1   1118  https://pokeapi.co/api/v2/pokemon?offset=5&lim...     None   \n",
       "2   1118  https://pokeapi.co/api/v2/pokemon?offset=5&lim...     None   \n",
       "3   1118  https://pokeapi.co/api/v2/pokemon?offset=5&lim...     None   \n",
       "4   1118  https://pokeapi.co/api/v2/pokemon?offset=5&lim...     None   \n",
       "\n",
       "                                             results  \n",
       "0  {'name': 'bulbasaur', 'url': 'https://pokeapi....  \n",
       "1  {'name': 'ivysaur', 'url': 'https://pokeapi.co...  \n",
       "2  {'name': 'venusaur', 'url': 'https://pokeapi.c...  \n",
       "3  {'name': 'charmander', 'url': 'https://pokeapi...  \n",
       "4  {'name': 'charmeleon', 'url': 'https://pokeapi...  "
      ],
      "text/html": "<div>\n<style scoped>\n    .dataframe tbody tr th:only-of-type {\n        vertical-align: middle;\n    }\n\n    .dataframe tbody tr th {\n        vertical-align: top;\n    }\n\n    .dataframe thead th {\n        text-align: right;\n    }\n</style>\n<table border=\"1\" class=\"dataframe\">\n  <thead>\n    <tr style=\"text-align: right;\">\n      <th></th>\n      <th>count</th>\n      <th>next</th>\n      <th>previous</th>\n      <th>results</th>\n    </tr>\n  </thead>\n  <tbody>\n    <tr>\n      <th>0</th>\n      <td>1118</td>\n      <td>https://pokeapi.co/api/v2/pokemon?offset=5&amp;lim...</td>\n      <td>None</td>\n      <td>{'name': 'bulbasaur', 'url': 'https://pokeapi....</td>\n    </tr>\n    <tr>\n      <th>1</th>\n      <td>1118</td>\n      <td>https://pokeapi.co/api/v2/pokemon?offset=5&amp;lim...</td>\n      <td>None</td>\n      <td>{'name': 'ivysaur', 'url': 'https://pokeapi.co...</td>\n    </tr>\n    <tr>\n      <th>2</th>\n      <td>1118</td>\n      <td>https://pokeapi.co/api/v2/pokemon?offset=5&amp;lim...</td>\n      <td>None</td>\n      <td>{'name': 'venusaur', 'url': 'https://pokeapi.c...</td>\n    </tr>\n    <tr>\n      <th>3</th>\n      <td>1118</td>\n      <td>https://pokeapi.co/api/v2/pokemon?offset=5&amp;lim...</td>\n      <td>None</td>\n      <td>{'name': 'charmander', 'url': 'https://pokeapi...</td>\n    </tr>\n    <tr>\n      <th>4</th>\n      <td>1118</td>\n      <td>https://pokeapi.co/api/v2/pokemon?offset=5&amp;lim...</td>\n      <td>None</td>\n      <td>{'name': 'charmeleon', 'url': 'https://pokeapi...</td>\n    </tr>\n  </tbody>\n</table>\n</div>"
     },
     "metadata": {},
     "execution_count": 52
    }
   ],
   "source": [
    "answer = requests.get(\"https://pokeapi.co/api/v2/pokemon?offset=0&limit=5\").json()\n",
    "df_pokemons = pd.DataFrame(answer)\n",
    "df_pokemons"
   ]
  },
  {
   "cell_type": "code",
   "execution_count": 53,
   "metadata": {},
   "outputs": [
    {
     "output_type": "execute_result",
     "data": {
      "text/plain": [
       "         name                                   url\n",
       "0   bulbasaur  https://pokeapi.co/api/v2/pokemon/1/\n",
       "1     ivysaur  https://pokeapi.co/api/v2/pokemon/2/\n",
       "2    venusaur  https://pokeapi.co/api/v2/pokemon/3/\n",
       "3  charmander  https://pokeapi.co/api/v2/pokemon/4/\n",
       "4  charmeleon  https://pokeapi.co/api/v2/pokemon/5/"
      ],
      "text/html": "<div>\n<style scoped>\n    .dataframe tbody tr th:only-of-type {\n        vertical-align: middle;\n    }\n\n    .dataframe tbody tr th {\n        vertical-align: top;\n    }\n\n    .dataframe thead th {\n        text-align: right;\n    }\n</style>\n<table border=\"1\" class=\"dataframe\">\n  <thead>\n    <tr style=\"text-align: right;\">\n      <th></th>\n      <th>name</th>\n      <th>url</th>\n    </tr>\n  </thead>\n  <tbody>\n    <tr>\n      <th>0</th>\n      <td>bulbasaur</td>\n      <td>https://pokeapi.co/api/v2/pokemon/1/</td>\n    </tr>\n    <tr>\n      <th>1</th>\n      <td>ivysaur</td>\n      <td>https://pokeapi.co/api/v2/pokemon/2/</td>\n    </tr>\n    <tr>\n      <th>2</th>\n      <td>venusaur</td>\n      <td>https://pokeapi.co/api/v2/pokemon/3/</td>\n    </tr>\n    <tr>\n      <th>3</th>\n      <td>charmander</td>\n      <td>https://pokeapi.co/api/v2/pokemon/4/</td>\n    </tr>\n    <tr>\n      <th>4</th>\n      <td>charmeleon</td>\n      <td>https://pokeapi.co/api/v2/pokemon/5/</td>\n    </tr>\n  </tbody>\n</table>\n</div>"
     },
     "metadata": {},
     "execution_count": 53
    }
   ],
   "source": [
    "df2 = pd.DataFrame(answer[\"results\"])\n",
    "df2"
   ]
  },
  {
   "cell_type": "code",
   "execution_count": 63,
   "metadata": {},
   "outputs": [
    {
     "output_type": "execute_result",
     "data": {
      "text/plain": [
       "         name                                   url  height  id  order  \\\n",
       "0   bulbasaur  https://pokeapi.co/api/v2/pokemon/1/       7   1      1   \n",
       "1     ivysaur  https://pokeapi.co/api/v2/pokemon/2/      10   2      2   \n",
       "2    venusaur  https://pokeapi.co/api/v2/pokemon/3/      20   3      3   \n",
       "3  charmander  https://pokeapi.co/api/v2/pokemon/4/       6   4      5   \n",
       "4  charmeleon  https://pokeapi.co/api/v2/pokemon/5/      11   5      6   \n",
       "\n",
       "   weight                                              types  \n",
       "0      69  [{'slot': 1, 'type': {'name': 'grass', 'url': ...  \n",
       "1     130  [{'slot': 1, 'type': {'name': 'grass', 'url': ...  \n",
       "2    1000  [{'slot': 1, 'type': {'name': 'grass', 'url': ...  \n",
       "3      85  [{'slot': 1, 'type': {'name': 'fire', 'url': '...  \n",
       "4     190  [{'slot': 1, 'type': {'name': 'fire', 'url': '...  "
      ],
      "text/html": "<div>\n<style scoped>\n    .dataframe tbody tr th:only-of-type {\n        vertical-align: middle;\n    }\n\n    .dataframe tbody tr th {\n        vertical-align: top;\n    }\n\n    .dataframe thead th {\n        text-align: right;\n    }\n</style>\n<table border=\"1\" class=\"dataframe\">\n  <thead>\n    <tr style=\"text-align: right;\">\n      <th></th>\n      <th>name</th>\n      <th>url</th>\n      <th>height</th>\n      <th>id</th>\n      <th>order</th>\n      <th>weight</th>\n      <th>types</th>\n    </tr>\n  </thead>\n  <tbody>\n    <tr>\n      <th>0</th>\n      <td>bulbasaur</td>\n      <td>https://pokeapi.co/api/v2/pokemon/1/</td>\n      <td>7</td>\n      <td>1</td>\n      <td>1</td>\n      <td>69</td>\n      <td>[{'slot': 1, 'type': {'name': 'grass', 'url': ...</td>\n    </tr>\n    <tr>\n      <th>1</th>\n      <td>ivysaur</td>\n      <td>https://pokeapi.co/api/v2/pokemon/2/</td>\n      <td>10</td>\n      <td>2</td>\n      <td>2</td>\n      <td>130</td>\n      <td>[{'slot': 1, 'type': {'name': 'grass', 'url': ...</td>\n    </tr>\n    <tr>\n      <th>2</th>\n      <td>venusaur</td>\n      <td>https://pokeapi.co/api/v2/pokemon/3/</td>\n      <td>20</td>\n      <td>3</td>\n      <td>3</td>\n      <td>1000</td>\n      <td>[{'slot': 1, 'type': {'name': 'grass', 'url': ...</td>\n    </tr>\n    <tr>\n      <th>3</th>\n      <td>charmander</td>\n      <td>https://pokeapi.co/api/v2/pokemon/4/</td>\n      <td>6</td>\n      <td>4</td>\n      <td>5</td>\n      <td>85</td>\n      <td>[{'slot': 1, 'type': {'name': 'fire', 'url': '...</td>\n    </tr>\n    <tr>\n      <th>4</th>\n      <td>charmeleon</td>\n      <td>https://pokeapi.co/api/v2/pokemon/5/</td>\n      <td>11</td>\n      <td>5</td>\n      <td>6</td>\n      <td>190</td>\n      <td>[{'slot': 1, 'type': {'name': 'fire', 'url': '...</td>\n    </tr>\n  </tbody>\n</table>\n</div>"
     },
     "metadata": {},
     "execution_count": 63
    }
   ],
   "source": [
    "listp = [\"height\",\"id\",\"order\", \"weight\",\"types\"]\n",
    "list_stats = []\n",
    "\n",
    "for i,column in enumerate(listp):   \n",
    "    for ix in range(len(df2)):\n",
    "        stats = requests.get(df2[\"url\"][ix]).json()\n",
    "        list_stats.append(stats[column])\n",
    "    df2[column] = list_stats[i*len(df2):i*len(df2)+len(df2)]\n",
    "\n",
    "df2\n",
    "\n",
    "  "
   ]
  },
  {
   "cell_type": "code",
   "execution_count": 55,
   "metadata": {},
   "outputs": [],
   "source": [
    "#listp = [\"slot\",\"type\"]\n",
    "#list_stats = []\n",
    "#Dentro de types, hay una lista. Dentro hay un diccionario con slot y type donde cada 1 tiene 2 distintos. Por lo que hay que establecer jerarquía. Buscamos crear una columna slot y otra columna type, que asigne 1 y 2.\n",
    "#for i,column in enumerate(listp):   \n",
    "#    for ix in range(len(df2)):\n",
    "#        stats = df2.types[i][1]\n",
    "#        list_stats.append(stats[column])\n",
    "#df2[column] = list_stats[i*len(df2):i*len(df2)+len(df2)]\n",
    "\n",
    "#df2"
   ]
  },
  {
   "cell_type": "code",
   "execution_count": 59,
   "metadata": {},
   "outputs": [
    {
     "output_type": "execute_result",
     "data": {
      "text/plain": [
       "0    {'slot': 1, 'type': {'name': 'grass', 'url': '...\n",
       "0    {'slot': 2, 'type': {'name': 'poison', 'url': ...\n",
       "1    {'slot': 1, 'type': {'name': 'grass', 'url': '...\n",
       "1    {'slot': 2, 'type': {'name': 'poison', 'url': ...\n",
       "2    {'slot': 1, 'type': {'name': 'grass', 'url': '...\n",
       "2    {'slot': 2, 'type': {'name': 'poison', 'url': ...\n",
       "3    {'slot': 1, 'type': {'name': 'fire', 'url': 'h...\n",
       "4    {'slot': 1, 'type': {'name': 'fire', 'url': 'h...\n",
       "Name: types, dtype: object"
      ]
     },
     "metadata": {},
     "execution_count": 59
    }
   ],
   "source": [
    "separados = df2[\"types\"].explode()\n",
    "separados\n",
    "\n"
   ]
  },
  {
   "cell_type": "code",
   "execution_count": 71,
   "metadata": {},
   "outputs": [
    {
     "output_type": "error",
     "ename": "ValueError",
     "evalue": "Length of values (8) does not match length of index (5)",
     "traceback": [
      "\u001b[1;31m---------------------------------------------------------------------------\u001b[0m",
      "\u001b[1;31mValueError\u001b[0m                                Traceback (most recent call last)",
      "\u001b[1;32m<ipython-input-71-11f154417b89>\u001b[0m in \u001b[0;36m<module>\u001b[1;34m\u001b[0m\n\u001b[1;32m----> 1\u001b[1;33m \u001b[0mdf2\u001b[0m\u001b[1;33m[\u001b[0m\u001b[1;34m\"type_1\"\u001b[0m\u001b[1;33m]\u001b[0m \u001b[1;33m=\u001b[0m \u001b[0mseparados\u001b[0m\u001b[1;33m.\u001b[0m\u001b[0mvalues\u001b[0m\u001b[1;33m\u001b[0m\u001b[1;33m\u001b[0m\u001b[0m\n\u001b[0m\u001b[0;32m      2\u001b[0m \u001b[0mdf2\u001b[0m\u001b[1;33m\u001b[0m\u001b[1;33m\u001b[0m\u001b[0m\n",
      "\u001b[1;32m~\\AppData\\Local\\Programs\\Python\\Python37\\lib\\site-packages\\pandas\\core\\frame.py\u001b[0m in \u001b[0;36m__setitem__\u001b[1;34m(self, key, value)\u001b[0m\n\u001b[0;32m   3161\u001b[0m         \u001b[1;32melse\u001b[0m\u001b[1;33m:\u001b[0m\u001b[1;33m\u001b[0m\u001b[1;33m\u001b[0m\u001b[0m\n\u001b[0;32m   3162\u001b[0m             \u001b[1;31m# set column\u001b[0m\u001b[1;33m\u001b[0m\u001b[1;33m\u001b[0m\u001b[1;33m\u001b[0m\u001b[0m\n\u001b[1;32m-> 3163\u001b[1;33m             \u001b[0mself\u001b[0m\u001b[1;33m.\u001b[0m\u001b[0m_set_item\u001b[0m\u001b[1;33m(\u001b[0m\u001b[0mkey\u001b[0m\u001b[1;33m,\u001b[0m \u001b[0mvalue\u001b[0m\u001b[1;33m)\u001b[0m\u001b[1;33m\u001b[0m\u001b[1;33m\u001b[0m\u001b[0m\n\u001b[0m\u001b[0;32m   3164\u001b[0m \u001b[1;33m\u001b[0m\u001b[0m\n\u001b[0;32m   3165\u001b[0m     \u001b[1;32mdef\u001b[0m \u001b[0m_setitem_slice\u001b[0m\u001b[1;33m(\u001b[0m\u001b[0mself\u001b[0m\u001b[1;33m,\u001b[0m \u001b[0mkey\u001b[0m\u001b[1;33m:\u001b[0m \u001b[0mslice\u001b[0m\u001b[1;33m,\u001b[0m \u001b[0mvalue\u001b[0m\u001b[1;33m)\u001b[0m\u001b[1;33m:\u001b[0m\u001b[1;33m\u001b[0m\u001b[1;33m\u001b[0m\u001b[0m\n",
      "\u001b[1;32m~\\AppData\\Local\\Programs\\Python\\Python37\\lib\\site-packages\\pandas\\core\\frame.py\u001b[0m in \u001b[0;36m_set_item\u001b[1;34m(self, key, value)\u001b[0m\n\u001b[0;32m   3240\u001b[0m         \"\"\"\n\u001b[0;32m   3241\u001b[0m         \u001b[0mself\u001b[0m\u001b[1;33m.\u001b[0m\u001b[0m_ensure_valid_index\u001b[0m\u001b[1;33m(\u001b[0m\u001b[0mvalue\u001b[0m\u001b[1;33m)\u001b[0m\u001b[1;33m\u001b[0m\u001b[1;33m\u001b[0m\u001b[0m\n\u001b[1;32m-> 3242\u001b[1;33m         \u001b[0mvalue\u001b[0m \u001b[1;33m=\u001b[0m \u001b[0mself\u001b[0m\u001b[1;33m.\u001b[0m\u001b[0m_sanitize_column\u001b[0m\u001b[1;33m(\u001b[0m\u001b[0mkey\u001b[0m\u001b[1;33m,\u001b[0m \u001b[0mvalue\u001b[0m\u001b[1;33m)\u001b[0m\u001b[1;33m\u001b[0m\u001b[1;33m\u001b[0m\u001b[0m\n\u001b[0m\u001b[0;32m   3243\u001b[0m         \u001b[0mNDFrame\u001b[0m\u001b[1;33m.\u001b[0m\u001b[0m_set_item\u001b[0m\u001b[1;33m(\u001b[0m\u001b[0mself\u001b[0m\u001b[1;33m,\u001b[0m \u001b[0mkey\u001b[0m\u001b[1;33m,\u001b[0m \u001b[0mvalue\u001b[0m\u001b[1;33m)\u001b[0m\u001b[1;33m\u001b[0m\u001b[1;33m\u001b[0m\u001b[0m\n\u001b[0;32m   3244\u001b[0m \u001b[1;33m\u001b[0m\u001b[0m\n",
      "\u001b[1;32m~\\AppData\\Local\\Programs\\Python\\Python37\\lib\\site-packages\\pandas\\core\\frame.py\u001b[0m in \u001b[0;36m_sanitize_column\u001b[1;34m(self, key, value, broadcast)\u001b[0m\n\u001b[0;32m   3897\u001b[0m \u001b[1;33m\u001b[0m\u001b[0m\n\u001b[0;32m   3898\u001b[0m             \u001b[1;31m# turn me into an ndarray\u001b[0m\u001b[1;33m\u001b[0m\u001b[1;33m\u001b[0m\u001b[1;33m\u001b[0m\u001b[0m\n\u001b[1;32m-> 3899\u001b[1;33m             \u001b[0mvalue\u001b[0m \u001b[1;33m=\u001b[0m \u001b[0msanitize_index\u001b[0m\u001b[1;33m(\u001b[0m\u001b[0mvalue\u001b[0m\u001b[1;33m,\u001b[0m \u001b[0mself\u001b[0m\u001b[1;33m.\u001b[0m\u001b[0mindex\u001b[0m\u001b[1;33m)\u001b[0m\u001b[1;33m\u001b[0m\u001b[1;33m\u001b[0m\u001b[0m\n\u001b[0m\u001b[0;32m   3900\u001b[0m             \u001b[1;32mif\u001b[0m \u001b[1;32mnot\u001b[0m \u001b[0misinstance\u001b[0m\u001b[1;33m(\u001b[0m\u001b[0mvalue\u001b[0m\u001b[1;33m,\u001b[0m \u001b[1;33m(\u001b[0m\u001b[0mnp\u001b[0m\u001b[1;33m.\u001b[0m\u001b[0mndarray\u001b[0m\u001b[1;33m,\u001b[0m \u001b[0mIndex\u001b[0m\u001b[1;33m)\u001b[0m\u001b[1;33m)\u001b[0m\u001b[1;33m:\u001b[0m\u001b[1;33m\u001b[0m\u001b[1;33m\u001b[0m\u001b[0m\n\u001b[0;32m   3901\u001b[0m                 \u001b[1;32mif\u001b[0m \u001b[0misinstance\u001b[0m\u001b[1;33m(\u001b[0m\u001b[0mvalue\u001b[0m\u001b[1;33m,\u001b[0m \u001b[0mlist\u001b[0m\u001b[1;33m)\u001b[0m \u001b[1;32mand\u001b[0m \u001b[0mlen\u001b[0m\u001b[1;33m(\u001b[0m\u001b[0mvalue\u001b[0m\u001b[1;33m)\u001b[0m \u001b[1;33m>\u001b[0m \u001b[1;36m0\u001b[0m\u001b[1;33m:\u001b[0m\u001b[1;33m\u001b[0m\u001b[1;33m\u001b[0m\u001b[0m\n",
      "\u001b[1;32m~\\AppData\\Local\\Programs\\Python\\Python37\\lib\\site-packages\\pandas\\core\\internals\\construction.py\u001b[0m in \u001b[0;36msanitize_index\u001b[1;34m(data, index)\u001b[0m\n\u001b[0;32m    750\u001b[0m     \u001b[1;32mif\u001b[0m \u001b[0mlen\u001b[0m\u001b[1;33m(\u001b[0m\u001b[0mdata\u001b[0m\u001b[1;33m)\u001b[0m \u001b[1;33m!=\u001b[0m \u001b[0mlen\u001b[0m\u001b[1;33m(\u001b[0m\u001b[0mindex\u001b[0m\u001b[1;33m)\u001b[0m\u001b[1;33m:\u001b[0m\u001b[1;33m\u001b[0m\u001b[1;33m\u001b[0m\u001b[0m\n\u001b[0;32m    751\u001b[0m         raise ValueError(\n\u001b[1;32m--> 752\u001b[1;33m             \u001b[1;34m\"Length of values \"\u001b[0m\u001b[1;33m\u001b[0m\u001b[1;33m\u001b[0m\u001b[0m\n\u001b[0m\u001b[0;32m    753\u001b[0m             \u001b[1;34mf\"({len(data)}) \"\u001b[0m\u001b[1;33m\u001b[0m\u001b[1;33m\u001b[0m\u001b[0m\n\u001b[0;32m    754\u001b[0m             \u001b[1;34m\"does not match length of index \"\u001b[0m\u001b[1;33m\u001b[0m\u001b[1;33m\u001b[0m\u001b[0m\n",
      "\u001b[1;31mValueError\u001b[0m: Length of values (8) does not match length of index (5)"
     ]
    }
   ],
   "source": [
    "df2[\"type_1\"] = separados.values\n",
    "df2"
   ]
  },
  {
   "cell_type": "code",
   "execution_count": 65,
   "metadata": {},
   "outputs": [
    {
     "output_type": "execute_result",
     "data": {
      "text/plain": [
       "         name                                   url  height  id  order  \\\n",
       "0   bulbasaur  https://pokeapi.co/api/v2/pokemon/1/       7   1      1   \n",
       "1     ivysaur  https://pokeapi.co/api/v2/pokemon/2/      10   2      2   \n",
       "2    venusaur  https://pokeapi.co/api/v2/pokemon/3/      20   3      3   \n",
       "3  charmander  https://pokeapi.co/api/v2/pokemon/4/       6   4      5   \n",
       "4  charmeleon  https://pokeapi.co/api/v2/pokemon/5/      11   5      6   \n",
       "\n",
       "   weight                                              types  a  \n",
       "0      69  [{'slot': 1, 'type': {'name': 'grass', 'url': ...  1  \n",
       "1     130  [{'slot': 1, 'type': {'name': 'grass', 'url': ...  1  \n",
       "2    1000  [{'slot': 1, 'type': {'name': 'grass', 'url': ...  1  \n",
       "3      85  [{'slot': 1, 'type': {'name': 'fire', 'url': '...  1  \n",
       "4     190  [{'slot': 1, 'type': {'name': 'fire', 'url': '...  1  "
      ],
      "text/html": "<div>\n<style scoped>\n    .dataframe tbody tr th:only-of-type {\n        vertical-align: middle;\n    }\n\n    .dataframe tbody tr th {\n        vertical-align: top;\n    }\n\n    .dataframe thead th {\n        text-align: right;\n    }\n</style>\n<table border=\"1\" class=\"dataframe\">\n  <thead>\n    <tr style=\"text-align: right;\">\n      <th></th>\n      <th>name</th>\n      <th>url</th>\n      <th>height</th>\n      <th>id</th>\n      <th>order</th>\n      <th>weight</th>\n      <th>types</th>\n      <th>a</th>\n    </tr>\n  </thead>\n  <tbody>\n    <tr>\n      <th>0</th>\n      <td>bulbasaur</td>\n      <td>https://pokeapi.co/api/v2/pokemon/1/</td>\n      <td>7</td>\n      <td>1</td>\n      <td>1</td>\n      <td>69</td>\n      <td>[{'slot': 1, 'type': {'name': 'grass', 'url': ...</td>\n      <td>1</td>\n    </tr>\n    <tr>\n      <th>1</th>\n      <td>ivysaur</td>\n      <td>https://pokeapi.co/api/v2/pokemon/2/</td>\n      <td>10</td>\n      <td>2</td>\n      <td>2</td>\n      <td>130</td>\n      <td>[{'slot': 1, 'type': {'name': 'grass', 'url': ...</td>\n      <td>1</td>\n    </tr>\n    <tr>\n      <th>2</th>\n      <td>venusaur</td>\n      <td>https://pokeapi.co/api/v2/pokemon/3/</td>\n      <td>20</td>\n      <td>3</td>\n      <td>3</td>\n      <td>1000</td>\n      <td>[{'slot': 1, 'type': {'name': 'grass', 'url': ...</td>\n      <td>1</td>\n    </tr>\n    <tr>\n      <th>3</th>\n      <td>charmander</td>\n      <td>https://pokeapi.co/api/v2/pokemon/4/</td>\n      <td>6</td>\n      <td>4</td>\n      <td>5</td>\n      <td>85</td>\n      <td>[{'slot': 1, 'type': {'name': 'fire', 'url': '...</td>\n      <td>1</td>\n    </tr>\n    <tr>\n      <th>4</th>\n      <td>charmeleon</td>\n      <td>https://pokeapi.co/api/v2/pokemon/5/</td>\n      <td>11</td>\n      <td>5</td>\n      <td>6</td>\n      <td>190</td>\n      <td>[{'slot': 1, 'type': {'name': 'fire', 'url': '...</td>\n      <td>1</td>\n    </tr>\n  </tbody>\n</table>\n</div>"
     },
     "metadata": {},
     "execution_count": 65
    }
   ],
   "source": [
    "df2[\"a\"] = 1\n",
    "df2"
   ]
  },
  {
   "cell_type": "code",
   "execution_count": 57,
   "metadata": {},
   "outputs": [
    {
     "output_type": "execute_result",
     "data": {
      "text/plain": [
       "0    [{'slot': 1, 'type': {'name': 'grass', 'url': ...\n",
       "1    [{'slot': 1, 'type': {'name': 'grass', 'url': ...\n",
       "2    [{'slot': 1, 'type': {'name': 'grass', 'url': ...\n",
       "3    [{'slot': 1, 'type': {'name': 'fire', 'url': '...\n",
       "4    [{'slot': 1, 'type': {'name': 'fire', 'url': '...\n",
       "Name: types, dtype: object"
      ]
     },
     "metadata": {},
     "execution_count": 57
    }
   ],
   "source": [
    "df2[\"types\"]\n"
   ]
  }
 ]
}