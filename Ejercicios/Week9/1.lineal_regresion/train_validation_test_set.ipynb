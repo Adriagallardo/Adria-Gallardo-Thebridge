{
 "cells": [
  {
   "cell_type": "markdown",
   "metadata": {},
   "source": [
    "### 1. \n",
    "\n",
    "Crear una función que reciba cuatro parámetros: una lista 'L', un número 'T', un número 'V' y un booleano 'S'. La función debe devolver otras dos listas: \"lista_train_val\" y \"lista_test\".\n",
    "\n",
    "- \"lista_train_val\" es una lista con dos elementos. Cada elemento es una lista: \"list_train\", que representa el conjunto de entrenamiento y \"list_val\", que representa el conjunto de validación. \n",
    "- \"list_test\" es el conjunto de test. Como mínimo ha de tener 1 elemento (si 'L' > 1).\n",
    "- \"L\" es cualquier lista de elementos. Al principio, entra con un tamaño completo (100%). Esta es la lista que se partirá y se generarán los conjuntos entrenamiento, de validación y de test.\n",
    "- \"T\" es un número entre 1 y 100 que va a representar el tamaño, en porcentaje, del conjunto de test \"list_test\". \n",
    "- \"V\" es un número entre 0 y 100 que va a representar el tamaño, en porcentaje, del conjunto de validación \"list_val\". Su valor por defecto es 0.\n",
    "- \"S\", que por defecto es False, determinará si los conjuntos \"list_train\", \"list_test\" y \"list_val\" están aleatoriamente ordenados. ¿Encuentras alguna posible incoherencia si se reordenan aleatoriamente?\n",
    "\n",
    "Prueba la función con una lista de 100 números aleatorios del 0 al 100. \n",
    "\n",
    "### 2. \n",
    "\n",
    "Rehacer el ejercicio anterior en otra función para que no devuelva dos listas, sino los tres conjuntos: \n",
    "\n",
    "--> return list_train, list_val, list_test "
   ]
  },
  {
   "cell_type": "code",
   "execution_count": 12,
   "metadata": {},
   "outputs": [],
   "source": [
    "import numpy as np\n",
    "import random"
   ]
  },
  {
   "cell_type": "code",
   "execution_count": 73,
   "metadata": {},
   "outputs": [],
   "source": [
    "def function(L, T, V=0, S=False):\n",
    "    \"\"\"Esta función recibe cuatro parametros: una lista 'L', un número 'T', un número 'V' y un booleano 'S'. Y recibe dos listas: 'lista_train_val' y 'lista_test'. \"\"\"\n",
    "    if T >= 1 and T <= 100:\n",
    "\n",
    "        print(\"Lista generada:\",L)\n",
    "        percentest = int(len(L)/100*T)\n",
    "        lista_test = []\n",
    "        L_val = L\n",
    "\n",
    "        for i in range(percentest):\n",
    "            lista_test.append(L[-1])\n",
    "            L = L[:-1]\n",
    "        \n",
    "        if S == True:\n",
    "            lista_test.sort(reverse=False)\n",
    "        \n",
    "        if V > 0:\n",
    "\n",
    "            n = int(len(L_val)/100*V)\n",
    "            lista_val = []\n",
    "            for i in range(n):\n",
    "                lista_val.append(L[-1])\n",
    "                L = L[:-1]\n",
    "    \n",
    "            lista_train = L\n",
    "\n",
    "            if S == True:\n",
    "                lista_val.sort(reverse=False)\n",
    "                lista_train.sort()\n",
    "\n",
    "            lista_train_val = [lista_train, lista_val]\n",
    "\n",
    "            print(\"lista_train:\", lista_train_val[0], \"\\nlista_val:\", lista_train_val[1])\n",
    "            print(\"lista_test\", lista_test)\n",
    "            print(\"sumatorio de len de las listas resultantes:\", len(lista_train_val[0]) + len(lista_train_val[1]) + len(lista_test))\n",
    "            \n",
    "            return lista_train_val, lista_test\n",
    "\n",
    "        elif V < 0:\n",
    "            print(\"Error: V no puede ser menor que 0\")\n",
    "\n",
    "        else:\n",
    "            lista_train_val = L\n",
    "            if S == True:\n",
    "                lista_val.sort(reverse=False)\n",
    "                lista_train.sort(reverse=False)\n",
    "\n",
    "            print(\"lista_test\", lista_test)\n",
    "            print(\"lista_train:\", lista_train_val)\n",
    "\n",
    "            return lista_train_val, lista_test\n",
    "    else:\n",
    "        print(\"T es un número que se situa entre 1 y 100. Revisa el valor del argumento\")"
   ]
  },
  {
   "cell_type": "code",
   "execution_count": 78,
   "metadata": {},
   "outputs": [
    {
     "output_type": "stream",
     "name": "stdout",
     "text": [
      "Lista generada: [15 63 23 13 20 84 90 22 22 65 22 83 44 45 53 10 12 10 19  0 13 72 28 53\n 98 14 52 26 60 77  2 98 45 88 32  5 47 23 22  0 34 23 50 47 40 31  4 16\n 85 73 32 94 32 45  6 70 83 72 62  6 50  3 65 80 79 30 55 11 19 84 38 99\n 45 43 20 33 72  9 55 65 71 72 56 57 73 10  1 45  5  9 55 94  7 89 52 29\n  7 10 18 60]\nlista_train: [ 0  0  2  5 10 10 12 13 13 14 15 19 20 22 22 22 22 23 23 23 26 28 32 34\n 40 44 45 45 47 47 50 52 53 53 60 63 65 72 77 83 84 88 90 98 98] \nlista_val: [3, 4, 6, 6, 11, 16, 19, 20, 30, 31, 32, 32, 38, 43, 45, 45, 50, 55, 62, 65, 70, 72, 73, 79, 80, 83, 84, 85, 94, 99]\nlista_test [1, 5, 7, 7, 9, 9, 10, 10, 18, 29, 33, 45, 52, 55, 55, 56, 57, 60, 65, 71, 72, 72, 73, 89, 94]\nsumatorio de len de las listas resultantes: 100\n"
     ]
    }
   ],
   "source": [
    "#Respuesta a la pregunta: Si la Lista L se ordena desde un principio, los valores para entrenamiento, validación y test que se van a utilizar son distintos a los que se utilizarán si se utiliza una ordenación aleatoria, o mejor dicho, cuando no están colocados en orden en la lista L.\n",
    "a,b = function(L=np.random.randint(0,100,100), T=25, V=30, S=True)"
   ]
  },
  {
   "cell_type": "code",
   "execution_count": 84,
   "metadata": {},
   "outputs": [],
   "source": [
    "def function_2 (L, T, V=0, S=False):\n",
    "    \"\"\"Esta función recibe cuatro parametros: una lista 'L', un número 'T', un número 'V' y un booleano 'S'. Y recibe dos listas: 'lista_train_val' y 'lista_test'. \"\"\"\n",
    "    if T >= 1 and T <= 100:\n",
    "\n",
    "        print(\"Lista generada:\",L)\n",
    "        percentest = int(len(L)/100*T)\n",
    "        lista_test = []\n",
    "        L_val = L\n",
    "\n",
    "        for i in range(percentest):\n",
    "            lista_test.append(L[-1])\n",
    "            L = L[:-1]\n",
    "        \n",
    "        if S == True:\n",
    "            lista_test.sort(reverse=False)\n",
    "        \n",
    "        if V > 0:\n",
    "\n",
    "            n = int(len(L_val)/100*V)\n",
    "            lista_val = []\n",
    "            for i in range(n):\n",
    "                lista_val.append(L[-1])\n",
    "                L = L[:-1]\n",
    "    \n",
    "            lista_train = L\n",
    "\n",
    "            if S == True:\n",
    "                lista_val.sort(reverse=False)\n",
    "                lista_train.sort()\n",
    "\n",
    "            print(\"lista_train:\", lista_train, \"\\nlista_val:\", lista_val)\n",
    "            print(\"lista_test\", lista_test)\n",
    "            print(\"sumatorio de len de las listas resultantes:\", len(lista_train) + len(lista_val) + len(lista_test))\n",
    "            \n",
    "            return lista_train, lista_val, lista_test\n",
    "\n",
    "        elif V < 0:\n",
    "            print(\"Error: V no puede ser menor que 0\")\n",
    "\n",
    "        else:\n",
    "            lista_train = L\n",
    "            if S == True:\n",
    "                lista_train.sort()\n",
    "            lista_val = []\n",
    "\n",
    "            print(\"lista_train:\", lista_train)\n",
    "            print(\"lista_test\", lista_test)\n",
    "\n",
    "\n",
    "            return lista_train, lista_val, lista_test\n",
    "    else:\n",
    "        print(\"T es un número que se situa entre 1 y 100. Revisa el valor del argumento\")"
   ]
  },
  {
   "cell_type": "code",
   "execution_count": 85,
   "metadata": {},
   "outputs": [
    {
     "output_type": "stream",
     "name": "stdout",
     "text": [
      "Lista generada: [72 67 23 60 53 32 81  7 57 89  1  9 95 43 55 30 62 90 92 13 11 68 48 15\n  9  3 60 76 53 94 91 90 76 73 23 18 67 78 69 43 37 20 20  4 21 35 20 74\n 60  7 42  4 90 63  8 89 34 85 83  7  1 18 43 37 23 96  7 32 79 24 91 21\n 81 22 13 66 55 73 73 87 26  4 57 55 69 90 12 39 45 20 76 79 22 83 97 54\n 75 64 36 31]\nlista_train: [ 1  1  3  4  4  7  7  7  7  8  9  9 11 13 13 15 18 18 20 20 20 21 21 22\n 23 23 23 24 30 32 32 34 35 37 37 42 43 43 43 48 53 53 55 57 60 60 60 62\n 63 67 67 68 69 72 73 74 76 76 78 79 81 81 83 85 89 89 90 90 90 91 91 92\n 94 95 96]\nlista_test [4, 12, 20, 22, 26, 31, 36, 39, 45, 54, 55, 55, 57, 64, 66, 69, 73, 73, 75, 76, 79, 83, 87, 90, 97]\n"
     ]
    }
   ],
   "source": [
    "a,b,c = function_2(L=np.random.randint(0,100,100), T=25, V=0, S=True)"
   ]
  },
  {
   "cell_type": "code",
   "execution_count": null,
   "metadata": {},
   "outputs": [],
   "source": []
  }
 ],
 "metadata": {
  "kernelspec": {
   "name": "python374jvsc74a57bd054fd10a125f012059efbf68d746a102a68808834a5fa4f754a07e57618326eaa",
   "display_name": "Python 3.7.4 64-bit"
  },
  "language_info": {
   "codemirror_mode": {
    "name": "ipython",
    "version": 3
   },
   "file_extension": ".py",
   "mimetype": "text/x-python",
   "name": "python",
   "nbconvert_exporter": "python",
   "pygments_lexer": "ipython3",
   "version": "3.7.4"
  },
  "metadata": {
   "interpreter": {
    "hash": "54fd10a125f012059efbf68d746a102a68808834a5fa4f754a07e57618326eaa"
   }
  }
 },
 "nbformat": 4,
 "nbformat_minor": 2
}