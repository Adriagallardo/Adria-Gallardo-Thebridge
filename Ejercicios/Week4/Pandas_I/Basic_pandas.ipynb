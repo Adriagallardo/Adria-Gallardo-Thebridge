{
 "cells": [
  {
   "cell_type": "markdown",
   "metadata": {},
   "source": [
    "## Ejercicio 1\n",
    "Importa la libreria de `pandas` y `numpy`. ¿Qué versión de la librería `pandas` tienes?"
   ]
  },
  {
   "cell_type": "code",
   "execution_count": 1,
   "metadata": {},
   "outputs": [],
   "source": [
    "import pandas as pd\n",
    "import numpy as np"
   ]
  },
  {
   "cell_type": "code",
   "execution_count": 2,
   "metadata": {},
   "outputs": [
    {
     "output_type": "execute_result",
     "data": {
      "text/plain": [
       "'1.2.4'"
      ]
     },
     "metadata": {},
     "execution_count": 2
    }
   ],
   "source": [
    "pd.__version__"
   ]
  },
  {
   "cell_type": "markdown",
   "metadata": {},
   "source": [
    "## Ejercicio 2\n",
    "Lee el archivo CSV de la liga. Guarda el DataFrame en una variable llamada `df`. [Usa el método `read_csv` de `pandas`](https://pandas.pydata.org/pandas-docs/stable/reference/api/pandas.read_csv.html)."
   ]
  },
  {
   "cell_type": "code",
   "execution_count": 3,
   "metadata": {},
   "outputs": [],
   "source": [
    "df = pd.read_csv(\"laliga.csv\")"
   ]
  },
  {
   "cell_type": "markdown",
   "metadata": {},
   "source": [
    "## Ejercicio 3\n",
    "Obtén por pantalla los 4 primero registros"
   ]
  },
  {
   "cell_type": "code",
   "execution_count": 4,
   "metadata": {},
   "outputs": [
    {
     "output_type": "execute_result",
     "data": {
      "text/plain": [
       "   Unnamed: 0   season  division  round           localTeam    visitorTeam  \\\n",
       "0       26201  2005-06         1      1  Atletico de Bilbao  Real Sociedad   \n",
       "1       26202  2005-06         1      1              Alaves      Barcelona   \n",
       "2       26203  2005-06         1      1            Valencia          Betis   \n",
       "3       26204  2005-06         1      1  Atletico de Madrid       Zaragoza   \n",
       "\n",
       "   localGoals  visitorGoals        date   timestamp  \n",
       "0           3             0  27/08/2005  1125093600  \n",
       "1           0             0  27/08/2005  1125093600  \n",
       "2           1             0  27/08/2005  1125093600  \n",
       "3           0             0  28/08/2005  1125180000  "
      ],
      "text/html": "<div>\n<style scoped>\n    .dataframe tbody tr th:only-of-type {\n        vertical-align: middle;\n    }\n\n    .dataframe tbody tr th {\n        vertical-align: top;\n    }\n\n    .dataframe thead th {\n        text-align: right;\n    }\n</style>\n<table border=\"1\" class=\"dataframe\">\n  <thead>\n    <tr style=\"text-align: right;\">\n      <th></th>\n      <th>Unnamed: 0</th>\n      <th>season</th>\n      <th>division</th>\n      <th>round</th>\n      <th>localTeam</th>\n      <th>visitorTeam</th>\n      <th>localGoals</th>\n      <th>visitorGoals</th>\n      <th>date</th>\n      <th>timestamp</th>\n    </tr>\n  </thead>\n  <tbody>\n    <tr>\n      <th>0</th>\n      <td>26201</td>\n      <td>2005-06</td>\n      <td>1</td>\n      <td>1</td>\n      <td>Atletico de Bilbao</td>\n      <td>Real Sociedad</td>\n      <td>3</td>\n      <td>0</td>\n      <td>27/08/2005</td>\n      <td>1125093600</td>\n    </tr>\n    <tr>\n      <th>1</th>\n      <td>26202</td>\n      <td>2005-06</td>\n      <td>1</td>\n      <td>1</td>\n      <td>Alaves</td>\n      <td>Barcelona</td>\n      <td>0</td>\n      <td>0</td>\n      <td>27/08/2005</td>\n      <td>1125093600</td>\n    </tr>\n    <tr>\n      <th>2</th>\n      <td>26203</td>\n      <td>2005-06</td>\n      <td>1</td>\n      <td>1</td>\n      <td>Valencia</td>\n      <td>Betis</td>\n      <td>1</td>\n      <td>0</td>\n      <td>27/08/2005</td>\n      <td>1125093600</td>\n    </tr>\n    <tr>\n      <th>3</th>\n      <td>26204</td>\n      <td>2005-06</td>\n      <td>1</td>\n      <td>1</td>\n      <td>Atletico de Madrid</td>\n      <td>Zaragoza</td>\n      <td>0</td>\n      <td>0</td>\n      <td>28/08/2005</td>\n      <td>1125180000</td>\n    </tr>\n  </tbody>\n</table>\n</div>"
     },
     "metadata": {},
     "execution_count": 4
    }
   ],
   "source": [
    "df[0:4]"
   ]
  },
  {
   "cell_type": "markdown",
   "metadata": {},
   "source": [
    "## Ejercicio 4\n",
    "Obtén en un array de `numpy` todos los valores del DataFrame"
   ]
  },
  {
   "cell_type": "code",
   "execution_count": 5,
   "metadata": {},
   "outputs": [
    {
     "output_type": "execute_result",
     "data": {
      "text/plain": [
       "array([[26201, '2005-06', 1, ..., 0, '27/08/2005', 1125093600],\n",
       "       [26202, '2005-06', 1, ..., 0, '27/08/2005', 1125093600],\n",
       "       [26203, '2005-06', 1, ..., 0, '27/08/2005', 1125093600],\n",
       "       ...,\n",
       "       [36682, '2017-18', 1, ..., 0, '20/05/2018', 1526767200],\n",
       "       [36683, '2017-18', 1, ..., 1, '20/05/2018', 1526767200],\n",
       "       [36684, '2017-18', 1, ..., 2, '20/05/2018', 1526767200]],\n",
       "      dtype=object)"
      ]
     },
     "metadata": {},
     "execution_count": 5
    }
   ],
   "source": [
    "ejer_4 = np.array(df.values)\n",
    "ejer_4"
   ]
  },
  {
   "cell_type": "markdown",
   "metadata": {},
   "source": [
    "## Ejercicio 5\n",
    "¿Cuáles son las columnas de `df`?"
   ]
  },
  {
   "cell_type": "code",
   "execution_count": 6,
   "metadata": {},
   "outputs": [
    {
     "output_type": "execute_result",
     "data": {
      "text/plain": [
       "Index(['Unnamed: 0', 'season', 'division', 'round', 'localTeam', 'visitorTeam',\n",
       "       'localGoals', 'visitorGoals', 'date', 'timestamp'],\n",
       "      dtype='object')"
      ]
     },
     "metadata": {},
     "execution_count": 6
    }
   ],
   "source": [
    "df.columns"
   ]
  },
  {
   "cell_type": "markdown",
   "metadata": {},
   "source": [
    "## Ejercicio 6\n",
    "Crea un `Series` con la [población de Madrid, Galicia, Murcia y Andalucía](https://es.wikipedia.org/wiki/Anexo:Comunidades_y_ciudades_aut%C3%B3nomas_de_Espa%C3%B1a). Llamalo `poblacion`.\n",
    "\n",
    "- Madrid: 6685471\n",
    "- Galicia: 2698764\n",
    "- Murcia: 1494442\n",
    "- Andalucía: 8446561\n"
   ]
  },
  {
   "cell_type": "code",
   "execution_count": 7,
   "metadata": {},
   "outputs": [
    {
     "output_type": "execute_result",
     "data": {
      "text/plain": [
       "Madrid       6685471\n",
       "Galicia      2698764\n",
       "Murcia       1494442\n",
       "Andalucia    8446561\n",
       "dtype: int64"
      ]
     },
     "metadata": {},
     "execution_count": 7
    }
   ],
   "source": [
    "dict_poblacion = {\"Madrid\": 6685471, \"Galicia\": 2698764, \"Murcia\": 1494442, \"Andalucia\": 8446561}\n",
    "\n",
    "poblacion = pd.Series(dict_poblacion)\n",
    "poblacion\n"
   ]
  },
  {
   "cell_type": "markdown",
   "metadata": {},
   "source": [
    "## Ejercicio 7\n",
    "Obtén un array de `numpy` con los valores del `Series`.\n",
    "\n",
    "Saca también sus índices, y los valores de sus índices."
   ]
  },
  {
   "cell_type": "code",
   "execution_count": 8,
   "metadata": {},
   "outputs": [
    {
     "output_type": "execute_result",
     "data": {
      "text/plain": [
       "array([6685471, 2698764, 1494442, 8446561], dtype=int64)"
      ]
     },
     "metadata": {},
     "execution_count": 8
    }
   ],
   "source": [
    "array_poblacion = np.array(poblacion)\n",
    "array_poblacion"
   ]
  },
  {
   "cell_type": "code",
   "execution_count": 9,
   "metadata": {},
   "outputs": [
    {
     "output_type": "execute_result",
     "data": {
      "text/plain": [
       "array(['Madrid', 'Galicia', 'Murcia', 'Andalucia'], dtype=object)"
      ]
     },
     "metadata": {},
     "execution_count": 9
    }
   ],
   "source": [
    "array_poblacion_indice = np.array(poblacion.index)\n",
    "array_poblacion_indice"
   ]
  },
  {
   "cell_type": "markdown",
   "metadata": {},
   "source": [
    "## Ejercicio 8\n",
    "1. ¿Qué población hay en el primer elemento del `Series`?\n",
    "2. ¿Qué población hay en Galicia?\n",
    "3. Imprime por pantalla las poblaciones de Galicia, Andalucía y las comunidades autónomas que se encuentren entre ambas, dentro del `Series`.\n",
    "4. Comprueba con un output booleano que `Galicia` se encuentra entre los índices del `Index`.\n",
    "5. Realiza los apartados 1,2,3 pero esta vez de una manera diferente."
   ]
  },
  {
   "cell_type": "code",
   "execution_count": 10,
   "metadata": {},
   "outputs": [
    {
     "output_type": "execute_result",
     "data": {
      "text/plain": [
       "6685471"
      ]
     },
     "metadata": {},
     "execution_count": 10
    }
   ],
   "source": [
    "poblacion[0]"
   ]
  },
  {
   "cell_type": "code",
   "execution_count": 11,
   "metadata": {},
   "outputs": [
    {
     "output_type": "execute_result",
     "data": {
      "text/plain": [
       "2698764"
      ]
     },
     "metadata": {},
     "execution_count": 11
    }
   ],
   "source": [
    "poblacion[\"Galicia\"]"
   ]
  },
  {
   "cell_type": "code",
   "execution_count": 12,
   "metadata": {},
   "outputs": [
    {
     "output_type": "execute_result",
     "data": {
      "text/plain": [
       "Galicia      2698764\n",
       "Murcia       1494442\n",
       "Andalucia    8446561\n",
       "dtype: int64"
      ]
     },
     "metadata": {},
     "execution_count": 12
    }
   ],
   "source": [
    "poblacion[\"Galicia\":\"Andalucia\"]\n"
   ]
  },
  {
   "cell_type": "code",
   "execution_count": 13,
   "metadata": {},
   "outputs": [
    {
     "output_type": "execute_result",
     "data": {
      "text/plain": [
       "True"
      ]
     },
     "metadata": {},
     "execution_count": 13
    }
   ],
   "source": [
    "\"Galicia\" in poblacion.index"
   ]
  },
  {
   "cell_type": "code",
   "execution_count": 14,
   "metadata": {},
   "outputs": [
    {
     "output_type": "stream",
     "name": "stdout",
     "text": [
      "1. 6685471 \n2. 2698764 \n3. Galicia      2698764\nMurcia       1494442\nAndalucia    8446561\ndtype: int64\n"
     ]
    }
   ],
   "source": [
    "print(\"1.\", poblacion.iloc[0], \"\\n2.\", poblacion.loc[\"Galicia\"], \"\\n3.\", poblacion.loc[\"Galicia\":\"Andalucia\"])\n"
   ]
  },
  {
   "cell_type": "markdown",
   "metadata": {},
   "source": [
    "## Ejercicio 9\n",
    "A partir de las comunidades autónomas anteriores, crea un `Series` con [la tasa de paro](https://es.statista.com/estadisticas/941646/prevision-de-la-tasa-de-paro-por-comunidad-autonoma-espana/) en dichas comunidades autónomas.\n",
    "\n",
    "Con la tasa de paro y las poblaciones, crea un DataFrame de pandas. Llámalo `data`.\n",
    "\n",
    "- Madrid: 9.99\n",
    "- Galicia: 11.74\n",
    "- Murcia: 16.08\n",
    "- Andalucía: 20.8"
   ]
  },
  {
   "cell_type": "code",
   "execution_count": 15,
   "metadata": {},
   "outputs": [
    {
     "output_type": "execute_result",
     "data": {
      "text/plain": [
       "Madrid        9.99\n",
       "Galicia      11.74\n",
       "Murcia       16.08\n",
       "Andalucia    20.80\n",
       "dtype: float64"
      ]
     },
     "metadata": {},
     "execution_count": 15
    }
   ],
   "source": [
    "dict_paro = {\"Madrid\": 9.99, \"Galicia\": 11.74, \"Murcia\": 16.08, \"Andalucia\": 20.8}\n",
    "paro = pd.Series(dict_paro)\n",
    "paro"
   ]
  },
  {
   "cell_type": "code",
   "execution_count": 16,
   "metadata": {},
   "outputs": [
    {
     "output_type": "execute_result",
     "data": {
      "text/plain": [
       "           Población   Paro\n",
       "Madrid       6685471   9.99\n",
       "Galicia      2698764  11.74\n",
       "Murcia       1494442  16.08\n",
       "Andalucia    8446561  20.80"
      ],
      "text/html": "<div>\n<style scoped>\n    .dataframe tbody tr th:only-of-type {\n        vertical-align: middle;\n    }\n\n    .dataframe tbody tr th {\n        vertical-align: top;\n    }\n\n    .dataframe thead th {\n        text-align: right;\n    }\n</style>\n<table border=\"1\" class=\"dataframe\">\n  <thead>\n    <tr style=\"text-align: right;\">\n      <th></th>\n      <th>Población</th>\n      <th>Paro</th>\n    </tr>\n  </thead>\n  <tbody>\n    <tr>\n      <th>Madrid</th>\n      <td>6685471</td>\n      <td>9.99</td>\n    </tr>\n    <tr>\n      <th>Galicia</th>\n      <td>2698764</td>\n      <td>11.74</td>\n    </tr>\n    <tr>\n      <th>Murcia</th>\n      <td>1494442</td>\n      <td>16.08</td>\n    </tr>\n    <tr>\n      <th>Andalucia</th>\n      <td>8446561</td>\n      <td>20.80</td>\n    </tr>\n  </tbody>\n</table>\n</div>"
     },
     "metadata": {},
     "execution_count": 16
    }
   ],
   "source": [
    "data_dict = {\"Población\": poblacion.values, \"Paro\": paro.values}\n",
    "data = pd.DataFrame(data_dict, index=poblacion.index)\n",
    "data\n",
    "\n"
   ]
  },
  {
   "cell_type": "markdown",
   "metadata": {},
   "source": [
    "## Ejercicio 10\n",
    "Imprime por pantalla la población, y la tasa de paro. Por separado"
   ]
  },
  {
   "cell_type": "code",
   "execution_count": 17,
   "metadata": {},
   "outputs": [
    {
     "output_type": "stream",
     "name": "stdout",
     "text": [
      "Madrid       6685471\nGalicia      2698764\nMurcia       1494442\nAndalucia    8446561\nName: Población, dtype: int64\n"
     ]
    }
   ],
   "source": [
    "print(data[\"Población\"])"
   ]
  },
  {
   "cell_type": "code",
   "execution_count": 18,
   "metadata": {},
   "outputs": [
    {
     "output_type": "stream",
     "name": "stdout",
     "text": [
      "Madrid        9.99\nGalicia      11.74\nMurcia       16.08\nAndalucia    20.80\nName: Paro, dtype: float64\n"
     ]
    }
   ],
   "source": [
    "print(data[\"Paro\"])"
   ]
  },
  {
   "cell_type": "markdown",
   "metadata": {},
   "source": [
    "## Ejercicio 11\n",
    "Crea un nuevo Data Frame (`data2`), que sea igual que `data`, pero con una nueva columna, que lleve [la superficie de las Comunidades Autónomas](https://es.wikipedia.org/wiki/Anexo:Comunidades_y_ciudades_aut%C3%B3nomas_de_Espa%C3%B1a).\n",
    "\n",
    "- Madrid: 8028\n",
    "- Galicia: 29575\n",
    "- Murcia: 11314\n",
    "- Andalucía: 87599"
   ]
  },
  {
   "cell_type": "code",
   "execution_count": 19,
   "metadata": {},
   "outputs": [
    {
     "output_type": "execute_result",
     "data": {
      "text/plain": [
       "           Población   Paro  Superficie\n",
       "Madrid       6685471   9.99        8020\n",
       "Galicia      2698764  11.74       29575\n",
       "Murcia       1494442  16.08       11314\n",
       "Andalucia    8446561  20.80       87599"
      ],
      "text/html": "<div>\n<style scoped>\n    .dataframe tbody tr th:only-of-type {\n        vertical-align: middle;\n    }\n\n    .dataframe tbody tr th {\n        vertical-align: top;\n    }\n\n    .dataframe thead th {\n        text-align: right;\n    }\n</style>\n<table border=\"1\" class=\"dataframe\">\n  <thead>\n    <tr style=\"text-align: right;\">\n      <th></th>\n      <th>Población</th>\n      <th>Paro</th>\n      <th>Superficie</th>\n    </tr>\n  </thead>\n  <tbody>\n    <tr>\n      <th>Madrid</th>\n      <td>6685471</td>\n      <td>9.99</td>\n      <td>8020</td>\n    </tr>\n    <tr>\n      <th>Galicia</th>\n      <td>2698764</td>\n      <td>11.74</td>\n      <td>29575</td>\n    </tr>\n    <tr>\n      <th>Murcia</th>\n      <td>1494442</td>\n      <td>16.08</td>\n      <td>11314</td>\n    </tr>\n    <tr>\n      <th>Andalucia</th>\n      <td>8446561</td>\n      <td>20.80</td>\n      <td>87599</td>\n    </tr>\n  </tbody>\n</table>\n</div>"
     },
     "metadata": {},
     "execution_count": 19
    }
   ],
   "source": [
    "list_superficie = [8020, 29575, 11314, 87599]\n",
    "data2 = data\n",
    "data2[\"Superficie\"] = list_superficie\n",
    "data2"
   ]
  },
  {
   "cell_type": "markdown",
   "metadata": {},
   "source": [
    "## Ejercicio 12\n",
    "Calcula la densidad de población (hab/km^2) en una nueva columna del dataframe `data2` que se llame `Densidad`."
   ]
  },
  {
   "cell_type": "code",
   "execution_count": 20,
   "metadata": {},
   "outputs": [
    {
     "output_type": "execute_result",
     "data": {
      "text/plain": [
       "           Población   Paro  Superficie    Densidad\n",
       "Madrid       6685471   9.99        8020  833.599875\n",
       "Galicia      2698764  11.74       29575   91.251530\n",
       "Murcia       1494442  16.08       11314  132.087856\n",
       "Andalucia    8446561  20.80       87599   96.423030"
      ],
      "text/html": "<div>\n<style scoped>\n    .dataframe tbody tr th:only-of-type {\n        vertical-align: middle;\n    }\n\n    .dataframe tbody tr th {\n        vertical-align: top;\n    }\n\n    .dataframe thead th {\n        text-align: right;\n    }\n</style>\n<table border=\"1\" class=\"dataframe\">\n  <thead>\n    <tr style=\"text-align: right;\">\n      <th></th>\n      <th>Población</th>\n      <th>Paro</th>\n      <th>Superficie</th>\n      <th>Densidad</th>\n    </tr>\n  </thead>\n  <tbody>\n    <tr>\n      <th>Madrid</th>\n      <td>6685471</td>\n      <td>9.99</td>\n      <td>8020</td>\n      <td>833.599875</td>\n    </tr>\n    <tr>\n      <th>Galicia</th>\n      <td>2698764</td>\n      <td>11.74</td>\n      <td>29575</td>\n      <td>91.251530</td>\n    </tr>\n    <tr>\n      <th>Murcia</th>\n      <td>1494442</td>\n      <td>16.08</td>\n      <td>11314</td>\n      <td>132.087856</td>\n    </tr>\n    <tr>\n      <th>Andalucia</th>\n      <td>8446561</td>\n      <td>20.80</td>\n      <td>87599</td>\n      <td>96.423030</td>\n    </tr>\n  </tbody>\n</table>\n</div>"
     },
     "metadata": {},
     "execution_count": 20
    }
   ],
   "source": [
    "data2[\"Densidad\"] = data2[\"Población\"] / data2 [\"Superficie\"]\n",
    "data2"
   ]
  }
 ],
 "metadata": {
  "kernelspec": {
   "name": "python374jvsc74a57bd054fd10a125f012059efbf68d746a102a68808834a5fa4f754a07e57618326eaa",
   "display_name": "Python 3.7.4 64-bit"
  },
  "language_info": {
   "codemirror_mode": {
    "name": "ipython",
    "version": 3
   },
   "file_extension": ".py",
   "mimetype": "text/x-python",
   "name": "python",
   "nbconvert_exporter": "python",
   "pygments_lexer": "ipython3",
   "version": "3.7.4"
  },
  "metadata": {
   "interpreter": {
    "hash": "54fd10a125f012059efbf68d746a102a68808834a5fa4f754a07e57618326eaa"
   }
  }
 },
 "nbformat": 4,
 "nbformat_minor": 4
}