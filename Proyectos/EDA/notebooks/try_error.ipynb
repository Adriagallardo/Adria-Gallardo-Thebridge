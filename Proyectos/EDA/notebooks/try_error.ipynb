{
 "metadata": {
  "language_info": {
   "codemirror_mode": {
    "name": "ipython",
    "version": 3
   },
   "file_extension": ".py",
   "mimetype": "text/x-python",
   "name": "python",
   "nbconvert_exporter": "python",
   "pygments_lexer": "ipython3",
   "version": "3.7.4"
  },
  "orig_nbformat": 2,
  "kernelspec": {
   "name": "python374jvsc74a57bd054fd10a125f012059efbf68d746a102a68808834a5fa4f754a07e57618326eaa",
   "display_name": "Python 3.7.4 64-bit"
  },
  "metadata": {
   "interpreter": {
    "hash": "54fd10a125f012059efbf68d746a102a68808834a5fa4f754a07e57618326eaa"
   }
  }
 },
 "nbformat": 4,
 "nbformat_minor": 2,
 "cells": [
  {
   "cell_type": "code",
   "execution_count": null,
   "metadata": {},
   "outputs": [],
   "source": [
    "#Este archivo guarda intentos de ejecución del archivo main que se han decidido no incorporar en el proyecto."
   ]
  },
  {
   "cell_type": "code",
   "execution_count": 3,
   "metadata": {},
   "outputs": [
    {
     "output_type": "execute_result",
     "data": {
      "text/plain": [
       "['c:\\\\Users\\\\Adrià\\\\Desktop\\\\Thebridge\\\\adria_gallardo_thebridge_ds\\\\Proyectos\\\\EDA\\\\notebooks',\n",
       " 'c:\\\\Users\\\\Adrià\\\\.vscode\\\\extensions\\\\ms-toolsai.jupyter-2021.6.832593372\\\\pythonFiles',\n",
       " 'c:\\\\Users\\\\Adrià\\\\.vscode\\\\extensions\\\\ms-toolsai.jupyter-2021.6.832593372\\\\pythonFiles',\n",
       " 'c:\\\\Users\\\\Adrià\\\\.vscode\\\\extensions\\\\ms-toolsai.jupyter-2021.6.832593372\\\\pythonFiles\\\\lib\\\\python',\n",
       " 'C:\\\\Users\\\\Adrià\\\\AppData\\\\Local\\\\Programs\\\\Python\\\\Python37\\\\python37.zip',\n",
       " 'C:\\\\Users\\\\Adrià\\\\AppData\\\\Local\\\\Programs\\\\Python\\\\Python37\\\\DLLs',\n",
       " 'C:\\\\Users\\\\Adrià\\\\AppData\\\\Local\\\\Programs\\\\Python\\\\Python37\\\\lib',\n",
       " 'C:\\\\Users\\\\Adrià\\\\AppData\\\\Local\\\\Programs\\\\Python\\\\Python37',\n",
       " '',\n",
       " 'C:\\\\Users\\\\Adrià\\\\AppData\\\\Roaming\\\\Python\\\\Python37\\\\site-packages',\n",
       " 'C:\\\\Users\\\\Adrià\\\\AppData\\\\Roaming\\\\Python\\\\Python37\\\\site-packages\\\\win32',\n",
       " 'C:\\\\Users\\\\Adrià\\\\AppData\\\\Roaming\\\\Python\\\\Python37\\\\site-packages\\\\win32\\\\lib',\n",
       " 'C:\\\\Users\\\\Adrià\\\\AppData\\\\Roaming\\\\Python\\\\Python37\\\\site-packages\\\\Pythonwin',\n",
       " 'C:\\\\Users\\\\Adrià\\\\AppData\\\\Local\\\\Programs\\\\Python\\\\Python37\\\\lib\\\\site-packages',\n",
       " 'C:\\\\Users\\\\Adrià\\\\AppData\\\\Roaming\\\\Python\\\\Python37\\\\site-packages\\\\IPython\\\\extensions',\n",
       " 'C:\\\\Users\\\\Adrià\\\\.ipython',\n",
       " 'c:\\\\Users\\\\Adrià\\\\Desktop\\\\Thebridge\\\\adria_gallardo_thebridge_ds\\\\Proyectos\\\\EDA']"
      ]
     },
     "metadata": {},
     "execution_count": 3
    }
   ],
   "source": [
    "#Primero agregamos la ruta a los archivos src y reports, donde guardamos las funciones generadas y las figuras que sacamos de main\n",
    "import os, sys\n",
    "\n",
    "ruta = os.path.dirname(os.getcwd())\n",
    "sys.path.append(ruta)\n",
    "sys.path"
   ]
  },
  {
   "cell_type": "code",
   "execution_count": null,
   "metadata": {},
   "outputs": [],
   "source": []
  }
 ]
}