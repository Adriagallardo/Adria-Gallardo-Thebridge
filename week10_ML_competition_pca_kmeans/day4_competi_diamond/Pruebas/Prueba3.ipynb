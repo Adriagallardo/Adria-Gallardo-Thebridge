{
 "cells": [
  {
   "cell_type": "markdown",
   "metadata": {},
   "source": [
    "![image](competi.png)"
   ]
  },
  {
   "cell_type": "markdown",
   "metadata": {},
   "source": [
    "#### Aquí encontrarás todo lo que necesitas saber: https://www.kaggle.com/t/ab8726f0cfc84544abbae69a6be88071"
   ]
  },
  {
   "cell_type": "code",
   "execution_count": 4,
   "metadata": {},
   "outputs": [],
   "source": [
    "import numpy as np\n",
    "import pandas as pd\n",
    "\n",
    "import urllib.request\n",
    "from PIL import Image\n",
    "\n",
    "from sklearn import preprocessing\n",
    "\n",
    "from sklearn.model_selection import train_test_split\n",
    "from sklearn.metrics import mean_squared_error\n",
    "from sklearn.model_selection import GridSearchCV\n",
    "from sklearn.pipeline import Pipeline\n",
    "\n",
    "from sklearn.linear_model import LinearRegression\n",
    "from sklearn.ensemble import RandomForestRegressor\n",
    "from sklearn.tree import DecisionTreeRegressor\n",
    "from sklearn.neighbors import KNeighborsRegressor\n",
    "from sklearn.ensemble import GradientBoostingRegressor\n",
    "from catboost import CatBoostRegressor\n",
    "\n",
    "from sklearn.preprocessing import StandardScaler, MinMaxScaler\n"
   ]
  },
  {
   "cell_type": "code",
   "execution_count": 5,
   "metadata": {},
   "outputs": [],
   "source": [
    "### Para que funcione necesitas bajarte los archivos de datos de Kaggle \n",
    "df = pd.read_csv(\"diamonds_train.csv\", index_col=0)"
   ]
  },
  {
   "cell_type": "code",
   "execution_count": 6,
   "metadata": {},
   "outputs": [
    {
     "output_type": "execute_result",
     "data": {
      "text/plain": [
       "              carat         depth         table             x             y  \\\n",
       "count  40345.000000  40345.000000  40345.000000  40345.000000  40345.000000   \n",
       "mean       0.795652     61.750413     57.460302      5.726106      5.730217   \n",
       "std        0.470806      1.424219      2.235333      1.118690      1.148584   \n",
       "min        0.200000     43.000000     43.000000      0.000000      0.000000   \n",
       "25%        0.400000     61.000000     56.000000      4.710000      4.720000   \n",
       "50%        0.700000     61.800000     57.000000      5.690000      5.710000   \n",
       "75%        1.040000     62.500000     59.000000      6.540000      6.530000   \n",
       "max        4.010000     79.000000     95.000000     10.020000     58.900000   \n",
       "\n",
       "                  z         price  \n",
       "count  40345.000000  40345.000000  \n",
       "mean       3.535136   3924.089924  \n",
       "std        0.693662   3982.000515  \n",
       "min        0.000000    326.000000  \n",
       "25%        2.910000    948.000000  \n",
       "50%        3.520000   2395.000000  \n",
       "75%        4.030000   5313.000000  \n",
       "max        8.060000  18818.000000  "
      ],
      "text/html": "<div>\n<style scoped>\n    .dataframe tbody tr th:only-of-type {\n        vertical-align: middle;\n    }\n\n    .dataframe tbody tr th {\n        vertical-align: top;\n    }\n\n    .dataframe thead th {\n        text-align: right;\n    }\n</style>\n<table border=\"1\" class=\"dataframe\">\n  <thead>\n    <tr style=\"text-align: right;\">\n      <th></th>\n      <th>carat</th>\n      <th>depth</th>\n      <th>table</th>\n      <th>x</th>\n      <th>y</th>\n      <th>z</th>\n      <th>price</th>\n    </tr>\n  </thead>\n  <tbody>\n    <tr>\n      <th>count</th>\n      <td>40345.000000</td>\n      <td>40345.000000</td>\n      <td>40345.000000</td>\n      <td>40345.000000</td>\n      <td>40345.000000</td>\n      <td>40345.000000</td>\n      <td>40345.000000</td>\n    </tr>\n    <tr>\n      <th>mean</th>\n      <td>0.795652</td>\n      <td>61.750413</td>\n      <td>57.460302</td>\n      <td>5.726106</td>\n      <td>5.730217</td>\n      <td>3.535136</td>\n      <td>3924.089924</td>\n    </tr>\n    <tr>\n      <th>std</th>\n      <td>0.470806</td>\n      <td>1.424219</td>\n      <td>2.235333</td>\n      <td>1.118690</td>\n      <td>1.148584</td>\n      <td>0.693662</td>\n      <td>3982.000515</td>\n    </tr>\n    <tr>\n      <th>min</th>\n      <td>0.200000</td>\n      <td>43.000000</td>\n      <td>43.000000</td>\n      <td>0.000000</td>\n      <td>0.000000</td>\n      <td>0.000000</td>\n      <td>326.000000</td>\n    </tr>\n    <tr>\n      <th>25%</th>\n      <td>0.400000</td>\n      <td>61.000000</td>\n      <td>56.000000</td>\n      <td>4.710000</td>\n      <td>4.720000</td>\n      <td>2.910000</td>\n      <td>948.000000</td>\n    </tr>\n    <tr>\n      <th>50%</th>\n      <td>0.700000</td>\n      <td>61.800000</td>\n      <td>57.000000</td>\n      <td>5.690000</td>\n      <td>5.710000</td>\n      <td>3.520000</td>\n      <td>2395.000000</td>\n    </tr>\n    <tr>\n      <th>75%</th>\n      <td>1.040000</td>\n      <td>62.500000</td>\n      <td>59.000000</td>\n      <td>6.540000</td>\n      <td>6.530000</td>\n      <td>4.030000</td>\n      <td>5313.000000</td>\n    </tr>\n    <tr>\n      <th>max</th>\n      <td>4.010000</td>\n      <td>79.000000</td>\n      <td>95.000000</td>\n      <td>10.020000</td>\n      <td>58.900000</td>\n      <td>8.060000</td>\n      <td>18818.000000</td>\n    </tr>\n  </tbody>\n</table>\n</div>"
     },
     "metadata": {},
     "execution_count": 6
    }
   ],
   "source": [
    "df.describe()"
   ]
  },
  {
   "cell_type": "code",
   "execution_count": 7,
   "metadata": {},
   "outputs": [
    {
     "output_type": "execute_result",
     "data": {
      "text/plain": [
       "   carat        cut color clarity  depth  table     x     y     z  price  \\\n",
       "0   1.21      Ideal     H     VS2   63.0   57.0  6.73  6.70  4.23   6134   \n",
       "1   0.28  Very Good     D    VVS2   64.0   56.0  4.14  4.17  2.66    532   \n",
       "2   0.42    Premium     F     VS1   61.2   58.0  4.86  4.82  2.96   1103   \n",
       "3   0.26      Ideal     H      IF   61.1   57.0  4.16  4.12  2.53    600   \n",
       "4   1.10       Good     G     SI1   63.4   57.0  6.52  6.55  4.14   4997   \n",
       "\n",
       "        x/y  \n",
       "0  1.004478  \n",
       "1  0.992806  \n",
       "2  1.008299  \n",
       "3  1.009709  \n",
       "4  0.995420  "
      ],
      "text/html": "<div>\n<style scoped>\n    .dataframe tbody tr th:only-of-type {\n        vertical-align: middle;\n    }\n\n    .dataframe tbody tr th {\n        vertical-align: top;\n    }\n\n    .dataframe thead th {\n        text-align: right;\n    }\n</style>\n<table border=\"1\" class=\"dataframe\">\n  <thead>\n    <tr style=\"text-align: right;\">\n      <th></th>\n      <th>carat</th>\n      <th>cut</th>\n      <th>color</th>\n      <th>clarity</th>\n      <th>depth</th>\n      <th>table</th>\n      <th>x</th>\n      <th>y</th>\n      <th>z</th>\n      <th>price</th>\n      <th>x/y</th>\n    </tr>\n  </thead>\n  <tbody>\n    <tr>\n      <th>0</th>\n      <td>1.21</td>\n      <td>Ideal</td>\n      <td>H</td>\n      <td>VS2</td>\n      <td>63.0</td>\n      <td>57.0</td>\n      <td>6.73</td>\n      <td>6.70</td>\n      <td>4.23</td>\n      <td>6134</td>\n      <td>1.004478</td>\n    </tr>\n    <tr>\n      <th>1</th>\n      <td>0.28</td>\n      <td>Very Good</td>\n      <td>D</td>\n      <td>VVS2</td>\n      <td>64.0</td>\n      <td>56.0</td>\n      <td>4.14</td>\n      <td>4.17</td>\n      <td>2.66</td>\n      <td>532</td>\n      <td>0.992806</td>\n    </tr>\n    <tr>\n      <th>2</th>\n      <td>0.42</td>\n      <td>Premium</td>\n      <td>F</td>\n      <td>VS1</td>\n      <td>61.2</td>\n      <td>58.0</td>\n      <td>4.86</td>\n      <td>4.82</td>\n      <td>2.96</td>\n      <td>1103</td>\n      <td>1.008299</td>\n    </tr>\n    <tr>\n      <th>3</th>\n      <td>0.26</td>\n      <td>Ideal</td>\n      <td>H</td>\n      <td>IF</td>\n      <td>61.1</td>\n      <td>57.0</td>\n      <td>4.16</td>\n      <td>4.12</td>\n      <td>2.53</td>\n      <td>600</td>\n      <td>1.009709</td>\n    </tr>\n    <tr>\n      <th>4</th>\n      <td>1.10</td>\n      <td>Good</td>\n      <td>G</td>\n      <td>SI1</td>\n      <td>63.4</td>\n      <td>57.0</td>\n      <td>6.52</td>\n      <td>6.55</td>\n      <td>4.14</td>\n      <td>4997</td>\n      <td>0.995420</td>\n    </tr>\n  </tbody>\n</table>\n</div>"
     },
     "metadata": {},
     "execution_count": 7
    }
   ],
   "source": [
    "df[\"x/y\"] = df[\"x\"]/df[\"y\"]\n",
    "df.head()"
   ]
  },
  {
   "cell_type": "code",
   "execution_count": 8,
   "metadata": {},
   "outputs": [
    {
     "output_type": "stream",
     "name": "stdout",
     "text": [
      "       carat        cut color clarity  depth  table     x     y    z  price  \\\n4960    2.80       Good     G     SI2   63.8   58.0  8.90  8.85  0.0  18788   \n5127    2.20    Premium     H     SI1   61.2   59.0  8.42  8.37  0.0  17265   \n6571    1.56      Ideal     G     VS2   62.2   54.0  0.00  0.00  0.0  12800   \n10971   1.12    Premium     G      I1   60.4   59.0  6.71  6.67  0.0   2383   \n12572   1.10    Premium     G     SI2   63.0   59.0  6.50  6.47  0.0   3696   \n15252   1.20    Premium     D    VVS1   62.1   59.0  0.00  0.00  0.0  15686   \n15518   1.15      Ideal     G     VS2   59.2   56.0  6.88  6.83  0.0   5564   \n18027   1.07      Ideal     F     SI2   61.6   56.0  0.00  6.62  0.0   4954   \n18658   1.01    Premium     F     SI2   59.2   58.0  6.50  6.47  0.0   3837   \n20916   1.01    Premium     H      I1   58.1   59.0  6.66  6.60  0.0   3167   \n23417   0.71       Good     F     SI2   64.1   60.0  0.00  0.00  0.0   2130   \n24641   1.14       Fair     G     VS1   57.5   67.0  0.00  0.00  0.0   6381   \n24846   2.18    Premium     H     SI2   59.4   61.0  8.49  8.45  0.0  12631   \n25671   2.25    Premium     H     SI2   62.8   59.0  0.00  0.00  0.0  18034   \n28570   1.50       Good     G      I1   64.0   61.0  7.15  7.04  0.0   4731   \n36145   2.25    Premium     I     SI1   61.3   58.0  8.52  8.42  0.0  15397   \n40203   1.00  Very Good     H     VS2   63.3   53.0  0.00  0.00  0.0   5139   \n\n            x/y  \n4960   1.005650  \n5127   1.005974  \n6571        NaN  \n10971  1.005997  \n12572  1.004637  \n15252       NaN  \n15518  1.007321  \n18027  0.000000  \n18658  1.004637  \n20916  1.009091  \n23417       NaN  \n24641       NaN  \n24846  1.004734  \n25671       NaN  \n28570  1.015625  \n36145  1.011876  \n40203       NaN  \nlen : 17\n"
     ]
    }
   ],
   "source": [
    "print(df.loc[(df['x'] == 0) | (df['y'] == 0) | (df['z'] == 0) | (df[\"x/y\"] == 0)] )\n",
    "print('len :',len(df.loc[(df['x'] == 0) | (df['y'] == 0) | (df['z'] == 0) | (df[\"x/y\"] == 0)]))"
   ]
  },
  {
   "cell_type": "code",
   "execution_count": 9,
   "metadata": {},
   "outputs": [
    {
     "output_type": "execute_result",
     "data": {
      "text/plain": [
       "              carat         depth         table             x             y  \\\n",
       "count  40328.000000  40328.000000  40328.000000  40328.000000  40328.000000   \n",
       "mean       0.795361     61.750575     57.459827      5.726667      5.730629   \n",
       "std        0.470536      1.423888      2.234841      1.115944      1.146289   \n",
       "min        0.200000     43.000000     43.000000      3.730000      3.710000   \n",
       "25%        0.400000     61.000000     56.000000      4.710000      4.720000   \n",
       "50%        0.700000     61.800000     57.000000      5.690000      5.710000   \n",
       "75%        1.040000     62.500000     59.000000      6.540000      6.530000   \n",
       "max        4.010000     79.000000     95.000000     10.020000     58.900000   \n",
       "\n",
       "                  z         price           x/y  \n",
       "count  40328.000000  40328.000000  40328.000000  \n",
       "mean       3.536626   3921.960549      0.999372  \n",
       "std        0.689999   3979.598113      0.012073  \n",
       "min        1.070000    326.000000      0.137351  \n",
       "25%        2.910000    947.000000      0.992565  \n",
       "50%        3.520000   2394.000000      0.995717  \n",
       "75%        4.030000   5312.000000      1.006929  \n",
       "max        8.060000  18818.000000      1.601415  "
      ],
      "text/html": "<div>\n<style scoped>\n    .dataframe tbody tr th:only-of-type {\n        vertical-align: middle;\n    }\n\n    .dataframe tbody tr th {\n        vertical-align: top;\n    }\n\n    .dataframe thead th {\n        text-align: right;\n    }\n</style>\n<table border=\"1\" class=\"dataframe\">\n  <thead>\n    <tr style=\"text-align: right;\">\n      <th></th>\n      <th>carat</th>\n      <th>depth</th>\n      <th>table</th>\n      <th>x</th>\n      <th>y</th>\n      <th>z</th>\n      <th>price</th>\n      <th>x/y</th>\n    </tr>\n  </thead>\n  <tbody>\n    <tr>\n      <th>count</th>\n      <td>40328.000000</td>\n      <td>40328.000000</td>\n      <td>40328.000000</td>\n      <td>40328.000000</td>\n      <td>40328.000000</td>\n      <td>40328.000000</td>\n      <td>40328.000000</td>\n      <td>40328.000000</td>\n    </tr>\n    <tr>\n      <th>mean</th>\n      <td>0.795361</td>\n      <td>61.750575</td>\n      <td>57.459827</td>\n      <td>5.726667</td>\n      <td>5.730629</td>\n      <td>3.536626</td>\n      <td>3921.960549</td>\n      <td>0.999372</td>\n    </tr>\n    <tr>\n      <th>std</th>\n      <td>0.470536</td>\n      <td>1.423888</td>\n      <td>2.234841</td>\n      <td>1.115944</td>\n      <td>1.146289</td>\n      <td>0.689999</td>\n      <td>3979.598113</td>\n      <td>0.012073</td>\n    </tr>\n    <tr>\n      <th>min</th>\n      <td>0.200000</td>\n      <td>43.000000</td>\n      <td>43.000000</td>\n      <td>3.730000</td>\n      <td>3.710000</td>\n      <td>1.070000</td>\n      <td>326.000000</td>\n      <td>0.137351</td>\n    </tr>\n    <tr>\n      <th>25%</th>\n      <td>0.400000</td>\n      <td>61.000000</td>\n      <td>56.000000</td>\n      <td>4.710000</td>\n      <td>4.720000</td>\n      <td>2.910000</td>\n      <td>947.000000</td>\n      <td>0.992565</td>\n    </tr>\n    <tr>\n      <th>50%</th>\n      <td>0.700000</td>\n      <td>61.800000</td>\n      <td>57.000000</td>\n      <td>5.690000</td>\n      <td>5.710000</td>\n      <td>3.520000</td>\n      <td>2394.000000</td>\n      <td>0.995717</td>\n    </tr>\n    <tr>\n      <th>75%</th>\n      <td>1.040000</td>\n      <td>62.500000</td>\n      <td>59.000000</td>\n      <td>6.540000</td>\n      <td>6.530000</td>\n      <td>4.030000</td>\n      <td>5312.000000</td>\n      <td>1.006929</td>\n    </tr>\n    <tr>\n      <th>max</th>\n      <td>4.010000</td>\n      <td>79.000000</td>\n      <td>95.000000</td>\n      <td>10.020000</td>\n      <td>58.900000</td>\n      <td>8.060000</td>\n      <td>18818.000000</td>\n      <td>1.601415</td>\n    </tr>\n  </tbody>\n</table>\n</div>"
     },
     "metadata": {},
     "execution_count": 9
    }
   ],
   "source": [
    "df = df[(df['x'] != 0)]\n",
    "df = df[(df['z'] != 0)]  #| (df['y'] != 0) | (df['z'] != 0) | (df[\"x/y\"] != 0)]\n",
    "df.describe()"
   ]
  },
  {
   "cell_type": "code",
   "execution_count": 10,
   "metadata": {},
   "outputs": [],
   "source": [
    "#df['volume'] = df['x']*df['y']*df['z']\n",
    "#df.drop(['x','y','z'], axis=1, inplace= True)"
   ]
  },
  {
   "cell_type": "code",
   "execution_count": 11,
   "metadata": {},
   "outputs": [
    {
     "output_type": "execute_result",
     "data": {
      "text/plain": [
       "    carat        cut color clarity  depth  table     x     y     z  price  \\\n",
       "0    1.21      Ideal     H     VS2   63.0   57.0  6.73  6.70  4.23   6134   \n",
       "1    0.28  Very Good     D    VVS2   64.0   56.0  4.14  4.17  2.66    532   \n",
       "2    0.42    Premium     F     VS1   61.2   58.0  4.86  4.82  2.96   1103   \n",
       "3    0.26      Ideal     H      IF   61.1   57.0  4.16  4.12  2.53    600   \n",
       "4    1.10       Good     G     SI1   63.4   57.0  6.52  6.55  4.14   4997   \n",
       "5    0.35      Ideal     F     SI1   62.2   56.0  4.48  4.52  2.80    583   \n",
       "6    0.31      Ideal     I     VS2   62.3   54.0  4.37  4.40  2.73    452   \n",
       "7    0.43    Premium     H     SI1   60.2   57.0  4.93  4.91  2.96    919   \n",
       "8    0.51    Premium     I     SI2   60.4   59.0  5.20  5.17  3.13    956   \n",
       "9    1.22      Ideal     I     VS1   61.9   55.7  6.81  6.84  4.23   6469   \n",
       "10   0.41  Very Good     D     SI1   63.2   57.0  4.77  4.73  3.00    947   \n",
       "11   0.33    Premium     G    VVS1   61.9   59.0  4.41  4.38  2.72   1114   \n",
       "12   0.93      Ideal     I     SI1   62.5   55.0  6.23  6.29  3.91   3856   \n",
       "13   0.71      Ideal     H     VS1   61.6   57.0  5.74  5.79  3.55   2175   \n",
       "14   0.47      Ideal     G    VVS2   62.2   53.0  5.00  5.04  3.12   1618   \n",
       "15   1.71    Premium     I     SI2   60.6   57.0  7.78  7.71  4.69   9760   \n",
       "16   0.33  Very Good     E    VVS2   60.1   63.0  4.45  4.50  2.69    981   \n",
       "17   1.26  Very Good     G     SI1   61.7   60.0  6.85  6.90  4.24   6733   \n",
       "18   0.75    Premium     G     SI1   60.9   58.0  5.87  5.83  3.56   2631   \n",
       "19   0.76  Very Good     H     SI1   61.4   57.0  5.89  5.94  3.63   2557   \n",
       "\n",
       "         x/y  \n",
       "0   1.004478  \n",
       "1   0.992806  \n",
       "2   1.008299  \n",
       "3   1.009709  \n",
       "4   0.995420  \n",
       "5   0.991150  \n",
       "6   0.993182  \n",
       "7   1.004073  \n",
       "8   1.005803  \n",
       "9   0.995614  \n",
       "10  1.008457  \n",
       "11  1.006849  \n",
       "12  0.990461  \n",
       "13  0.991364  \n",
       "14  0.992063  \n",
       "15  1.009079  \n",
       "16  0.988889  \n",
       "17  0.992754  \n",
       "18  1.006861  \n",
       "19  0.991582  "
      ],
      "text/html": "<div>\n<style scoped>\n    .dataframe tbody tr th:only-of-type {\n        vertical-align: middle;\n    }\n\n    .dataframe tbody tr th {\n        vertical-align: top;\n    }\n\n    .dataframe thead th {\n        text-align: right;\n    }\n</style>\n<table border=\"1\" class=\"dataframe\">\n  <thead>\n    <tr style=\"text-align: right;\">\n      <th></th>\n      <th>carat</th>\n      <th>cut</th>\n      <th>color</th>\n      <th>clarity</th>\n      <th>depth</th>\n      <th>table</th>\n      <th>x</th>\n      <th>y</th>\n      <th>z</th>\n      <th>price</th>\n      <th>x/y</th>\n    </tr>\n  </thead>\n  <tbody>\n    <tr>\n      <th>0</th>\n      <td>1.21</td>\n      <td>Ideal</td>\n      <td>H</td>\n      <td>VS2</td>\n      <td>63.0</td>\n      <td>57.0</td>\n      <td>6.73</td>\n      <td>6.70</td>\n      <td>4.23</td>\n      <td>6134</td>\n      <td>1.004478</td>\n    </tr>\n    <tr>\n      <th>1</th>\n      <td>0.28</td>\n      <td>Very Good</td>\n      <td>D</td>\n      <td>VVS2</td>\n      <td>64.0</td>\n      <td>56.0</td>\n      <td>4.14</td>\n      <td>4.17</td>\n      <td>2.66</td>\n      <td>532</td>\n      <td>0.992806</td>\n    </tr>\n    <tr>\n      <th>2</th>\n      <td>0.42</td>\n      <td>Premium</td>\n      <td>F</td>\n      <td>VS1</td>\n      <td>61.2</td>\n      <td>58.0</td>\n      <td>4.86</td>\n      <td>4.82</td>\n      <td>2.96</td>\n      <td>1103</td>\n      <td>1.008299</td>\n    </tr>\n    <tr>\n      <th>3</th>\n      <td>0.26</td>\n      <td>Ideal</td>\n      <td>H</td>\n      <td>IF</td>\n      <td>61.1</td>\n      <td>57.0</td>\n      <td>4.16</td>\n      <td>4.12</td>\n      <td>2.53</td>\n      <td>600</td>\n      <td>1.009709</td>\n    </tr>\n    <tr>\n      <th>4</th>\n      <td>1.10</td>\n      <td>Good</td>\n      <td>G</td>\n      <td>SI1</td>\n      <td>63.4</td>\n      <td>57.0</td>\n      <td>6.52</td>\n      <td>6.55</td>\n      <td>4.14</td>\n      <td>4997</td>\n      <td>0.995420</td>\n    </tr>\n    <tr>\n      <th>5</th>\n      <td>0.35</td>\n      <td>Ideal</td>\n      <td>F</td>\n      <td>SI1</td>\n      <td>62.2</td>\n      <td>56.0</td>\n      <td>4.48</td>\n      <td>4.52</td>\n      <td>2.80</td>\n      <td>583</td>\n      <td>0.991150</td>\n    </tr>\n    <tr>\n      <th>6</th>\n      <td>0.31</td>\n      <td>Ideal</td>\n      <td>I</td>\n      <td>VS2</td>\n      <td>62.3</td>\n      <td>54.0</td>\n      <td>4.37</td>\n      <td>4.40</td>\n      <td>2.73</td>\n      <td>452</td>\n      <td>0.993182</td>\n    </tr>\n    <tr>\n      <th>7</th>\n      <td>0.43</td>\n      <td>Premium</td>\n      <td>H</td>\n      <td>SI1</td>\n      <td>60.2</td>\n      <td>57.0</td>\n      <td>4.93</td>\n      <td>4.91</td>\n      <td>2.96</td>\n      <td>919</td>\n      <td>1.004073</td>\n    </tr>\n    <tr>\n      <th>8</th>\n      <td>0.51</td>\n      <td>Premium</td>\n      <td>I</td>\n      <td>SI2</td>\n      <td>60.4</td>\n      <td>59.0</td>\n      <td>5.20</td>\n      <td>5.17</td>\n      <td>3.13</td>\n      <td>956</td>\n      <td>1.005803</td>\n    </tr>\n    <tr>\n      <th>9</th>\n      <td>1.22</td>\n      <td>Ideal</td>\n      <td>I</td>\n      <td>VS1</td>\n      <td>61.9</td>\n      <td>55.7</td>\n      <td>6.81</td>\n      <td>6.84</td>\n      <td>4.23</td>\n      <td>6469</td>\n      <td>0.995614</td>\n    </tr>\n    <tr>\n      <th>10</th>\n      <td>0.41</td>\n      <td>Very Good</td>\n      <td>D</td>\n      <td>SI1</td>\n      <td>63.2</td>\n      <td>57.0</td>\n      <td>4.77</td>\n      <td>4.73</td>\n      <td>3.00</td>\n      <td>947</td>\n      <td>1.008457</td>\n    </tr>\n    <tr>\n      <th>11</th>\n      <td>0.33</td>\n      <td>Premium</td>\n      <td>G</td>\n      <td>VVS1</td>\n      <td>61.9</td>\n      <td>59.0</td>\n      <td>4.41</td>\n      <td>4.38</td>\n      <td>2.72</td>\n      <td>1114</td>\n      <td>1.006849</td>\n    </tr>\n    <tr>\n      <th>12</th>\n      <td>0.93</td>\n      <td>Ideal</td>\n      <td>I</td>\n      <td>SI1</td>\n      <td>62.5</td>\n      <td>55.0</td>\n      <td>6.23</td>\n      <td>6.29</td>\n      <td>3.91</td>\n      <td>3856</td>\n      <td>0.990461</td>\n    </tr>\n    <tr>\n      <th>13</th>\n      <td>0.71</td>\n      <td>Ideal</td>\n      <td>H</td>\n      <td>VS1</td>\n      <td>61.6</td>\n      <td>57.0</td>\n      <td>5.74</td>\n      <td>5.79</td>\n      <td>3.55</td>\n      <td>2175</td>\n      <td>0.991364</td>\n    </tr>\n    <tr>\n      <th>14</th>\n      <td>0.47</td>\n      <td>Ideal</td>\n      <td>G</td>\n      <td>VVS2</td>\n      <td>62.2</td>\n      <td>53.0</td>\n      <td>5.00</td>\n      <td>5.04</td>\n      <td>3.12</td>\n      <td>1618</td>\n      <td>0.992063</td>\n    </tr>\n    <tr>\n      <th>15</th>\n      <td>1.71</td>\n      <td>Premium</td>\n      <td>I</td>\n      <td>SI2</td>\n      <td>60.6</td>\n      <td>57.0</td>\n      <td>7.78</td>\n      <td>7.71</td>\n      <td>4.69</td>\n      <td>9760</td>\n      <td>1.009079</td>\n    </tr>\n    <tr>\n      <th>16</th>\n      <td>0.33</td>\n      <td>Very Good</td>\n      <td>E</td>\n      <td>VVS2</td>\n      <td>60.1</td>\n      <td>63.0</td>\n      <td>4.45</td>\n      <td>4.50</td>\n      <td>2.69</td>\n      <td>981</td>\n      <td>0.988889</td>\n    </tr>\n    <tr>\n      <th>17</th>\n      <td>1.26</td>\n      <td>Very Good</td>\n      <td>G</td>\n      <td>SI1</td>\n      <td>61.7</td>\n      <td>60.0</td>\n      <td>6.85</td>\n      <td>6.90</td>\n      <td>4.24</td>\n      <td>6733</td>\n      <td>0.992754</td>\n    </tr>\n    <tr>\n      <th>18</th>\n      <td>0.75</td>\n      <td>Premium</td>\n      <td>G</td>\n      <td>SI1</td>\n      <td>60.9</td>\n      <td>58.0</td>\n      <td>5.87</td>\n      <td>5.83</td>\n      <td>3.56</td>\n      <td>2631</td>\n      <td>1.006861</td>\n    </tr>\n    <tr>\n      <th>19</th>\n      <td>0.76</td>\n      <td>Very Good</td>\n      <td>H</td>\n      <td>SI1</td>\n      <td>61.4</td>\n      <td>57.0</td>\n      <td>5.89</td>\n      <td>5.94</td>\n      <td>3.63</td>\n      <td>2557</td>\n      <td>0.991582</td>\n    </tr>\n  </tbody>\n</table>\n</div>"
     },
     "metadata": {},
     "execution_count": 11
    }
   ],
   "source": [
    "df.head(20)"
   ]
  },
  {
   "cell_type": "code",
   "execution_count": 12,
   "metadata": {},
   "outputs": [
    {
     "output_type": "stream",
     "name": "stdout",
     "text": [
      "['Ideal' 'Very Good' 'Premium' 'Good' 'Fair']\n['H' 'D' 'F' 'G' 'I' 'E' 'J']\n['VS2' 'VVS2' 'VS1' 'IF' 'SI1' 'SI2' 'VVS1' 'I1']\n"
     ]
    }
   ],
   "source": [
    "print(df[\"cut\"].unique())\n",
    "print(df[\"color\"].unique())\n",
    "print(df[\"clarity\"].unique())"
   ]
  },
  {
   "cell_type": "code",
   "execution_count": 13,
   "metadata": {},
   "outputs": [
    {
     "output_type": "execute_result",
     "data": {
      "text/plain": [
       "Index(['carat', 'cut', 'color', 'clarity', 'depth', 'table', 'x', 'y', 'z',\n",
       "       'price', 'x/y'],\n",
       "      dtype='object')"
      ]
     },
     "metadata": {},
     "execution_count": 13
    }
   ],
   "source": [
    "df.columns"
   ]
  },
  {
   "cell_type": "code",
   "execution_count": 14,
   "metadata": {},
   "outputs": [],
   "source": [
    "cut_labels = ['Fair', 'Good', 'Very Good', 'Premium', 'Ideal']\n",
    "color_labels = ['J','I','H','G','F','E','D']\n",
    "clarity_labels =['I1','SI2','SI1','VS2','VS1','VVS2','VVS1', 'IF']\n",
    "\n",
    "oe = preprocessing.OrdinalEncoder(categories=[cut_labels, color_labels, clarity_labels])"
   ]
  },
  {
   "cell_type": "markdown",
   "metadata": {},
   "source": [
    "**Importante:**\n",
    "\n",
    "   - Si quitas columnas o creas columnas nuevas a partir de otras, o cualquier modificación column-wise tendrás que aplicarlo al dataset de `diamonds_test.csv` de cara a hacer la predicción.\n",
    "   - Si por lo contrario, decides por ejemplo, quitar los outliers o hacer un `dropna()`, o cualquier modificación row-wise eso NO PODRÁS (ni debes) aplicarlo al dataset de `diamonds_test.csv` de cara a hacer la predicción. ¿Por qué? Porque si el conjunto de test tiene 50 observaciones (filas) la predicción se espera que tenga 50 filas."
   ]
  },
  {
   "cell_type": "markdown",
   "metadata": {},
   "source": [
    "#### ¿Y si lo que hago es estandarizar los datos o hacer un encoding, también se lo tengo que hacer al test antes de predecir?"
   ]
  },
  {
   "cell_type": "code",
   "execution_count": 15,
   "metadata": {},
   "outputs": [],
   "source": [
    "# ¿qué opináis?\n",
    "#Sí, habría que hacerlo"
   ]
  },
  {
   "cell_type": "markdown",
   "metadata": {},
   "source": [
    "-----------------------------------------------------------------------------------------------------------------"
   ]
  },
  {
   "cell_type": "markdown",
   "metadata": {},
   "source": [
    "### Pasos que si o si debéis realizar para poder participar en la competición:"
   ]
  },
  {
   "cell_type": "markdown",
   "metadata": {},
   "source": [
    "### 1. Definir X e y"
   ]
  },
  {
   "cell_type": "code",
   "execution_count": 16,
   "metadata": {},
   "outputs": [
    {
     "output_type": "execute_result",
     "data": {
      "text/plain": [
       "   carat  cut  color  clarity  depth  table     x     y     z  price       x/y\n",
       "0   1.21  4.0    2.0      3.0   63.0   57.0  6.73  6.70  4.23   6134  1.004478\n",
       "1   0.28  2.0    6.0      5.0   64.0   56.0  4.14  4.17  2.66    532  0.992806\n",
       "2   0.42  3.0    4.0      4.0   61.2   58.0  4.86  4.82  2.96   1103  1.008299\n",
       "3   0.26  4.0    2.0      7.0   61.1   57.0  4.16  4.12  2.53    600  1.009709\n",
       "4   1.10  1.0    3.0      2.0   63.4   57.0  6.52  6.55  4.14   4997  0.995420"
      ],
      "text/html": "<div>\n<style scoped>\n    .dataframe tbody tr th:only-of-type {\n        vertical-align: middle;\n    }\n\n    .dataframe tbody tr th {\n        vertical-align: top;\n    }\n\n    .dataframe thead th {\n        text-align: right;\n    }\n</style>\n<table border=\"1\" class=\"dataframe\">\n  <thead>\n    <tr style=\"text-align: right;\">\n      <th></th>\n      <th>carat</th>\n      <th>cut</th>\n      <th>color</th>\n      <th>clarity</th>\n      <th>depth</th>\n      <th>table</th>\n      <th>x</th>\n      <th>y</th>\n      <th>z</th>\n      <th>price</th>\n      <th>x/y</th>\n    </tr>\n  </thead>\n  <tbody>\n    <tr>\n      <th>0</th>\n      <td>1.21</td>\n      <td>4.0</td>\n      <td>2.0</td>\n      <td>3.0</td>\n      <td>63.0</td>\n      <td>57.0</td>\n      <td>6.73</td>\n      <td>6.70</td>\n      <td>4.23</td>\n      <td>6134</td>\n      <td>1.004478</td>\n    </tr>\n    <tr>\n      <th>1</th>\n      <td>0.28</td>\n      <td>2.0</td>\n      <td>6.0</td>\n      <td>5.0</td>\n      <td>64.0</td>\n      <td>56.0</td>\n      <td>4.14</td>\n      <td>4.17</td>\n      <td>2.66</td>\n      <td>532</td>\n      <td>0.992806</td>\n    </tr>\n    <tr>\n      <th>2</th>\n      <td>0.42</td>\n      <td>3.0</td>\n      <td>4.0</td>\n      <td>4.0</td>\n      <td>61.2</td>\n      <td>58.0</td>\n      <td>4.86</td>\n      <td>4.82</td>\n      <td>2.96</td>\n      <td>1103</td>\n      <td>1.008299</td>\n    </tr>\n    <tr>\n      <th>3</th>\n      <td>0.26</td>\n      <td>4.0</td>\n      <td>2.0</td>\n      <td>7.0</td>\n      <td>61.1</td>\n      <td>57.0</td>\n      <td>4.16</td>\n      <td>4.12</td>\n      <td>2.53</td>\n      <td>600</td>\n      <td>1.009709</td>\n    </tr>\n    <tr>\n      <th>4</th>\n      <td>1.10</td>\n      <td>1.0</td>\n      <td>3.0</td>\n      <td>2.0</td>\n      <td>63.4</td>\n      <td>57.0</td>\n      <td>6.52</td>\n      <td>6.55</td>\n      <td>4.14</td>\n      <td>4997</td>\n      <td>0.995420</td>\n    </tr>\n  </tbody>\n</table>\n</div>"
     },
     "metadata": {},
     "execution_count": 16
    }
   ],
   "source": [
    "X_encoded = oe.fit_transform(df[[\"cut\", \"color\", \"clarity\"]])\n",
    "df[[\"cut\", \"color\", \"clarity\"]] = X_encoded\n",
    "df.head()"
   ]
  },
  {
   "cell_type": "code",
   "execution_count": 17,
   "metadata": {},
   "outputs": [
    {
     "output_type": "execute_result",
     "data": {
      "text/plain": [
       "(40328, 10)"
      ]
     },
     "metadata": {},
     "execution_count": 17
    }
   ],
   "source": [
    "X = df.drop([\"price\"],1)\n",
    "X.shape"
   ]
  },
  {
   "cell_type": "code",
   "execution_count": 18,
   "metadata": {},
   "outputs": [],
   "source": [
    "#PredictorScaler=MinMaxScaler()\n",
    "#PredictorScalerFit=PredictorScaler.fit(X)\n",
    "#X=PredictorScalerFit.transform(X)"
   ]
  },
  {
   "cell_type": "code",
   "execution_count": 19,
   "metadata": {},
   "outputs": [
    {
     "output_type": "execute_result",
     "data": {
      "text/plain": [
       "(40328,)"
      ]
     },
     "metadata": {},
     "execution_count": 19
    }
   ],
   "source": [
    "#skY=df['price'].skew()\n",
    "#skY\n",
    "y = df[\"price\"]\n",
    "y.shape"
   ]
  },
  {
   "cell_type": "code",
   "execution_count": 20,
   "metadata": {},
   "outputs": [],
   "source": [
    "#data_score = pd.DataFrame({'price':np.log(df['price'])})"
   ]
  },
  {
   "cell_type": "code",
   "execution_count": 21,
   "metadata": {},
   "outputs": [],
   "source": [
    "#sk = data_score['price'].skew()\n",
    "#sk"
   ]
  },
  {
   "cell_type": "code",
   "execution_count": 22,
   "metadata": {},
   "outputs": [],
   "source": [
    "#y = np.log(y)"
   ]
  },
  {
   "cell_type": "markdown",
   "metadata": {},
   "source": [
    "#### ¿Y si después del análisis exploratorio de mis datos llego a la conclusión de que puedo predecir el precio solo con las columnas `x`, `y` y `z`, también aplica al test?"
   ]
  },
  {
   "cell_type": "code",
   "execution_count": 23,
   "metadata": {},
   "outputs": [],
   "source": [
    "# ¿qué opináis?\n",
    "# sí, el conjunto para predecir `diamonds_test.csv` también tendrá que tener 3 columnas"
   ]
  },
  {
   "cell_type": "markdown",
   "metadata": {},
   "source": [
    "### 2. Dividir X_train, X_test, y_train, y_test"
   ]
  },
  {
   "cell_type": "code",
   "execution_count": 24,
   "metadata": {},
   "outputs": [],
   "source": [
    "# el test_size 0.20 y el random_state puede cambiar\n",
    "X_train, X_test, y_train, y_test = train_test_split(X, y, test_size = 0.20, random_state = 42)"
   ]
  },
  {
   "cell_type": "code",
   "execution_count": 25,
   "metadata": {},
   "outputs": [
    {
     "output_type": "execute_result",
     "data": {
      "text/plain": [
       "       carat  cut  color  clarity  depth  table     x     y     z       x/y\n",
       "29619   0.36  4.0    6.0      2.0   59.5   56.0  4.68  4.63  2.77  1.010799\n",
       "28706   0.74  2.0    6.0      2.0   61.5   59.0  5.76  5.82  3.56  0.989691\n",
       "30448   1.03  2.0    4.0      2.0   62.5   59.0  6.41  6.45  4.02  0.993798\n",
       "27081   0.34  4.0    2.0      5.0   61.8   54.0  4.47  4.49  2.77  0.995546\n",
       "3578    1.01  3.0    4.0      3.0   62.2   60.0  6.40  6.37  3.97  1.004710\n",
       "...      ...  ...    ...      ...    ...    ...   ...   ...   ...       ...\n",
       "6267    1.40  4.0    3.0      5.0   62.0   56.0  7.18  7.13  4.44  1.007013\n",
       "11288   0.32  4.0    3.0      6.0   61.1   55.0  4.43  4.45  2.71  0.995506\n",
       "38174   0.51  2.0    3.0      2.0   60.3   61.0  5.12  5.19  3.11  0.986513\n",
       "860     1.04  4.0    4.0      5.0   61.2   57.0  6.50  6.53  3.99  0.995406\n",
       "15802   1.37  3.0    2.0      3.0   62.5   59.0  7.12  7.05  4.43  1.009929\n",
       "\n",
       "[32262 rows x 10 columns]"
      ],
      "text/html": "<div>\n<style scoped>\n    .dataframe tbody tr th:only-of-type {\n        vertical-align: middle;\n    }\n\n    .dataframe tbody tr th {\n        vertical-align: top;\n    }\n\n    .dataframe thead th {\n        text-align: right;\n    }\n</style>\n<table border=\"1\" class=\"dataframe\">\n  <thead>\n    <tr style=\"text-align: right;\">\n      <th></th>\n      <th>carat</th>\n      <th>cut</th>\n      <th>color</th>\n      <th>clarity</th>\n      <th>depth</th>\n      <th>table</th>\n      <th>x</th>\n      <th>y</th>\n      <th>z</th>\n      <th>x/y</th>\n    </tr>\n  </thead>\n  <tbody>\n    <tr>\n      <th>29619</th>\n      <td>0.36</td>\n      <td>4.0</td>\n      <td>6.0</td>\n      <td>2.0</td>\n      <td>59.5</td>\n      <td>56.0</td>\n      <td>4.68</td>\n      <td>4.63</td>\n      <td>2.77</td>\n      <td>1.010799</td>\n    </tr>\n    <tr>\n      <th>28706</th>\n      <td>0.74</td>\n      <td>2.0</td>\n      <td>6.0</td>\n      <td>2.0</td>\n      <td>61.5</td>\n      <td>59.0</td>\n      <td>5.76</td>\n      <td>5.82</td>\n      <td>3.56</td>\n      <td>0.989691</td>\n    </tr>\n    <tr>\n      <th>30448</th>\n      <td>1.03</td>\n      <td>2.0</td>\n      <td>4.0</td>\n      <td>2.0</td>\n      <td>62.5</td>\n      <td>59.0</td>\n      <td>6.41</td>\n      <td>6.45</td>\n      <td>4.02</td>\n      <td>0.993798</td>\n    </tr>\n    <tr>\n      <th>27081</th>\n      <td>0.34</td>\n      <td>4.0</td>\n      <td>2.0</td>\n      <td>5.0</td>\n      <td>61.8</td>\n      <td>54.0</td>\n      <td>4.47</td>\n      <td>4.49</td>\n      <td>2.77</td>\n      <td>0.995546</td>\n    </tr>\n    <tr>\n      <th>3578</th>\n      <td>1.01</td>\n      <td>3.0</td>\n      <td>4.0</td>\n      <td>3.0</td>\n      <td>62.2</td>\n      <td>60.0</td>\n      <td>6.40</td>\n      <td>6.37</td>\n      <td>3.97</td>\n      <td>1.004710</td>\n    </tr>\n    <tr>\n      <th>...</th>\n      <td>...</td>\n      <td>...</td>\n      <td>...</td>\n      <td>...</td>\n      <td>...</td>\n      <td>...</td>\n      <td>...</td>\n      <td>...</td>\n      <td>...</td>\n      <td>...</td>\n    </tr>\n    <tr>\n      <th>6267</th>\n      <td>1.40</td>\n      <td>4.0</td>\n      <td>3.0</td>\n      <td>5.0</td>\n      <td>62.0</td>\n      <td>56.0</td>\n      <td>7.18</td>\n      <td>7.13</td>\n      <td>4.44</td>\n      <td>1.007013</td>\n    </tr>\n    <tr>\n      <th>11288</th>\n      <td>0.32</td>\n      <td>4.0</td>\n      <td>3.0</td>\n      <td>6.0</td>\n      <td>61.1</td>\n      <td>55.0</td>\n      <td>4.43</td>\n      <td>4.45</td>\n      <td>2.71</td>\n      <td>0.995506</td>\n    </tr>\n    <tr>\n      <th>38174</th>\n      <td>0.51</td>\n      <td>2.0</td>\n      <td>3.0</td>\n      <td>2.0</td>\n      <td>60.3</td>\n      <td>61.0</td>\n      <td>5.12</td>\n      <td>5.19</td>\n      <td>3.11</td>\n      <td>0.986513</td>\n    </tr>\n    <tr>\n      <th>860</th>\n      <td>1.04</td>\n      <td>4.0</td>\n      <td>4.0</td>\n      <td>5.0</td>\n      <td>61.2</td>\n      <td>57.0</td>\n      <td>6.50</td>\n      <td>6.53</td>\n      <td>3.99</td>\n      <td>0.995406</td>\n    </tr>\n    <tr>\n      <th>15802</th>\n      <td>1.37</td>\n      <td>3.0</td>\n      <td>2.0</td>\n      <td>3.0</td>\n      <td>62.5</td>\n      <td>59.0</td>\n      <td>7.12</td>\n      <td>7.05</td>\n      <td>4.43</td>\n      <td>1.009929</td>\n    </tr>\n  </tbody>\n</table>\n<p>32262 rows × 10 columns</p>\n</div>"
     },
     "metadata": {},
     "execution_count": 25
    }
   ],
   "source": [
    "X_train"
   ]
  },
  {
   "cell_type": "markdown",
   "metadata": {},
   "source": [
    "### 3. Asignar el modelo (vacío) a una variable\n",
    "Aquí meteríais los parámetros. \n",
    "\n",
    "**Consejo**: Usa GridSearch y vuélvete loca o loco probando modelos e hiperparámetros."
   ]
  },
  {
   "cell_type": "code",
   "execution_count": 26,
   "metadata": {},
   "outputs": [],
   "source": [
    "pipe = Pipeline(steps=[\n",
    "    ('Reg', CatBoostRegressor())\n",
    "])\n",
    "\n",
    "params = {\n",
    "    'Reg': [CatBoostRegressor()],\n",
    "    'Reg__iterations': [1300],\n",
    "    'Reg__learning_rate':[0.08],\n",
    "    'Reg__depth':[8],\n",
    "    'Reg__l2_leaf_reg':[3]\n",
    "}\n",
    "\n",
    "\n",
    "model = GridSearchCV(estimator = pipe,\n",
    "                  param_grid = params,\n",
    "                  cv = 10,\n",
    "                  verbose=1,\n",
    "                  n_jobs=-1)"
   ]
  },
  {
   "cell_type": "markdown",
   "metadata": {},
   "source": [
    "Siempre hay tiempo para una historia:\n",
    "https://catboost.ai/docs/concepts/python-reference_catboostregressor.html"
   ]
  },
  {
   "cell_type": "markdown",
   "metadata": {},
   "source": [
    "### 4. Entrenar el modelo con X_train, y_train"
   ]
  },
  {
   "cell_type": "code",
   "execution_count": 27,
   "metadata": {},
   "outputs": [],
   "source": [
    "#model = CatBoostRegressor(n_estimators=100, random_state=42)"
   ]
  },
  {
   "cell_type": "code",
   "execution_count": 28,
   "metadata": {
    "tags": [
     "outputPrepend"
    ]
   },
   "outputs": [
    {
     "output_type": "stream",
     "name": "stdout",
     "text": [
      "ning: 2.91s\n",
      "934:\tlearn: 339.5901345\ttotal: 7.43s\tremaining: 2.9s\n",
      "935:\tlearn: 339.3846256\ttotal: 7.44s\tremaining: 2.89s\n",
      "936:\tlearn: 339.2946376\ttotal: 7.45s\tremaining: 2.88s\n",
      "937:\tlearn: 339.1600504\ttotal: 7.45s\tremaining: 2.88s\n",
      "938:\tlearn: 339.0753293\ttotal: 7.46s\tremaining: 2.87s\n",
      "939:\tlearn: 338.9655945\ttotal: 7.47s\tremaining: 2.86s\n",
      "940:\tlearn: 338.8812675\ttotal: 7.48s\tremaining: 2.85s\n",
      "941:\tlearn: 338.7323231\ttotal: 7.49s\tremaining: 2.85s\n",
      "942:\tlearn: 338.6144670\ttotal: 7.49s\tremaining: 2.84s\n",
      "943:\tlearn: 338.5355542\ttotal: 7.5s\tremaining: 2.83s\n",
      "944:\tlearn: 338.3518113\ttotal: 7.51s\tremaining: 2.82s\n",
      "945:\tlearn: 338.2513701\ttotal: 7.51s\tremaining: 2.81s\n",
      "946:\tlearn: 338.0830534\ttotal: 7.52s\tremaining: 2.8s\n",
      "947:\tlearn: 338.0691106\ttotal: 7.53s\tremaining: 2.79s\n",
      "948:\tlearn: 337.8725555\ttotal: 7.53s\tremaining: 2.79s\n",
      "949:\tlearn: 337.8484578\ttotal: 7.54s\tremaining: 2.78s\n",
      "950:\tlearn: 337.7819558\ttotal: 7.55s\tremaining: 2.77s\n",
      "951:\tlearn: 337.6552359\ttotal: 7.55s\tremaining: 2.76s\n",
      "952:\tlearn: 337.6009360\ttotal: 7.56s\tremaining: 2.75s\n",
      "953:\tlearn: 337.4950757\ttotal: 7.57s\tremaining: 2.74s\n",
      "954:\tlearn: 337.3437241\ttotal: 7.57s\tremaining: 2.73s\n",
      "955:\tlearn: 337.2706754\ttotal: 7.58s\tremaining: 2.73s\n",
      "956:\tlearn: 337.2240574\ttotal: 7.58s\tremaining: 2.72s\n",
      "957:\tlearn: 337.1902216\ttotal: 7.59s\tremaining: 2.71s\n",
      "958:\tlearn: 337.0343693\ttotal: 7.6s\tremaining: 2.7s\n",
      "959:\tlearn: 336.9349632\ttotal: 7.61s\tremaining: 2.69s\n",
      "960:\tlearn: 336.8908874\ttotal: 7.61s\tremaining: 2.69s\n",
      "961:\tlearn: 336.7076390\ttotal: 7.62s\tremaining: 2.68s\n",
      "962:\tlearn: 336.6255026\ttotal: 7.63s\tremaining: 2.67s\n",
      "963:\tlearn: 336.5170705\ttotal: 7.64s\tremaining: 2.66s\n",
      "964:\tlearn: 336.4403141\ttotal: 7.64s\tremaining: 2.65s\n",
      "965:\tlearn: 336.1876281\ttotal: 7.65s\tremaining: 2.65s\n",
      "966:\tlearn: 336.1143172\ttotal: 7.66s\tremaining: 2.64s\n",
      "967:\tlearn: 336.0495708\ttotal: 7.67s\tremaining: 2.63s\n",
      "968:\tlearn: 335.9048256\ttotal: 7.68s\tremaining: 2.62s\n",
      "969:\tlearn: 335.7718058\ttotal: 7.69s\tremaining: 2.61s\n",
      "970:\tlearn: 335.6179704\ttotal: 7.69s\tremaining: 2.61s\n",
      "971:\tlearn: 335.5329115\ttotal: 7.7s\tremaining: 2.6s\n",
      "972:\tlearn: 335.4404646\ttotal: 7.71s\tremaining: 2.59s\n",
      "973:\tlearn: 335.4364267\ttotal: 7.71s\tremaining: 2.58s\n",
      "974:\tlearn: 335.3829114\ttotal: 7.72s\tremaining: 2.57s\n",
      "975:\tlearn: 335.2708685\ttotal: 7.72s\tremaining: 2.56s\n",
      "976:\tlearn: 335.2319728\ttotal: 7.73s\tremaining: 2.56s\n",
      "977:\tlearn: 335.2080004\ttotal: 7.74s\tremaining: 2.55s\n",
      "978:\tlearn: 335.1716105\ttotal: 7.75s\tremaining: 2.54s\n",
      "979:\tlearn: 335.1447369\ttotal: 7.75s\tremaining: 2.53s\n",
      "980:\tlearn: 335.0859107\ttotal: 7.76s\tremaining: 2.52s\n",
      "981:\tlearn: 335.0179906\ttotal: 7.77s\tremaining: 2.52s\n",
      "982:\tlearn: 334.9640789\ttotal: 7.78s\tremaining: 2.51s\n",
      "983:\tlearn: 334.8265470\ttotal: 7.78s\tremaining: 2.5s\n",
      "984:\tlearn: 334.7583473\ttotal: 7.79s\tremaining: 2.49s\n",
      "985:\tlearn: 334.6656792\ttotal: 7.8s\tremaining: 2.48s\n",
      "986:\tlearn: 334.5754568\ttotal: 7.81s\tremaining: 2.48s\n",
      "987:\tlearn: 334.5453968\ttotal: 7.82s\tremaining: 2.47s\n",
      "988:\tlearn: 334.4737900\ttotal: 7.82s\tremaining: 2.46s\n",
      "989:\tlearn: 334.4272729\ttotal: 7.83s\tremaining: 2.45s\n",
      "990:\tlearn: 334.3987672\ttotal: 7.84s\tremaining: 2.44s\n",
      "991:\tlearn: 334.3407813\ttotal: 7.85s\tremaining: 2.44s\n",
      "992:\tlearn: 334.1210231\ttotal: 7.86s\tremaining: 2.43s\n",
      "993:\tlearn: 333.9901453\ttotal: 7.86s\tremaining: 2.42s\n",
      "994:\tlearn: 333.8182051\ttotal: 7.87s\tremaining: 2.41s\n",
      "995:\tlearn: 333.7559882\ttotal: 7.88s\tremaining: 2.4s\n",
      "996:\tlearn: 333.6505658\ttotal: 7.89s\tremaining: 2.4s\n",
      "997:\tlearn: 333.6193106\ttotal: 7.89s\tremaining: 2.39s\n",
      "998:\tlearn: 333.4813529\ttotal: 7.9s\tremaining: 2.38s\n",
      "999:\tlearn: 333.4448803\ttotal: 7.91s\tremaining: 2.37s\n",
      "1000:\tlearn: 333.4113198\ttotal: 7.92s\tremaining: 2.36s\n",
      "1001:\tlearn: 333.2553470\ttotal: 7.92s\tremaining: 2.36s\n",
      "1002:\tlearn: 333.2020999\ttotal: 7.93s\tremaining: 2.35s\n",
      "1003:\tlearn: 333.1002015\ttotal: 7.94s\tremaining: 2.34s\n",
      "1004:\tlearn: 333.0106001\ttotal: 7.94s\tremaining: 2.33s\n",
      "1005:\tlearn: 332.9223977\ttotal: 7.95s\tremaining: 2.32s\n",
      "1006:\tlearn: 332.8948186\ttotal: 7.96s\tremaining: 2.31s\n",
      "1007:\tlearn: 332.8523644\ttotal: 7.96s\tremaining: 2.31s\n",
      "1008:\tlearn: 332.7879167\ttotal: 7.97s\tremaining: 2.3s\n",
      "1009:\tlearn: 332.7830869\ttotal: 7.97s\tremaining: 2.29s\n",
      "1010:\tlearn: 332.6622035\ttotal: 7.98s\tremaining: 2.28s\n",
      "1011:\tlearn: 332.6461529\ttotal: 7.99s\tremaining: 2.27s\n",
      "1012:\tlearn: 332.5587345\ttotal: 8s\tremaining: 2.27s\n",
      "1013:\tlearn: 332.5000831\ttotal: 8s\tremaining: 2.26s\n",
      "1014:\tlearn: 332.4988507\ttotal: 8.01s\tremaining: 2.25s\n",
      "1015:\tlearn: 332.3152001\ttotal: 8.01s\tremaining: 2.24s\n",
      "1016:\tlearn: 332.2589152\ttotal: 8.02s\tremaining: 2.23s\n",
      "1017:\tlearn: 332.2219999\ttotal: 8.03s\tremaining: 2.22s\n",
      "1018:\tlearn: 332.0786847\ttotal: 8.03s\tremaining: 2.21s\n",
      "1019:\tlearn: 331.9727922\ttotal: 8.04s\tremaining: 2.21s\n",
      "1020:\tlearn: 331.9014266\ttotal: 8.05s\tremaining: 2.2s\n",
      "1021:\tlearn: 331.6856875\ttotal: 8.06s\tremaining: 2.19s\n",
      "1022:\tlearn: 331.6546922\ttotal: 8.06s\tremaining: 2.18s\n",
      "1023:\tlearn: 331.5089468\ttotal: 8.07s\tremaining: 2.17s\n",
      "1024:\tlearn: 331.4433778\ttotal: 8.08s\tremaining: 2.17s\n",
      "1025:\tlearn: 331.2309351\ttotal: 8.09s\tremaining: 2.16s\n",
      "1026:\tlearn: 331.1507948\ttotal: 8.1s\tremaining: 2.15s\n",
      "1027:\tlearn: 331.0764195\ttotal: 8.1s\tremaining: 2.14s\n",
      "1028:\tlearn: 330.9792031\ttotal: 8.11s\tremaining: 2.14s\n",
      "1029:\tlearn: 330.8044655\ttotal: 8.12s\tremaining: 2.13s\n",
      "1030:\tlearn: 330.8003367\ttotal: 8.13s\tremaining: 2.12s\n",
      "1031:\tlearn: 330.6158888\ttotal: 8.13s\tremaining: 2.11s\n",
      "1032:\tlearn: 330.5102676\ttotal: 8.14s\tremaining: 2.1s\n",
      "1033:\tlearn: 330.4523401\ttotal: 8.15s\tremaining: 2.1s\n",
      "1034:\tlearn: 330.3744914\ttotal: 8.15s\tremaining: 2.09s\n",
      "1035:\tlearn: 330.3244039\ttotal: 8.16s\tremaining: 2.08s\n",
      "1036:\tlearn: 330.2105253\ttotal: 8.17s\tremaining: 2.07s\n",
      "1037:\tlearn: 330.1859844\ttotal: 8.18s\tremaining: 2.06s\n",
      "1038:\tlearn: 330.0603738\ttotal: 8.19s\tremaining: 2.06s\n",
      "1039:\tlearn: 329.9355602\ttotal: 8.2s\tremaining: 2.05s\n",
      "1040:\tlearn: 329.8599719\ttotal: 8.2s\tremaining: 2.04s\n",
      "1041:\tlearn: 329.7655238\ttotal: 8.21s\tremaining: 2.03s\n",
      "1042:\tlearn: 329.7633503\ttotal: 8.22s\tremaining: 2.02s\n",
      "1043:\tlearn: 329.6210617\ttotal: 8.23s\tremaining: 2.02s\n",
      "1044:\tlearn: 329.4768370\ttotal: 8.23s\tremaining: 2.01s\n",
      "1045:\tlearn: 329.3013438\ttotal: 8.24s\tremaining: 2s\n",
      "1046:\tlearn: 329.1959886\ttotal: 8.25s\tremaining: 1.99s\n",
      "1047:\tlearn: 329.0502634\ttotal: 8.26s\tremaining: 1.99s\n",
      "1048:\tlearn: 328.8526577\ttotal: 8.26s\tremaining: 1.98s\n",
      "1049:\tlearn: 328.8198643\ttotal: 8.27s\tremaining: 1.97s\n",
      "1050:\tlearn: 328.7334119\ttotal: 8.28s\tremaining: 1.96s\n",
      "1051:\tlearn: 328.6359577\ttotal: 8.29s\tremaining: 1.95s\n",
      "1052:\tlearn: 328.5573125\ttotal: 8.3s\tremaining: 1.95s\n",
      "1053:\tlearn: 328.4441392\ttotal: 8.3s\tremaining: 1.94s\n",
      "1054:\tlearn: 328.3914157\ttotal: 8.31s\tremaining: 1.93s\n",
      "1055:\tlearn: 328.2378563\ttotal: 8.32s\tremaining: 1.92s\n",
      "1056:\tlearn: 328.0927376\ttotal: 8.32s\tremaining: 1.91s\n",
      "1057:\tlearn: 328.0379587\ttotal: 8.33s\tremaining: 1.91s\n",
      "1058:\tlearn: 327.8803781\ttotal: 8.34s\tremaining: 1.9s\n",
      "1059:\tlearn: 327.7956593\ttotal: 8.35s\tremaining: 1.89s\n",
      "1060:\tlearn: 327.6959520\ttotal: 8.36s\tremaining: 1.88s\n",
      "1061:\tlearn: 327.5884028\ttotal: 8.38s\tremaining: 1.88s\n",
      "1062:\tlearn: 327.4519813\ttotal: 8.38s\tremaining: 1.87s\n",
      "1063:\tlearn: 327.3051646\ttotal: 8.39s\tremaining: 1.86s\n",
      "1064:\tlearn: 327.1839373\ttotal: 8.4s\tremaining: 1.85s\n",
      "1065:\tlearn: 326.9897927\ttotal: 8.41s\tremaining: 1.84s\n",
      "1066:\tlearn: 326.9682010\ttotal: 8.42s\tremaining: 1.84s\n",
      "1067:\tlearn: 326.9066115\ttotal: 8.42s\tremaining: 1.83s\n",
      "1068:\tlearn: 326.7794354\ttotal: 8.43s\tremaining: 1.82s\n",
      "1069:\tlearn: 326.6850455\ttotal: 8.44s\tremaining: 1.81s\n",
      "1070:\tlearn: 326.6024450\ttotal: 8.45s\tremaining: 1.8s\n",
      "1071:\tlearn: 326.4634568\ttotal: 8.45s\tremaining: 1.8s\n",
      "1072:\tlearn: 326.3093567\ttotal: 8.46s\tremaining: 1.79s\n",
      "1073:\tlearn: 326.2200174\ttotal: 8.47s\tremaining: 1.78s\n",
      "1074:\tlearn: 326.1774629\ttotal: 8.47s\tremaining: 1.77s\n",
      "1075:\tlearn: 326.0175752\ttotal: 8.48s\tremaining: 1.76s\n",
      "1076:\tlearn: 325.9154590\ttotal: 8.48s\tremaining: 1.76s\n",
      "1077:\tlearn: 325.8866487\ttotal: 8.49s\tremaining: 1.75s\n",
      "1078:\tlearn: 325.8234762\ttotal: 8.5s\tremaining: 1.74s\n",
      "1079:\tlearn: 325.7729620\ttotal: 8.51s\tremaining: 1.73s\n",
      "1080:\tlearn: 325.6331403\ttotal: 8.51s\tremaining: 1.72s\n",
      "1081:\tlearn: 325.5341967\ttotal: 8.52s\tremaining: 1.72s\n",
      "1082:\tlearn: 325.4265309\ttotal: 8.53s\tremaining: 1.71s\n",
      "1083:\tlearn: 325.3472949\ttotal: 8.53s\tremaining: 1.7s\n",
      "1084:\tlearn: 325.2405412\ttotal: 8.54s\tremaining: 1.69s\n",
      "1085:\tlearn: 325.1321273\ttotal: 8.55s\tremaining: 1.68s\n",
      "1086:\tlearn: 325.0651838\ttotal: 8.56s\tremaining: 1.68s\n",
      "1087:\tlearn: 324.9699730\ttotal: 8.57s\tremaining: 1.67s\n",
      "1088:\tlearn: 324.6799638\ttotal: 8.58s\tremaining: 1.66s\n",
      "1089:\tlearn: 324.5154948\ttotal: 8.58s\tremaining: 1.65s\n",
      "1090:\tlearn: 324.3840374\ttotal: 8.59s\tremaining: 1.65s\n",
      "1091:\tlearn: 324.2876573\ttotal: 8.6s\tremaining: 1.64s\n",
      "1092:\tlearn: 324.2507658\ttotal: 8.6s\tremaining: 1.63s\n",
      "1093:\tlearn: 324.1715002\ttotal: 8.61s\tremaining: 1.62s\n",
      "1094:\tlearn: 324.1053155\ttotal: 8.62s\tremaining: 1.61s\n",
      "1095:\tlearn: 324.0000780\ttotal: 8.63s\tremaining: 1.61s\n",
      "1096:\tlearn: 323.8781678\ttotal: 8.64s\tremaining: 1.6s\n",
      "1097:\tlearn: 323.7980008\ttotal: 8.64s\tremaining: 1.59s\n",
      "1098:\tlearn: 323.7241865\ttotal: 8.65s\tremaining: 1.58s\n",
      "1099:\tlearn: 323.6337601\ttotal: 8.66s\tremaining: 1.57s\n",
      "1100:\tlearn: 323.4282940\ttotal: 8.66s\tremaining: 1.57s\n",
      "1101:\tlearn: 323.3625614\ttotal: 8.67s\tremaining: 1.56s\n",
      "1102:\tlearn: 323.2773382\ttotal: 8.68s\tremaining: 1.55s\n",
      "1103:\tlearn: 323.1528777\ttotal: 8.69s\tremaining: 1.54s\n",
      "1104:\tlearn: 323.0646762\ttotal: 8.69s\tremaining: 1.53s\n",
      "1105:\tlearn: 322.9433152\ttotal: 8.7s\tremaining: 1.53s\n",
      "1106:\tlearn: 322.8360530\ttotal: 8.71s\tremaining: 1.52s\n",
      "1107:\tlearn: 322.7806057\ttotal: 8.72s\tremaining: 1.51s\n",
      "1108:\tlearn: 322.6564298\ttotal: 8.73s\tremaining: 1.5s\n",
      "1109:\tlearn: 322.5539977\ttotal: 8.73s\tremaining: 1.5s\n",
      "1110:\tlearn: 322.4476238\ttotal: 8.74s\tremaining: 1.49s\n",
      "1111:\tlearn: 322.4087342\ttotal: 8.75s\tremaining: 1.48s\n",
      "1112:\tlearn: 322.3139408\ttotal: 8.76s\tremaining: 1.47s\n",
      "1113:\tlearn: 322.2499307\ttotal: 8.77s\tremaining: 1.46s\n",
      "1114:\tlearn: 322.1195477\ttotal: 8.78s\tremaining: 1.46s\n",
      "1115:\tlearn: 322.0110599\ttotal: 8.79s\tremaining: 1.45s\n",
      "1116:\tlearn: 321.8585553\ttotal: 8.79s\tremaining: 1.44s\n",
      "1117:\tlearn: 321.8042210\ttotal: 8.8s\tremaining: 1.43s\n",
      "1118:\tlearn: 321.6423819\ttotal: 8.81s\tremaining: 1.42s\n",
      "1119:\tlearn: 321.6053044\ttotal: 8.82s\tremaining: 1.42s\n",
      "1120:\tlearn: 321.4617099\ttotal: 8.82s\tremaining: 1.41s\n",
      "1121:\tlearn: 321.3732090\ttotal: 8.83s\tremaining: 1.4s\n",
      "1122:\tlearn: 321.2401140\ttotal: 8.84s\tremaining: 1.39s\n",
      "1123:\tlearn: 321.1164704\ttotal: 8.84s\tremaining: 1.38s\n",
      "1124:\tlearn: 321.0351916\ttotal: 8.85s\tremaining: 1.38s\n",
      "1125:\tlearn: 320.9059158\ttotal: 8.86s\tremaining: 1.37s\n",
      "1126:\tlearn: 320.7454323\ttotal: 8.86s\tremaining: 1.36s\n",
      "1127:\tlearn: 320.6552813\ttotal: 8.87s\tremaining: 1.35s\n",
      "1128:\tlearn: 320.5510188\ttotal: 8.88s\tremaining: 1.34s\n",
      "1129:\tlearn: 320.4761008\ttotal: 8.89s\tremaining: 1.34s\n",
      "1130:\tlearn: 320.3887646\ttotal: 8.89s\tremaining: 1.33s\n",
      "1131:\tlearn: 320.3353621\ttotal: 8.9s\tremaining: 1.32s\n",
      "1132:\tlearn: 320.3115089\ttotal: 8.91s\tremaining: 1.31s\n",
      "1133:\tlearn: 320.1616051\ttotal: 8.91s\tremaining: 1.3s\n",
      "1134:\tlearn: 320.0972368\ttotal: 8.92s\tremaining: 1.3s\n",
      "1135:\tlearn: 319.9526436\ttotal: 8.93s\tremaining: 1.29s\n",
      "1136:\tlearn: 319.8953300\ttotal: 8.93s\tremaining: 1.28s\n",
      "1137:\tlearn: 319.7973242\ttotal: 8.94s\tremaining: 1.27s\n",
      "1138:\tlearn: 319.7460160\ttotal: 8.95s\tremaining: 1.26s\n",
      "1139:\tlearn: 319.6120476\ttotal: 8.95s\tremaining: 1.26s\n",
      "1140:\tlearn: 319.4781953\ttotal: 8.96s\tremaining: 1.25s\n",
      "1141:\tlearn: 319.3519239\ttotal: 8.96s\tremaining: 1.24s\n",
      "1142:\tlearn: 319.2518612\ttotal: 8.97s\tremaining: 1.23s\n",
      "1143:\tlearn: 319.1339126\ttotal: 8.98s\tremaining: 1.22s\n",
      "1144:\tlearn: 319.0982170\ttotal: 8.99s\tremaining: 1.22s\n",
      "1145:\tlearn: 319.0529887\ttotal: 8.99s\tremaining: 1.21s\n",
      "1146:\tlearn: 318.9344532\ttotal: 9s\tremaining: 1.2s\n",
      "1147:\tlearn: 318.7358593\ttotal: 9.01s\tremaining: 1.19s\n",
      "1148:\tlearn: 318.6878128\ttotal: 9.02s\tremaining: 1.19s\n",
      "1149:\tlearn: 318.6434995\ttotal: 9.03s\tremaining: 1.18s\n",
      "1150:\tlearn: 318.6029098\ttotal: 9.04s\tremaining: 1.17s\n",
      "1151:\tlearn: 318.5012426\ttotal: 9.04s\tremaining: 1.16s\n",
      "1152:\tlearn: 318.4092710\ttotal: 9.05s\tremaining: 1.15s\n",
      "1153:\tlearn: 318.3143551\ttotal: 9.06s\tremaining: 1.15s\n",
      "1154:\tlearn: 318.2429863\ttotal: 9.07s\tremaining: 1.14s\n",
      "1155:\tlearn: 318.0933539\ttotal: 9.07s\tremaining: 1.13s\n",
      "1156:\tlearn: 317.9834616\ttotal: 9.09s\tremaining: 1.12s\n",
      "1157:\tlearn: 317.9042828\ttotal: 9.09s\tremaining: 1.11s\n",
      "1158:\tlearn: 317.8099930\ttotal: 9.1s\tremaining: 1.11s\n",
      "1159:\tlearn: 317.7738888\ttotal: 9.11s\tremaining: 1.1s\n",
      "1160:\tlearn: 317.6379181\ttotal: 9.12s\tremaining: 1.09s\n",
      "1161:\tlearn: 317.5235290\ttotal: 9.12s\tremaining: 1.08s\n",
      "1162:\tlearn: 317.4161170\ttotal: 9.13s\tremaining: 1.07s\n",
      "1163:\tlearn: 317.3154337\ttotal: 9.14s\tremaining: 1.07s\n",
      "1164:\tlearn: 317.2491623\ttotal: 9.15s\tremaining: 1.06s\n",
      "1165:\tlearn: 317.1960818\ttotal: 9.15s\tremaining: 1.05s\n",
      "1166:\tlearn: 317.0732280\ttotal: 9.16s\tremaining: 1.04s\n",
      "1167:\tlearn: 316.9722638\ttotal: 9.17s\tremaining: 1.04s\n",
      "1168:\tlearn: 316.9149989\ttotal: 9.18s\tremaining: 1.03s\n",
      "1169:\tlearn: 316.7607026\ttotal: 9.18s\tremaining: 1.02s\n",
      "1170:\tlearn: 316.6759022\ttotal: 9.19s\tremaining: 1.01s\n",
      "1171:\tlearn: 316.6195768\ttotal: 9.2s\tremaining: 1s\n",
      "1172:\tlearn: 316.5887103\ttotal: 9.21s\tremaining: 997ms\n",
      "1173:\tlearn: 316.4971277\ttotal: 9.21s\tremaining: 989ms\n",
      "1174:\tlearn: 316.4031217\ttotal: 9.22s\tremaining: 981ms\n",
      "1175:\tlearn: 316.3448456\ttotal: 9.23s\tremaining: 973ms\n",
      "1176:\tlearn: 316.3168654\ttotal: 9.24s\tremaining: 966ms\n",
      "1177:\tlearn: 316.2309792\ttotal: 9.25s\tremaining: 958ms\n",
      "1178:\tlearn: 316.1575874\ttotal: 9.26s\tremaining: 950ms\n",
      "1179:\tlearn: 316.0894605\ttotal: 9.26s\tremaining: 942ms\n",
      "1180:\tlearn: 316.0638704\ttotal: 9.27s\tremaining: 934ms\n",
      "1181:\tlearn: 316.0500375\ttotal: 9.28s\tremaining: 927ms\n",
      "1182:\tlearn: 316.0173985\ttotal: 9.29s\tremaining: 919ms\n",
      "1183:\tlearn: 315.9617976\ttotal: 9.3s\tremaining: 911ms\n",
      "1184:\tlearn: 315.8384276\ttotal: 9.3s\tremaining: 903ms\n",
      "1185:\tlearn: 315.7250746\ttotal: 9.31s\tremaining: 895ms\n",
      "1186:\tlearn: 315.6402784\ttotal: 9.32s\tremaining: 887ms\n",
      "1187:\tlearn: 315.5388636\ttotal: 9.33s\tremaining: 879ms\n",
      "1188:\tlearn: 315.4971321\ttotal: 9.33s\tremaining: 871ms\n",
      "1189:\tlearn: 315.4321584\ttotal: 9.34s\tremaining: 863ms\n",
      "1190:\tlearn: 315.3647567\ttotal: 9.35s\tremaining: 855ms\n",
      "1191:\tlearn: 315.1836699\ttotal: 9.35s\tremaining: 847ms\n",
      "1192:\tlearn: 315.1659624\ttotal: 9.36s\tremaining: 839ms\n",
      "1193:\tlearn: 315.0561880\ttotal: 9.37s\tremaining: 832ms\n",
      "1194:\tlearn: 314.9882574\ttotal: 9.37s\tremaining: 824ms\n",
      "1195:\tlearn: 314.8447781\ttotal: 9.38s\tremaining: 816ms\n",
      "1196:\tlearn: 314.6952614\ttotal: 9.39s\tremaining: 808ms\n",
      "1197:\tlearn: 314.6337478\ttotal: 9.39s\tremaining: 800ms\n",
      "1198:\tlearn: 314.6108315\ttotal: 9.4s\tremaining: 792ms\n",
      "1199:\tlearn: 314.5508339\ttotal: 9.41s\tremaining: 784ms\n",
      "1200:\tlearn: 314.4739872\ttotal: 9.41s\tremaining: 776ms\n",
      "1201:\tlearn: 314.3958362\ttotal: 9.42s\tremaining: 768ms\n",
      "1202:\tlearn: 314.3028127\ttotal: 9.43s\tremaining: 760ms\n",
      "1203:\tlearn: 314.2284696\ttotal: 9.43s\tremaining: 752ms\n",
      "1204:\tlearn: 314.0916990\ttotal: 9.44s\tremaining: 744ms\n",
      "1205:\tlearn: 314.0119679\ttotal: 9.45s\tremaining: 736ms\n",
      "1206:\tlearn: 313.9157244\ttotal: 9.46s\tremaining: 729ms\n",
      "1207:\tlearn: 313.8545495\ttotal: 9.46s\tremaining: 721ms\n",
      "1208:\tlearn: 313.8150706\ttotal: 9.47s\tremaining: 713ms\n",
      "1209:\tlearn: 313.6715340\ttotal: 9.48s\tremaining: 705ms\n",
      "1210:\tlearn: 313.5358466\ttotal: 9.49s\tremaining: 697ms\n",
      "1211:\tlearn: 313.4111341\ttotal: 9.49s\tremaining: 689ms\n",
      "1212:\tlearn: 313.3772308\ttotal: 9.5s\tremaining: 682ms\n",
      "1213:\tlearn: 313.2071314\ttotal: 9.51s\tremaining: 674ms\n",
      "1214:\tlearn: 313.1210859\ttotal: 9.52s\tremaining: 666ms\n",
      "1215:\tlearn: 313.0509441\ttotal: 9.53s\tremaining: 658ms\n",
      "1216:\tlearn: 312.9586762\ttotal: 9.53s\tremaining: 650ms\n",
      "1217:\tlearn: 312.8481031\ttotal: 9.54s\tremaining: 642ms\n",
      "1218:\tlearn: 312.6999507\ttotal: 9.55s\tremaining: 634ms\n",
      "1219:\tlearn: 312.5701015\ttotal: 9.56s\tremaining: 627ms\n",
      "1220:\tlearn: 312.4188347\ttotal: 9.56s\tremaining: 619ms\n",
      "1221:\tlearn: 312.3799734\ttotal: 9.57s\tremaining: 611ms\n",
      "1222:\tlearn: 312.1842086\ttotal: 9.58s\tremaining: 603ms\n",
      "1223:\tlearn: 312.0521771\ttotal: 9.59s\tremaining: 596ms\n",
      "1224:\tlearn: 312.0329701\ttotal: 9.6s\tremaining: 588ms\n",
      "1225:\tlearn: 312.0007529\ttotal: 9.61s\tremaining: 580ms\n",
      "1226:\tlearn: 311.9613220\ttotal: 9.62s\tremaining: 572ms\n",
      "1227:\tlearn: 311.9161703\ttotal: 9.62s\tremaining: 564ms\n",
      "1228:\tlearn: 311.8599208\ttotal: 9.63s\tremaining: 557ms\n",
      "1229:\tlearn: 311.7459135\ttotal: 9.64s\tremaining: 549ms\n",
      "1230:\tlearn: 311.6257994\ttotal: 9.65s\tremaining: 541ms\n",
      "1231:\tlearn: 311.5280183\ttotal: 9.66s\tremaining: 533ms\n",
      "1232:\tlearn: 311.4783785\ttotal: 9.67s\tremaining: 525ms\n",
      "1233:\tlearn: 311.3558753\ttotal: 9.67s\tremaining: 517ms\n",
      "1234:\tlearn: 311.3008986\ttotal: 9.68s\tremaining: 510ms\n",
      "1235:\tlearn: 311.2699968\ttotal: 9.69s\tremaining: 502ms\n",
      "1236:\tlearn: 311.1684904\ttotal: 9.7s\tremaining: 494ms\n",
      "1237:\tlearn: 311.1058139\ttotal: 9.7s\tremaining: 486ms\n",
      "1238:\tlearn: 310.9912390\ttotal: 9.71s\tremaining: 478ms\n",
      "1239:\tlearn: 310.9091300\ttotal: 9.72s\tremaining: 470ms\n",
      "1240:\tlearn: 310.8658675\ttotal: 9.72s\tremaining: 462ms\n",
      "1241:\tlearn: 310.7814180\ttotal: 9.73s\tremaining: 455ms\n",
      "1242:\tlearn: 310.7697405\ttotal: 9.74s\tremaining: 447ms\n",
      "1243:\tlearn: 310.6121278\ttotal: 9.75s\tremaining: 439ms\n",
      "1244:\tlearn: 310.5908456\ttotal: 9.75s\tremaining: 431ms\n",
      "1245:\tlearn: 310.5137100\ttotal: 9.76s\tremaining: 423ms\n",
      "1246:\tlearn: 310.4593803\ttotal: 9.77s\tremaining: 415ms\n",
      "1247:\tlearn: 310.3451103\ttotal: 9.78s\tremaining: 408ms\n",
      "1248:\tlearn: 310.1504269\ttotal: 9.79s\tremaining: 400ms\n",
      "1249:\tlearn: 310.0862455\ttotal: 9.8s\tremaining: 392ms\n",
      "1250:\tlearn: 309.9969451\ttotal: 9.8s\tremaining: 384ms\n",
      "1251:\tlearn: 309.9439255\ttotal: 9.81s\tremaining: 376ms\n",
      "1252:\tlearn: 309.8799639\ttotal: 9.82s\tremaining: 368ms\n",
      "1253:\tlearn: 309.7884789\ttotal: 9.83s\tremaining: 360ms\n",
      "1254:\tlearn: 309.7320357\ttotal: 9.83s\tremaining: 353ms\n",
      "1255:\tlearn: 309.6510672\ttotal: 9.84s\tremaining: 345ms\n",
      "1256:\tlearn: 309.5952088\ttotal: 9.85s\tremaining: 337ms\n",
      "1257:\tlearn: 309.5117516\ttotal: 9.86s\tremaining: 329ms\n",
      "1258:\tlearn: 309.4487622\ttotal: 9.86s\tremaining: 321ms\n",
      "1259:\tlearn: 309.4118655\ttotal: 9.87s\tremaining: 313ms\n",
      "1260:\tlearn: 309.3480439\ttotal: 9.87s\tremaining: 305ms\n",
      "1261:\tlearn: 309.2269423\ttotal: 9.88s\tremaining: 298ms\n",
      "1262:\tlearn: 309.1629508\ttotal: 9.89s\tremaining: 290ms\n",
      "1263:\tlearn: 309.0982052\ttotal: 9.89s\tremaining: 282ms\n",
      "1264:\tlearn: 309.0670260\ttotal: 9.9s\tremaining: 274ms\n",
      "1265:\tlearn: 308.9638465\ttotal: 9.91s\tremaining: 266ms\n",
      "1266:\tlearn: 308.9553044\ttotal: 9.91s\tremaining: 258ms\n",
      "1267:\tlearn: 308.8741796\ttotal: 9.92s\tremaining: 250ms\n",
      "1268:\tlearn: 308.8660833\ttotal: 9.93s\tremaining: 242ms\n",
      "1269:\tlearn: 308.7520840\ttotal: 9.93s\tremaining: 235ms\n",
      "1270:\tlearn: 308.6033347\ttotal: 9.94s\tremaining: 227ms\n",
      "1271:\tlearn: 308.5276901\ttotal: 9.95s\tremaining: 219ms\n",
      "1272:\tlearn: 308.4659715\ttotal: 9.96s\tremaining: 211ms\n",
      "1273:\tlearn: 308.4583186\ttotal: 9.96s\tremaining: 203ms\n",
      "1274:\tlearn: 308.3624621\ttotal: 9.97s\tremaining: 196ms\n",
      "1275:\tlearn: 308.2878999\ttotal: 9.98s\tremaining: 188ms\n",
      "1276:\tlearn: 308.2203029\ttotal: 9.99s\tremaining: 180ms\n",
      "1277:\tlearn: 308.1072941\ttotal: 10s\tremaining: 172ms\n",
      "1278:\tlearn: 308.0070171\ttotal: 10s\tremaining: 164ms\n",
      "1279:\tlearn: 307.9418765\ttotal: 10s\tremaining: 156ms\n",
      "1280:\tlearn: 307.8544130\ttotal: 10s\tremaining: 149ms\n",
      "1281:\tlearn: 307.7407718\ttotal: 10s\tremaining: 141ms\n",
      "1282:\tlearn: 307.5786045\ttotal: 10s\tremaining: 133ms\n",
      "1283:\tlearn: 307.4135973\ttotal: 10s\tremaining: 125ms\n",
      "1284:\tlearn: 307.3394055\ttotal: 10s\tremaining: 117ms\n",
      "1285:\tlearn: 307.2887146\ttotal: 10.1s\tremaining: 109ms\n",
      "1286:\tlearn: 307.2063737\ttotal: 10.1s\tremaining: 102ms\n",
      "1287:\tlearn: 307.1792805\ttotal: 10.1s\tremaining: 93.8ms\n",
      "1288:\tlearn: 307.0372213\ttotal: 10.1s\tremaining: 86ms\n",
      "1289:\tlearn: 307.0005075\ttotal: 10.1s\tremaining: 78.2ms\n",
      "1290:\tlearn: 306.9548154\ttotal: 10.1s\tremaining: 70.4ms\n",
      "1291:\tlearn: 306.9078172\ttotal: 10.1s\tremaining: 62.5ms\n",
      "1292:\tlearn: 306.7953827\ttotal: 10.1s\tremaining: 54.7ms\n",
      "1293:\tlearn: 306.6852124\ttotal: 10.1s\tremaining: 46.9ms\n",
      "1294:\tlearn: 306.5335954\ttotal: 10.1s\tremaining: 39.1ms\n",
      "1295:\tlearn: 306.4654155\ttotal: 10.1s\tremaining: 31.3ms\n",
      "1296:\tlearn: 306.3956848\ttotal: 10.1s\tremaining: 23.5ms\n",
      "1297:\tlearn: 306.2974830\ttotal: 10.1s\tremaining: 15.6ms\n",
      "1298:\tlearn: 306.1731559\ttotal: 10.2s\tremaining: 7.82ms\n",
      "1299:\tlearn: 306.0886842\ttotal: 10.2s\tremaining: 0us\n"
     ]
    },
    {
     "output_type": "execute_result",
     "data": {
      "text/plain": [
       "GridSearchCV(cv=10,\n",
       "             estimator=Pipeline(steps=[('Reg',\n",
       "                                        <catboost.core.CatBoostRegressor object at 0x0000025691676C48>)]),\n",
       "             n_jobs=-1,\n",
       "             param_grid={'Reg': [<catboost.core.CatBoostRegressor object at 0x0000025691676888>],\n",
       "                         'Reg__depth': [8], 'Reg__iterations': [1300],\n",
       "                         'Reg__l2_leaf_reg': [3],\n",
       "                         'Reg__learning_rate': [0.08]},\n",
       "             verbose=1)"
      ]
     },
     "metadata": {},
     "execution_count": 28
    }
   ],
   "source": [
    "model.fit(X_train, y_train)"
   ]
  },
  {
   "cell_type": "code",
   "execution_count": 29,
   "metadata": {},
   "outputs": [
    {
     "output_type": "stream",
     "name": "stdout",
     "text": [
      "Pipeline(steps=[('Reg',\n                 <catboost.core.CatBoostRegressor object at 0x00000256F0AD4A48>)])\n0.9827384706856431\n{'Reg': <catboost.core.CatBoostRegressor object at 0x0000025691676888>, 'Reg__depth': 8, 'Reg__iterations': 1300, 'Reg__l2_leaf_reg': 3, 'Reg__learning_rate': 0.08}\n"
     ]
    }
   ],
   "source": [
    "print(model.best_estimator_)\n",
    "print(model.best_score_)\n",
    "print(model.best_params_)"
   ]
  },
  {
   "cell_type": "markdown",
   "metadata": {},
   "source": [
    "### 5. Predecir con el modelo ya entrenado con X_test"
   ]
  },
  {
   "cell_type": "code",
   "execution_count": 30,
   "metadata": {},
   "outputs": [
    {
     "output_type": "stream",
     "name": "stdout",
     "text": [
      "[7253.76969512 5167.80922738 8610.01098374 ... 1359.3853608  2991.99250025\n 1536.52412962]\n"
     ]
    }
   ],
   "source": [
    "predictions = model.predict(X_test)\n",
    "print(predictions)"
   ]
  },
  {
   "cell_type": "markdown",
   "metadata": {},
   "source": [
    "### 6. Sacar métricas, valorar el modelo \n",
    "\n",
    "Recuerdo que en la competición se va a evaluar con la métrica de RMSE."
   ]
  },
  {
   "cell_type": "code",
   "execution_count": 31,
   "metadata": {},
   "outputs": [
    {
     "output_type": "execute_result",
     "data": {
      "text/plain": [
       "516.5682224197252"
      ]
     },
     "metadata": {},
     "execution_count": 31
    }
   ],
   "source": [
    "np.sqrt(mean_squared_error(y_test, predictions))"
   ]
  },
  {
   "cell_type": "markdown",
   "metadata": {},
   "source": [
    "-----------------------------------------------------------------"
   ]
  },
  {
   "cell_type": "markdown",
   "metadata": {},
   "source": [
    "## Una vez listo el modelo, toca predecir con el dataset de predicción "
   ]
  },
  {
   "cell_type": "markdown",
   "metadata": {},
   "source": [
    "Definición de **modelo que está listo**. \n",
    "\n",
    "_Tras hacer suficientes pruebas, analizar los datos, hacer feature engineering, probar diferentes modelos con diferentes parámetros, es con este con el que observo mejores métricas y menos overfitting. ¡Cuidado con el overfitting aquí! Si vuestro modelo aprende muy bien de estos datos pero hay overfitting cuando le pasemos los datos desconocidos de `diamonds_test.csv` nos arriesgamos a que digamos, no salga lo esperado._"
   ]
  },
  {
   "cell_type": "markdown",
   "metadata": {},
   "source": [
    "### 1. Entrena dicho modelo con TODOS tus datos de train, esto es con `diamonds_train.csv` al completo.\n",
    "\n",
    "**CON LAS TRANSFORMACIONES QUE LE HAYAS REALIZADO A `X` INCLUÍDAS.**\n",
    "\n",
    "Véase:\n",
    "- Estandarización/Normalización\n",
    "- Eliminación de Outliers\n",
    "- Eliminación de columnas\n",
    "- Creación de columnas nuevas\n",
    "- Gestión de valores nulos\n",
    "- Y un largo etcétera de técnicas que como Data Scientist hayas considerado las mejores para tu dataset."
   ]
  },
  {
   "cell_type": "markdown",
   "metadata": {},
   "source": [
    "### 2. Carga los datos de `diamonds_test.csv` para predecir.\n",
    "\n",
    "**¿De dónde saco `diamonds_test.csv`?**"
   ]
  },
  {
   "cell_type": "code",
   "execution_count": 32,
   "metadata": {},
   "outputs": [
    {
     "output_type": "execute_result",
     "data": {
      "text/plain": [
       "   carat        cut color clarity  depth  table     x     y     z\n",
       "0   0.30      Ideal     H     SI2   60.0   56.0  4.41  4.43  2.65\n",
       "1   0.34      Ideal     D      IF   62.1   57.0  4.52  4.46  2.79\n",
       "2   1.57  Very Good     I     VS2   60.3   58.0  7.58  7.55  4.56\n",
       "3   0.31      Ideal     H     VS2   61.8   57.0  4.32  4.36  2.68\n",
       "4   1.51       Good     I    VVS1   64.0   60.0  7.26  7.21  4.63"
      ],
      "text/html": "<div>\n<style scoped>\n    .dataframe tbody tr th:only-of-type {\n        vertical-align: middle;\n    }\n\n    .dataframe tbody tr th {\n        vertical-align: top;\n    }\n\n    .dataframe thead th {\n        text-align: right;\n    }\n</style>\n<table border=\"1\" class=\"dataframe\">\n  <thead>\n    <tr style=\"text-align: right;\">\n      <th></th>\n      <th>carat</th>\n      <th>cut</th>\n      <th>color</th>\n      <th>clarity</th>\n      <th>depth</th>\n      <th>table</th>\n      <th>x</th>\n      <th>y</th>\n      <th>z</th>\n    </tr>\n  </thead>\n  <tbody>\n    <tr>\n      <th>0</th>\n      <td>0.30</td>\n      <td>Ideal</td>\n      <td>H</td>\n      <td>SI2</td>\n      <td>60.0</td>\n      <td>56.0</td>\n      <td>4.41</td>\n      <td>4.43</td>\n      <td>2.65</td>\n    </tr>\n    <tr>\n      <th>1</th>\n      <td>0.34</td>\n      <td>Ideal</td>\n      <td>D</td>\n      <td>IF</td>\n      <td>62.1</td>\n      <td>57.0</td>\n      <td>4.52</td>\n      <td>4.46</td>\n      <td>2.79</td>\n    </tr>\n    <tr>\n      <th>2</th>\n      <td>1.57</td>\n      <td>Very Good</td>\n      <td>I</td>\n      <td>VS2</td>\n      <td>60.3</td>\n      <td>58.0</td>\n      <td>7.58</td>\n      <td>7.55</td>\n      <td>4.56</td>\n    </tr>\n    <tr>\n      <th>3</th>\n      <td>0.31</td>\n      <td>Ideal</td>\n      <td>H</td>\n      <td>VS2</td>\n      <td>61.8</td>\n      <td>57.0</td>\n      <td>4.32</td>\n      <td>4.36</td>\n      <td>2.68</td>\n    </tr>\n    <tr>\n      <th>4</th>\n      <td>1.51</td>\n      <td>Good</td>\n      <td>I</td>\n      <td>VVS1</td>\n      <td>64.0</td>\n      <td>60.0</td>\n      <td>7.26</td>\n      <td>7.21</td>\n      <td>4.63</td>\n    </tr>\n  </tbody>\n</table>\n</div>"
     },
     "metadata": {},
     "execution_count": 32
    }
   ],
   "source": [
    "X_pred = pd.read_csv(\"../diamonds_test.csv\", index_col=0)\n",
    "X_pred.head()"
   ]
  },
  {
   "cell_type": "code",
   "execution_count": 33,
   "metadata": {},
   "outputs": [],
   "source": [
    "X_pred[\"x/y\"] = X_pred[\"x\"]/X_pred[\"y\"]"
   ]
  },
  {
   "cell_type": "code",
   "execution_count": 34,
   "metadata": {},
   "outputs": [],
   "source": [
    "cut_labels = ['Fair', 'Good', 'Very Good', 'Premium', 'Ideal']\n",
    "color_labels = ['J','I','H','G','F','E','D']\n",
    "clarity_labels =['I1','SI2','SI1','VS2','VS1','VVS2','VVS1', 'IF']\n",
    "\n",
    "oe = preprocessing.OrdinalEncoder(categories=[cut_labels, color_labels, clarity_labels])"
   ]
  },
  {
   "cell_type": "code",
   "execution_count": 35,
   "metadata": {},
   "outputs": [
    {
     "output_type": "execute_result",
     "data": {
      "text/plain": [
       "   carat  cut  color  clarity  depth  table     x     y     z       x/y\n",
       "0   0.30  4.0    2.0      1.0   60.0   56.0  4.41  4.43  2.65  0.995485\n",
       "1   0.34  4.0    6.0      7.0   62.1   57.0  4.52  4.46  2.79  1.013453\n",
       "2   1.57  2.0    1.0      3.0   60.3   58.0  7.58  7.55  4.56  1.003974\n",
       "3   0.31  4.0    2.0      3.0   61.8   57.0  4.32  4.36  2.68  0.990826\n",
       "4   1.51  1.0    1.0      6.0   64.0   60.0  7.26  7.21  4.63  1.006935"
      ],
      "text/html": "<div>\n<style scoped>\n    .dataframe tbody tr th:only-of-type {\n        vertical-align: middle;\n    }\n\n    .dataframe tbody tr th {\n        vertical-align: top;\n    }\n\n    .dataframe thead th {\n        text-align: right;\n    }\n</style>\n<table border=\"1\" class=\"dataframe\">\n  <thead>\n    <tr style=\"text-align: right;\">\n      <th></th>\n      <th>carat</th>\n      <th>cut</th>\n      <th>color</th>\n      <th>clarity</th>\n      <th>depth</th>\n      <th>table</th>\n      <th>x</th>\n      <th>y</th>\n      <th>z</th>\n      <th>x/y</th>\n    </tr>\n  </thead>\n  <tbody>\n    <tr>\n      <th>0</th>\n      <td>0.30</td>\n      <td>4.0</td>\n      <td>2.0</td>\n      <td>1.0</td>\n      <td>60.0</td>\n      <td>56.0</td>\n      <td>4.41</td>\n      <td>4.43</td>\n      <td>2.65</td>\n      <td>0.995485</td>\n    </tr>\n    <tr>\n      <th>1</th>\n      <td>0.34</td>\n      <td>4.0</td>\n      <td>6.0</td>\n      <td>7.0</td>\n      <td>62.1</td>\n      <td>57.0</td>\n      <td>4.52</td>\n      <td>4.46</td>\n      <td>2.79</td>\n      <td>1.013453</td>\n    </tr>\n    <tr>\n      <th>2</th>\n      <td>1.57</td>\n      <td>2.0</td>\n      <td>1.0</td>\n      <td>3.0</td>\n      <td>60.3</td>\n      <td>58.0</td>\n      <td>7.58</td>\n      <td>7.55</td>\n      <td>4.56</td>\n      <td>1.003974</td>\n    </tr>\n    <tr>\n      <th>3</th>\n      <td>0.31</td>\n      <td>4.0</td>\n      <td>2.0</td>\n      <td>3.0</td>\n      <td>61.8</td>\n      <td>57.0</td>\n      <td>4.32</td>\n      <td>4.36</td>\n      <td>2.68</td>\n      <td>0.990826</td>\n    </tr>\n    <tr>\n      <th>4</th>\n      <td>1.51</td>\n      <td>1.0</td>\n      <td>1.0</td>\n      <td>6.0</td>\n      <td>64.0</td>\n      <td>60.0</td>\n      <td>7.26</td>\n      <td>7.21</td>\n      <td>4.63</td>\n      <td>1.006935</td>\n    </tr>\n  </tbody>\n</table>\n</div>"
     },
     "metadata": {},
     "execution_count": 35
    }
   ],
   "source": [
    "X_encoded_pred = oe.fit_transform(X_pred[[\"cut\", \"color\", \"clarity\"]])\n",
    "X_pred[[\"cut\", \"color\", \"clarity\"]] = X_encoded_pred\n",
    "X_pred.head()"
   ]
  },
  {
   "cell_type": "code",
   "execution_count": 36,
   "metadata": {},
   "outputs": [],
   "source": [
    "#X_pred['volume'] = X_pred['x']*X_pred['y']*X_pred['z']\n",
    "#X_pred.drop(['x','y','z'], axis=1, inplace= True)"
   ]
  },
  {
   "cell_type": "code",
   "execution_count": 37,
   "metadata": {},
   "outputs": [],
   "source": [
    "#PredictorScaler=MinMaxScaler()\n",
    "#PredictorScalerFit=PredictorScaler.fit(X_pred)\n",
    "#X_pred=PredictorScalerFit.transform(X_pred)"
   ]
  },
  {
   "cell_type": "markdown",
   "metadata": {},
   "source": [
    "Porque:\n",
    "    - SI EL ARRAY CON EL QUE HICISTEIS `.fit()` ERA DE 3 COLUMNAS, PARA `.predict()` DEBEN SER LAS MISMAS"
   ]
  },
  {
   "cell_type": "markdown",
   "metadata": {},
   "source": [
    "### 3. AHORA puedo hacer la predicción que será lo que subirás a Kaggle. "
   ]
  },
  {
   "cell_type": "markdown",
   "metadata": {},
   "source": [
    "**¿Qué es lo que subirás a Kaggle?**"
   ]
  },
  {
   "cell_type": "code",
   "execution_count": 38,
   "metadata": {},
   "outputs": [
    {
     "output_type": "execute_result",
     "data": {
      "text/plain": [
       "array([  369.33440994,  1783.49823216,  9443.35894481, ...,\n",
       "       14902.97469912, 10226.76638165,   641.60975685])"
      ]
     },
     "metadata": {},
     "execution_count": 38
    }
   ],
   "source": [
    "predictions_submit = model.predict(X_pred)\n",
    "predictions_submit"
   ]
  },
  {
   "cell_type": "markdown",
   "metadata": {},
   "source": [
    "**¡PERO! Para subir a Kaggle la predicción, ésta tendrá que tener una forma específica y no valdrá otra.**\n",
    "\n",
    "En este caso, la **MISMA** forma que `sample_submission.csv`. "
   ]
  },
  {
   "cell_type": "markdown",
   "metadata": {},
   "source": [
    "**¿De dónde saco `sample_submission.csv`?**"
   ]
  },
  {
   "cell_type": "code",
   "execution_count": 39,
   "metadata": {},
   "outputs": [],
   "source": [
    "sample = pd.read_csv(\"../sample_submission.csv\")"
   ]
  },
  {
   "cell_type": "code",
   "execution_count": 40,
   "metadata": {},
   "outputs": [
    {
     "output_type": "execute_result",
     "data": {
      "text/plain": [
       "   id  price\n",
       "0   0  12132\n",
       "1   1  11786\n",
       "2   2  14684\n",
       "3   3  15425\n",
       "4   4   6724"
      ],
      "text/html": "<div>\n<style scoped>\n    .dataframe tbody tr th:only-of-type {\n        vertical-align: middle;\n    }\n\n    .dataframe tbody tr th {\n        vertical-align: top;\n    }\n\n    .dataframe thead th {\n        text-align: right;\n    }\n</style>\n<table border=\"1\" class=\"dataframe\">\n  <thead>\n    <tr style=\"text-align: right;\">\n      <th></th>\n      <th>id</th>\n      <th>price</th>\n    </tr>\n  </thead>\n  <tbody>\n    <tr>\n      <th>0</th>\n      <td>0</td>\n      <td>12132</td>\n    </tr>\n    <tr>\n      <th>1</th>\n      <td>1</td>\n      <td>11786</td>\n    </tr>\n    <tr>\n      <th>2</th>\n      <td>2</td>\n      <td>14684</td>\n    </tr>\n    <tr>\n      <th>3</th>\n      <td>3</td>\n      <td>15425</td>\n    </tr>\n    <tr>\n      <th>4</th>\n      <td>4</td>\n      <td>6724</td>\n    </tr>\n  </tbody>\n</table>\n</div>"
     },
     "metadata": {},
     "execution_count": 40
    }
   ],
   "source": [
    "sample.head()"
   ]
  },
  {
   "cell_type": "code",
   "execution_count": 41,
   "metadata": {},
   "outputs": [
    {
     "output_type": "execute_result",
     "data": {
      "text/plain": [
       "(13449, 2)"
      ]
     },
     "metadata": {},
     "execution_count": 41
    }
   ],
   "source": [
    "sample.shape"
   ]
  },
  {
   "cell_type": "markdown",
   "metadata": {},
   "source": [
    "### 4. Mete tus predicciones en un dataframe. \n",
    "\n",
    "En este caso, la **MISMA** forma que `sample_submission.csv`. "
   ]
  },
  {
   "cell_type": "code",
   "execution_count": 42,
   "metadata": {},
   "outputs": [],
   "source": [
    "submission = pd.DataFrame({\"id\": range(len(predictions_submit)), \"price\": predictions_submit})"
   ]
  },
  {
   "cell_type": "code",
   "execution_count": 43,
   "metadata": {},
   "outputs": [
    {
     "output_type": "execute_result",
     "data": {
      "text/plain": [
       "   id        price\n",
       "0   0   369.334410\n",
       "1   1  1783.498232\n",
       "2   2  9443.358945\n",
       "3   3   517.074631\n",
       "4   4  9682.222945"
      ],
      "text/html": "<div>\n<style scoped>\n    .dataframe tbody tr th:only-of-type {\n        vertical-align: middle;\n    }\n\n    .dataframe tbody tr th {\n        vertical-align: top;\n    }\n\n    .dataframe thead th {\n        text-align: right;\n    }\n</style>\n<table border=\"1\" class=\"dataframe\">\n  <thead>\n    <tr style=\"text-align: right;\">\n      <th></th>\n      <th>id</th>\n      <th>price</th>\n    </tr>\n  </thead>\n  <tbody>\n    <tr>\n      <th>0</th>\n      <td>0</td>\n      <td>369.334410</td>\n    </tr>\n    <tr>\n      <th>1</th>\n      <td>1</td>\n      <td>1783.498232</td>\n    </tr>\n    <tr>\n      <th>2</th>\n      <td>2</td>\n      <td>9443.358945</td>\n    </tr>\n    <tr>\n      <th>3</th>\n      <td>3</td>\n      <td>517.074631</td>\n    </tr>\n    <tr>\n      <th>4</th>\n      <td>4</td>\n      <td>9682.222945</td>\n    </tr>\n  </tbody>\n</table>\n</div>"
     },
     "metadata": {},
     "execution_count": 43
    }
   ],
   "source": [
    "submission.head()"
   ]
  },
  {
   "cell_type": "code",
   "execution_count": 44,
   "metadata": {},
   "outputs": [
    {
     "output_type": "execute_result",
     "data": {
      "text/plain": [
       "(13449, 2)"
      ]
     },
     "metadata": {},
     "execution_count": 44
    }
   ],
   "source": [
    "submission.shape"
   ]
  },
  {
   "cell_type": "markdown",
   "metadata": {},
   "source": [
    "### 5. Pásale el CHEQUEATOR para comprobar que efectivamente está listo para subir a Kaggle."
   ]
  },
  {
   "cell_type": "code",
   "execution_count": 45,
   "metadata": {},
   "outputs": [],
   "source": [
    "def chequeator(df_to_submit):\n",
    "    \"\"\"\n",
    "    Esta función se asegura de que tu submission tenga la forma requerida por Kaggle.\n",
    "    \n",
    "    Si es así, se guardará el dataframe en un `csv` y estará listo para subir a Kaggle.\n",
    "    \n",
    "    Si no, LEE EL MENSAJE Y HAZLE CASO.\n",
    "    \n",
    "    Si aún no:\n",
    "    - apaga tu ordenador, \n",
    "    - date una vuelta, \n",
    "    - enciendelo otra vez, \n",
    "    - abre este notebook y \n",
    "    - leelo todo de nuevo. \n",
    "    Todos nos merecemos una segunda oportunidad. También tú.\n",
    "    \"\"\"\n",
    "    if df_to_submit.shape == sample.shape:\n",
    "        if df_to_submit.columns.all() == sample.columns.all():\n",
    "            if df_to_submit.id.all() == sample.id.all():\n",
    "                print(\"You're ready to submit!\")\n",
    "                submission.to_csv(\"submission3.csv\", index = False) #muy importante el index = False\n",
    "                urllib.request.urlretrieve(\"https://i.kym-cdn.com/photos/images/facebook/000/747/556/27a.jpg\", \"gfg.png\")     \n",
    "                img = Image.open(\"gfg.png\")\n",
    "                img.show()   \n",
    "            else:\n",
    "                print(\"Check the ids and try again\")\n",
    "        else:\n",
    "            print(\"Check the names of the columns and try again\")\n",
    "    else:\n",
    "        print(\"Check the number of rows and/or columns and try again\")\n",
    "        print(\"\\nMensaje secreto de Clara: No me puedo creer que después de todo este notebook hayas hecho algún cambio en las filas de `diamonds_test.csv`. Lloro.\")\n"
   ]
  },
  {
   "cell_type": "code",
   "execution_count": 46,
   "metadata": {},
   "outputs": [
    {
     "output_type": "stream",
     "name": "stdout",
     "text": [
      "Help on function chequeator in module __main__:\n\nchequeator(df_to_submit)\n    Esta función se asegura de que tu submission tenga la forma requerida por Kaggle.\n    \n    Si es así, se guardará el dataframe en un `csv` y estará listo para subir a Kaggle.\n    \n    Si no, LEE EL MENSAJE Y HAZLE CASO.\n    \n    Si aún no:\n    - apaga tu ordenador, \n    - date una vuelta, \n    - enciendelo otra vez, \n    - abre este notebook y \n    - leelo todo de nuevo. \n    Todos nos merecemos una segunda oportunidad. También tú.\n\n"
     ]
    }
   ],
   "source": [
    "help(chequeator)"
   ]
  },
  {
   "cell_type": "code",
   "execution_count": 47,
   "metadata": {},
   "outputs": [
    {
     "output_type": "stream",
     "name": "stdout",
     "text": [
      "You're ready to submit!\n"
     ]
    }
   ],
   "source": [
    "chequeator(submission)"
   ]
  },
  {
   "cell_type": "code",
   "execution_count": null,
   "metadata": {},
   "outputs": [],
   "source": []
  }
 ],
 "metadata": {
  "kernelspec": {
   "name": "python3",
   "display_name": "Python 3.7.4 64-bit"
  },
  "language_info": {
   "codemirror_mode": {
    "name": "ipython",
    "version": 3
   },
   "file_extension": ".py",
   "mimetype": "text/x-python",
   "name": "python",
   "nbconvert_exporter": "python",
   "pygments_lexer": "ipython3",
   "version": "3.7.4"
  },
  "interpreter": {
   "hash": "54fd10a125f012059efbf68d746a102a68808834a5fa4f754a07e57618326eaa"
  }
 },
 "nbformat": 4,
 "nbformat_minor": 4
}