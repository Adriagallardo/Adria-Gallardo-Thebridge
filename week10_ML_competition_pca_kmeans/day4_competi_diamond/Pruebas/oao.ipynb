{
 "metadata": {
  "language_info": {
   "codemirror_mode": {
    "name": "ipython",
    "version": 3
   },
   "file_extension": ".py",
   "mimetype": "text/x-python",
   "name": "python",
   "nbconvert_exporter": "python",
   "pygments_lexer": "ipython3",
   "version": "3.7.4"
  },
  "orig_nbformat": 4,
  "kernelspec": {
   "name": "python3",
   "display_name": "Python 3.7.4 64-bit"
  },
  "interpreter": {
   "hash": "54fd10a125f012059efbf68d746a102a68808834a5fa4f754a07e57618326eaa"
  }
 },
 "nbformat": 4,
 "nbformat_minor": 2,
 "cells": [
  {
   "cell_type": "code",
   "execution_count": 1,
   "metadata": {},
   "outputs": [],
   "source": [
    "import pandas as pd\n",
    "import numpy as np\n",
    "from functions import *\n",
    "import pandas as pd\n",
    "from sklearn.ensemble import GradientBoostingRegressor\n",
    "from sklearn.neighbors import KNeighborsRegressor\n",
    "from sklearn.tree import DecisionTreeRegressor\n",
    "from sklearn.ensemble import RandomForestRegressor\n",
    "from sklearn.linear_model import LinearRegression\n",
    "from sklearn.model_selection import train_test_split\n",
    "from sklearn.model_selection import cross_val_score\n",
    "from sklearn.metrics import r2_score\n",
    "from sklearn.metrics import mean_squared_error\n",
    "import math\n"
   ]
  },
  {
   "cell_type": "code",
   "execution_count": 5,
   "metadata": {},
   "outputs": [
    {
     "output_type": "error",
     "ename": "NameError",
     "evalue": "name 'preprocessing' is not defined",
     "traceback": [
      "\u001b[1;31m---------------------------------------------------------------------------\u001b[0m",
      "\u001b[1;31mNameError\u001b[0m                                 Traceback (most recent call last)",
      "\u001b[1;32m<ipython-input-5-7faae67bfe6a>\u001b[0m in \u001b[0;36m<module>\u001b[1;34m\u001b[0m\n\u001b[0;32m     13\u001b[0m \u001b[0mclarity_labels\u001b[0m \u001b[1;33m=\u001b[0m\u001b[1;33m[\u001b[0m\u001b[1;34m'I1'\u001b[0m\u001b[1;33m,\u001b[0m\u001b[1;34m'SI2'\u001b[0m\u001b[1;33m,\u001b[0m\u001b[1;34m'SI1'\u001b[0m\u001b[1;33m,\u001b[0m\u001b[1;34m'VS2'\u001b[0m\u001b[1;33m,\u001b[0m\u001b[1;34m'VS1'\u001b[0m\u001b[1;33m,\u001b[0m\u001b[1;34m'VVS2'\u001b[0m\u001b[1;33m,\u001b[0m\u001b[1;34m'VVS1'\u001b[0m\u001b[1;33m,\u001b[0m \u001b[1;34m'IF'\u001b[0m\u001b[1;33m]\u001b[0m\u001b[1;33m\u001b[0m\u001b[1;33m\u001b[0m\u001b[0m\n\u001b[0;32m     14\u001b[0m \u001b[1;33m\u001b[0m\u001b[0m\n\u001b[1;32m---> 15\u001b[1;33m \u001b[0moe\u001b[0m \u001b[1;33m=\u001b[0m \u001b[0mpreprocessing\u001b[0m\u001b[1;33m.\u001b[0m\u001b[0mOrdinalEncoder\u001b[0m\u001b[1;33m(\u001b[0m\u001b[0mcategories\u001b[0m\u001b[1;33m=\u001b[0m\u001b[1;33m[\u001b[0m\u001b[0mcut_labels\u001b[0m\u001b[1;33m,\u001b[0m \u001b[0mcolor_labels\u001b[0m\u001b[1;33m,\u001b[0m \u001b[0mclarity_labels\u001b[0m\u001b[1;33m]\u001b[0m\u001b[1;33m)\u001b[0m\u001b[1;33m\u001b[0m\u001b[1;33m\u001b[0m\u001b[0m\n\u001b[0m\u001b[0;32m     16\u001b[0m \u001b[1;33m\u001b[0m\u001b[0m\n\u001b[0;32m     17\u001b[0m \u001b[0mX_encoded\u001b[0m \u001b[1;33m=\u001b[0m \u001b[0moe\u001b[0m\u001b[1;33m.\u001b[0m\u001b[0mfit_transform\u001b[0m\u001b[1;33m(\u001b[0m\u001b[0mdf\u001b[0m\u001b[1;33m[\u001b[0m\u001b[1;33m[\u001b[0m\u001b[1;34m\"cut\"\u001b[0m\u001b[1;33m,\u001b[0m \u001b[1;34m\"color\"\u001b[0m\u001b[1;33m,\u001b[0m \u001b[1;34m\"clarity\"\u001b[0m\u001b[1;33m]\u001b[0m\u001b[1;33m]\u001b[0m\u001b[1;33m)\u001b[0m\u001b[1;33m\u001b[0m\u001b[1;33m\u001b[0m\u001b[0m\n",
      "\u001b[1;31mNameError\u001b[0m: name 'preprocessing' is not defined"
     ]
    }
   ],
   "source": [
    "# Import Data\n",
    "\n",
    "df = pd.read_csv('diamonds_train.csv')\n",
    "test = pd.read_csv('../diamonds_test.csv')\n",
    "\n",
    "# Data Wrangling\n",
    "df_origin = df\n",
    "dum = pd.get_dummies(df)\n",
    "df = pd.concat([df_origin, dum.iloc[:,7:]], axis=1, join=\"inner\") \n",
    "\n",
    "cut_labels = ['Fair', 'Good', 'Very Good', 'Premium', 'Ideal']\n",
    "color_labels = ['J','I','H','G','F','E','D']\n",
    "clarity_labels =['I1','SI2','SI1','VS2','VS1','VVS2','VVS1', 'IF']\n",
    "\n",
    "oe = preprocessing.OrdinalEncoder(categories=[cut_labels, color_labels, clarity_labels])\n",
    "\n",
    "X_encoded = oe.fit_transform(df[[\"cut\", \"color\", \"clarity\"]])\n",
    "df[[\"cut\", \"color\", \"clarity\"]] = X_encoded\n",
    "df.head()\n",
    "\n",
    "X = df.drop([\"price\"],1)\n",
    "X.shape\n",
    "\n",
    "y= df[\"price\"]\n",
    "y.shape\n",
    "\n",
    "\n",
    "# Train Test Split\n",
    "\n",
    "X_train, X_test, y_train, y_test = train_test_split(\n",
    "    X, y, test_size=0.2)\n",
    "\n",
    "# Models\n",
    "\n",
    "models = {\n",
    "    \"Linear_Regression\": LinearRegression(),\n",
    "    \"Random_Forest\": RandomForestRegressor(),\n",
    "    \"DecisionTreeRegresor\": DecisionTreeRegressor(),\n",
    "    \"KNeighbors\": KNeighborsRegressor(),\n",
    "    \"GradientBooster\": GradientBoostingRegressor(),\n",
    "}\n",
    "\n",
    "# Train and check the models\n",
    "\n",
    "\n",
    "for label, model in models.items():\n",
    "    mae, mse, rmse, r2, y_pred, accuracies, score = train_model(\n",
    "        X_train, y_train, model, X_test, y_test)\n",
    "    print('')\n",
    "    print('####### {} #######'.format(label))\n",
    "    print('Score : %.4f' % score)\n",
    "    print(accuracies)\n",
    "    print('')\n",
    "    print('MSE    : %0.2f ' % mse)\n",
    "    print('MAE    : %0.2f ' % mae)\n",
    "    print('RMSE   : %0.2f ' % rmse)\n",
    "    print('R2     : %f ' % r2)\n",
    "\n",
    "# Apply to the test\n",
    "\n",
    "for name, model in models.items():\n",
    "    print(\"applying {}...\".format(name))\n",
    "    model_final = model\n",
    "    pred = predict_model(X, y, model_final, test)\n",
    "    submission_model = submission\n",
    "    submission_model[\"price\"] = pred\n",
    "    submission_model.to_csv(\n",
    "        \"./output/submission_{}.csv\".format(name), index=False)"
   ]
  },
  {
   "cell_type": "code",
   "execution_count": null,
   "metadata": {},
   "outputs": [],
   "source": []
  }
 ]
}