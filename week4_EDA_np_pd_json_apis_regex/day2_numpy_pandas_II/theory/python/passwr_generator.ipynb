{
 "metadata": {
  "language_info": {
   "codemirror_mode": {
    "name": "ipython",
    "version": 3
   },
   "file_extension": ".py",
   "mimetype": "text/x-python",
   "name": "python",
   "nbconvert_exporter": "python",
   "pygments_lexer": "ipython3",
   "version": "3.7.4"
  },
  "orig_nbformat": 2,
  "kernelspec": {
   "name": "python374jvsc74a57bd054fd10a125f012059efbf68d746a102a68808834a5fa4f754a07e57618326eaa",
   "display_name": "Python 3.7.4 64-bit"
  },
  "metadata": {
   "interpreter": {
    "hash": "54fd10a125f012059efbf68d746a102a68808834a5fa4f754a07e57618326eaa"
   }
  }
 },
 "nbformat": 4,
 "nbformat_minor": 2,
 "cells": [
  {
   "source": [
    "Crea una función llamada \"generador\" con dos argumentos de entrada 'longitud' (entero) y 'dificultad' (entero). La función retornará una contraseña (string) de tamaño 'longitud' y con las siguientes características dependiendo del valor de 'dificultad':\n",
    "\n",
    "1. Si 'dificultad' tiene valor 1, entonces la contraseña solo contendrá números. \n",
    "2. Si 'dificultad' tiene valor 2, entonces la contraseña contendrá números y letras\n",
    "3. Si 'dificultad' tiene valor 3, entonces la contraseña contendrá números, letras y signos de puntuación (!,?¡:-.\"')\n",
    "4. Si 'dificultad' tiene valor 4, entonces la contraseña será como la del punto 3. pero con el doble de longitud y solo números pares. \n",
    "5. Para cualquier otro caso, la contraseña será \"numpy_y_pandas_son_lo_mejor\""
   ],
   "cell_type": "markdown",
   "metadata": {}
  },
  {
   "cell_type": "code",
   "execution_count": 36,
   "metadata": {},
   "outputs": [],
   "source": [
    "import random\n",
    "import string"
   ]
  },
  {
   "cell_type": "code",
   "execution_count": 68,
   "metadata": {},
   "outputs": [
    {
     "output_type": "execute_result",
     "data": {
      "text/plain": [
       "')e.nq2}dH_~\\\\0,aOAm$LM!KT<N<nL)(6/{h!uU;*'"
      ]
     },
     "metadata": {},
     "execution_count": 68
    }
   ],
   "source": [
    "def generador (longitud, dificultad):\n",
    "    pass_ = \"\"\n",
    "    lista_abc_up = string.ascii_lowercase\n",
    "    lista_abc_cap = string.ascii_uppercase\n",
    "    lista_abc = lista_abc_up + lista_abc_cap\n",
    "    lista_signos = string.punctuation\n",
    "\n",
    "    if dificultad == 4:\n",
    "        longitud = longitud * 2\n",
    "    else:\n",
    "        pass\n",
    "\n",
    "    for i in range(longitud):\n",
    "        if dificultad == 1:\n",
    "            pass_ += str(random.randint(0,9))\n",
    "        elif dificultad == 2:\n",
    "            pass_ += str(random.choice(lista_abc + \"\".join([str(x) for x in range(10)])))\n",
    "        elif dificultad == 3:\n",
    "            pass_ += str(random.choice(lista_abc + \"\".join([str(x) for x in range(10)]) + lista_signos))\n",
    "        elif dificultad == 4:\n",
    "            pass_ += str(random.choice(lista_abc + \"\".join([str(x) for x in range(0,10,2)]) + lista_signos))\n",
    "\n",
    "        else:\n",
    "            print(\"Password: numpy_y_pandas_son_lo_mejor\")\n",
    "           \n",
    "    \n",
    "    \n",
    "    \n",
    "    return pass_\n",
    "\n",
    "generador(20,4)"
   ]
  },
  {
   "cell_type": "code",
   "execution_count": null,
   "metadata": {},
   "outputs": [],
   "source": []
  }
 ]
}